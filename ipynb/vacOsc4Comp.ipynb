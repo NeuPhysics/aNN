{
 "cells": [
  {
   "cell_type": "code",
   "execution_count": 1,
   "metadata": {
    "collapsed": true
   },
   "outputs": [],
   "source": [
    "# This line configures matplotlib to show figures embedded in the notebook, \n",
    "# instead of opening a new window for each figure. More about that later. \n",
    "# If you are using an old version of IPython, try using '%pylab inline' instead.\n",
    "%matplotlib inline\n",
    "%load_ext snakeviz\n",
    "\n",
    "import numpy as np\n",
    "from scipy.optimize import minimize\n",
    "from scipy.special import expit\n",
    "import matplotlib.pyplot as plt\n",
    "\n",
    "from matplotlib.lines import Line2D\n",
    "\n",
    "import timeit\n",
    "\n",
    "import pandas as pd\n",
    "\n",
    "import plotly.plotly as py\n",
    "from plotly.graph_objs import *\n",
    "import plotly.tools as tls"
   ]
  },
  {
   "cell_type": "code",
   "execution_count": 7,
   "metadata": {
    "collapsed": false
   },
   "outputs": [
    {
     "name": "stdout",
     "output_type": "stream",
     "text": [
      "[[ 0.78193249  0.74405463  0.05370159  0.64375254  0.9671223 ]\n",
      " [ 0.80076329  0.91518557  0.33013206  0.87704451  0.27513224]\n",
      " [ 0.06682722  0.62566131  0.6960552   0.50425531  0.26676161]\n",
      " [ 0.84152987  0.6574421   0.66056655  0.33425657  0.51805791]\n",
      " [ 0.55130428  0.54877911  0.02722155  0.36000264  0.94506057]\n",
      " [ 0.27276162  0.15587826  0.66411734  0.28773056  0.02330387]\n",
      " [ 0.39817375  0.87047702  0.57703081  0.02910282  0.6793279 ]\n",
      " [ 0.41591379  0.69201614  0.55686696  0.58659307  0.7747083 ]\n",
      " [ 0.04192126  0.54676091  0.31462627  0.58499502  0.58181971]\n",
      " [ 0.71115902  0.63971152  0.27552422  0.12488898  0.06121642]\n",
      " [ 0.84263665  0.55655689  0.85712789  0.29016308  0.31761533]\n",
      " [ 0.45020022  0.98342282  0.41708101  0.96441744  0.59613387]]\n"
     ]
    }
   ],
   "source": [
    "# Here are the initial values\n",
    "\n",
    "\n",
    "# For test use\n",
    "array12 = np.asarray(np.split(np.random.rand(1,60)[0],12))"
   ]
  },
  {
   "cell_type": "code",
   "execution_count": 15,
   "metadata": {
    "collapsed": true
   },
   "outputs": [],
   "source": [
    "# Here is the activation function\n",
    "\n",
    "def act(x):\n",
    "    return expit(x)"
   ]
  },
  {
   "cell_type": "code",
   "execution_count": 17,
   "metadata": {
    "collapsed": true
   },
   "outputs": [],
   "source": [
    "# Density matrix in the forms that I wrote down on my Neutrino Physics notebook\n",
    "# x is a real array of 12 arrays.\n",
    "\n",
    "init = np.array([1.0,0.0,0.0,0.0])\n",
    "\n",
    "def rho(x,ti,initialCondition):\n",
    "    \n",
    "    elem = np.ones(4)\n",
    "    \n",
    "    for i in np.linspace(0,3,4):\n",
    "        elem[i] = np.sum(ti*x[i*3]*act(ti*x[i*3+1] + x[i*3+2]) )\n",
    "    \n",
    "    return init + elem\n",
    "    "
   ]
  },
  {
   "cell_type": "code",
   "execution_count": 21,
   "metadata": {
    "collapsed": false
   },
   "outputs": [
    {
     "data": {
      "text/plain": [
       "array([ 1.,  0.,  0.,  0.])"
      ]
     },
     "execution_count": 21,
     "metadata": {},
     "output_type": "execute_result"
    }
   ],
   "source": [
    "rho(array12,0,init)"
   ]
  },
  {
   "cell_type": "code",
   "execution_count": 23,
   "metadata": {
    "collapsed": false
   },
   "outputs": [
    {
     "name": "stdout",
     "output_type": "stream",
     "text": [
      "[-0.49003329  0.09933467  0.09933467  0.49003329]\n"
     ]
    }
   ],
   "source": [
    "# Hamiltonian of the problem, in terms of four real components\n",
    "\n",
    "hamil = 1.0/2*np.array( [  -np.cos(0.2),np.sin(0.2) , np.sin(0.2),np.cos(0.2) ] )\n",
    "print hamil"
   ]
  },
  {
   "cell_type": "code",
   "execution_count": 127,
   "metadata": {
    "collapsed": false
   },
   "outputs": [],
   "source": [
    "# Cost function for each time step\n",
    "\n",
    "def rhop(x,ti,initialCondition):\n",
    "    \n",
    "    rhoprime = np.zeros(4)\n",
    "    \n",
    "\n",
    "    \n",
    "    for i in np.linspace(0,3,4):\n",
    "        rhoprime[i] = np.sum(x[i*3] * (act(ti*x[i*3+1] + x[i*3+2]) ) ) +  np.sum( ti*x[i*3]* (act(ti*x[i*3+1] + x[i*3+2]) ) * (1 - (act(ti*x[i*3+1] + x[i*3+2])  ) )* x[i*3+1]  )\n",
    "        \n",
    "    \n",
    "    return rhoprime\n",
    "\n",
    "\n",
    "## This is the regularization\n",
    "\n",
    "regularization = 0.0001\n",
    "\n",
    "def costi(x,ti,initialCondition):\n",
    "    \n",
    "    rhoi = rho(x,ti,initialCondition)\n",
    "    rhopi = rhop(x,ti,initialCondition)\n",
    "    \n",
    "    costTemp = np.zeros(4)\n",
    "    \n",
    "    costTemp[0] = (rhopi[0] + 2.0*rhoi[2]*hamil[1] )**2\n",
    "    costTemp[1] = ( rhopi[1] - 2.0*rhoi[2]*hamil[0] )**2\n",
    "    costTemp[2] = ( rhopi[2] + 2.0*rhoi[1]*hamil[0] + hamil[1] * (rhoi[3] - rhoi[0] ) )**2\n",
    "    costTemp[3] = ( rhopi[3] -2.0*rhoi[2]*hamil[1] )**2\n",
    "    \n",
    "#    return np.sum(costTemp)\n",
    "    \n",
    "    return np.sum(costTemp) + regularization*np.sum(x**2)\n",
    "    "
   ]
  },
  {
   "cell_type": "code",
   "execution_count": 128,
   "metadata": {
    "collapsed": false
   },
   "outputs": [
    {
     "data": {
      "text/plain": [
       "9.9883486522479821"
      ]
     },
     "execution_count": 128,
     "metadata": {},
     "output_type": "execute_result"
    }
   ],
   "source": [
    "costi(array12,0,init)"
   ]
  },
  {
   "cell_type": "code",
   "execution_count": 129,
   "metadata": {
    "collapsed": true
   },
   "outputs": [],
   "source": [
    "def cost(x,t,initialCondition):\n",
    "    \n",
    "    costTotal = map(lambda t: costi(x,t,initialCondition),t)\n",
    "    \n",
    "    return np.sum(costTotal)"
   ]
  },
  {
   "cell_type": "code",
   "execution_count": 130,
   "metadata": {
    "collapsed": false
   },
   "outputs": [
    {
     "data": {
      "text/plain": [
       "109.42309784126915"
      ]
     },
     "execution_count": 130,
     "metadata": {},
     "output_type": "execute_result"
    }
   ],
   "source": [
    "cost(array12,np.array([0,1,2]),init)"
   ]
  },
  {
   "cell_type": "code",
   "execution_count": 137,
   "metadata": {
    "collapsed": false
   },
   "outputs": [
    {
     "name": "stdout",
     "output_type": "stream",
     "text": [
      "45.7348639965\n",
      "  status: 0\n",
      " success: True\n",
      "    njev: 88\n",
      "    nfev: 5471\n",
      "     fun: 0.010829660025341598\n",
      "       x: array([ -1.63951793e-02,  -6.06342322e-02,  -6.57520419e-04,\n",
      "        -1.04846449e-01,  -1.93766208e-01,   5.85545979e-02,\n",
      "         1.74214962e-01,  -8.34566278e-01,  -5.81189597e-02,\n",
      "         1.63713413e-02,  -5.99325657e-02,  -1.01831749e-03,\n",
      "         2.39041029e-06,   3.82642836e-05,   2.63981714e-05,\n",
      "         4.57385909e-06,   1.30334707e-05,   3.42525461e-05,\n",
      "         2.10113625e-05,   2.78466351e-05,   2.56350780e-05,\n",
      "         1.05040400e-05,   3.32641504e-05,   3.56824490e-05,\n",
      "         7.12071396e-06,   3.58586023e-05,   1.11233420e-05,\n",
      "         6.58642829e-06,   6.44390525e-06,   1.61638303e-05,\n",
      "         3.73286316e-05,   1.97946281e-06,   3.22797656e-05,\n",
      "         2.65048958e-05,   9.38600939e-06,   3.74183144e-06,\n",
      "         2.11591161e-05,   3.70783501e-05,   3.12159689e-05,\n",
      "         8.61360998e-06,   1.32196228e-06,   3.28762990e-05,\n",
      "         2.96389912e-05,   7.75197696e-06,   2.84078642e-05,\n",
      "         7.61313991e-06,   1.57376649e-05,   2.47346198e-05,\n",
      "         5.37202217e-06,   1.83239237e-05,   6.92330757e-06,\n",
      "         2.17942223e-05,   1.37339389e-05,   2.85941427e-05,\n",
      "         7.31716102e-06,   1.06923763e-05,   4.03378324e-05,\n",
      "         7.84058218e-06,   3.54403485e-05,   2.14965749e-05])\n",
      " message: 'Optimization terminated successfully.'\n",
      "     jac: array([ -5.21854963e-06,  -3.40386759e-06,   9.23173502e-07,\n",
      "        -9.05129127e-07,   4.44590114e-07,   1.03458297e-06,\n",
      "        -2.14809552e-06,  -6.42612576e-07,  -6.97327778e-07,\n",
      "        -1.93633605e-06,  -3.16882506e-07,   9.26665962e-08,\n",
      "         5.23868948e-09,   8.39354470e-08,   5.79748303e-08,\n",
      "         9.89530236e-09,   2.85217538e-08,   7.53207132e-08,\n",
      "         4.62168828e-08,   6.11180440e-08,   5.64614311e-08,\n",
      "         2.31666490e-08,   7.31088221e-08,   7.83475116e-08,\n",
      "         1.55996531e-08,   7.88131729e-08,   2.44472176e-08,\n",
      "         1.44354999e-08,   1.42026693e-08,   3.55066732e-08,\n",
      "         8.20728019e-08,   4.19095159e-09,   7.08969310e-08,\n",
      "         5.80912456e-08,   2.06055120e-08,   8.14907253e-09,\n",
      "         4.64497134e-08,   8.13743100e-08,   6.85686246e-08,\n",
      "         1.89756975e-08,   2.79396772e-09,   7.21774995e-08,\n",
      "         6.50761649e-08,   1.69966370e-08,   6.25150278e-08,\n",
      "         1.67638063e-08,   3.46917659e-08,   5.42495400e-08,\n",
      "         1.16415322e-08,   4.01632860e-08,   1.51339918e-08,\n",
      "         4.78466973e-08,   3.01515684e-08,   6.28642738e-08,\n",
      "         1.59488991e-08,   2.33994797e-08,   8.85920599e-08,\n",
      "         1.71130523e-08,   7.78818503e-08,   4.73810360e-08,\n",
      "         0.00000000e+00])\n",
      "     nit: 88\n"
     ]
    }
   ],
   "source": [
    "# with ramdom initial guess\n",
    "\n",
    "initGuess = np.asarray(np.split(np.random.rand(1,60)[0],12))\n",
    "endpoint = 4\n",
    "tlin = np.linspace(0,endpoint,11)\n",
    "\n",
    "costF = lambda x: cost(x,tlin,init)\n",
    "\n",
    "startSLSQP = timeit.default_timer()\n",
    "costvFResultSLSQP = minimize(costF,initGuess,method=\"SLSQP\",tol=1e-10)\n",
    "stopSLSQP = timeit.default_timer()\n",
    "\n",
    "print stopSLSQP - startSLSQP\n",
    "\n",
    "print costvFResultSLSQP"
   ]
  },
  {
   "cell_type": "code",
   "execution_count": 146,
   "metadata": {
    "collapsed": false
   },
   "outputs": [
    {
     "name": "stdout",
     "output_type": "stream",
     "text": [
      "68.3899879456\n",
      "  status: 0\n",
      "    nfev: 5878\n",
      " success: True\n",
      "     fun: 0.010829658182270658\n",
      "       x: array([ -1.63705237e-02,  -5.98684580e-02,  -1.06918811e-03,\n",
      "        -1.04867460e-01,  -1.93720677e-01,   5.81081685e-02,\n",
      "         1.74195530e-01,  -8.34543904e-01,  -5.79738425e-02,\n",
      "         1.63705211e-02,  -5.98684009e-02,  -1.06919095e-03,\n",
      "         6.97938935e-09,   4.87684951e-08,   4.39967966e-08,\n",
      "         3.94737695e-08,   1.19148283e-07,   5.51069090e-08,\n",
      "         1.08920174e-07,   6.47133188e-09,   2.15704279e-08,\n",
      "         5.35411338e-08,   7.44915748e-08,   6.10864091e-08,\n",
      "         3.35867266e-08,   5.03452984e-08,   4.50906729e-08,\n",
      "         1.69856760e-08,   3.43991006e-08,   1.02821701e-07,\n",
      "         1.27636104e-07,  -2.50059953e-11,   4.97127049e-08,\n",
      "         8.15862520e-08,   4.65230309e-08,   1.35311522e-09,\n",
      "         1.75314077e-07,   1.50879050e-07,   4.64130184e-08,\n",
      "         2.49937983e-08,   7.78578121e-10,   3.46443544e-08,\n",
      "         6.01802525e-08,   2.58465736e-08,  -2.33532356e-07,\n",
      "         3.78940941e-08,   1.63822862e-08,   1.56759893e-07,\n",
      "         7.46905732e-09,   1.01075824e-07,   1.74167914e-07,\n",
      "         6.11468687e-08,   6.80057120e-08,   2.04376585e-08,\n",
      "         9.80891658e-09,   4.52695736e-08,   1.77436554e-07,\n",
      "         4.40240909e-08,   5.28071714e-08,   1.51932038e-08])\n",
      " message: 'Optimization terminated successfully.'\n",
      "     nit: 3626\n"
     ]
    }
   ],
   "source": [
    "xmid = costvFResultSLSQP.get(\"x\")\n",
    "\n",
    "startSLSQP = timeit.default_timer()\n",
    "#costvFResultSLSQP = minimize(costF,xmid,method=\"SLSQP\",tol=1e-30,options={\"ftol\":1e-30,\"maxiter\":1000})\n",
    "costvFResultSLSQP = minimize(costF,xmid,method='Nelder-Mead',tol=1e-15,options={\"ftol\":1e-15, \"maxfev\": 1000000,\"maxiter\":1000000})\n",
    "stopSLSQP = timeit.default_timer()\n",
    "\n",
    "print stopSLSQP - startSLSQP\n",
    "\n",
    "print costvFResultSLSQP"
   ]
  },
  {
   "cell_type": "code",
   "execution_count": null,
   "metadata": {
    "collapsed": false,
    "scrolled": true
   },
   "outputs": [
    {
     "name": "stdout",
     "output_type": "stream",
     "text": [
      "[ -1.63705237e-02  -5.98684580e-02  -1.06918811e-03  -1.04867460e-01\n",
      "  -1.93720677e-01   5.81081685e-02   1.74195530e-01  -8.34543904e-01\n",
      "  -5.79738425e-02   1.63705211e-02  -5.98684009e-02  -1.06919095e-03\n",
      "   6.97938935e-09   4.87684951e-08   4.39967966e-08   3.94737695e-08\n",
      "   1.19148283e-07   5.51069090e-08   1.08920174e-07   6.47133188e-09\n",
      "   2.15704279e-08   5.35411338e-08   7.44915748e-08   6.10864091e-08\n",
      "   3.35867266e-08   5.03452984e-08   4.50906729e-08   1.69856760e-08\n",
      "   3.43991006e-08   1.02821701e-07   1.27636104e-07  -2.50059953e-11\n",
      "   4.97127049e-08   8.15862520e-08   4.65230309e-08   1.35311522e-09\n",
      "   1.75314077e-07   1.50879050e-07   4.64130184e-08   2.49937983e-08\n",
      "   7.78578121e-10   3.46443544e-08   6.01802525e-08   2.58465736e-08\n",
      "  -2.33532356e-07   3.78940941e-08   1.63822862e-08   1.56759893e-07\n",
      "   7.46905732e-09   1.01075824e-07   1.74167914e-07   6.11468687e-08\n",
      "   6.80057120e-08   2.04376585e-08   9.80891658e-09   4.52695736e-08\n",
      "   1.77436554e-07   4.40240909e-08   5.28071714e-08   1.51932038e-08]\n"
     ]
    }
   ],
   "source": [
    "xresult = costvFResultSLSQP.get(\"x\")\n",
    "#xresult = np.array([-1.37886409,  2.81454922, -0.3571002 ,  0.02582831, -1.05414931,\n",
    "#       -1.52308153, -2.24747468,  0.33947049, -0.32310112, -1.43887103,\n",
    "#        0.81176258,  0.05139705, -1.02669705, -0.97236805, -0.27536667,\n",
    "#        0.34860447, -1.06962772,  0.89978175,  2.39662887, -1.45165477,\n",
    "#       -1.54636469, -2.79921374, -1.30335793, -0.62844367, -3.04440811,\n",
    "#       -2.74566393, -2.16222918, -1.60535643, -0.77298204,  0.13848754,\n",
    "#       -0.36544212,  1.23901581, -0.80586367, -0.30212561, -1.02818302,\n",
    "#       -2.82928373, -0.80776632, -2.90056107, -2.42432246, -2.87572658,\n",
    "#       -0.8645904 , -0.59526987, -1.87029203, -1.60957508, -1.83106839,\n",
    "#        1.07020356, -0.84892132, -0.97053555, -0.2005098 , -0.72422578,\n",
    "#       -3.32948549, -4.99349947, -3.46242765, -3.52481528, -3.36820222,\n",
    "#       -4.1848837 , -1.90748847, -2.09206645, -4.10831718,  2.76094325])\n",
    "\n",
    "print xresult"
   ]
  },
  {
   "cell_type": "code",
   "execution_count": null,
   "metadata": {
    "collapsed": false
   },
   "outputs": [
    {
     "data": {
      "text/plain": [
       "array([  9.41982859e-01,  -1.38941461e-01,   3.90286787e-04,\n",
       "         5.80171529e-02])"
      ]
     },
     "execution_count": 148,
     "metadata": {},
     "output_type": "execute_result"
    }
   ],
   "source": [
    "rho(xresult,10,init)"
   ]
  },
  {
   "cell_type": "code",
   "execution_count": null,
   "metadata": {
    "collapsed": false
   },
   "outputs": [],
   "source": [
    "plttlin=np.linspace(0,endpoint,100)\n",
    "pltdata11 = np.array([])\n",
    "for i in plttlin:\n",
    "    pltdata11 = np.append(pltdata11 ,rho(xresult,i,init)[0] )\n",
    "    \n",
    "print pltdata11"
   ]
  },
  {
   "cell_type": "code",
   "execution_count": null,
   "metadata": {
    "collapsed": false,
    "scrolled": false
   },
   "outputs": [],
   "source": [
    "MMA_optmize_Vac_pltdata = np.genfromtxt('./assets/homogen/MMA_optmize_Vac_pltdata.txt', delimiter = ',')\n",
    "\n",
    "plt.figure(figsize=(16,9.36))\n",
    "plt.ylabel('MMArho11')\n",
    "plt.xlabel('Time')\n",
    "plt.plot(np.linspace(0,15,4501),MMA_optmize_Vac_pltdata,\"r-\",label=\"MMAVacrho11\")\n",
    "plt.plot(plttlin,pltdata11,\"b4-\",label=\"vac_rho11\")\n",
    "plt.show()\n",
    "#py.iplot_mpl(plt.gcf(),filename=\"MMA-rho11-Vac-80-60\")"
   ]
  },
  {
   "cell_type": "code",
   "execution_count": null,
   "metadata": {
    "collapsed": true
   },
   "outputs": [],
   "source": []
  },
  {
   "cell_type": "code",
   "execution_count": null,
   "metadata": {
    "collapsed": true
   },
   "outputs": [],
   "source": []
  }
 ],
 "metadata": {
  "kernelspec": {
   "display_name": "Python 2",
   "language": "python",
   "name": "python2"
  },
  "language_info": {
   "codemirror_mode": {
    "name": "ipython",
    "version": 2
   },
   "file_extension": ".py",
   "mimetype": "text/x-python",
   "name": "python",
   "nbconvert_exporter": "python",
   "pygments_lexer": "ipython2",
   "version": "2.7.6"
  }
 },
 "nbformat": 4,
 "nbformat_minor": 0
}
