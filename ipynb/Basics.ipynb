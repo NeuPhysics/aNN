{
 "metadata": {
  "name": ""
 },
 "nbformat": 3,
 "nbformat_minor": 0,
 "worksheets": [
  {
   "cells": [
    {
     "cell_type": "markdown",
     "metadata": {},
     "source": [
      "## Artificial Neural Network"
     ]
    },
    {
     "cell_type": "markdown",
     "metadata": {},
     "source": [
      "Delta rule"
     ]
    },
    {
     "cell_type": "markdown",
     "metadata": {},
     "source": [
      "Balance bewteen 'speed' (Beta-coefficient) and 'momentum' of the learning"
     ]
    },
    {
     "cell_type": "markdown",
     "metadata": {},
     "source": [
      "Problems: over-trained or 'grandmothered' -> respond only to one set of problems"
     ]
    },
    {
     "cell_type": "markdown",
     "metadata": {},
     "source": [
      "### For References"
     ]
    },
    {
     "cell_type": "markdown",
     "metadata": {},
     "source": [
      "A very basic introduction: http://pages.cs.wisc.edu/~bolo/shipyard/neural/local.html"
     ]
    },
    {
     "cell_type": "markdown",
     "metadata": {},
     "source": [
      "### Code Practice"
     ]
    },
    {
     "cell_type": "code",
     "collapsed": false,
     "input": [
      "# This line configures matplotlib to show figures embedded in the notebook, \n",
      "# instead of opening a new window for each figure. More about that later. \n",
      "# If you are using an old version of IPython, try using '%pylab inline' instead.\n",
      "%matplotlib inline"
     ],
     "language": "python",
     "metadata": {},
     "outputs": [],
     "prompt_number": 5
    },
    {
     "cell_type": "markdown",
     "metadata": {},
     "source": [
      "#### Minimize An Expression"
     ]
    },
    {
     "cell_type": "code",
     "collapsed": false,
     "input": [
      "import numpy as np\n",
      "from scipy import special, optimize\n",
      "import matplotlib.pyplot as plt"
     ],
     "language": "python",
     "metadata": {},
     "outputs": [],
     "prompt_number": 50
    },
    {
     "cell_type": "markdown",
     "metadata": {},
     "source": [
      "This is a practice of minimizing an expression using [scipy.optimize.minimize()](http://docs.scipy.org/doc/scipy-0.14.0/reference/generated/scipy.optimize.minimize.html)"
     ]
    },
    {
     "cell_type": "code",
     "collapsed": false,
     "input": [
      "fun = lambda x: (x[0] - 1)**2 + (x[1] - 2.5)**2\n",
      "\n",
      "minimize(fun,(1,1),method=\"Nelder-Mead\")"
     ],
     "language": "python",
     "metadata": {},
     "outputs": [
      {
       "metadata": {},
       "output_type": "pyout",
       "prompt_number": 51,
       "text": [
        "  status: 0\n",
        "    nfev: 75\n",
        " success: True\n",
        "     fun: 1.9975780921330846e-09\n",
        "       x: array([ 1.00004371,  2.50000933])\n",
        " message: 'Optimization terminated successfully.'\n",
        "     nit: 39"
       ]
      }
     ],
     "prompt_number": 51
    },
    {
     "cell_type": "code",
     "collapsed": false,
     "input": [
      "def fun_jacf(x):\n",
      "    np.asarray(x)\n",
      "    return np.array([2*(x[0] - 1),2*(x[1] - 2.5)])\n",
      "\n",
      "minimize(fun,(1,1),method=\"BFGS\",jac=fun_jacf)"
     ],
     "language": "python",
     "metadata": {},
     "outputs": [
      {
       "metadata": {},
       "output_type": "pyout",
       "prompt_number": 54,
       "text": [
        "   status: 0\n",
        "  success: True\n",
        "     njev: 4\n",
        "     nfev: 4\n",
        " hess_inv: array([[ 1. ,  0. ],\n",
        "       [ 0. ,  0.5]])\n",
        "      fun: 0.0\n",
        "        x: array([ 1. ,  2.5])\n",
        "  message: 'Optimization terminated successfully.'\n",
        "      jac: array([ 0.,  0.])"
       ]
      }
     ],
     "prompt_number": 54
    },
    {
     "cell_type": "markdown",
     "metadata": {},
     "source": [
      "Here is a summary:\n",
      "\n",
      "1. The jac parameter should be an array. Feed an array to it. The array should be the gradient at point [x[0],x[1],...] for each of these variables.\n",
      "2. There are other minimizing methods here [http://scipy-lectures.github.io/advanced/mathematical_optimization/](http://scipy-lectures.github.io/advanced/mathematical_optimization/)."
     ]
    },
    {
     "cell_type": "markdown",
     "metadata": {},
     "source": [
      "#### ANN Solving A Simple Problem"
     ]
    },
    {
     "cell_type": "code",
     "collapsed": false,
     "input": [],
     "language": "python",
     "metadata": {},
     "outputs": []
    }
   ],
   "metadata": {}
  }
 ]
}