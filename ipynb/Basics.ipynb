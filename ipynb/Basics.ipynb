{
 "metadata": {
  "name": ""
 },
 "nbformat": 3,
 "nbformat_minor": 0,
 "worksheets": [
  {
   "cells": [
    {
     "cell_type": "markdown",
     "metadata": {},
     "source": [
      "## Artificial Neural Network"
     ]
    },
    {
     "cell_type": "markdown",
     "metadata": {},
     "source": [
      "Delta rule"
     ]
    },
    {
     "cell_type": "markdown",
     "metadata": {},
     "source": [
      "Balance bewteen 'speed' (Beta-coefficient) and 'momentum' of the learning"
     ]
    },
    {
     "cell_type": "markdown",
     "metadata": {},
     "source": [
      "Problems: over-trained or 'grandmothered' -> respond only to one set of problems"
     ]
    },
    {
     "cell_type": "markdown",
     "metadata": {},
     "source": [
      "### For References"
     ]
    },
    {
     "cell_type": "markdown",
     "metadata": {},
     "source": [
      "A very basic introduction: http://pages.cs.wisc.edu/~bolo/shipyard/neural/local.html"
     ]
    },
    {
     "cell_type": "markdown",
     "metadata": {},
     "source": [
      "### Code Practice"
     ]
    },
    {
     "cell_type": "code",
     "collapsed": false,
     "input": [
      "# This line configures matplotlib to show figures embedded in the notebook, \n",
      "# instead of opening a new window for each figure. More about that later. \n",
      "# If you are using an old version of IPython, try using '%pylab inline' instead.\n",
      "%matplotlib inline"
     ],
     "language": "python",
     "metadata": {},
     "outputs": [],
     "prompt_number": 1
    },
    {
     "cell_type": "markdown",
     "metadata": {},
     "source": [
      "#### Minimize An Expression"
     ]
    },
    {
     "cell_type": "code",
     "collapsed": false,
     "input": [
      "import numpy as np\n",
      "from scipy.optimize import minimize\n",
      "from scipy.special import expit\n",
      "import matplotlib.pyplot as plt"
     ],
     "language": "python",
     "metadata": {},
     "outputs": [],
     "prompt_number": 87
    },
    {
     "cell_type": "markdown",
     "metadata": {},
     "source": [
      "This is a practice of minimizing an expression using [scipy.optimize.minimize()](http://docs.scipy.org/doc/scipy-0.14.0/reference/generated/scipy.optimize.minimize.html)"
     ]
    },
    {
     "cell_type": "code",
     "collapsed": false,
     "input": [
      "fun = lambda x: (x[0] - 1)**2 + (x[1] - 2.5)**2\n",
      "\n",
      "minimize(fun,(2,1),method=\"Nelder-Mead\")"
     ],
     "language": "python",
     "metadata": {},
     "outputs": [
      {
       "metadata": {},
       "output_type": "pyout",
       "prompt_number": 3,
       "text": [
        "  status: 0\n",
        "    nfev: 81\n",
        " success: True\n",
        "     fun: 1.5843480821317829e-09\n",
        "       x: array([ 0.99996082,  2.49999298])\n",
        " message: 'Optimization terminated successfully.'\n",
        "     nit: 42"
       ]
      }
     ],
     "prompt_number": 3
    },
    {
     "cell_type": "code",
     "collapsed": false,
     "input": [
      "def fun_jacf(x):\n",
      "    np.asarray(x)\n",
      "    return np.array([2*(x[0] - 1),2*(x[1] - 2.5)])\n",
      "\n",
      "minimize(fun,(2,1),method=\"BFGS\",jac=fun_jacf)"
     ],
     "language": "python",
     "metadata": {},
     "outputs": [
      {
       "metadata": {},
       "output_type": "pyout",
       "prompt_number": 4,
       "text": [
        "   status: 0\n",
        "  success: True\n",
        "     njev: 4\n",
        "     nfev: 4\n",
        " hess_inv: array([[ 0.84615385,  0.23076923],\n",
        "       [ 0.23076923,  0.65384615]])\n",
        "      fun: 0.0\n",
        "        x: array([ 1. ,  2.5])\n",
        "  message: 'Optimization terminated successfully.'\n",
        "      jac: array([ 0.,  0.])"
       ]
      }
     ],
     "prompt_number": 4
    },
    {
     "cell_type": "markdown",
     "metadata": {},
     "source": [
      "Here is a summary:\n",
      "\n",
      "1. The jac parameter should be an array. Feed an array to it. The array should be the gradient at point [x[0],x[1],...] for each of these variables.\n",
      "2. There are other minimizing methods here [http://scipy-lectures.github.io/advanced/mathematical_optimization/](http://scipy-lectures.github.io/advanced/mathematical_optimization/)."
     ]
    },
    {
     "cell_type": "markdown",
     "metadata": {},
     "source": [
      "#### ANN Solving A Simple Problem"
     ]
    },
    {
     "cell_type": "markdown",
     "metadata": {},
     "source": [
      "The problem to solve is the differential equation $$\\frac{d}{dt}y(t)=y(t).$$ Using the network, this is $$y_i= 1+t_i v_k f(t_i w_k+u_k).$$"
     ]
    },
    {
     "cell_type": "markdown",
     "metadata": {},
     "source": [
      "The procedures are\n",
      "\n",
      "**Deal with the function first.**\n",
      "   \n",
      "1. The cost is $$I=\\sum_i\\left( \\frac{dy_i}{dt}-y_i \\right)^2.$$ Our purpose is to minimize this cost.\n",
      "   \n",
      "2. To calculate the differential of y, we can write down the explicit expression for it. $$\\frac{dy}{dt} = v_k f(t w_k+u_k) + t v_k f(tw_k+u_k) (1-f(tw_k+u_k))w_k,$$ where the function f is defined as a trigf().\n",
      "\n",
      "3. So the cost becomse $$I = \\sum_i \\left(  v_k f(t w_k+u_k) + t v_k f(tw_k+u_k) (1-f(tw_k+u_k)) w_k - y \\right)^2.$$"
     ]
    },
    {
     "cell_type": "markdown",
     "metadata": {},
     "source": [
      "I can define a function that deals with this part:\n",
      "$$M = v_k f(t w_k+u_k) + t v_k f(tw_k+u_k) (1-f(tw_k+u_k))w_k - y,$$\n",
      "which is actually an array given an array input.\n",
      "\n",
      "So the cost is\n",
      "$$I = M_i M_i,$$ using summation rule.\n",
      "\n",
      "The derivative is always\n",
      "$$\\partial_X I = 2 M_i \\partial_X M_i .$$\n",
      "\n",
      "So we have $$\\partial_{w_{k'}}f(tw_k+u_k) = f(t w_k+u_k) (1 - f(t w_k+u_k) ) t . $$\n",
      "$$\\partial_{u_{k'}}f(t w_k+u_k) = f(t w_k+u_k) (1 - f(t w_k+u_k) ) . $$\n",
      "\n",
      "One of the useful relation is $$\\frac{df(x)}{dx} = f(x)(1-f(x)).$$\n",
      "\n",
      "Derived by hand, the jac is a list of the following\n",
      "for v\n",
      "$$2M_i(f(tw_{k'}+u_{k'}) +t f(tw_{k'}+u_{k'})(1-f(tw_{k'}+u_{k'}))w_{k'} + tf(tw_{k'} +u_{k'} )),$$\n",
      "\n",
      "for w:\n",
      "$$2M_i(  v_{k'}tf(')(1-f(')) + t v_{k'}(t f(')(1-f('))) w_{k'} - t v_{k'} f(') f(')(1-f(') )t  w_{k'}  + tv_{k'} f(')(1-f(')) + t v_{k'} f(')( 1 - f(') ) t  ),$$\n",
      "\n",
      "for u:\n",
      "$$v_{k'} f(')(1-f(')) + t v_{k'} f(')(1-f(')) (1-f('))w_{k'} - t v_{k'} f(') f(')(1-f(')) w_{k'} + t v_{k'} f(')(1-f(')) .$$\n",
      "\n",
      "where $k'$ is not summed over."
     ]
    },
    {
     "cell_type": "code",
     "collapsed": false,
     "input": [
      "def cost(v,w,u,t):\n",
      "    v = np.array(v)   # Don't know why but np.asarray(v) doesn't work here.\n",
      "    w = np.array(w)\n",
      "    u = np.array(u)\n",
      "    \n",
      "    fvec = np.array(trigf(t*w + u) )  # This is a vector!!!\n",
      "    yt = 1 + np.sum ( t * v * fvec  )  # For a given t, this calculates the value of y(t), given the parameters, v, w, u.\n",
      "    \n",
      "    return  ( np.sum (v*fvec + t * v* fvec * ( 1 -  fvec  ) * w ) - yt )   ** 2\n",
      "    \n",
      "    # return np.sum(np.array( v*np.array( trigf( np.array( t*w ) + u ) ) )  +  np.array( t*np.array( v*np.array( trigf(np.array( t*w ) + u)) )  )  * ( 1 - np.array( trigf( np.array( t*w )+u) ) ) * w + ( 1 + np.array( t*np.array( v*np.array( trigf( np.array(t*w)+u ) ) ) ) ) ) # trigf() should return an array with the same length of the input."
     ],
     "language": "python",
     "metadata": {},
     "outputs": [],
     "prompt_number": 22
    },
    {
     "cell_type": "markdown",
     "metadata": {},
     "source": [
      "**Caution: a number times an array is not returned as array but instead as list. and list + list doesn't conserved the length of the list!**"
     ]
    },
    {
     "cell_type": "markdown",
     "metadata": {},
     "source": [
      "Define the trigf() next, usually we use $$trigf(x)=\\frac{1}{1+\\exp(-x)}$$."
     ]
    },
    {
     "cell_type": "code",
     "collapsed": false,
     "input": [
      "def trigf(x):\n",
      "    #return 1/(1+np.exp(-x)) #\n",
      "    return expit(x)"
     ],
     "language": "python",
     "metadata": {},
     "outputs": [],
     "prompt_number": 23
    },
    {
     "cell_type": "code",
     "collapsed": false,
     "input": [
      "print trigf(1), expit(1)"
     ],
     "language": "python",
     "metadata": {},
     "outputs": [
      {
       "output_type": "stream",
       "stream": "stdout",
       "text": [
        "0.73105857863 0.73105857863\n"
       ]
      }
     ],
     "prompt_number": 24
    },
    {
     "cell_type": "markdown",
     "metadata": {},
     "source": [
      "Test cost function:"
     ]
    },
    {
     "cell_type": "code",
     "collapsed": false,
     "input": [
      "cost(np.array([2,3,4]),[3,4,5],[4,5,7],4)"
     ],
     "language": "python",
     "metadata": {},
     "outputs": [
      {
       "metadata": {},
       "output_type": "pyout",
       "prompt_number": 25,
       "text": [
        "783.99980851092016"
       ]
      }
     ],
     "prompt_number": 25
    },
    {
     "cell_type": "markdown",
     "metadata": {},
     "source": [
      "Next step is to optimize this cost. To do this we need the derivitive. But anyway let's try a simple minimization first."
     ]
    },
    {
     "cell_type": "code",
     "collapsed": false,
     "input": [
      "def costTotal(v,w,u,t):\n",
      "    t = np.array(t)\n",
      "    costt = 0\n",
      "    for temp in t:\n",
      "        costt = costt + cost(v,w,u,temp)\n",
      "        \n",
      "    return costt\n",
      "\n",
      "print costTotal([1,2,3],[2,3,2],[3,4,1],[1,2,3,4,5,2,6,1])"
     ],
     "language": "python",
     "metadata": {},
     "outputs": [
      {
       "output_type": "stream",
       "stream": "stdout",
       "text": [
        "2211.28910091\n"
       ]
      }
     ],
     "prompt_number": 26
    },
    {
     "cell_type": "markdown",
     "metadata": {},
     "source": [
      "Suppose the parameters are five dimensional and we have 10 data points."
     ]
    },
    {
     "cell_type": "code",
     "collapsed": false,
     "input": [
      "tlin = np.linspace(1,20,20)"
     ],
     "language": "python",
     "metadata": {},
     "outputs": [],
     "prompt_number": 30
    },
    {
     "cell_type": "markdown",
     "metadata": {},
     "source": [
      "Define a list divier that splits an array into three arrays."
     ]
    },
    {
     "cell_type": "code",
     "collapsed": false,
     "input": [
      "## No need to define such a function! Use np.split(x,3) instead.\n",
      "np.zeros(30)"
     ],
     "language": "python",
     "metadata": {},
     "outputs": [
      {
       "metadata": {},
       "output_type": "pyout",
       "prompt_number": 31,
       "text": [
        "array([ 0.,  0.,  0.,  0.,  0.,  0.,  0.,  0.,  0.,  0.,  0.,  0.,  0.,\n",
        "        0.,  0.,  0.,  0.,  0.,  0.,  0.,  0.,  0.,  0.,  0.,  0.,  0.,\n",
        "        0.,  0.,  0.,  0.])"
       ]
      }
     ],
     "prompt_number": 31
    },
    {
     "cell_type": "code",
     "collapsed": false,
     "input": [
      "# This is only an example of 2dimensional neural network.\n",
      "costTotalF = lambda x: costTotal(np.split(x,3)[0],np.split(x,3)[1],np.split(x,3)[2],tlin)\n",
      "\n",
      "# initGuess = np.zeros(30)\n",
      "initGuess = np.random.rand(1,30)\n",
      "# minimize(costTotalF,([1,0,3,0,1,1,2,0,1,0,1,0]),method=\"Nelder-Mead\")\n",
      "minimize(costTotalF,(initGuess),method=\"L-BFGS-B\")\n",
      "# minimize(costTotalF,([1,0,3,0,1,1,2,0,1,0,1,0]),method=\"TNC\")"
     ],
     "language": "python",
     "metadata": {
      "slideshow": {
       "slide_type": "slide"
      }
     },
     "outputs": [
      {
       "metadata": {},
       "output_type": "pyout",
       "prompt_number": 56,
       "text": [
        "  status: 0\n",
        " success: True\n",
        "    nfev: 380\n",
        "     fun: 0.00037394117734787893\n",
        "       x: array([-0.55858701, -1.87517803,  0.98325818,  2.59657173,  0.09500129,\n",
        "       -1.67129412,  0.31898246, -0.38240852,  1.39451122, -0.93841151,\n",
        "        3.09740666,  1.89051335,  0.15917949,  2.44286128,  1.50412374,\n",
        "        1.80121429,  6.22409282,  1.88427579,  0.68584458,  1.52214634,\n",
        "        0.76976527,  2.62238002,  1.11180571, -1.01850646,  0.98089676,\n",
        "        1.7659711 ,  1.28704989,  0.73795187,  0.23213371,  2.4364312 ])\n",
        " message: 'CONVERGENCE: REL_REDUCTION_OF_F_<=_FACTR*EPSMCH'\n",
        "     jac: array([  6.94445255e-04,   6.93561728e-04,   4.29034136e-04,\n",
        "         7.50118728e-04,   6.63267000e-04,   6.90344028e-04,\n",
        "         6.93886674e-04,   6.88844554e-04,   7.52181900e-04,\n",
        "         6.87680642e-04,   4.52664707e-06,  -1.55425369e-05,\n",
        "         3.01714811e-04,  -7.33234328e-05,   8.40212231e-06,\n",
        "        -4.21588762e-05,   1.63481425e-07,  -2.20061437e-05,\n",
        "         2.61293461e-04,  -1.84071671e-05,   2.19355784e-07,\n",
        "        -1.76906016e-06,   1.62547010e-04,  -1.93412175e-04,\n",
        "         3.03120159e-06,  -6.75533848e-06,   2.09402808e-07,\n",
        "        -1.79034305e-06,  -1.67753929e-04,  -6.45340986e-06])\n",
        "     nit: 300"
       ]
      }
     ],
     "prompt_number": 56
    },
    {
     "cell_type": "markdown",
     "metadata": {},
     "source": [
      "???It shows that the minimization depends greatly on the initial guess.??? Is this right?"
     ]
    },
    {
     "cell_type": "markdown",
     "metadata": {},
     "source": [
      "##### Not Working? Use Jac"
     ]
    },
    {
     "cell_type": "markdown",
     "metadata": {},
     "source": [
      "I can define a function that deals with this part:\n",
      "$$M = v_k f(t w_k+u_k) + t v_k f(tw_k+u_k) (1-f(tw_k+u_k))w_k + y,$$\n",
      "which is actually an array given an array input.\n",
      "\n",
      "So the cost is\n",
      "$$I = M_i M_i,$$ using summation rule.\n",
      "\n",
      "The derivative is always\n",
      "$$\\partial_X I = 2 M_i \\partial_X M_i .$$\n",
      "\n",
      "So we have $$\\partial_{w_{k'}}f(tw_k+u_k) = f(t w_k+u_k) (1 - f(t w_k+u_k) ) t . $$\n",
      "$$\\partial_{u_{k'}}f(t w_k+u_k) = f(t w_k+u_k) (1 - f(t w_k+u_k) ) . $$\n",
      "\n",
      "One of the useful relation is $$\\frac{df(x)}{dx} = f(x)(1-f(x)).$$\n",
      "\n",
      "Derived by hand, the jac is a list of the following\n",
      "for v\n",
      "$$2M_i(f(tw_{k'}+u_{k'}) +t f(tw_{k'}+u_{k'})(1-f(tw_{k'}+u_{k'}))w_{k'} + tf(tw_{k'} +u_{k'} )),$$\n",
      "\n",
      "for w (**double checked**):\n",
      "$$2M_i(  v_{k'}tf(1-f) + t v_{k'}f(1-f)*t*f(1-f) w_{k'} - t v_{k'} f f(1-f ) t  w_{k'}  + tv_{k'} f(1-f) + t v_{k'} f(')( 1 - f(') ) t  ),$$\n",
      "\n",
      "for u:\n",
      "$$v_{k'} f(')(1-f(')) + t v_{k'} f(')(1-f(')) (1-f('))w_{k'} - t v_{k'} f(') f(')(1-f(')) w_{k'} + t v_{k'} f(')(1-f(')) .$$\n",
      "\n",
      "where $k'$ is not summed over."
     ]
    },
    {
     "cell_type": "markdown",
     "metadata": {},
     "source": []
    },
    {
     "cell_type": "markdown",
     "metadata": {},
     "source": [
      "Define a help function M here:"
     ]
    },
    {
     "cell_type": "code",
     "collapsed": false,
     "input": [
      "def mhelper(v,w,u,t): ## This function should output a result ## t is a number in this function not array!!\n",
      "    v = np.array(v)\n",
      "    w = np.array(w)\n",
      "    u = np.array(u)\n",
      "    \n",
      "    return np.sum( v*trigf( t*w + u )  + t* v* trigf(t*w  + u) * ( 1 -  trigf( t*w +u)  ) * w ) + ( 1 +  np.sum( t * v * trigf( t*w +u ) )  )  \n",
      "    # Checked # Pass\n",
      "    \n",
      "def vhelper(v,w,u,t):\n",
      "    v = np.array(v)\n",
      "    w = np.array(w)\n",
      "    u = np.array(u)\n",
      "    \n",
      "    return trigf(t*w+u) + t*trigf(t*w+u)*( 1-trigf(t*w+u) )*w + t*trigf(t*w+u)\n",
      "\n",
      "def whelper(v,w,u,t):\n",
      "    v = np.array(v)\n",
      "    w = np.array(w)\n",
      "    u = np.array(u)\n",
      "    \n",
      "    return v*t*trigf(t*w+u)*( 1- trigf(t*w+u) ) + t*v*( trigf(t*w+u)*(1-trigf(t*w+u))*t* trigf(t*w+u)*(1-trigf(t*w+u)) )*w - t*v*trigf(t*w+u)*trigf(t*w+u)*(1-trigf(t*w+u))*t*w + t*v*trigf(t*w+u)*(1-trigf(t*w+u)) +t*v*trigf(t*w+u)*(1-trigf(t*w+u))*t    \n",
      "\n",
      "def uhelper(v,w,u,t):\n",
      "    v = np.array(v)\n",
      "    w = np.array(w)\n",
      "    u = np.array(u)\n",
      "    \n",
      "    return v*trigf(t*w+u)*( 1 - trigf(t*w+u)) + t* v * trigf(t*w+u) * (1-trigf(t*w+u))*(1-trigf(t*w+u))*w - t*v*trigf(t*w+u)*trigf(t*w+u)*(1-trigf(t*w+u))*w + t*v*trigf(t*w+u)*(1-trigf(t*w+u))\n"
     ],
     "language": "python",
     "metadata": {},
     "outputs": [],
     "prompt_number": 89
    },
    {
     "cell_type": "code",
     "collapsed": false,
     "input": [
      "mhelper([1,2],[2,3],[3,4],[1])"
     ],
     "language": "python",
     "metadata": {},
     "outputs": [
      {
       "metadata": {},
       "output_type": "pyout",
       "prompt_number": 90,
       "text": [
        "7.0017275337961387"
       ]
      }
     ],
     "prompt_number": 90
    },
    {
     "cell_type": "code",
     "collapsed": false,
     "input": [
      "vhelper([1,2],[2,3],[3,4],[1,2])"
     ],
     "language": "python",
     "metadata": {},
     "outputs": [
      {
       "metadata": {},
       "output_type": "pyout",
       "prompt_number": 91,
       "text": [
        "array([ 1.99991041,  3.00013618])"
       ]
      }
     ],
     "prompt_number": 91
    },
    {
     "cell_type": "markdown",
     "metadata": {},
     "source": [
      "Define the jac of cost function"
     ]
    },
    {
     "cell_type": "code",
     "collapsed": false,
     "input": [
      "def mhelperT(v,w,u,t):\n",
      "    t = np.array(t)\n",
      "    mhelperT = 0\n",
      "    \n",
      "    for temp in t:\n",
      "        mhelperT = mhelperT + mhelper(v,w,u,temp)\n",
      "        \n",
      "    return mhelperT\n",
      "\n",
      "def vhelperT(v,w,u,t):\n",
      "    t = np.array(t)\n",
      "    vhelperT = 0\n",
      "    \n",
      "    for temp in t:\n",
      "        vhelperT = vhelperT + vhelper(v,w,u,temp)\n",
      "        \n",
      "    return vhelperT\n",
      "\n",
      "def whelperT(v,w,u,t):\n",
      "    t = np.array(t)\n",
      "    whelperT = 0\n",
      "    \n",
      "    for temp in t:\n",
      "        whelperT = whelperT + whelper(v,w,u,temp)\n",
      "        \n",
      "    return whelperT\n",
      "\n",
      "\n",
      "def uhelperT(v,w,u,t):\n",
      "    t = np.array(t)\n",
      "    uhelperT = 0\n",
      "    \n",
      "    for temp in t:\n",
      "        uhelperT = uhelperT + uhelper(v,w,u,temp)\n",
      "        \n",
      "    return uhelperT\n",
      "\n",
      "\n",
      "def costJac(v,w,u,t):\n",
      "    v = np.array(v)\n",
      "    w = np.array(w)\n",
      "    u = np.array(u)\n",
      "    \n",
      "    vout = 2*mhelperT(v,w,u,t)*vhelperT(v,w,u,t)\n",
      "    wout = 2*mhelperT(v,w,u,t)*whelperT(v,w,u,t)\n",
      "    uout = 2*mhelperT(v,w,u,t)*uhelperT(v,w,u,t)\n",
      "    \n",
      "    out = np.hstack((vout,wout,uout))\n",
      "    \n",
      "    return np.array(out)\n",
      "\n"
     ],
     "language": "python",
     "metadata": {},
     "outputs": [],
     "prompt_number": 92
    },
    {
     "cell_type": "code",
     "collapsed": false,
     "input": [
      "print uhelperT([1,2],[2,3],[3,4],[1,2,3]),mhelperT([1,2],[2,3],[3,4],[1]),whelperT([1,2],[2,3],[3,4],[1]),vhelperT([1,2],[2,3],[3,4],[1])"
     ],
     "language": "python",
     "metadata": {},
     "outputs": [
      {
       "output_type": "stream",
       "stream": "stdout",
       "text": [
        "[-0.00097219 -0.00210542] 7.0017275338 [  6.82543889e-03   9.94656414e-06] [ 1.99991041  2.00090856]\n"
       ]
      }
     ],
     "prompt_number": 93
    },
    {
     "cell_type": "code",
     "collapsed": false,
     "input": [
      "costJac([1,2,3],[2,3,1],[3,4,3],[1])"
     ],
     "language": "python",
     "metadata": {},
     "outputs": [
      {
       "metadata": {},
       "output_type": "pyout",
       "prompt_number": 94,
       "text": [
        "array([  5.17848738e+01,   5.18107195e+01,   5.13130892e+01,\n",
        "         1.76735163e-01,   2.57552321e-04,   2.79301816e+00,\n",
        "         4.60848562e-03,  -4.68801308e-02,   1.42140904e+00])"
       ]
      }
     ],
     "prompt_number": 94
    },
    {
     "cell_type": "code",
     "collapsed": false,
     "input": [
      "costJacF = lambda x: costJac(np.split(x,3)[0],np.split(x,3)[1],np.split(x,3)[2],tlin)\n",
      "minimize(costTotalF,([0,0,0,0,0,1,0,0,0,0,0,0]),method=\"Newton-CG\",jac=costJacF)"
     ],
     "language": "python",
     "metadata": {},
     "outputs": [
      {
       "metadata": {},
       "output_type": "pyout",
       "prompt_number": 95,
       "text": [
        "  status: 2\n",
        " success: False\n",
        "    njev: 37\n",
        "    nfev: 44\n",
        "     fun: 5.723736372990576\n",
        "       x: array([-0.0249156 , -0.04970701, -0.0249156 , -0.0249156 ,  0.        ,\n",
        "        1.        ,  0.        ,  0.        ,  0.        ,  0.        ,\n",
        "        0.        ,  0.        ])\n",
        " message: 'Desired error not necessarily achieved due to precision loss.'\n",
        "    nhev: 0\n",
        "     jac: array([  6.37203623e-10,   1.27123109e-09,   6.37203623e-10,\n",
        "         6.37203623e-10,  -1.13550131e-10,  -4.35071499e-13,\n",
        "        -1.13550131e-10,  -1.13550131e-10,  -7.93815505e-12,\n",
        "        -1.50585399e-13,  -7.93815505e-12,  -7.93815505e-12])"
       ]
      }
     ],
     "prompt_number": 95
    },
    {
     "cell_type": "markdown",
     "metadata": {},
     "source": [
      "##### Test Results"
     ]
    },
    {
     "cell_type": "markdown",
     "metadata": {},
     "source": [
      "Plot!"
     ]
    },
    {
     "cell_type": "code",
     "collapsed": false,
     "input": [
      "def functionYNN(v,w,u,t): # t is a single scalar value\n",
      "\n",
      "    t = np.array(t)\n",
      "    \n",
      "    func = np.asarray([])\n",
      "    \n",
      "    for temp in t:\n",
      "        tempfunc = 1 +  np.sum(temp * v * trigf( temp*w +u ) )\n",
      "        func = np.append(func, tempfunc )\n",
      "        \n",
      "    return np.array(func)\n",
      "\n",
      "def functionY(t):\n",
      "\n",
      "    return np.exp(t)"
     ],
     "language": "python",
     "metadata": {},
     "outputs": [],
     "prompt_number": 53
    },
    {
     "cell_type": "code",
     "collapsed": false,
     "input": [
      "print functionYNN(np.array([1,2]),np.array([1,2]),np.array([1,2]),tlin)"
     ],
     "language": "python",
     "metadata": {},
     "outputs": [
      {
       "output_type": "stream",
       "stream": "stdout",
       "text": [
        "[  3.84482466   6.89525776   9.94402927  12.97286541  15.98757544\n",
        "  18.99452371  21.99765097  24.9990126   27.99959138  30.99983298\n",
        "  33.99993241  36.99997288  39.99998919  42.99999572  45.99999831\n",
        "  48.99999934  51.99999974  54.9999999   57.99999996  60.99999998]\n"
       ]
      }
     ],
     "prompt_number": 54
    },
    {
     "cell_type": "code",
     "collapsed": false,
     "input": [
      "# structArray=np.array([-1.77606225*np.exp(-01),  -3.52080053*np.exp(-01),  -1.77606225*np.exp(-01),\n",
      "#        -1.77606225*np.exp(-01),  -8.65246997*np.exp(-14),   1.00000000,\n",
      "#        -8.65246997*np.exp(-14),  -8.65246997*np.exp(-14),  -1.13618293*np.exp(-14),\n",
      "#        -7.57778017*np.exp(-16),  -1.13618293*np.exp(-14),  -1.13618293*np.exp(-14)])\n",
      "\n",
      "structArray=np.array([  6.94445255e-04,   6.93561728e-04,   4.29034136e-04,\n",
      "         7.50118728e-04,   6.63267000e-04,   6.90344028e-04,\n",
      "         6.93886674e-04,   6.88844554e-04,   7.52181900e-04,\n",
      "         6.87680642e-04,   4.52664707e-06,  -1.55425369e-05,\n",
      "         3.01714811e-04,  -7.33234328e-05,   8.40212231e-06,\n",
      "        -4.21588762e-05,   1.63481425e-07,  -2.20061437e-05,\n",
      "         2.61293461e-04,  -1.84071671e-05,   2.19355784e-07,\n",
      "        -1.76906016e-06,   1.62547010e-04,  -1.93412175e-04,\n",
      "         3.03120159e-06,  -6.75533848e-06,   2.09402808e-07,\n",
      "        -1.79034305e-06,  -1.67753929e-04,  -6.45340986e-06])\n",
      "\n",
      "print(\"The Structure Array is \\n {}\".format(structArray))\n",
      "# print np.split(structArray,3)[0],np.split(structArray,3)[1],np.split(structArray,3)[2]\n",
      "\n",
      "testTLin = np.linspace(0,10,10)\n",
      "\n",
      "print \"\\n \\n The plot is\"\n",
      "\n",
      "plt.figure(figsize=(10,6.18))\n",
      "plt.plot(testTLin,functionY(testTLin))\n",
      "plt.plot(testTLin,functionYNN(structArray[0],structArray[1],structArray[2],testTLin))\n",
      "plt.yscale('log')\n",
      "plt.show()\n",
      "\n",
      "\n",
      "print functionY(testTLin), functionYNN(structArray[0],structArray[1],structArray[2],testTLin)\n"
     ],
     "language": "python",
     "metadata": {},
     "outputs": [
      {
       "output_type": "stream",
       "stream": "stdout",
       "text": [
        "The Structure Array is \n",
        " [  6.94445255e-04   6.93561728e-04   4.29034136e-04   7.50118728e-04\n",
        "   6.63267000e-04   6.90344028e-04   6.93886674e-04   6.88844554e-04\n",
        "   7.52181900e-04   6.87680642e-04   4.52664707e-06  -1.55425369e-05\n",
        "   3.01714811e-04  -7.33234328e-05   8.40212231e-06  -4.21588762e-05\n",
        "   1.63481425e-07  -2.20061437e-05   2.61293461e-04  -1.84071671e-05\n",
        "   2.19355784e-07  -1.76906016e-06   1.62547010e-04  -1.93412175e-04\n",
        "   3.03120159e-06  -6.75533848e-06   2.09402808e-07  -1.79034305e-06\n",
        "  -1.67753929e-04  -6.45340986e-06]\n",
        "\n",
        " \n",
        " The plot is\n"
       ]
      },
      {
       "metadata": {},
       "output_type": "display_data",
       "png": "[encoded data removed]",
       "text": [
        "<matplotlib.figure.Figure at 0x10676c850>"
       ]
      },
      {
       "output_type": "stream",
       "stream": "stdout",
       "text": [
        "[  1.00000000e+00   3.03773178e+00   9.22781435e+00   2.80316249e+01\n",
        "   8.51525577e+01   2.58670631e+02   7.85771994e+02   2.38696456e+03\n",
        "   7.25095809e+03   2.20264658e+04] [ 1.          1.00038603  1.00077237  1.00115899  1.00154592  1.00193314\n",
        "  1.00232067  1.00270848  1.0030966   1.00348501]\n"
       ]
      }
     ],
     "prompt_number": 88
    },
    {
     "cell_type": "code",
     "collapsed": false,
     "input": [],
     "language": "python",
     "metadata": {},
     "outputs": [],
     "prompt_number": 68
    },
    {
     "cell_type": "code",
     "collapsed": false,
     "input": [],
     "language": "python",
     "metadata": {},
     "outputs": []
    },
    {
     "cell_type": "code",
     "collapsed": false,
     "input": [],
     "language": "python",
     "metadata": {},
     "outputs": []
    },
    {
     "cell_type": "code",
     "collapsed": false,
     "input": [
      "## Test of Numpy\n",
      "temp1=np.asarray([1,2,3])\n",
      "temp2=np.asarray([4,5,6])\n",
      "temp3=np.asarray([7,8,9])\n",
      "temp1*temp2\n",
      "print 3*temp1\n",
      "temp1+temp2\n",
      "print temp1*temp2*temp3*temp1\n",
      "1/(1+np.exp(-temp1))\n",
      "temp1 + temp2\n",
      "[1,2] + [2,3]\n",
      "1 - 3*np.array([1,2])\n",
      "temp1**2"
     ],
     "language": "python",
     "metadata": {},
     "outputs": []
    },
    {
     "cell_type": "code",
     "collapsed": false,
     "input": [
      "1+np.asarray([1,2,3])"
     ],
     "language": "python",
     "metadata": {},
     "outputs": []
    },
    {
     "cell_type": "code",
     "collapsed": false,
     "input": [
      "def testfunction(v,w,u,t):\n",
      "    v = np.array(v)\n",
      "    w = np.array(w)\n",
      "    u = np.array(u)\n",
      "\n",
      "    return t*w + u\n",
      "\n",
      "    #return np.sum(v*trigf( t*w + u ))"
     ],
     "language": "python",
     "metadata": {},
     "outputs": []
    },
    {
     "cell_type": "code",
     "collapsed": false,
     "input": [
      "testfunction([2,3,4],[3,4,5],[4,5,7],2)"
     ],
     "language": "python",
     "metadata": {},
     "outputs": []
    },
    {
     "cell_type": "code",
     "collapsed": false,
     "input": [],
     "language": "python",
     "metadata": {},
     "outputs": []
    }
   ],
   "metadata": {}
  }
 ]
}