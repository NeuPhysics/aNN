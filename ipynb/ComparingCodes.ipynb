{
 "cells": [
  {
   "cell_type": "code",
   "execution_count": 51,
   "metadata": {
    "collapsed": false,
    "scrolled": true
   },
   "outputs": [
    {
     "name": "stdout",
     "output_type": "stream",
     "text": [
      "[ 0.  0.  0.  0.  0.  0.  0.  0.  0.  0.  0.  0.  0.  0.  0.  0.  0.  0.\n",
      "  0.  0.  0.  0.  0.  0.  0.  0.  0.  0.  0.  0.  0.  0.  0.  0.  0.  0.\n",
      "  0.  0.  0.  0.  0.  0.  0.  0.  0.  0.  0.  0.  0.  0.  0.  0.  0.  0.\n",
      "  0.  0.  0.  0.  0.  0.]\n",
      "[ 0.   0.2  0.4  0.6  0.8  1.   1.2  1.4  1.6  1.8  2. ]\n"
     ]
    }
   ],
   "source": [
    "# Shanshank\n",
    "\n",
    "from scipy.special import expit\n",
    "import scipy.optimize\n",
    "from scipy.optimize import minimize #, differential_evolution\n",
    "import numpy as np\n",
    "from math import sin,cos\n",
    "#xarr=var('xarr')\n",
    "x=np.linspace(0,2,11)\n",
    "hvar=5\n",
    "numeqs=4\n",
    "omega=1.0\n",
    "theta=1.0\n",
    "bounds=np.zeros([3*4*5,2])\n",
    "for i in range(3*4*5):\n",
    "    bounds[i,0]=-5\n",
    "    bounds[i,1]=5\n",
    "partot=np.array(np.zeros(3*hvar*numeqs))\n",
    "x0=[1.0,0.0,0.0,0.0]\n",
    "#par = par.reshape(3,hvar)\n",
    "print partot\n",
    "print x\n",
    "one=np.ones(hvar)\n",
    "\n",
    "def sig(x,par):\n",
    "    ans=[]\n",
    "    par1 = par.reshape(3,hvar)\n",
    "    #print \"test\", par[2]\n",
    "    for i in x:\n",
    "        ans.append(expit(i*par1[1,:]+par1[2,:]))\n",
    "        #ans.append(np.tanh(i*par1[1,:]+par1[2,:]))\n",
    "    return ans\n",
    "def N(x,par):\n",
    "    par1=par.reshape(3,hvar)\n",
    "    ans=np.inner(par1[0,:],sig(x,par))\n",
    "    return ans\n",
    "def y(x,par,xini):\n",
    "    return xini+x*N(x,par)\n",
    "def dNdx(x,par):\n",
    "    par1=par.reshape(3,hvar)\n",
    "    ans=np.zeros(len(x))\n",
    "    #print len(x)\n",
    "    for j in range(len(x)):\n",
    "        for i in range(hvar):\n",
    "            ans[j]=ans[j]+(par1[0,i])*(sig(x,par)[j][i])*((one-sig(x,par))[j][i])*par1[1,i]\n",
    "    return(ans)\n",
    "def dydx(x,par):\n",
    "    return N(x,par)+x*dNdx(x,par)\n",
    "def yp(partot):\n",
    "    partot1=partot.reshape((numeqs,3,hvar))\n",
    "    cost=0.0\n",
    "    cost=cost+np.sum(0.5*(dydx(x,partot1[0,:,:])-2*omega*sin(2*theta)*y(x,partot1[3,:,:],x0[3]))**2)\n",
    "    cost=cost+np.sum(0.5*(dydx(x,partot1[1,:,:])+2*omega*sin(2*theta)*y(x,partot1[3,:,:],x0[3]))**2)\n",
    "    cost=cost+np.sum(0.5*(dydx(x,partot1[2,:,:])-2*omega*cos(2*theta)*y(x,partot1[3,:,:],x0[3]))**2)\n",
    "    cost=cost+np.sum(0.5*(dydx(x,partot1[3,:,:])+2*omega*cos(2*theta)*y(x,partot1[2,:,:],x0[2])+omega*sin(2*theta)*y(x,partot1[0,:,:],x0[0])-omega*sin(2*theta)*y(x,partot1[1,:,:],x0[1]))**2)\n",
    "    cost=cost+np.sum((y(x,partot1[0,:,:],x0[0])+y(x,partot1[1,:,:],x0[1])-1.0)**2)\n",
    "    return cost\n",
    "#def ypprime(par): \n",
    "#vout=minimize(yp,par,method='COBYLA',options={\"maxfev\": 10000})\n",
    "#vout=minimize(yp,partot,method='SLSQP',options={\"maxiter\": 1000})\n",
    "#vout=minimize(yp,partot,method='Nelder-Mead',tol=1e-5,options={\"ftol\":1e-3, \"maxfev\": 1000000,\"maxiter\":1000000})\n",
    "#vout=differential_evolution(yp,bounds,strategy='best1bin',tol=0.1,maxiter=1,polish=True)\n",
    "#print vout\n"
   ]
  },
  {
   "cell_type": "code",
   "execution_count": 142,
   "metadata": {
    "collapsed": true
   },
   "outputs": [],
   "source": [
    "# Here is the activation function\n",
    "\n",
    "def act(x):\n",
    "    return expit(x)\n",
    "\n",
    "# Density matrix in the forms that I wrote down on my Neutrino Physics notebook\n",
    "# x is a real array of 12 arrays.\n",
    "\n",
    "init = np.array([1.0,0.0,0.0,0.0])\n",
    "\n",
    "def rho2(x,ti,initialCondition):\n",
    "    \n",
    "    elem = np.ones(4)\n",
    "    \n",
    "    for i in np.linspace(0,3,4):\n",
    "        elem[i] = np.sum(ti*x[i*3]*act(ti*x[i*3+1] + x[i*3+2]) )\n",
    "    \n",
    "    return init + elem\n",
    "    \n",
    "# Hamiltonian of the problem, in terms of four real components\n",
    "\n",
    "hamil = np.array( [  np.cos(2.0),np.sin(2.0) , np.sin(2.0),np.cos(2.0) ] )\n",
    "\n",
    "# Cost function for each time step\n",
    "\n",
    "def rhop(x,ti,initialCondition):\n",
    "    \n",
    "    rhoprime = np.zeros(4)\n",
    "    \n",
    "    for i in np.linspace(0,3,4):\n",
    "        rhoprime[i] = np.sum(x[i*3] * (act(ti*x[i*3+1] + x[i*3+2]) ) ) +  np.sum( ti*x[i*3]* (act(ti*x[i*3+1] + x[i*3+2]) ) * (1.0 - (act(ti*x[i*3+1] + x[i*3+2])  ) )* x[i*3+1]  )\n",
    "        \n",
    "    return rhoprime\n",
    "\n",
    "\n",
    "## This is the regularization\n",
    "\n",
    "regularization = 0.0001\n",
    "\n",
    "def costi(x,ti,initialCondition):\n",
    "    \n",
    "    rhoi = rho2(x,ti,initialCondition)\n",
    "    rhopi = rhop(x,ti,initialCondition)\n",
    "    \n",
    "    costTemp = np.zeros(4)\n",
    "    \n",
    "    costTemp[0] = ( rhopi[0] - 2.0*rhoi[2]*hamil[1] )**2\n",
    "    costTemp[1] = ( rhopi[1] - 2.0*rhoi[2]*hamil[0] )**2\n",
    "    costTemp[2] = ( rhopi[2] + 2.0*rhoi[1]*hamil[0] - hamil[1] * (rhoi[3] - rhoi[0] ) )**2\n",
    "    costTemp[3] = ( rhopi[3] + 2.0*rhoi[2]*hamil[1] )**2\n",
    "    \n",
    "    return np.sum(costTemp) + 2.0*(rhoi[0]+rhoi[3]-1.0)**2\n",
    "    \n",
    "#    return np.sum(costTemp) + regularization*np.sum(x**2)\n",
    "    \n",
    "def cost2(x,t,initialCondition):\n",
    "    \n",
    "    costTotal = map(lambda t: costi(x,t,initialCondition),t)\n",
    "    \n",
    "    return 0.5*np.sum(costTotal)"
   ]
  },
  {
   "cell_type": "code",
   "execution_count": 139,
   "metadata": {
    "collapsed": false,
    "scrolled": false
   },
   "outputs": [
    {
     "name": "stdout",
     "output_type": "stream",
     "text": [
      "3.88007648249 [ 3.88007648] [ 1.]\n"
     ]
    }
   ],
   "source": [
    "array12 = np.asarray(np.split(np.random.rand(1,60)[0],12))\n",
    "ssfun11 = y(np.array([2.0]),array12.reshape((numeqs,3,hvar))[0,:,:],x0[0])\n",
    "mifun11 = rho2(array12,2,init)[0]\n",
    "print mifun11, ssfun11, ssfun11/mifun11 ## Good we have the same function values"
   ]
  },
  {
   "cell_type": "code",
   "execution_count": 147,
   "metadata": {
    "collapsed": false
   },
   "outputs": [
    {
     "name": "stdout",
     "output_type": "stream",
     "text": [
      "[ 1.45321508  2.39720206  1.22168614  2.04320087] [ 1.63439549  1.73332522  1.82416417  1.90615056  1.97907901  2.04320087\n",
      "  2.09909967  2.14756544  2.18948481  2.22575546  2.2572267 ]\n"
     ]
    }
   ],
   "source": [
    "# rho prime\n",
    "mirhop=rhop(array12,1,init)\n",
    "ssrhop=dydx(x,array12.reshape((numeqs,3,hvar))[3,:,:])\n",
    "print mirhop, ssrhop\n",
    "## OK we have exactly the same rho prime."
   ]
  },
  {
   "cell_type": "code",
   "execution_count": 161,
   "metadata": {
    "collapsed": false
   },
   "outputs": [
    {
     "name": "stdout",
     "output_type": "stream",
     "text": [
      "364.343605924 542.797293181 1.48979502962\n"
     ]
    }
   ],
   "source": [
    "mine = cost2(array12,x,init)\n",
    "ss = yp(array12)\n",
    "print mine, ss, ss/mine\n",
    "#cost(xresult,np.array([0,4,11]),init)"
   ]
  },
  {
   "cell_type": "code",
   "execution_count": null,
   "metadata": {
    "collapsed": true
   },
   "outputs": [],
   "source": []
  },
  {
   "cell_type": "code",
   "execution_count": 99,
   "metadata": {
    "collapsed": false
   },
   "outputs": [
    {
     "name": "stdout",
     "output_type": "stream",
     "text": [
      "[-0.41614684  0.90929743  0.90929743 -0.41614684]\n"
     ]
    }
   ],
   "source": [
    "print hamil"
   ]
  },
  {
   "cell_type": "code",
   "execution_count": 113,
   "metadata": {
    "collapsed": false
   },
   "outputs": [
    {
     "data": {
      "text/plain": [
       "-0.41614683654714241"
      ]
     },
     "execution_count": 113,
     "metadata": {},
     "output_type": "execute_result"
    }
   ],
   "source": [
    "np.cos(2)"
   ]
  },
  {
   "cell_type": "code",
   "execution_count": 162,
   "metadata": {
    "collapsed": false
   },
   "outputs": [
    {
     "name": "stdout",
     "output_type": "stream",
     "text": [
      "  status: 0\n",
      " success: True\n",
      "    njev: 500\n",
      "    nfev: 31208\n",
      "     fun: 0.31561053671243128\n",
      "       x: array([ -8.38431710e+02,  -2.42466602e-01,  -7.77403939e+00,\n",
      "         2.10453513e-01,  -5.16565187e+03,   9.30774208e+03,\n",
      "        -6.75785974e+02,  -1.53377530e+00,  -6.76667377e+00,\n",
      "         8.79796653e+02,  -2.42464335e-01,  -7.82221413e+00,\n",
      "         0.00000000e+00,   0.00000000e+00,   0.00000000e+00,\n",
      "         0.00000000e+00,   0.00000000e+00,   0.00000000e+00,\n",
      "         0.00000000e+00,   0.00000000e+00,   0.00000000e+00,\n",
      "         0.00000000e+00,   0.00000000e+00,   0.00000000e+00,\n",
      "         0.00000000e+00,   0.00000000e+00,   0.00000000e+00,\n",
      "         0.00000000e+00,   0.00000000e+00,   0.00000000e+00,\n",
      "         0.00000000e+00,   0.00000000e+00,   0.00000000e+00,\n",
      "         0.00000000e+00,   0.00000000e+00,   0.00000000e+00,\n",
      "         0.00000000e+00,   0.00000000e+00,   0.00000000e+00,\n",
      "         0.00000000e+00,   0.00000000e+00,   0.00000000e+00,\n",
      "         0.00000000e+00,   0.00000000e+00,   0.00000000e+00,\n",
      "         0.00000000e+00,   0.00000000e+00,   0.00000000e+00,\n",
      "         0.00000000e+00,   0.00000000e+00,   0.00000000e+00,\n",
      "         0.00000000e+00,   0.00000000e+00,   0.00000000e+00,\n",
      "         0.00000000e+00,   0.00000000e+00,   0.00000000e+00,\n",
      "         0.00000000e+00,   0.00000000e+00,   0.00000000e+00])\n",
      " message: 'Optimization terminated successfully.'\n",
      "     jac: array([  7.45058060e-09,  -1.11758709e-08,   0.00000000e+00,\n",
      "         1.49011612e-08,   0.00000000e+00,   0.00000000e+00,\n",
      "         4.47034836e-08,  -2.23517418e-08,  -1.49011612e-08,\n",
      "         1.11758709e-08,   2.98023224e-08,   3.72529030e-09,\n",
      "         0.00000000e+00,   0.00000000e+00,   0.00000000e+00,\n",
      "         0.00000000e+00,   0.00000000e+00,   0.00000000e+00,\n",
      "         0.00000000e+00,   0.00000000e+00,   0.00000000e+00,\n",
      "         0.00000000e+00,   0.00000000e+00,   0.00000000e+00,\n",
      "         0.00000000e+00,   0.00000000e+00,   0.00000000e+00,\n",
      "         0.00000000e+00,   0.00000000e+00,   0.00000000e+00,\n",
      "         0.00000000e+00,   0.00000000e+00,   0.00000000e+00,\n",
      "         0.00000000e+00,   0.00000000e+00,   0.00000000e+00,\n",
      "         0.00000000e+00,   0.00000000e+00,   0.00000000e+00,\n",
      "         0.00000000e+00,   0.00000000e+00,   0.00000000e+00,\n",
      "         0.00000000e+00,   0.00000000e+00,   0.00000000e+00,\n",
      "         0.00000000e+00,   0.00000000e+00,   0.00000000e+00,\n",
      "         0.00000000e+00,   0.00000000e+00,   0.00000000e+00,\n",
      "         0.00000000e+00,   0.00000000e+00,   0.00000000e+00,\n",
      "         0.00000000e+00,   0.00000000e+00,   0.00000000e+00,\n",
      "         0.00000000e+00,   0.00000000e+00,   0.00000000e+00,\n",
      "         0.00000000e+00])\n",
      "     nit: 500\n"
     ]
    }
   ],
   "source": [
    "\n",
    "\n",
    "\n",
    "\n",
    "\n",
    "\n",
    "# with ramdom initial guess\n",
    "\n",
    "#initGuess = np.asarray(np.split(np.random.rand(1,60)[0],12))\n",
    "initGuess = np.split(np.zeros(60),12)\n",
    "endpoint = 6\n",
    "tlin = np.linspace(0,endpoint,11)\n",
    "\n",
    "costF = lambda x: cost2(x,tlin,init)\n",
    "\n",
    "costvFResultSLSQP = minimize(costF,initGuess,method=\"SLSQP\",tol=1e-20,options={\"maxiter\":10000})\n",
    "\n",
    "print costvFResultSLSQP"
   ]
  },
  {
   "cell_type": "code",
   "execution_count": 165,
   "metadata": {
    "collapsed": false
   },
   "outputs": [
    {
     "name": "stdout",
     "output_type": "stream",
     "text": [
      "[ 1.          0.97895255  0.95851891  0.93868566  0.91943963  0.90076794\n",
      "  0.88265791  0.86509716  0.84807351  0.83157503  0.81559004  0.80010708\n",
      "  0.7851149   0.77060248  0.75655903  0.74297396  0.72983689  0.71713764\n",
      "  0.70486625  0.69301293  0.6815681   0.67052239  0.65986657  0.64959163\n",
      "  0.63968873  0.63014921  0.62096458  0.61212651  0.60362686  0.59545763\n",
      "  0.58761099  0.58007928  0.57285499  0.56593074  0.55929933  0.55295368\n",
      "  0.54688688  0.54109214  0.53556282  0.5302924   0.52527453  0.52050294\n",
      "  0.51597153  0.51167431  0.50760541  0.50375908  0.5001297   0.49671176\n",
      "  0.49349987  0.49048874  0.4876732   0.48504819  0.48260875  0.48035002\n",
      "  0.47826726  0.4763558   0.47461111  0.47302872  0.47160426  0.47033348\n",
      "  0.46921218  0.46823628  0.46740178  0.46670476  0.46614139  0.46570791\n",
      "  0.46540067  0.46521606  0.46515058  0.46520079  0.46536334  0.46563493\n",
      "  0.46601235  0.46649245  0.46707216  0.46774848  0.46851845  0.46937921\n",
      "  0.47032794  0.47136189  0.47247838  0.47367477  0.47494851  0.47629707\n",
      "  0.47771801  0.47920893  0.48076748  0.48239138  0.48407838  0.48582629\n",
      "  0.487633    0.4894964   0.49141446  0.49338518  0.49540663  0.4974769\n",
      "  0.49959415  0.50175655  0.50396235  0.50620981]\n"
     ]
    },
    {
     "data": {
      "image/png": "[encoded data removed]",
      "text/plain": [
       "<matplotlib.figure.Figure at 0x114336a10>"
      ]
     },
     "metadata": {},
     "output_type": "display_data"
    }
   ],
   "source": [
    "xresult = costvFResultSLSQP.get(\"x\")\n",
    "plttlin=np.linspace(0,endpoint,100)\n",
    "pltdata11 = np.array([])\n",
    "for i in plttlin:\n",
    "    pltdata11 = np.append(pltdata11 ,(rho2(xresult,i,init)[0] ) )\n",
    "    \n",
    "print pltdata11\n",
    "%matplotlib inline\n",
    "import matplotlib.pyplot as plt\n",
    "plt.plot(plttlin,pltdata11,\"b4-\",label=\"vac_rho11\")\n",
    "plt.show()"
   ]
  },
  {
   "cell_type": "code",
   "execution_count": null,
   "metadata": {
    "collapsed": true
   },
   "outputs": [],
   "source": []
  },
  {
   "cell_type": "code",
   "execution_count": null,
   "metadata": {
    "collapsed": true
   },
   "outputs": [],
   "source": []
  }
 ],
 "metadata": {
  "kernelspec": {
   "display_name": "Python 2",
   "language": "python",
   "name": "python2"
  },
  "language_info": {
   "codemirror_mode": {
    "name": "ipython",
    "version": 2
   },
   "file_extension": ".py",
   "mimetype": "text/x-python",
   "name": "python",
   "nbconvert_exporter": "python",
   "pygments_lexer": "ipython2",
   "version": "2.7.6"
  }
 },
 "nbformat": 4,
 "nbformat_minor": 0
}
