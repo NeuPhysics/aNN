{
 "cells": [
  {
   "cell_type": "markdown",
   "metadata": {},
   "source": [
    "## Homogeneous Gas"
   ]
  },
  {
   "cell_type": "markdown",
   "metadata": {},
   "source": [
    "Here is a notebook for homogeneous gas model."
   ]
  },
  {
   "cell_type": "markdown",
   "metadata": {},
   "source": [
    "Here we are talking about a homogeneous gas bulk of neutrinos with single energy. The EoM is\n",
    "$$\n",
    "i \\partial_t \\rho_E = \\left[ \\frac{\\delta m^2}{2E}B +\\lambda L +\\sqrt 2 G_F \\int_0^\\infty dE' ( \\rho_{E'} - \\bar \\rho_{E'} ) ,\\rho_E \\right]\n",
    "$$\n",
    "\n",
    "while the EoM for antineutrinos is\n",
    "$$\n",
    "i \\partial_t \\bar\\rho_E = \\left[- \\frac{\\delta m^2}{2E}B +\\lambda L +\\sqrt 2 G_F \\int_0^\\infty dE' ( \\rho_{E'} - \\bar \\rho_{E'} ) ,\\bar\\rho_E \\right]\n",
    "$$"
   ]
  },
  {
   "cell_type": "markdown",
   "metadata": {
    "collapsed": false
   },
   "source": [
    "Initial:\n",
    "Homogeneous, Isotropic, Monoenergetic $\\nu_e$ and $\\bar\\nu_e$"
   ]
  },
  {
   "cell_type": "markdown",
   "metadata": {},
   "source": [
    "The equations becomes\n",
    "$$\n",
    "i \\partial_t \\rho_E = \\left[ \\frac{\\delta m^2}{2E} B +\\lambda L +\\sqrt 2 G_F   ( \\rho_{E} - \\bar \\rho_{E} ) ,\\rho_E \\right]\n",
    "$$\n",
    "$$\n",
    "i \\partial_t \\bar\\rho_E = \\left[- \\frac{\\delta m^2}{2E}B +\\lambda_b L +\\sqrt 2 G_F ( \\rho_{E} - \\bar \\rho_{E} ) ,\\bar\\rho_E \\right]\n",
    "$$\n",
    "\n"
   ]
  },
  {
   "cell_type": "markdown",
   "metadata": {},
   "source": [
    "Define $\\omega=\\frac{\\delta m^2}{2E}$,  $\\omega = \\frac{\\delta m^2}{-2E}$, $\\mu=\\sqrt{2}G_F n_\\nu$\n",
    "$$\n",
    "i \\partial_t \\rho_E = \\left[ \\omega B +\\lambda L +\\mu   ( \\rho_{E} - \\bar \\rho_{E} ) ,\\rho_E \\right]\n",
    "$$\n",
    "$$\n",
    "i \\partial_t \\bar\\rho_E = \\left[\\bar\\omega B +\\bar\\lambda L +\\mu ( \\rho_{E} - \\bar \\rho_{E} ) ,\\bar\\rho_E \\right]\n",
    "$$\n"
   ]
  },
  {
   "cell_type": "markdown",
   "metadata": {},
   "source": [
    "where\n",
    "\n",
    "$$\n",
    "B = \\frac{1}{2} \\begin{pmatrix} \n",
    "-\\cos 2\\theta_v & \\sin 2\\theta_v \\\\\n",
    "\\sin 2\\theta_v & \\cos 2\\theta_v\n",
    "\\end{pmatrix} = \n",
    "\\begin{pmatrix} \n",
    "-0.38729833462 & 0.31622776601\\\\\n",
    "0.31622776601 & 0.38729833462\n",
    "\\end{pmatrix}\n",
    "$$\n",
    "\n",
    "$$\n",
    "L = \\begin{pmatrix}\n",
    "1 & 0 \\\\\n",
    "0 & 0\n",
    "\\end{pmatrix}\n",
    "$$\n",
    "\n",
    "Initial condition \n",
    "$$\n",
    "\\rho(t=0) = \\begin{pmatrix}\n",
    "1 & 0 \\\\\n",
    "0 & 0\n",
    "\\end{pmatrix}\n",
    "$$\n",
    "\n",
    "$$\n",
    "\\bar\\rho(t=0) =\\begin{pmatrix}\n",
    "1 & 0 \\\\\n",
    "0 & 0\n",
    "\\end{pmatrix}\n",
    "$$"
   ]
  },
  {
   "cell_type": "markdown",
   "metadata": {},
   "source": [
    "define the following quantities\n",
    "\n",
    "1. hbar$=\\hbar$\n",
    "2. delm2E$= \\delta m^2/2E$\n",
    "3. lamb $= \\lambda$, lambb $= \\bar\\lambda$\n",
    "4. gF $= G_F$\n",
    "5. mu $=\\mu$\n",
    "6. omega $=\\omega$, omegab $=\\bar\\omega$"
   ]
  },
  {
   "cell_type": "markdown",
   "metadata": {},
   "source": [
    "## Numerical"
   ]
  },
  {
   "cell_type": "code",
   "execution_count": 305,
   "metadata": {
    "collapsed": false
   },
   "outputs": [
    {
     "name": "stdout",
     "output_type": "stream",
     "text": [
      "The snakeviz extension is already loaded. To reload it, use:\n",
      "  %reload_ext snakeviz\n"
     ]
    }
   ],
   "source": [
    "# This line configures matplotlib to show figures embedded in the notebook, \n",
    "# instead of opening a new window for each figure. More about that later. \n",
    "# If you are using an old version of IPython, try using '%pylab inline' instead.\n",
    "%matplotlib inline\n",
    "%load_ext snakeviz\n",
    "\n",
    "import numpy as np\n",
    "from scipy.optimize import minimize\n",
    "from scipy.special import expit\n",
    "import matplotlib.pyplot as plt\n",
    "\n",
    "from matplotlib.lines import Line2D\n",
    "\n",
    "import timeit\n",
    "\n",
    "import pandas as pd\n",
    "\n",
    "import plotly.plotly as py\n",
    "from plotly.graph_objs import *\n",
    "import plotly.tools as tls"
   ]
  },
  {
   "cell_type": "code",
   "execution_count": 306,
   "metadata": {
    "collapsed": false
   },
   "outputs": [],
   "source": [
    "# hbar=1.054571726*10**(-34)\n",
    "hbar=1\n",
    "delm2E=1\n",
    "lamb=1  ## lambda for neutrinos\n",
    "lambb=1 ## lambda for anti neutrinos\n",
    "gF=1\n",
    "nd=1  ## number density\n",
    "ndb=1   ## number density\n",
    "omega=1\n",
    "omegab=1\n",
    "\n",
    "## Here are some matrices to be used\n",
    "\n",
    "elM = np.array([[1,0],[0,0]])\n",
    "bM = 1/2*np.array( [ [ - 0.38729833462,0.31622776601] , [0.31622776601,0.38729833462] ] )\n",
    "\n",
    "## sqareroot of 2\n",
    "sqrt2=np.sqrt(2)"
   ]
  },
  {
   "cell_type": "markdown",
   "metadata": {},
   "source": [
    "Using Mathematica, I can find the 4\\*2 equations"
   ]
  },
  {
   "cell_type": "code",
   "execution_count": 307,
   "metadata": {
    "collapsed": true
   },
   "outputs": [],
   "source": [
    "\n",
    "#r11prime(t)\n",
    "\n",
    "## The matrix eqn for neutrinos. Symplify the equation to the form A.X=0. Here I am only writing down the LHS.\n",
    "## Eqn for r11'\n",
    "# 1/2*( r21(t)*( bM12*delm2E - 2*sqrt2*gF*rb12(t) ) + r12(t) * ( -bM21*delm2E + 2*sqrt2*gF*rb21(t) ) - 1j*r11prime(t)  )\n",
    "## Eqn for r12'\n",
    "# 1/2*( r22(t)* ( bM12 ) )\n",
    "\n",
    "### wait a minute I don't actually need to write down this. I can just do this part in numpy."
   ]
  },
  {
   "cell_type": "markdown",
   "metadata": {},
   "source": [
    "I am going to substitute all density matrix elements using their corrosponding network expressions.\n",
    "\n",
    "So first of all, I need the network expression for the unknown functions.\n",
    "\n",
    "A function is written as\n",
    "\n",
    "$$ y_i= 1+t_i v_k f(t_i w_k+u_k) ,$$\n",
    "\n",
    "while it's derivative is\n",
    "\n",
    "$$v_k f(t w_k+u_k) + t v_k f(tw_k+u_k) (1-f(tw_k+u_k)) w_k .$$\n",
    "\n",
    "Now I can write down the equations using these two forms."
   ]
  },
  {
   "cell_type": "code",
   "execution_count": 308,
   "metadata": {
    "collapsed": true
   },
   "outputs": [],
   "source": [
    "def trigf(x):\n",
    "    #return 1/(1+np.exp(-x)) # It's not bad to define this function here for people could use other functions other than expit(x).\n",
    "    return expit(x)"
   ]
  },
  {
   "cell_type": "code",
   "execution_count": null,
   "metadata": {
    "collapsed": true
   },
   "outputs": [],
   "source": []
  },
  {
   "cell_type": "code",
   "execution_count": 309,
   "metadata": {
    "collapsed": false
   },
   "outputs": [],
   "source": [
    "## The time derivative part\n",
    "\n",
    "### Here are the initial conditions\n",
    "\n",
    "init = np.array( [[1,0],[0,0]] )\n",
    "initb = np.array([[0,0],[0,0]])\n",
    "\n",
    "### For neutrinos\n",
    "\n",
    "def rho(x,ti,initialCondition): # x is the input structure arrays, ti is a time point\n",
    "\n",
    "    v11,w11,u11,v12,w12,u12,v21,w21,u21,v22,w22,u22 = np.split(x,12)[:12]\n",
    "        \n",
    "    elem11= np.sum(ti * v11 * trigf( ti*w11 +u11 ) )\n",
    "    elem12= np.sum(ti * v12 * trigf( ti*w12 +u12 ) )\n",
    "    elem21= np.sum(ti * v21 * trigf( ti*w21 +u21 ) )\n",
    "    elem22= np.sum(ti * v22 * trigf( ti*w22 +u22 ) )\n",
    "    \n",
    "    return initialCondition + np.array([[ elem11 , elem12 ],[elem21, elem22]])\n",
    "\n",
    "def rhob(xb,ti,initialConditionb): # x is the input structure arrays, ti is a time point\n",
    "\n",
    "    vb11,wb11,ub11,vb12,wb12,ub12,vb21,wb21,ub21,vb22,wb22,ub22 = np.split(xb,12)[:12]\n",
    "\n",
    "    elem11= np.sum(ti * vb11 * trigf( ti*wb11 +ub11 ) )\n",
    "    elem12= np.sum(ti * vb12 * trigf( ti*wb12 +ub12 ) )\n",
    "    elem21= np.sum(ti * vb21 * trigf( ti*wb21 +ub21 ) )\n",
    "    elem22= np.sum(ti * vb22 * trigf( ti*wb22 +ub22 ) )\n",
    "    \n",
    "    return initialConditionb + np.array([[ elem11 , elem12 ],[elem21, elem22]])\n",
    "\n"
   ]
  },
  {
   "cell_type": "code",
   "execution_count": 310,
   "metadata": {
    "collapsed": false,
    "scrolled": true
   },
   "outputs": [
    {
     "data": {
      "text/plain": [
       "array([[ 9.80797078,  8.80797078],\n",
       "       [ 8.80797078,  8.80797078]])"
      ]
     },
     "execution_count": 310,
     "metadata": {},
     "output_type": "execute_result"
    }
   ],
   "source": [
    "## Test\n",
    "xtemp=np.ones(120)\n",
    "rho(xtemp,1,init)"
   ]
  },
  {
   "cell_type": "code",
   "execution_count": 311,
   "metadata": {
    "collapsed": true
   },
   "outputs": [],
   "source": [
    "## Define Hamiltonians for both\n",
    "\n",
    "def hamil(x,xb,ti,initialCondition,initialConditionb):\n",
    "    \n",
    "    return delm2E*bM + lamb*elM + sqrt2*gF*( rho(x,ti,initialCondition) - rhob(xb,ti,initialConditionb) )\n",
    "\n",
    "\n",
    "def hamilb(x,xb,ti,initialCondition,initialConditionb):\n",
    "    \n",
    "    return -delm2E*bM + lambb*elM + sqrt2*gF*( rho(x,ti,initialCondition) - rhob(xb,ti,initialConditionb) )"
   ]
  },
  {
   "cell_type": "code",
   "execution_count": 312,
   "metadata": {
    "collapsed": true
   },
   "outputs": [],
   "source": [
    "## The commutator\n",
    "\n",
    "def comm(x,xb,ti,initialCondition,initialConditionb):\n",
    "    \n",
    "    return np.dot(hamil(x,xb,ti,initialCondition,initialConditionb), rho(x,ti,initialCondition) ) - np.dot(rho(x,ti,initialCondition), hamil(x,xb,ti,initialCondition,initialConditionb) )\n",
    "\n",
    "def commb(x,xb,ti,initialCondition,initialConditionb):\n",
    "    \n",
    "    return np.dot(hamilb(x,xb,ti,initialCondition,initialConditionb), rhob(xb,ti,initialConditionb) ) - np.dot(rhob(xb,ti,initialConditionb), hamilb(x,xb,ti,initialCondition,initialConditionb) )\n"
   ]
  },
  {
   "cell_type": "code",
   "execution_count": 313,
   "metadata": {
    "collapsed": false
   },
   "outputs": [
    {
     "name": "stdout",
     "output_type": "stream",
     "text": [
      "neutrino\n",
      "[[  0.          21.26432251]\n",
      " [-21.26432251   0.        ]]\n",
      "antineutrino\n",
      "[[ 0.          9.86899694]\n",
      " [-9.86899694  0.        ]]\n"
     ]
    }
   ],
   "source": [
    "## Test\n",
    "\n",
    "print \"neutrino\\n\",comm(xtemp,xtemp,1,init,initb)\n",
    "print \"antineutrino\\n\",commb(xtemp,xtemp,0.5,init,initb)"
   ]
  },
  {
   "cell_type": "code",
   "execution_count": 314,
   "metadata": {
    "collapsed": false
   },
   "outputs": [],
   "source": [
    "## The COST of the eqn set\n",
    "\n",
    "def costTi(x,xb,ti,initialCondition,initialConditionb):\n",
    "    \n",
    "    v11,w11,u11,v12,w12,u12,v21,w21,u21,v22,w22,u22 = np.split(x,12)[:12]\n",
    "    vb11,wb11,ub11,vb12,wb12,ub12,vb21,wb21,ub21,vb22,wb22,ub22 = np.split(xb,12)[:12]\n",
    "    \n",
    "    fvec11 = np.array(trigf(ti*w11 + u11) )  # This is a vector!!!\n",
    "    fvec12 = np.array(trigf(ti*w12 + u12) )\n",
    "    fvec21 = np.array(trigf(ti*w21 + u21) )\n",
    "    fvec22 = np.array(trigf(ti*w22 + u22) )\n",
    "    \n",
    "    fvecb11 = np.array(trigf(ti*wb11 + ub11) )  # This is a vector!!!\n",
    "    fvecb12 = np.array(trigf(ti*wb12 + ub12) )\n",
    "    fvecb21 = np.array(trigf(ti*wb21 + ub21) )\n",
    "    fvecb22 = np.array(trigf(ti*wb22 + ub22) )\n",
    "    \n",
    "    \n",
    "    costi11= ( np.sum (v11*fvec11 + ti * v11* fvec11 * ( 1 -  fvec11  ) * w11 ) + 1j*  ( comm(x,xb,ti,initialCondition,initialConditionb)[0,0] )  )  \n",
    "    costi12= ( np.sum (v12*fvec12 + ti * v12* fvec12 * ( 1 -  fvec12  ) * w12 ) + 1j*  ( comm(x,xb,ti,initialCondition,initialConditionb)[0,1] )  )  \n",
    "    costi21= ( np.sum (v21*fvec21 + ti * v21* fvec21 * ( 1 -  fvec21  ) * w21 ) + 1j*  ( comm(x,xb,ti,initialCondition,initialConditionb)[1,0] )  )  \n",
    "    costi22= ( np.sum (v22*fvec22 + ti * v22* fvec22 * ( 1 -  fvec22  ) * w22 ) + 1j*  ( comm(x,xb,ti,initialCondition,initialConditionb)[1,1] )  )  \n",
    "\n",
    "    costbi11= ( np.sum (vb11*fvecb11 + ti * vb11* fvecb11 * ( 1 -  fvecb11  ) * wb11 ) + 1j*  ( commb(x,xb,ti,initialCondition,initialConditionb)[0,0] )  )  \n",
    "    costbi12= ( np.sum (vb12*fvecb12 + ti * vb12* fvecb12 * ( 1 -  fvecb12  ) * wb12 ) + 1j*  ( commb(x,xb,ti,initialCondition,initialConditionb)[0,1] )  )  \n",
    "    costbi21= ( np.sum (vb21*fvecb21 + ti * vb21* fvecb21 * ( 1 -  fvecb21  ) * wb21 ) + 1j*  ( commb(x,xb,ti,initialCondition,initialConditionb)[1,0] )  )  \n",
    "    costbi22= ( np.sum (vb22*fvecb22 + ti * vb22* fvecb22 * ( 1 -  fvecb22  ) * wb22 ) + 1j*  ( commb(x,xb,ti,initialCondition,initialConditionb)[1,1] )  )  \n",
    "    \n",
    "    return (np.real(costi11))**2 + (np.real(costi12))**2+ (np.real(costi21))**2 +  (np.real(costi22))**2 + (np.real(costbi11))**2 + (np.real(costbi12))**2 +(np.real(costbi21))**2 + (np.real(costbi22))**2 + (np.imag(costi11))**2 + (np.imag(costi12))**2+ (np.imag(costi21))**2 +  (np.imag(costi22))**2 + (np.imag(costbi11))**2 + (np.imag(costbi12))**2 +(np.imag(costbi21))**2 + (np.imag(costbi22))**2    \n"
   ]
  },
  {
   "cell_type": "code",
   "execution_count": 315,
   "metadata": {
    "collapsed": false
   },
   "outputs": [
    {
     "data": {
      "text/plain": [
       "427.55731631081869"
      ]
     },
     "execution_count": 315,
     "metadata": {},
     "output_type": "execute_result"
    }
   ],
   "source": [
    "costTi(xtemp,xtemp,0,init,initb)"
   ]
  },
  {
   "cell_type": "code",
   "execution_count": 316,
   "metadata": {
    "collapsed": true
   },
   "outputs": [],
   "source": [
    "## Calculate the total cost\n",
    "\n",
    "def cost(xtot,t,initialCondition,initialConditionb):\n",
    "    \n",
    "    x,xb = np.split(xtot,2)[:2]\n",
    "\n",
    "    t = np.array(t)\n",
    "    \n",
    "    costTotal = np.sum( costTList(x,xb,t,initialCondition,initialConditionb)  )\n",
    "        \n",
    "    return costTotal\n",
    "    \n",
    "\n",
    "def costTList(x,xb,t,initialCondition,initialConditionb):  ## This is the function WITHOUT the square!!! \n",
    "        \n",
    "    t = np.array(t)\n",
    "    \n",
    "    costList = np.asarray([])\n",
    "    \n",
    "    for temp in t:\n",
    "        tempElement = costTi(x,xb,temp,initialCondition,initialConditionb)\n",
    "        costList = np.append(costList, tempElement)\n",
    "        \n",
    "    return np.array(costList)\n",
    "\n",
    "    "
   ]
  },
  {
   "cell_type": "code",
   "execution_count": 317,
   "metadata": {
    "collapsed": false
   },
   "outputs": [
    {
     "name": "stdout",
     "output_type": "stream",
     "text": [
      "[  0.           0.20408163   0.40816327   0.6122449    0.81632653\n",
      "   1.02040816   1.2244898    1.42857143   1.63265306   1.83673469\n",
      "   2.04081633   2.24489796   2.44897959   2.65306122   2.85714286\n",
      "   3.06122449   3.26530612   3.46938776   3.67346939   3.87755102\n",
      "   4.08163265   4.28571429   4.48979592   4.69387755   4.89795918\n",
      "   5.10204082   5.30612245   5.51020408   5.71428571   5.91836735\n",
      "   6.12244898   6.32653061   6.53061224   6.73469388   6.93877551\n",
      "   7.14285714   7.34693878   7.55102041   7.75510204   7.95918367\n",
      "   8.16326531   8.36734694   8.57142857   8.7755102    8.97959184\n",
      "   9.18367347   9.3877551    9.59183673   9.79591837  10.        ]\n"
     ]
    }
   ],
   "source": [
    "ttemp = np.linspace(0,10)\n",
    "print ttemp"
   ]
  },
  {
   "cell_type": "code",
   "execution_count": 318,
   "metadata": {
    "collapsed": false,
    "scrolled": false
   },
   "outputs": [
    {
     "name": "stdout",
     "output_type": "stream",
     "text": [
      "[    427.55731631     576.4910937      853.37726656    1282.49988421\n",
      "    1884.10392755    2673.91751306    3663.20708292    4859.23007651\n",
      "    6265.9208822     7884.65985964    9715.0132345    11755.37565319\n",
      "   14003.48530838   16456.80879099   19112.80902104   21969.11701801\n",
      "   25023.62977467   28274.5546376    31720.41721704   35360.04611511\n",
      "   39192.54430487   43217.25409161   47433.72030466   51841.65465775\n",
      "   56440.90298664   61231.41622272   66213.22539729   71386.4206155\n",
      "   76751.13372951   82307.52433125   88055.76864167   93996.05087228\n",
      "  100128.55665759  106453.46819441  112970.96076627  119681.20037537\n",
      "  126584.34224643  133680.53000561  140969.89537205  148452.5582301\n",
      "  156128.62697564  163998.19905246  172061.36161212  180318.1922465\n",
      "  188768.75975409  197413.12491109  206251.3412265   215283.45566646\n",
      "  224509.50933817  233929.53812735]\n",
      "987353.364647\n"
     ]
    }
   ],
   "source": [
    "ttemp = np.linspace(0,10)\n",
    "print costTList(xtemp,xtemp,ttemp,init,initb)\n",
    "print cost(xtemp,ttemp,init,initb)"
   ]
  },
  {
   "cell_type": "code",
   "execution_count": null,
   "metadata": {
    "collapsed": true
   },
   "outputs": [],
   "source": []
  },
  {
   "cell_type": "markdown",
   "metadata": {
    "collapsed": true
   },
   "source": [
    "## Minimization"
   ]
  },
  {
   "cell_type": "markdown",
   "metadata": {
    "collapsed": true
   },
   "source": [
    "Here is the minimization"
   ]
  },
  {
   "cell_type": "code",
   "execution_count": 353,
   "metadata": {
    "collapsed": true
   },
   "outputs": [],
   "source": [
    "tlin = np.linspace(0,5,11)\n",
    "initGuess = np.ones(360)\n",
    "# initGuess = np.random.rand(1,30)+2\n",
    "\n",
    "costF = lambda x: cost(x,tlin,init,initb)"
   ]
  },
  {
   "cell_type": "code",
   "execution_count": 354,
   "metadata": {
    "collapsed": false
   },
   "outputs": [
    {
     "data": {
      "text/plain": [
       "511348.2296578954"
      ]
     },
     "execution_count": 354,
     "metadata": {},
     "output_type": "execute_result"
    }
   ],
   "source": [
    "cost(initGuess,tlin,init,initb)"
   ]
  },
  {
   "cell_type": "code",
   "execution_count": 355,
   "metadata": {
    "collapsed": false
   },
   "outputs": [],
   "source": [
    "## %%snakeviz\n",
    "# startCG = timeit.default_timer()\n",
    "#costFResultCG = minimize(costF,initGuess,method=\"CG\")\n",
    "#stopCG = timeit.default_timer()\n",
    "\n",
    "#print stopCG - startCG\n",
    "\n",
    "#print costFResultCG"
   ]
  },
  {
   "cell_type": "code",
   "execution_count": 356,
   "metadata": {
    "collapsed": false,
    "scrolled": false
   },
   "outputs": [
    {
     "name": "stdout",
     "output_type": "stream",
     "text": [
      "8197.502882\n",
      "  status: 9\n",
      " success: False\n",
      "    njev: 101\n",
      "    nfev: 36944\n",
      "     fun: 12.083728144220865\n",
      "       x: array([ 0.08164624,  0.43012195,  1.45167192, -0.07429276,  3.81335331,\n",
      "        2.38620944, -2.71224165, -2.70947969,  0.01699589,  0.11788438,\n",
      "        0.53879474, -0.48002277, -1.16710793,  2.76399066,  3.99148753,\n",
      "       -0.7942903 , -0.96776519, -1.52651749, -0.70672809,  0.47898006,\n",
      "       -0.60192634, -0.26145079, -0.39436723, -1.11957685, -1.04926951,\n",
      "       -0.73935089,  0.15475872, -0.02159688, -0.78090796,  0.7786671 ,\n",
      "        4.14479404,  3.91192217, -0.05821563,  2.95515106, -2.97534003,\n",
      "        2.39186039,  4.20947383,  4.12070046,  3.44191178,  3.70526911,\n",
      "        3.6088506 ,  4.50961264,  4.5060854 ,  1.95191652, -1.66995103,\n",
      "        0.04085454,  0.04080483,  0.04064098,  0.04028499,  0.0395552 ,\n",
      "        0.0391922 ,  0.04026285,  0.04044502,  0.04103574,  0.04095955,\n",
      "        0.03960498,  0.03860272,  0.03897518,  0.03854319,  0.03880976,\n",
      "        1.11626868,  1.1163978 ,  1.11648663,  1.11689965,  1.11754447,\n",
      "        1.11782391,  1.11712936,  1.11676186,  1.1161053 ,  1.11591232,\n",
      "        1.11699546,  1.11883408,  1.11739341,  1.11782893,  1.11796942,\n",
      "        1.27722814,  1.27727156,  1.27722808,  1.27743072,  1.27777681,\n",
      "        1.27774276,  1.27716848,  1.27773639,  1.2775083 ,  1.27760181,\n",
      "        1.27812504,  1.2776926 ,  1.27731855,  1.27798985,  1.27785673,\n",
      "        0.28193268,  0.22394955,  0.50910094, -0.28052594, -0.71665059,\n",
      "       -0.85890969, -0.36008788,  0.85691474,  0.20346907,  0.30148026,\n",
      "        0.40076042,  1.12574479,  0.1239218 ,  0.36634503,  0.47530683,\n",
      "        0.53746121,  0.55507334, -0.0561914 ,  0.93026981,  1.32633938,\n",
      "        1.48688976,  0.9960002 , -0.0656644 , -0.02326163,  0.53236615,\n",
      "       -0.05003273, -1.35097867,  0.59339416,  0.54971193, -0.05394842,\n",
      "        0.34945521,  0.40529334, -0.27486153,  0.69697336,  0.85240323,\n",
      "        0.90121746,  0.72785756, -0.34579227, -0.12151065,  0.33353309,\n",
      "       -0.20529362, -0.4899922 ,  0.49938938,  0.25890199, -0.25275045,\n",
      "        1.93497165, -0.49624162, -1.11343412, -0.79244529,  0.26168455,\n",
      "       -0.07950562, -1.01396764,  1.23148098, -3.79319213,  1.81915976,\n",
      "        2.04759446,  2.35732433, -0.48323303,  2.18574702,  1.05335928,\n",
      "        1.04647637, -0.30113648,  0.68185114, -1.51024402,  1.14794094,\n",
      "       -2.031459  ,  0.5267151 , -1.42105302,  0.03503408,  2.07419152,\n",
      "       -2.98560593,  0.56376123,  0.20324881, -3.16043744, -0.28268481,\n",
      "        0.67129557,  0.98340562,  1.10495842, -1.08187153,  0.71143531,\n",
      "        1.00641127,  1.3779443 ,  1.24907556,  4.07846206, -0.05672324,\n",
      "       -1.12849825,  0.65275084,  2.26188071, -1.27657932,  0.83054535,\n",
      "        0.2588036 ,  0.24608702, -0.75456092, -0.72982   , -0.55716667,\n",
      "        1.58640756,  0.07165089, -0.64668595,  0.93488253,  0.01886016,\n",
      "        0.09797   ,  0.08648693,  0.09656545,  0.51343753, -0.89546123,\n",
      "        0.06572843,  0.02272025,  1.90780954,  0.6516082 ,  0.18686682,\n",
      "        1.81873823,  0.08120449,  0.29611869,  1.10309216,  0.08362529,\n",
      "       -0.47382854, -1.18269647, -1.18446265,  0.52085163,  2.02912583,\n",
      "        2.45173271,  2.40482508,  2.14518419,  2.02383132,  2.03453617,\n",
      "        3.1403203 ,  2.13770553,  2.02047071,  2.88377127,  2.13903718,\n",
      "        2.2316739 ,  2.00128229,  2.00178694,  2.66754944,  2.18065862,\n",
      "        0.01794374,  0.02181744,  0.02049011,  0.01251052,  0.02197842,\n",
      "        0.01995807,  0.00656902,  0.01189349,  0.0090748 ,  0.02599108,\n",
      "        0.03007696,  0.0226576 ,  0.03733317,  0.04087769,  0.02598223,\n",
      "        1.17616276,  1.17887195,  1.18183905,  1.18009086,  1.17429617,\n",
      "        1.17539642,  1.18104938,  1.18278032,  1.18039796,  1.17082484,\n",
      "        1.17286295,  1.17694132,  1.1741632 ,  1.16885357,  1.17712114,\n",
      "        0.20730535,  0.20786634,  0.20976758,  0.21188053,  0.20515441,\n",
      "        0.20633806,  0.21450691,  0.21352031,  0.21255771,  0.20309883,\n",
      "        0.20234292,  0.20594804,  0.20075143,  0.19736439,  0.20535713,\n",
      "        0.33463454,  2.13266304,  0.70421616, -0.63222005, -1.00145075,\n",
      "        1.12206873, -2.112301  ,  0.84806425, -0.07493559,  1.77382455,\n",
      "       -0.72514531,  1.48239605,  2.31723876, -2.80587536, -0.99264425,\n",
      "        0.32183008,  0.9043439 , -1.01953438, -0.90180183,  0.54856888,\n",
      "       -0.72332953,  1.0372559 ,  0.25518573,  2.59568389, -1.92749952,\n",
      "       -0.41341778,  1.30367154,  3.19617875,  0.45427493,  1.05324089,\n",
      "       -2.03532037, -2.20401617, -0.97420046, -0.04048604, -0.58050722,\n",
      "       -1.06476487, -0.93488916, -1.04910634, -1.71060504, -1.20250126,\n",
      "       -1.85710132, -0.84820603, -0.58739021, -0.69389071,  1.39511397,\n",
      "        0.92001047,  0.63412559,  0.30499273, -0.61011353, -0.84741964,\n",
      "       -0.00877132, -3.14845816,  0.52543488, -0.10511991, -0.30784235,\n",
      "        0.96604274,  0.65193517,  0.14565759, -0.19741674, -1.97342118,\n",
      "        0.7309869 ,  0.39315795,  0.27294941, -0.86281089,  0.46299996,\n",
      "       -0.15666974, -2.13422429,  0.35648891,  1.63584397,  2.0148407 ,\n",
      "        0.60284713, -0.61726929,  1.69102092,  1.37355512,  4.16499053,\n",
      "        0.78049507,  0.5536403 ,  0.51056015,  0.70253067,  0.32317   ,\n",
      "       -1.01328544, -1.11073895,  0.53543659, -0.04137674, -0.11397037,\n",
      "        0.7816894 ,  0.97427489,  0.17535379, -0.04378688,  0.02112969])\n",
      " message: 'Iteration limit exceeded'\n",
      "     jac: array([ -1.31304799e+01,  -6.68640053e+00,   3.10963511e-01,\n",
      "        -8.46499264e+00,  -7.99834919e+00,  -8.16845441e+00,\n",
      "        -2.18843825e+01,  -2.07574682e+01,  -1.72877979e+00,\n",
      "        -3.74979377e+00,  -1.14682602e+01,  -2.29367272e+01,\n",
      "        -2.27717446e+01,  -2.46141624e+00,  -2.12423406e+01,\n",
      "        -2.32388377e+00,  -1.15674448e+01,  -5.41198254e-02,\n",
      "         2.10628080e+00,  -9.81152523e+01,  -6.61413599e+01,\n",
      "         1.45033989e+01,   2.68887848e+01,  -2.21133828e-01,\n",
      "        -2.39267933e+00,  -1.58713843e+01,   2.85730362e-01,\n",
      "         1.60159183e+00,  -3.90805218e+01,  -4.53912426e+01,\n",
      "        -4.87957120e-01,  -2.37999105e+00,   2.37409472e-01,\n",
      "         4.32908177e-01,  -2.04048656e+01,  -1.34999113e+01,\n",
      "         3.01031280e+00,   5.62631488e+00,  -4.19539213e-02,\n",
      "        -4.78478193e-01,  -3.30885649e+00,   5.49213886e-02,\n",
      "         3.22756410e-01,  -7.49696124e+00,  -8.50146031e+00,\n",
      "         4.10517989e+01,   4.10518768e+01,   4.10519116e+01,\n",
      "         4.10521755e+01,   4.10525944e+01,   4.10527292e+01,\n",
      "         4.10522277e+01,   4.10521816e+01,   4.10517853e+01,\n",
      "         4.10517095e+01,   4.10524000e+01,   4.10532340e+01,\n",
      "         4.10524011e+01,   4.10527940e+01,   4.10528326e+01,\n",
      "         2.10882425e-02,   2.10522413e-02,   2.09622383e-02,\n",
      "         2.07452774e-02,   2.03176737e-02,   2.01125145e-02,\n",
      "         2.07227468e-02,   2.08313465e-02,   2.11877823e-02,\n",
      "         2.11604834e-02,   2.03741789e-02,   1.97426081e-02,\n",
      "         2.00389624e-02,   1.97739601e-02,   1.99041367e-02,\n",
      "         1.03243589e-02,   1.03087425e-02,   1.02658272e-02,\n",
      "         1.01656914e-02,   9.96577740e-03,   9.86897945e-03,\n",
      "         1.01577044e-02,   1.02063417e-02,   1.03713274e-02,\n",
      "         1.03551149e-02,   9.98628139e-03,   9.70113277e-03,\n",
      "         9.82630253e-03,   9.70363617e-03,   9.76884365e-03,\n",
      "        -7.58345640e+00,  -7.63008475e+00,  -2.73824298e+00,\n",
      "        -7.96764445e+00,  -8.01338935e+00,  -8.01305771e+00,\n",
      "        -7.98372543e+00,  -2.52843308e+00,  -3.33653343e+00,\n",
      "        -7.56866086e+00,  -2.92050278e+00,   5.25176167e-01,\n",
      "        -7.70756233e+00,  -7.59148514e+00,  -2.79837286e+00,\n",
      "        -6.19597435e-01,  -4.38947558e-01,  -4.77252400e+00,\n",
      "         1.09389782e-01,   7.66543150e-02,   5.68155050e-02,\n",
      "         1.10761881e-01,  -7.77200472e+00,  -2.02071834e+00,\n",
      "        -6.84585214e-01,  -3.84573781e+00,  -1.64136291e-01,\n",
      "        -1.93385124e-01,  -8.29580903e-01,  -4.49261773e+00,\n",
      "        -5.81952333e-02,  -3.46218348e-02,  -8.94217253e-01,\n",
      "        -5.79292774e-02,  -2.01402664e-01,  -2.49508619e-01,\n",
      "        -8.19938183e-02,  -1.45129848e+00,  -3.80971193e-01,\n",
      "        -6.70484304e-02,  -7.22201228e-01,   3.46442938e-01,\n",
      "        -8.37731361e-03,  -8.06646347e-02,  -8.42451692e-01,\n",
      "         2.66438134e+01,   1.02419661e+01,   2.63847586e+01,\n",
      "        -2.74674892e-02,   2.66763768e+01,  -1.77391410e-01,\n",
      "         2.61785756e+01,  -1.00557685e-01,   2.62930641e+01,\n",
      "         2.67404386e+01,   1.02777481e-02,   2.58346299e+01,\n",
      "         2.56723417e+01,   1.37101412e-02,   9.84138238e+00,\n",
      "         7.98288941e-01,  -1.51655701e+01,  -1.75296056e+00,\n",
      "        -1.03533268e-03,   6.06391430e-02,   2.16102600e-03,\n",
      "        -2.52666175e+00,   6.67123675e-01,  -6.80444062e+00,\n",
      "        -1.01997495e-01,  -4.81126308e-02,   9.88743353e+00,\n",
      "        -2.26505530e+00,  -4.16777134e-02,   3.16971078e+01,\n",
      "         6.93914890e-02,  -3.14188004e+00,  -3.22155237e-01,\n",
      "         2.32154131e-02,   4.01735306e-05,   9.87613201e-03,\n",
      "        -4.93563771e-01,   5.56660891e-02,  -1.40544260e+00,\n",
      "        -1.50333047e-01,  -1.77216530e-03,   1.94595718e+00,\n",
      "        -4.63861346e-01,   9.49847698e-03,   6.56285644e+00,\n",
      "         4.17067887e+01,   4.10234531e+01,   4.42766408e+01,\n",
      "         4.39979241e+01,   4.20306147e+01,   4.43244966e+01,\n",
      "         4.10339930e+01,   4.28820829e+01,   4.43016794e+01,\n",
      "         4.10721853e+01,   2.23756065e+01,   1.98851287e+00,\n",
      "         1.97975874e+00,   4.40467786e+01,   4.42792757e+01,\n",
      "         2.97735763e+00,   3.51854610e+00,  -1.92439556e-03,\n",
      "        -9.05891061e-01,  -5.57375085e+00,   2.45773792e-03,\n",
      "         1.01548231e+00,  -4.07508707e+00,   6.19603395e-02,\n",
      "         2.64394403e-01,   5.03623819e+00,   4.61881638e-01,\n",
      "         5.11970997e-01,   6.18734002e-01,  -3.27825546e-04,\n",
      "         6.44650340e-01,   7.58527040e-01,  -5.33325672e-02,\n",
      "        -2.52703071e-01,  -1.22590256e+00,   4.82025146e-02,\n",
      "         2.20154643e-01,  -9.17830110e-01,   4.90492582e-02,\n",
      "         5.73356152e-02,   1.07021117e+00,   1.10707998e-01,\n",
      "         1.22835517e-01,   1.56435490e-01,  -6.13328218e-02,\n",
      "        -1.87498280e+01,  -1.87522540e+01,  -1.87550560e+01,\n",
      "        -1.87538428e+01,  -1.87478960e+01,  -1.87490252e+01,\n",
      "        -1.87550108e+01,  -1.87563521e+01,  -1.87541963e+01,\n",
      "        -1.87445356e+01,  -1.87462355e+01,  -1.87503186e+01,\n",
      "        -1.87471584e+01,  -1.87419379e+01,  -1.87503934e+01,\n",
      "        -1.56310797e-02,  -1.88331604e-02,  -1.74894333e-02,\n",
      "        -1.07153654e-02,  -1.92999840e-02,  -1.74448490e-02,\n",
      "        -5.59484959e-03,  -1.00842714e-02,  -7.75992870e-03,\n",
      "        -2.31221914e-02,  -2.66050100e-02,  -1.97153091e-02,\n",
      "        -3.29393148e-02,  -3.67993116e-02,  -2.26085186e-02,\n",
      "        -2.47931480e-03,  -2.96115875e-03,  -2.72023678e-03,\n",
      "        -1.67274475e-03,  -3.08382511e-03,  -2.77554989e-03,\n",
      "        -8.69035721e-04,  -1.55889988e-03,  -1.20985508e-03,\n",
      "        -3.73840332e-03,  -4.27818298e-03,  -3.12316418e-03,\n",
      "        -5.28299809e-03,  -6.00957870e-03,  -3.58116627e-03,\n",
      "         2.82397258e+00,   6.61829853e+00,   5.93311787e-02,\n",
      "         3.58445883e-01,   6.89027560e+00,   1.92015767e-01,\n",
      "         7.55103552e+00,   4.20337796e+00,   8.56953239e+00,\n",
      "        -1.63495183e-01,   2.46506333e-01,   7.83799803e+00,\n",
      "         8.96402431e+00,   6.31801999e+00,   8.28245485e+00,\n",
      "         2.68364751e+00,   5.92632329e+00,   2.84966350e-01,\n",
      "        -5.49218655e-01,  -3.76149952e+00,   7.15299129e-01,\n",
      "        -1.92848182e+00,   7.36480486e+00,  -6.62833452e-02,\n",
      "         2.40028262e-01,  -6.30016327e-01,   1.31090295e+00,\n",
      "         3.86595488e-01,  -1.55264732e+01,  -2.72996783e-01,\n",
      "         6.15471840e-01,   1.39051509e+00,   7.72646666e-02,\n",
      "        -2.55406260e-01,  -1.03950167e+00,   2.32886672e-01,\n",
      "        -1.32478261e+00,   1.73065126e+00,  -3.86790037e-02,\n",
      "        -1.86742425e-01,  -1.73316121e-01,   9.18193936e-01,\n",
      "        -4.28907514e-01,  -3.89744866e+00,  -4.62208986e-02,\n",
      "        -4.08259339e+01,  -3.80132285e+01,  -3.55786444e+01,\n",
      "        -1.87142575e+00,  -3.82668117e+01,  -6.21107864e+00,\n",
      "        -7.62628317e-02,  -3.73717581e+01,  -4.13443371e+01,\n",
      "        -4.14065987e+01,  -4.03517547e+01,  -5.63401341e+00,\n",
      "        -4.13989331e+01,  -4.12526131e+01,  -4.15387816e+01,\n",
      "        -2.53446198e+00,  -9.21968007e+00,  -7.16603005e+00,\n",
      "         3.71559262e+00,   1.13095555e+01,   2.13635206e-01,\n",
      "         1.34804606e-01,  -8.94504213e+00,   2.69931555e-02,\n",
      "         4.92913723e-02,  -4.69578254e+00,  -1.36231147e+01,\n",
      "        -2.84091234e-02,   9.41851139e-02,   1.10828876e-03,\n",
      "        -6.78671956e-01,  -2.05606520e+00,  -1.56368601e+00,\n",
      "         9.28075671e-01,   2.54720366e+00,   4.62589264e-02,\n",
      "         1.98817015e-01,  -1.97867882e+00,   2.25102901e-02,\n",
      "         4.98054028e-02,  -1.14581382e+00,  -2.98928761e+00,\n",
      "        -2.56861448e-02,   5.68155050e-02,   3.39738131e-02,\n",
      "         0.00000000e+00])\n",
      "     nit: 101\n",
      " \n",
      "*** Profile stats marshalled to file u'/var/folders/mj/1sl30v6x2g5_lnlgdnngtd3c0000gn/T/tmpVXX63_'. \n"
     ]
    }
   ],
   "source": [
    "%%snakeviz\n",
    "startSLSQP = timeit.default_timer()\n",
    "costFResultSLSQP = minimize(costF,initGuess,method=\"SLSQP\")\n",
    "stopSLSQP = timeit.default_timer()\n",
    "\n",
    "print stopSLSQP - startSLSQP\n",
    "\n",
    "print costFResultSLSQP"
   ]
  },
  {
   "cell_type": "code",
   "execution_count": 357,
   "metadata": {
    "collapsed": false
   },
   "outputs": [
    {
     "data": {
      "text/plain": [
       "array([ 0.08164624,  0.43012195,  1.45167192, -0.07429276,  3.81335331,\n",
       "        2.38620944, -2.71224165, -2.70947969,  0.01699589,  0.11788438,\n",
       "        0.53879474, -0.48002277, -1.16710793,  2.76399066,  3.99148753,\n",
       "       -0.7942903 , -0.96776519, -1.52651749, -0.70672809,  0.47898006,\n",
       "       -0.60192634, -0.26145079, -0.39436723, -1.11957685, -1.04926951,\n",
       "       -0.73935089,  0.15475872, -0.02159688, -0.78090796,  0.7786671 ,\n",
       "        4.14479404,  3.91192217, -0.05821563,  2.95515106, -2.97534003,\n",
       "        2.39186039,  4.20947383,  4.12070046,  3.44191178,  3.70526911,\n",
       "        3.6088506 ,  4.50961264,  4.5060854 ,  1.95191652, -1.66995103,\n",
       "        0.04085454,  0.04080483,  0.04064098,  0.04028499,  0.0395552 ,\n",
       "        0.0391922 ,  0.04026285,  0.04044502,  0.04103574,  0.04095955,\n",
       "        0.03960498,  0.03860272,  0.03897518,  0.03854319,  0.03880976,\n",
       "        1.11626868,  1.1163978 ,  1.11648663,  1.11689965,  1.11754447,\n",
       "        1.11782391,  1.11712936,  1.11676186,  1.1161053 ,  1.11591232,\n",
       "        1.11699546,  1.11883408,  1.11739341,  1.11782893,  1.11796942,\n",
       "        1.27722814,  1.27727156,  1.27722808,  1.27743072,  1.27777681,\n",
       "        1.27774276,  1.27716848,  1.27773639,  1.2775083 ,  1.27760181,\n",
       "        1.27812504,  1.2776926 ,  1.27731855,  1.27798985,  1.27785673,\n",
       "        0.28193268,  0.22394955,  0.50910094, -0.28052594, -0.71665059,\n",
       "       -0.85890969, -0.36008788,  0.85691474,  0.20346907,  0.30148026,\n",
       "        0.40076042,  1.12574479,  0.1239218 ,  0.36634503,  0.47530683,\n",
       "        0.53746121,  0.55507334, -0.0561914 ,  0.93026981,  1.32633938,\n",
       "        1.48688976,  0.9960002 , -0.0656644 , -0.02326163,  0.53236615,\n",
       "       -0.05003273, -1.35097867,  0.59339416,  0.54971193, -0.05394842,\n",
       "        0.34945521,  0.40529334, -0.27486153,  0.69697336,  0.85240323,\n",
       "        0.90121746,  0.72785756, -0.34579227, -0.12151065,  0.33353309,\n",
       "       -0.20529362, -0.4899922 ,  0.49938938,  0.25890199, -0.25275045,\n",
       "        1.93497165, -0.49624162, -1.11343412, -0.79244529,  0.26168455,\n",
       "       -0.07950562, -1.01396764,  1.23148098, -3.79319213,  1.81915976,\n",
       "        2.04759446,  2.35732433, -0.48323303,  2.18574702,  1.05335928,\n",
       "        1.04647637, -0.30113648,  0.68185114, -1.51024402,  1.14794094,\n",
       "       -2.031459  ,  0.5267151 , -1.42105302,  0.03503408,  2.07419152,\n",
       "       -2.98560593,  0.56376123,  0.20324881, -3.16043744, -0.28268481,\n",
       "        0.67129557,  0.98340562,  1.10495842, -1.08187153,  0.71143531,\n",
       "        1.00641127,  1.3779443 ,  1.24907556,  4.07846206, -0.05672324,\n",
       "       -1.12849825,  0.65275084,  2.26188071, -1.27657932,  0.83054535,\n",
       "        0.2588036 ,  0.24608702, -0.75456092, -0.72982   , -0.55716667,\n",
       "        1.58640756,  0.07165089, -0.64668595,  0.93488253,  0.01886016,\n",
       "        0.09797   ,  0.08648693,  0.09656545,  0.51343753, -0.89546123,\n",
       "        0.06572843,  0.02272025,  1.90780954,  0.6516082 ,  0.18686682,\n",
       "        1.81873823,  0.08120449,  0.29611869,  1.10309216,  0.08362529,\n",
       "       -0.47382854, -1.18269647, -1.18446265,  0.52085163,  2.02912583,\n",
       "        2.45173271,  2.40482508,  2.14518419,  2.02383132,  2.03453617,\n",
       "        3.1403203 ,  2.13770553,  2.02047071,  2.88377127,  2.13903718,\n",
       "        2.2316739 ,  2.00128229,  2.00178694,  2.66754944,  2.18065862,\n",
       "        0.01794374,  0.02181744,  0.02049011,  0.01251052,  0.02197842,\n",
       "        0.01995807,  0.00656902,  0.01189349,  0.0090748 ,  0.02599108,\n",
       "        0.03007696,  0.0226576 ,  0.03733317,  0.04087769,  0.02598223,\n",
       "        1.17616276,  1.17887195,  1.18183905,  1.18009086,  1.17429617,\n",
       "        1.17539642,  1.18104938,  1.18278032,  1.18039796,  1.17082484,\n",
       "        1.17286295,  1.17694132,  1.1741632 ,  1.16885357,  1.17712114,\n",
       "        0.20730535,  0.20786634,  0.20976758,  0.21188053,  0.20515441,\n",
       "        0.20633806,  0.21450691,  0.21352031,  0.21255771,  0.20309883,\n",
       "        0.20234292,  0.20594804,  0.20075143,  0.19736439,  0.20535713,\n",
       "        0.33463454,  2.13266304,  0.70421616, -0.63222005, -1.00145075,\n",
       "        1.12206873, -2.112301  ,  0.84806425, -0.07493559,  1.77382455,\n",
       "       -0.72514531,  1.48239605,  2.31723876, -2.80587536, -0.99264425,\n",
       "        0.32183008,  0.9043439 , -1.01953438, -0.90180183,  0.54856888,\n",
       "       -0.72332953,  1.0372559 ,  0.25518573,  2.59568389, -1.92749952,\n",
       "       -0.41341778,  1.30367154,  3.19617875,  0.45427493,  1.05324089,\n",
       "       -2.03532037, -2.20401617, -0.97420046, -0.04048604, -0.58050722,\n",
       "       -1.06476487, -0.93488916, -1.04910634, -1.71060504, -1.20250126,\n",
       "       -1.85710132, -0.84820603, -0.58739021, -0.69389071,  1.39511397,\n",
       "        0.92001047,  0.63412559,  0.30499273, -0.61011353, -0.84741964,\n",
       "       -0.00877132, -3.14845816,  0.52543488, -0.10511991, -0.30784235,\n",
       "        0.96604274,  0.65193517,  0.14565759, -0.19741674, -1.97342118,\n",
       "        0.7309869 ,  0.39315795,  0.27294941, -0.86281089,  0.46299996,\n",
       "       -0.15666974, -2.13422429,  0.35648891,  1.63584397,  2.0148407 ,\n",
       "        0.60284713, -0.61726929,  1.69102092,  1.37355512,  4.16499053,\n",
       "        0.78049507,  0.5536403 ,  0.51056015,  0.70253067,  0.32317   ,\n",
       "       -1.01328544, -1.11073895,  0.53543659, -0.04137674, -0.11397037,\n",
       "        0.7816894 ,  0.97427489,  0.17535379, -0.04378688,  0.02112969])"
      ]
     },
     "execution_count": 357,
     "metadata": {},
     "output_type": "execute_result"
    }
   ],
   "source": [
    "costFResultSLSQP.get('x')"
   ]
  },
  {
   "cell_type": "code",
   "execution_count": 358,
   "metadata": {
    "collapsed": false
   },
   "outputs": [],
   "source": [
    "np.savetxt('./assets/homogen/optimize_ResultSLSQP360.txt', costFResultSLSQP.get('x'), delimiter = ',')"
   ]
  },
  {
   "cell_type": "code",
   "execution_count": null,
   "metadata": {
    "collapsed": true
   },
   "outputs": [],
   "source": []
  },
  {
   "cell_type": "code",
   "execution_count": null,
   "metadata": {
    "collapsed": true
   },
   "outputs": [],
   "source": []
  },
  {
   "cell_type": "code",
   "execution_count": null,
   "metadata": {
    "collapsed": true
   },
   "outputs": [],
   "source": []
  },
  {
   "cell_type": "code",
   "execution_count": null,
   "metadata": {
    "collapsed": true
   },
   "outputs": [],
   "source": []
  },
  {
   "cell_type": "code",
   "execution_count": null,
   "metadata": {
    "collapsed": true
   },
   "outputs": [],
   "source": []
  },
  {
   "cell_type": "markdown",
   "metadata": {},
   "source": [
    "## Functions"
   ]
  },
  {
   "cell_type": "markdown",
   "metadata": {},
   "source": [
    "Find the solutions to each elements."
   ]
  },
  {
   "cell_type": "code",
   "execution_count": 359,
   "metadata": {
    "collapsed": true
   },
   "outputs": [],
   "source": [
    "# costFResultSLSQPx = np.genfromtxt('./assets/homogen/optimize_ResultSLSQP.txt', delimiter = ',')"
   ]
  },
  {
   "cell_type": "code",
   "execution_count": 360,
   "metadata": {
    "collapsed": false
   },
   "outputs": [
    {
     "name": "stdout",
     "output_type": "stream",
     "text": [
      "[ 1.          1.0115493   1.02113013  1.02879731  1.0346207   1.03868421\n",
      "  1.04108457  1.04192989  1.04133808  1.03943507  1.03635309  1.03222879\n",
      "  1.02720146  1.02141124  1.01499745  1.00809702  1.00084303  0.99336344\n",
      "  0.98577993  0.97820694  0.97075085  0.96350934  0.95657085  0.95001428\n",
      "  0.94390873  0.93831341  0.93327762  0.92884091  0.92503318  0.92187501\n",
      "  0.91937794  0.91754487  0.91637042  0.91584143  0.91593743  0.91663111\n",
      "  0.91788887  0.91967133  0.92193388  0.92462724  0.927698    0.93108917\n",
      "  0.93474075  0.9385903   0.94257345  0.94662451  0.95067695  0.95466399\n",
      "  0.95851909  0.96217651  0.96557178  0.9686422   0.97132737  0.97356958\n",
      "  0.97531433  0.97651071  0.97711181  0.97707514  0.97636297  0.97494266\n",
      "  0.97278696  0.96987434  0.96618917  0.96172199  0.95646969  0.95043563\n",
      "  0.94362982  0.93606896  0.9277765   0.91878269  0.90912453  0.89884575\n",
      "  0.8879967   0.87663427  0.86482172  0.85262853  0.84013019  0.82740794\n",
      "  0.81454858  0.80164414  0.78879162  0.77609265  0.76365318  0.75158311\n",
      "  0.73999596  0.72900849  0.71874035  0.70931366  0.70085267  0.69348339\n",
      "  0.68733315  0.68253033  0.67920388  0.67748307  0.67749706  0.67937461\n",
      "  0.68324373  0.68923139  0.69746318  0.70806306]\n",
      "[  0.00000000e+00   4.28495718e-03   5.43052114e-03   4.61955699e-03\n",
      "   2.91061834e-03   1.20961454e-03   2.55444248e-04   6.17515461e-04\n",
      "   2.70262262e-03   6.76858410e-03   1.29422384e-02   2.12397432e-02\n",
      "   3.15875296e-02   4.38426760e-02   5.78118371e-02   7.32681820e-02\n",
      "   8.99660529e-02   1.07653246e-01   1.26080966e-01   1.45011583e-01\n",
      "   1.64224421e-01   1.83519777e-01   2.02721450e-01   2.21678008e-01\n",
      "   2.40263024e-01   2.58374504e-01   2.75933689e-01   2.92883406e-01\n",
      "   3.09186112e-01   3.24821742e-01   3.39785489e-01   3.54085556e-01\n",
      "   3.67740993e-01   3.80779620e-01   3.93236108e-01   4.05150219e-01\n",
      "   4.16565234e-01   4.27526557e-01   4.38080516e-01   4.48273340e-01\n",
      "   4.58150307e-01   4.67755054e-01   4.77129033e-01   4.86311095e-01\n",
      "   4.95337199e-01   5.04240214e-01   5.13049812e-01   5.21792434e-01\n",
      "   5.30491321e-01   5.39166585e-01   5.47835330e-01   5.56511798e-01\n",
      "   5.65207532e-01   5.73931567e-01   5.82690614e-01   5.91489262e-01\n",
      "   6.00330173e-01   6.09214275e-01   6.18140953e-01   6.27108224e-01\n",
      "   6.36112914e-01   6.45150819e-01   6.54216854e-01   6.63305191e-01\n",
      "   6.72409395e-01   6.81522536e-01   6.90637298e-01   6.99746075e-01\n",
      "   7.08841063e-01   7.17914330e-01   7.26957893e-01   7.35963771e-01\n",
      "   7.44924046e-01   7.53830905e-01   7.62676678e-01   7.71453879e-01\n",
      "   7.80155227e-01   7.88773674e-01   7.97302424e-01   8.05734949e-01\n",
      "   8.14065001e-01   8.22286619e-01   8.30394138e-01   8.38382192e-01\n",
      "   8.46245716e-01   8.53979946e-01   8.61580417e-01   8.69042959e-01\n",
      "   8.76363696e-01   8.83539038e-01   8.90565675e-01   8.97440573e-01\n",
      "   9.04160964e-01   9.10724338e-01   9.17128438e-01   9.23371250e-01\n",
      "   9.29450991e-01   9.35366109e-01   9.41115263e-01   9.46697326e-01]\n",
      "----------------------------------------\n",
      "[ 1.          1.02431471  1.04758265  1.06988375  1.0912914   1.11187214\n",
      "  1.13168577  1.15078535  1.16921761  1.18702317  1.20423705  1.22088905\n",
      "  1.23700427  1.25260357  1.26770405  1.28231952  1.29646095  1.31013689\n",
      "  1.32335391  1.33611692  1.34842957  1.36029456  1.37171395  1.38268939\n",
      "  1.3932224   1.40331459  1.41296782  1.42218436  1.43096708  1.43931951\n",
      "  1.44724594  1.4547515   1.46184222  1.46852501  1.4748077   1.48069902\n",
      "  1.48620857  1.49134676  1.49612478  1.5005545   1.50464841  1.50841954\n",
      "  1.51188135  1.51504766  1.51793251  1.5205501   1.52291471  1.52504055\n",
      "  1.52694171  1.52863211  1.53012533  1.53143465  1.53257292  1.53355251\n",
      "  1.53438531  1.53508264  1.53565525  1.53611331  1.53646635  1.5367233\n",
      "  1.53689247  1.53698154  1.53699761  1.53694717  1.53683612  1.53666984\n",
      "  1.53645316  1.5361904   1.53588541  1.5355416   1.53516193  1.53474901\n",
      "  1.53430505  1.53383196  1.53333131  1.53280442  1.53225236  1.53167596\n",
      "  1.53107586  1.53045253  1.52980627  1.52913727  1.52844558  1.52773117\n",
      "  1.52699393  1.52623369  1.52545021  1.52464325  1.52381251  1.52295769\n",
      "  1.52207849  1.52117461  1.52024575  1.51929166  1.51831207  1.51730678\n",
      "  1.5162756   1.51521838  1.51413501  1.51302544]\n",
      "[ 0.         -0.01195821 -0.0276147  -0.04684526 -0.06917698 -0.09389466\n",
      " -0.12015751 -0.14710571 -0.1739432  -0.19999138 -0.224715   -0.2477259\n",
      " -0.26877163 -0.28771558 -0.30451384 -0.31919242 -0.33182684 -0.34252507\n",
      " -0.35141412 -0.35862982 -0.36430957 -0.36858727 -0.3715902  -0.37343719\n",
      " -0.3742377  -0.3740917  -0.37308994 -0.37131446 -0.36883935 -0.36573148\n",
      " -0.36205128 -0.35785353 -0.35318801 -0.34810015 -0.34263159 -0.33682067\n",
      " -0.33070282 -0.32431096 -0.31767575 -0.31082588 -0.30378827 -0.29658819\n",
      " -0.28924946 -0.28179453 -0.27424455 -0.26661946 -0.25893805 -0.251218\n",
      " -0.24347592 -0.23572735 -0.22798684 -0.22026794 -0.21258321 -0.20494428\n",
      " -0.19736184 -0.18984568 -0.1824047  -0.17504693 -0.16777959 -0.16060907\n",
      " -0.15354098 -0.14658019 -0.13973083 -0.13299636 -0.12637957 -0.11988262\n",
      " -0.11350709 -0.10725399 -0.1011238  -0.09511652 -0.0892317  -0.08346843\n",
      " -0.07782543 -0.07230107 -0.06689336 -0.06160003 -0.05641854 -0.05134609\n",
      " -0.04637968 -0.04151612 -0.03675205 -0.03208397 -0.02750826 -0.02302122\n",
      " -0.01861904 -0.01429788 -0.01005385 -0.00588304 -0.00178153  0.0022546\n",
      "  0.00622925  0.01014629  0.01400953  0.01782276  0.0215897   0.02531398\n",
      "  0.02899917  0.03264878  0.03626619  0.03985472]\n"
     ]
    }
   ],
   "source": [
    "## The first element of neutrino density matrix\n",
    "xresult = np.split(costFResultSLSQP.get('x'),2)[0]\n",
    "xresultb = np.split(costFResultSLSQP.get('x'),2)[1]\n",
    "#xresult = np.split(costFResultSLSQPx,2)[0]\n",
    "#xresultb = np.split(costFResultSLSQPx,2)[1]\n",
    "## print xresult11\n",
    "\n",
    "plttlin=np.linspace(0,5,100)\n",
    "\n",
    "pltdata11 = np.array([])\n",
    "pltdata22 = np.array([])\n",
    "\n",
    "for i in plttlin:\n",
    "    pltdata11 = np.append(pltdata11 ,rho(xresult,i,init)[0,0] )\n",
    "    \n",
    "print pltdata11\n",
    "\n",
    "for i in plttlin:\n",
    "    pltdata22 = np.append(pltdata22 ,rho(xresult,i,init)[1,1] )\n",
    "    \n",
    "print pltdata22\n",
    "\n",
    "print \"----------------------------------------\"\n",
    "\n",
    "pltdatab11 = np.array([])\n",
    "pltdatab22 = np.array([])\n",
    "\n",
    "for i in plttlin:\n",
    "    pltdatab11 = np.append(pltdatab11 ,rho(xresultb,i,init)[0,0] )\n",
    "    \n",
    "print pltdatab11\n",
    "\n",
    "for i in plttlin:\n",
    "    pltdatab22 = np.append(pltdatab22 ,rho(xresultb,i,init)[1,1] )\n",
    "    \n",
    "print pltdatab22"
   ]
  },
  {
   "cell_type": "code",
   "execution_count": 361,
   "metadata": {
    "collapsed": true
   },
   "outputs": [],
   "source": [
    "#np.savetxt('./assets/homogen/optimize_pltdatar11.txt', pltdata11, delimiter = ',')\n",
    "#np.savetxt('./assets/homogen/optimize_pltdatar22.txt', pltdata22, delimiter = ',')"
   ]
  },
  {
   "cell_type": "code",
   "execution_count": 362,
   "metadata": {
    "collapsed": false
   },
   "outputs": [
    {
     "data": {
      "text/html": [
       "<iframe id=\"igraph\" scrolling=\"no\" style=\"border:none;\"seamless=\"seamless\" src=\"https://plot.ly/~emptymalei/140.embed\" height=\"525\" width=\"100%\"></iframe>"
      ],
      "text/plain": [
       "<plotly.tools.PlotlyDisplay object>"
      ]
     },
     "execution_count": 362,
     "metadata": {},
     "output_type": "execute_result"
    }
   ],
   "source": [
    "plt.figure(figsize=(20,12.36))\n",
    "plt.ylabel('Time')\n",
    "plt.xlabel('rho11')\n",
    "plt.plot(plttlin,pltdata11,\"b4-\",label=\"rho11\")\n",
    "py.iplot_mpl(plt.gcf(),filename=\"HG-rho11\")\n",
    "\n",
    "\n",
    "# tls.embed(\"https://plot.ly/~emptymalei/73/\")"
   ]
  },
  {
   "cell_type": "code",
   "execution_count": 363,
   "metadata": {
    "collapsed": false
   },
   "outputs": [
    {
     "data": {
      "text/html": [
       "<iframe id=\"igraph\" scrolling=\"no\" style=\"border:none;\"seamless=\"seamless\" src=\"https://plot.ly/~emptymalei/141.embed\" height=\"525\" width=\"100%\"></iframe>"
      ],
      "text/plain": [
       "<plotly.tools.PlotlyDisplay object>"
      ]
     },
     "execution_count": 363,
     "metadata": {},
     "output_type": "execute_result"
    }
   ],
   "source": [
    "plt.figure(figsize=(20,12.36))\n",
    "plt.ylabel('Time')\n",
    "plt.xlabel('rho22')\n",
    "plt.plot(plttlin,pltdata22,\"r4-\",label=\"rho22\")\n",
    "py.iplot_mpl(plt.gcf(),filename=\"HG-rho22\")"
   ]
  },
  {
   "cell_type": "code",
   "execution_count": 364,
   "metadata": {
    "collapsed": false
   },
   "outputs": [
    {
     "data": {
      "text/html": [
       "<iframe id=\"igraph\" scrolling=\"no\" style=\"border:none;\"seamless=\"seamless\" src=\"https://plot.ly/~emptymalei/143.embed\" height=\"525\" width=\"100%\"></iframe>"
      ],
      "text/plain": [
       "<plotly.tools.PlotlyDisplay object>"
      ]
     },
     "execution_count": 364,
     "metadata": {},
     "output_type": "execute_result"
    }
   ],
   "source": [
    "plt.figure(figsize=(20,12.36))\n",
    "plt.ylabel('Time')\n",
    "plt.xlabel('rhob11')\n",
    "plt.plot(plttlin,pltdatab11,\"b*-\",label=\"rhob11\")\n",
    "py.iplot_mpl(plt.gcf(),filename=\"HG-rhob11\")\n"
   ]
  },
  {
   "cell_type": "code",
   "execution_count": 365,
   "metadata": {
    "collapsed": false,
    "scrolled": false
   },
   "outputs": [
    {
     "data": {
      "text/html": [
       "<iframe id=\"igraph\" scrolling=\"no\" style=\"border:none;\"seamless=\"seamless\" src=\"https://plot.ly/~emptymalei/142.embed\" height=\"525\" width=\"100%\"></iframe>"
      ],
      "text/plain": [
       "<plotly.tools.PlotlyDisplay object>"
      ]
     },
     "execution_count": 365,
     "metadata": {},
     "output_type": "execute_result"
    }
   ],
   "source": [
    "plt.figure(figsize=(20,12.36))\n",
    "plt.ylabel('Time')\n",
    "plt.xlabel('rhob22')\n",
    "plt.plot(plttlin,pltdatab11,\"b*-\",label=\"rhob22\")\n",
    "py.iplot_mpl(plt.gcf(),filename=\"HG-rhob22\")\n"
   ]
  },
  {
   "cell_type": "code",
   "execution_count": 366,
   "metadata": {
    "collapsed": false,
    "scrolled": false
   },
   "outputs": [
    {
     "data": {
      "text/html": [
       "<iframe id=\"igraph\" scrolling=\"no\" style=\"border:none;\"seamless=\"seamless\" src=\"https://plot.ly/~emptymalei/144.embed\" height=\"525\" width=\"100%\"></iframe>"
      ],
      "text/plain": [
       "<plotly.tools.PlotlyDisplay object>"
      ]
     },
     "execution_count": 366,
     "metadata": {},
     "output_type": "execute_result"
    }
   ],
   "source": [
    "MMA_optmize_pltdata = np.genfromtxt('./assets/homogen/MMA_optmize_pltdata.txt', delimiter = ',')\n",
    "\n",
    "plt.figure(figsize=(20,12.36))\n",
    "plt.ylabel('MMArho11')\n",
    "plt.xlabel('Time')\n",
    "plt.plot(np.linspace(0,5,501),MMA_optmize_pltdata,\"r-\",label=\"MMArho11\")\n",
    "plt.plot(plttlin,pltdata11,\"b4-\",label=\"rho11\")\n",
    "py.iplot_mpl(plt.gcf(),filename=\"MMA-rho11\")"
   ]
  },
  {
   "cell_type": "code",
   "execution_count": null,
   "metadata": {
    "collapsed": true
   },
   "outputs": [],
   "source": []
  },
  {
   "cell_type": "code",
   "execution_count": null,
   "metadata": {
    "collapsed": true
   },
   "outputs": [],
   "source": []
  },
  {
   "cell_type": "markdown",
   "metadata": {},
   "source": [
    "## Practice"
   ]
  },
  {
   "cell_type": "code",
   "execution_count": 367,
   "metadata": {
    "collapsed": false
   },
   "outputs": [
    {
     "name": "stdout",
     "output_type": "stream",
     "text": [
      "[[0 1]\n",
      " [2 3]]\n"
     ]
    },
    {
     "data": {
      "text/plain": [
       "1"
      ]
     },
     "execution_count": 367,
     "metadata": {},
     "output_type": "execute_result"
    }
   ],
   "source": [
    "xtemp1 = np.arange(4)\n",
    "xtemp1.shape = (2,2)\n",
    "print xtemp1\n",
    "xtemp1[0,1]\n",
    "np.dot(xtemp1,xtemp1)\n",
    "xtemp1[0,1]"
   ]
  },
  {
   "cell_type": "code",
   "execution_count": null,
   "metadata": {
    "collapsed": true
   },
   "outputs": [],
   "source": []
  }
 ],
 "metadata": {
  "kernelspec": {
   "display_name": "Python 2",
   "language": "python",
   "name": "python2"
  },
  "language_info": {
   "codemirror_mode": {
    "name": "ipython",
    "version": 2
   },
   "file_extension": ".py",
   "mimetype": "text/x-python",
   "name": "python",
   "nbconvert_exporter": "python",
   "pygments_lexer": "ipython2",
   "version": "2.7.6"
  }
 },
 "nbformat": 4,
 "nbformat_minor": 0
}
