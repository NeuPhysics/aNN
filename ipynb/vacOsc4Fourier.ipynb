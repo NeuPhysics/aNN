{
 "cells": [
  {
   "cell_type": "markdown",
   "metadata": {},
   "source": [
    "Here is a test of another parameterization, a simple piecewise function."
   ]
  },
  {
   "cell_type": "code",
   "execution_count": 1,
   "metadata": {
    "collapsed": true
   },
   "outputs": [],
   "source": [
    "# Routine\n",
    "\n",
    "# This line configures matplotlib to show figures embedded in the notebook, \n",
    "# instead of opening a new window for each figure. More about that later. \n",
    "# If you are using an old version of IPython, try using '%pylab inline' instead.\n",
    "%matplotlib inline\n",
    "%load_ext snakeviz\n",
    "\n",
    "import numpy as np\n",
    "from scipy.optimize import minimize\n",
    "from scipy.optimize import rosen, differential_evolution\n",
    "from scipy.special import expit\n",
    "import matplotlib.pyplot as plt\n",
    "import scipy\n",
    "\n",
    "from matplotlib.lines import Line2D\n",
    "\n",
    "import timeit\n",
    "\n",
    "import pandas as pd\n",
    "\n",
    "import plotly.plotly as py\n",
    "from plotly.graph_objs import *\n",
    "import plotly.tools as tls"
   ]
  },
  {
   "cell_type": "code",
   "execution_count": 2,
   "metadata": {
    "collapsed": false
   },
   "outputs": [],
   "source": [
    "# For test use. This is some random structure.\n",
    "\n",
    "array8 = np.asarray(np.split(np.random.rand(1,40)[0],8))\n",
    "array8zero = np.asarray(np.split(np.zeros(40),8))"
   ]
  },
  {
   "cell_type": "code",
   "execution_count": 20,
   "metadata": {
    "collapsed": true
   },
   "outputs": [],
   "source": [
    "# Density matrix in the forms that I wrote down on my Neutrino Physics notebook\n",
    "# x is a real array of 8 lenghth mmax arrays. x[i] is for A_m\\sin(m x) while x[i+4] is for B_m \\cos(m x)\n",
    "\n",
    "init = np.array([1.0,0.0,0.0,0.0])\n",
    "\n",
    "def rho(x,ti):\n",
    "    \n",
    "    elem = np.zeros(4)\n",
    "    \n",
    "    for i in np.linspace(0,3,4):\n",
    "        elem[i] = np.sum( x[i]*np.sin(x[i]*ti)  + x[i+4]*np.cos(x[i+4]*ti)  )\n",
    "\n",
    "    return elem\n",
    "    "
   ]
  },
  {
   "cell_type": "code",
   "execution_count": 4,
   "metadata": {
    "collapsed": false
   },
   "outputs": [
    {
     "data": {
      "text/plain": [
       "array([ 2.20952767,  3.05834199,  2.74872491,  3.47114563])"
      ]
     },
     "execution_count": 4,
     "metadata": {},
     "output_type": "execute_result"
    }
   ],
   "source": [
    "rho(array8,0.3)"
   ]
  },
  {
   "cell_type": "code",
   "execution_count": 39,
   "metadata": {
    "collapsed": true
   },
   "outputs": [],
   "source": [
    "def rhop(x,ti,length):\n",
    "    rhoprime = np.zeros(4)\n",
    "#    mlen = len(x[0])\n",
    "    mlen = length\n",
    "    marray = np.linspace(0,mlen-1,mlen)\n",
    "    \n",
    "    for i in np.linspace(0,3,4):\n",
    "        rhoprime[i] = np.sum(  ( x[i]*np.cos(x[i]*ti) - x[i+4]*np.sin(x[i+4]*ti) )*marray )\n",
    "        \n",
    "    return rhoprime"
   ]
  },
  {
   "cell_type": "code",
   "execution_count": 40,
   "metadata": {
    "collapsed": false
   },
   "outputs": [
    {
     "data": {
      "text/plain": [
       "array([ 2.77173221,  3.03459901,  4.24083388,  3.28080818])"
      ]
     },
     "execution_count": 40,
     "metadata": {},
     "output_type": "execute_result"
    }
   ],
   "source": [
    "rhop(array8,0.3,5)"
   ]
  },
  {
   "cell_type": "code",
   "execution_count": 17,
   "metadata": {
    "collapsed": false
   },
   "outputs": [],
   "source": [
    "tri = np.array([np.cos(2.0),np.sin(2.0)])"
   ]
  },
  {
   "cell_type": "code",
   "execution_count": 63,
   "metadata": {
    "collapsed": false
   },
   "outputs": [],
   "source": [
    "def costi0(x,ti,initialCondition):\n",
    "    \n",
    "    costTemp = np.zeros(4)\n",
    "    \n",
    "    for i in np.linspace(0,3,4):\n",
    "        costTemp[i] = (np.sum( x[i+4] ) - initialCondition[i])**2\n",
    "    \n",
    "    return np.sum(costTemp)\n",
    "\n",
    "\n",
    "def costi(x,ti,initialCondition,length):\n",
    "    \n",
    "    rhoi = rho(x,ti)\n",
    "    rhopi = rhop(x,ti,length)\n",
    "    \n",
    "    costTemp = np.zeros(4)\n",
    "    \n",
    "    costTemp[0] = ( rhopi[0] - 2.0*rhoi[3]*tri[1] )**2\n",
    "    costTemp[1] = ( rhopi[1] + 2.0*rhoi[3]*tri[1] )**2\n",
    "    costTemp[2] = ( rhopi[2] - 2.0*rhoi[3]*tri[0] )**2\n",
    "    costTemp[3] = ( rhopi[3] + 2.0*rhoi[2]*tri[0] - tri[1] * (rhoi[1] - rhoi[0] ) )**2\n",
    "    \n",
    "    return np.sum(costTemp) + costi0(x,ti,initialCondition)\n",
    "\n"
   ]
  },
  {
   "cell_type": "code",
   "execution_count": 64,
   "metadata": {
    "collapsed": false
   },
   "outputs": [
    {
     "data": {
      "text/plain": [
       "174.12007225567433"
      ]
     },
     "execution_count": 64,
     "metadata": {},
     "output_type": "execute_result"
    }
   ],
   "source": [
    "costi(array8,0,init,5)"
   ]
  },
  {
   "cell_type": "code",
   "execution_count": 65,
   "metadata": {
    "collapsed": true
   },
   "outputs": [],
   "source": [
    "def cost(x,t,initialCondition,length):\n",
    "    \n",
    "    costTotal = map(lambda t: costi(x,t,initialCondition,length),t)\n",
    "    \n",
    "    return 0.5*np.sum(costTotal)"
   ]
  },
  {
   "cell_type": "code",
   "execution_count": 66,
   "metadata": {
    "collapsed": false
   },
   "outputs": [
    {
     "data": {
      "text/plain": [
       "237.2836413889969"
      ]
     },
     "execution_count": 66,
     "metadata": {},
     "output_type": "execute_result"
    }
   ],
   "source": [
    "cost(array8,np.array([0,1,2]),init,5)"
   ]
  },
  {
   "cell_type": "markdown",
   "metadata": {},
   "source": [
    "## Numpy OPTIMIZATION"
   ]
  },
  {
   "cell_type": "code",
   "execution_count": 67,
   "metadata": {
    "collapsed": false
   },
   "outputs": [
    {
     "name": "stdout",
     "output_type": "stream",
     "text": [
      "6.31389713287\n",
      "  status: 0\n",
      " success: True\n",
      "    njev: 36\n",
      "    nfev: 1537\n",
      "     fun: 3.8352251361253469\n",
      "       x: array([  4.68854744e-02,   3.25283243e-04,   1.49396412e-04,\n",
      "        -1.91467039e-02,   2.19321333e-01,   1.20106659e-03,\n",
      "         1.09584008e-03,  -2.14742587e-03,   7.45231406e-01,\n",
      "         8.33897339e-01,   4.52807397e-01,   9.70563195e-01,\n",
      "         5.17681010e-01,   4.66866668e-01,   1.49499579e-01,\n",
      "         4.79070508e-02,   2.90993450e-01,   2.99525159e-01,\n",
      "         7.32258458e-01,   3.23154186e-01,   9.22672325e-01,\n",
      "         6.51670535e-01,   9.17555199e-02,   6.63286851e-01,\n",
      "         5.66183721e-02,   5.94078359e-01,   1.47172472e-02,\n",
      "         1.47523048e-01,   8.00476620e-01,   4.82298357e-01,\n",
      "         9.74052238e-01,   4.23114706e-01,   6.94935985e-01,\n",
      "         5.00782811e-01,   4.99306733e-01,   5.94940666e-01,\n",
      "         1.36722491e-01,   2.56936175e-01,   9.80723234e-01,\n",
      "         4.32729219e-01])\n",
      " message: 'Optimization terminated successfully.'\n",
      "     jac: array([  9.47713852e-06,  -1.15633011e-05,  -1.50799751e-05,\n",
      "         1.95205212e-05,   8.04662704e-07,   1.26361847e-05,\n",
      "         7.77840614e-06,  -2.89082527e-05,   0.00000000e+00,\n",
      "         0.00000000e+00,   0.00000000e+00,   0.00000000e+00,\n",
      "         0.00000000e+00,   0.00000000e+00,   0.00000000e+00,\n",
      "         0.00000000e+00,   0.00000000e+00,   0.00000000e+00,\n",
      "         0.00000000e+00,   0.00000000e+00,   0.00000000e+00,\n",
      "         0.00000000e+00,   0.00000000e+00,   0.00000000e+00,\n",
      "         0.00000000e+00,   0.00000000e+00,   0.00000000e+00,\n",
      "         0.00000000e+00,   0.00000000e+00,   0.00000000e+00,\n",
      "         0.00000000e+00,   0.00000000e+00,   0.00000000e+00,\n",
      "         0.00000000e+00,   0.00000000e+00,   0.00000000e+00,\n",
      "         0.00000000e+00,   0.00000000e+00,   0.00000000e+00,\n",
      "         0.00000000e+00,   0.00000000e+00])\n",
      "     nit: 36\n"
     ]
    }
   ],
   "source": [
    "# initial guess\n",
    "\n",
    "initGuess = np.array(np.split(np.random.rand(1,40)[0],8))\n",
    "\n",
    "endpoint = 2\n",
    "tlin = np.linspace(0,endpoint,11)\n",
    "lengthx = len(initGuess[0])\n",
    "\n",
    "costF = lambda x: cost(x,tlin,init,lengthx)\n",
    "\n",
    "start = timeit.default_timer()\n",
    "costvFResult = minimize(costF,initGuess,method=\"SLSQP\",tol=1e-10)\n",
    "stop = timeit.default_timer()\n",
    "\n",
    "print stop - start\n",
    "\n",
    "print costvFResult"
   ]
  },
  {
   "cell_type": "code",
   "execution_count": 68,
   "metadata": {
    "collapsed": false
   },
   "outputs": [
    {
     "name": "stdout",
     "output_type": "stream",
     "text": [
      "15.707957983\n",
      "  status: 0\n",
      "    nfev: 3875\n",
      " success: True\n",
      "     fun: 3.8352251360888792\n",
      "       x: array([  4.68858500e-02,   3.24922536e-04,   1.49244334e-04,\n",
      "        -1.91468980e-02,   2.19321336e-01,   1.19985585e-03,\n",
      "         1.09508306e-03,  -2.14536934e-03,   1.04004220e+00,\n",
      "         3.14208998e-01,   5.55516345e-01,   1.07122139e+00,\n",
      "         5.96309864e-01,   6.34823086e-01,   1.74143095e-01,\n",
      "         7.42541014e-02,   4.01039087e-01,   3.57898140e-01,\n",
      "         7.81564845e-01,   3.26117324e-01,   6.34567956e-01,\n",
      "         9.59764144e-01,   1.31324992e-01,   6.94483350e-01,\n",
      "         5.50681517e-02,   2.15670965e-01,   1.27432770e-02,\n",
      "        -2.14318652e-02,   8.68347535e-01,   9.09060849e-01,\n",
      "         2.97815292e-01,   4.82566933e-01,   5.24124894e-01,\n",
      "         5.00776810e-01,   3.01350709e-01,   5.81698086e-01,\n",
      "         5.48566256e-02,   3.73526516e-01,   8.00867102e-01,\n",
      "         4.80785382e-01])\n",
      " message: 'Optimization terminated successfully.'\n",
      "     nit: 1632\n"
     ]
    }
   ],
   "source": [
    "xmid = costvFResult.x\n",
    "\n",
    "start = timeit.default_timer()\n",
    "#costvFResult = minimize(costF,xmid,method=\"SLSQP\",tol=1e-30,options={\"ftol\":1e-30,\"maxiter\":100000})\n",
    "costvFResult = minimize(costF,xmid,method='Nelder-Mead',tol=1e-15,options={\"ftol\":1e-15, \"maxfev\": 1000000,\"maxiter\":1000000})\n",
    "stop = timeit.default_timer()\n",
    "\n",
    "print stop - start\n",
    "\n",
    "print costvFResult"
   ]
  },
  {
   "cell_type": "code",
   "execution_count": 69,
   "metadata": {
    "collapsed": false
   },
   "outputs": [],
   "source": [
    "plttlin=np.linspace(0,endpoint,100)\n",
    "xresult = costvFResult.x\n",
    "\n",
    "pltdata11 = np.array([])\n",
    "for i in plttlin:\n",
    "    pltdata11 = np.append(pltdata11,rho(xresult,i)[0] )"
   ]
  },
  {
   "cell_type": "code",
   "execution_count": 70,
   "metadata": {
    "collapsed": false
   },
   "outputs": [
    {
     "data": {
      "image/png": "[encoded data removed]",
      "text/plain": [
       "<matplotlib.figure.Figure at 0x107b5ff50>"
      ]
     },
     "metadata": {},
     "output_type": "display_data"
    }
   ],
   "source": [
    "plt.figure(figsize = (16,9.36))\n",
    "plt.plot(np.linspace(0,2,10),1-(np.sin(2.0)**2)*(np.sin(0.5*np.linspace(0,2,10)) )**2,\"r-\")\n",
    "plt.plot(plttlin,pltdata11)\n",
    "plt.show()"
   ]
  },
  {
   "cell_type": "code",
   "execution_count": null,
   "metadata": {
    "collapsed": true
   },
   "outputs": [],
   "source": []
  }
 ],
 "metadata": {
  "kernelspec": {
   "display_name": "Python 2",
   "language": "python",
   "name": "python2"
  },
  "language_info": {
   "codemirror_mode": {
    "name": "ipython",
    "version": 2
   },
   "file_extension": ".py",
   "mimetype": "text/x-python",
   "name": "python",
   "nbconvert_exporter": "python",
   "pygments_lexer": "ipython2",
   "version": "2.7.6"
  }
 },
 "nbformat": 4,
 "nbformat_minor": 0
}
