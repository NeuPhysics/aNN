{
 "metadata": {
  "name": ""
 },
 "nbformat": 3,
 "nbformat_minor": 0,
 "worksheets": [
  {
   "cells": [
    {
     "cell_type": "markdown",
     "metadata": {},
     "source": [
      "## Artificial Neural Network Test"
     ]
    },
    {
     "cell_type": "markdown",
     "metadata": {},
     "source": [
      "### Docs - Example"
     ]
    },
    {
     "cell_type": "markdown",
     "metadata": {},
     "source": [
      "The problem to solve is the differential equation $$\\frac{d}{dt}y(t)= - y(t).$$ Using the network, this is $$y_i= 1+t_i v_k f(t_i w_k+u_k).$$"
     ]
    },
    {
     "cell_type": "markdown",
     "metadata": {},
     "source": [
      "The procedures are\n",
      "\n",
      "**Deal with the function first.**\n",
      "   \n",
      "1. The cost is $$I=\\sum_i\\left( \\frac{dy_i}{dt}+y_i \\right)^2.$$ Our purpose is to minimize this cost.\n",
      "   \n",
      "2. To calculate the differential of y, we can write down the explicit expression for it. $$\\frac{dy}{dt} = v_k f(t w_k+u_k) + t v_k f(tw_k+u_k) (1-f(tw_k+u_k))w_k,$$ where the function f is defined as a trigf().\n",
      "\n",
      "3. So the cost becomse $$I = \\sum_i \\left(  v_k f(t w_k+u_k) + t v_k f(tw_k+u_k) (1-f(tw_k+u_k)) w_k + y \\right)^2.$$"
     ]
    },
    {
     "cell_type": "markdown",
     "metadata": {},
     "source": [
      "### General Functions"
     ]
    },
    {
     "cell_type": "markdown",
     "metadata": {},
     "source": [
      "Import Modules used in this notebook"
     ]
    },
    {
     "cell_type": "code",
     "collapsed": false,
     "input": [
      "# This line configures matplotlib to show figures embedded in the notebook, \n",
      "# instead of opening a new window for each figure. More about that later. \n",
      "# If you are using an old version of IPython, try using '%pylab inline' instead.\n",
      "%matplotlib inline\n",
      "%load_ext snakeviz\n",
      "\n",
      "import numpy as np\n",
      "from scipy.optimize import minimize\n",
      "from scipy.special import expit\n",
      "import matplotlib.pyplot as plt\n",
      "\n",
      "from matplotlib.lines import Line2D\n",
      "\n",
      "import timeit"
     ],
     "language": "python",
     "metadata": {},
     "outputs": [
      {
       "output_type": "stream",
       "stream": "stdout",
       "text": [
        "The snakeviz extension is already loaded. To reload it, use:\n",
        "  %reload_ext snakeviz\n"
       ]
      }
     ],
     "prompt_number": 195
    },
    {
     "cell_type": "markdown",
     "metadata": {},
     "source": [
      "Define the general part of cost function"
     ]
    },
    {
     "cell_type": "markdown",
     "metadata": {},
     "source": [
      "For an first order ODE, $$ L \\equiv \\frac{d}{dt}y + f(t) =0 ,$$ in which $y(t)$ is the function to be solved.\n",
      "The cost is defined as $$I = \\sum_{i} I_i^2  = I_i * I_i,$$ where \n",
      "$$ I_{i} = \\left( \\frac{d}{dt}y + f(t) \\right) $$"
     ]
    },
    {
     "cell_type": "markdown",
     "metadata": {},
     "source": [
      "Using the following function"
     ]
    },
    {
     "cell_type": "code",
     "collapsed": false,
     "input": [
      "def trigf(x):\n",
      "    #return 1/(1+np.exp(-x)) # It's not bad to define this function here for people could use other functions other than expit(x).\n",
      "    return expit(x)"
     ],
     "language": "python",
     "metadata": {},
     "outputs": [],
     "prompt_number": 196
    },
    {
     "cell_type": "code",
     "collapsed": false,
     "input": [
      "## Very important notes\n",
      "## fOft(x,ti) should be specified, here ti is a scalar value not a list. and it should return a value.\n",
      "## Here I use t as the variables list and ti as the variable.\n",
      "\n",
      "\n",
      "\n",
      "def costODE(x,t,initialCondition,fOfArg):   # x is a list of the order v,w,u. x will be splited to three equal parts.\n",
      "    # initialCondition can only be constants.\n",
      "\n",
      "    t = np.array(t)\n",
      "    \n",
      "    costODETotal = np.sum( costODETList(x,t,initialCondition,fOfArg)  )\n",
      "        \n",
      "    return costODETotal\n",
      "    \n",
      "\n",
      "def costODETList(x,t,initialCondition,fOfArg):  ## This is the function WITHOUT the square!!! \n",
      "    \n",
      "    v,w,u = np.split(x,3)[:3]\n",
      "    \n",
      "    t = np.array(t)\n",
      "    \n",
      "    costList = np.asarray([])\n",
      "    \n",
      "    for temp in t:\n",
      "        tempElement = costODETi(x,temp,initialCondition,fOfArg)\n",
      "        costList = np.append(costList, tempElement)\n",
      "        \n",
      "    return np.array(costList)\n",
      "\n",
      "    \n",
      "\n",
      "def costODETi(x,ti,initialCondition,fOfArg):  # function for each t. here t is a single value \n",
      "    # fOfArg is the function f(t) in the example\n",
      "\n",
      "    v,w,u = np.split(x,3)[:3]\n",
      "    \n",
      "    args = np.array([x,ti,initialCondition])\n",
      "    \n",
      "    fvec = np.array(trigf(ti*w + u) )  # This is a vector!!!\n",
      "    ft = fOfArg(args)  ## fOft should be specified in a problem!!!!!!!!!!!! And it takes a whole array of all the arguments\n",
      "    # For a given t, this calculates the value of y(t), given the parameters, v, w, u.  Notice this initialCondition.\n",
      "    \n",
      "    return  ( np.sum (v*fvec + ti * v* fvec * ( 1 -  fvec  ) * w ) + ft )   ** 2\n",
      "    \n",
      "\n",
      "    \n",
      "## The funNNi(x,ti,initialCondition) takes a time ti and exports the function value with input x.\n",
      "\n",
      "    \n",
      "def funNNi(x,ti,initialCondition):  # for a single time stamp t\n",
      "    \n",
      "    v,w,u = np.split(x,3)[:3]\n",
      "    \n",
      "    return initialCondition +  np.sum(ti * v * trigf( ti*w +u ) )\n",
      "\n",
      "## funNNList(x,t,initialCondition) takes a list of time and exports the function values of these times.\n",
      "\n",
      "def funNNList(x,t,initialCondition):\n",
      "    \n",
      "    t = np.array(t)\n",
      "    \n",
      "    tempList = np.asarray([])\n",
      "    \n",
      "    for ti in t:\n",
      "        tempElement = funNNi(x,ti,initialCondition)\n",
      "        tempList = np.append(tempList,tempElement)\n",
      "        \n",
      "    return np.array(tempList)"
     ],
     "language": "python",
     "metadata": {},
     "outputs": [],
     "prompt_number": 197
    },
    {
     "cell_type": "markdown",
     "metadata": {},
     "source": [
      "An example of the fOfArgs(args) which corresponds to the equation $$\\frac{d}{dt}y + y(t)=0 .$$"
     ]
    },
    {
     "cell_type": "code",
     "collapsed": false,
     "input": [
      "def yOft(args):\n",
      "    \n",
      "    return funNNi(args[0],args[1],args[2])  # As in our definition, args[0] is x, args[1] is ti, args[2] is initialCondition\n"
     ],
     "language": "python",
     "metadata": {},
     "outputs": [],
     "prompt_number": 198
    },
    {
     "cell_type": "code",
     "collapsed": false,
     "input": [
      "### This is a test based on the comparison between this notebook and the other one called Basics.ipynb.\n",
      "\n",
      "testx = np.ones(30)\n",
      "testt = np.linspace(0,1,2)\n",
      "\n",
      "print costODE(testx,testt,1,yOft)  ## This is not right, should be 455.812570558\n",
      "print costODETi(np.ones(9),1,1,yOft)  ## This should be 43.556874613889988"
     ],
     "language": "python",
     "metadata": {},
     "outputs": [
      {
       "output_type": "stream",
       "stream": "stdout",
       "text": [
        "455.812570558\n",
        "43.5568746139\n"
       ]
      }
     ],
     "prompt_number": 199
    },
    {
     "cell_type": "markdown",
     "metadata": {},
     "source": [
      "### Minimizatioin"
     ]
    },
    {
     "cell_type": "markdown",
     "metadata": {},
     "source": [
      "The example $$\\frac{d}{dt}y +y=0$$"
     ]
    },
    {
     "cell_type": "code",
     "collapsed": false,
     "input": [
      "def funY(t):\n",
      "\n",
      "    return np.exp(-t)"
     ],
     "language": "python",
     "metadata": {},
     "outputs": [],
     "prompt_number": 200
    },
    {
     "cell_type": "markdown",
     "metadata": {},
     "source": [
      "#### Without Jac"
     ]
    },
    {
     "cell_type": "code",
     "collapsed": false,
     "input": [
      "tlin = np.linspace(0,5,11)\n",
      "initGuess = np.zeros(30)\n",
      "# initGuess = np.random.rand(1,30)+2\n",
      "\n",
      "costODEF = lambda x: costODE(x,tlin,1,yOft)"
     ],
     "language": "python",
     "metadata": {},
     "outputs": [],
     "prompt_number": 201
    },
    {
     "cell_type": "code",
     "collapsed": false,
     "input": [
      "# %%snakeviz\n",
      "startCG = timeit.default_timer()\n",
      "costODEFResultCG = minimize(costODEF,initGuess,method=\"CG\")\n",
      "stopCG = timeit.default_timer()\n",
      "\n",
      "print stopCG - startCG\n",
      "\n",
      "print costODEFResultCG"
     ],
     "language": "python",
     "metadata": {},
     "outputs": [
      {
       "output_type": "stream",
       "stream": "stdout",
       "text": [
        "2.95948886871\n",
        "  status: 2\n",
        " success: False\n",
        "    njev: 15\n",
        "    nfev: 492\n",
        "     fun: 0.1920503701634634\n",
        "       x: array([-0.14291014, -0.14291014, -0.14291014, -0.14291014, -0.14291014,\n",
        "       -0.14291014, -0.14291014, -0.14291014, -0.14291014, -0.14291014,\n",
        "       -0.37677474, -0.37677474, -0.37677474, -0.37677474, -0.37677474,\n",
        "       -0.37677474, -0.37677474, -0.37677474, -0.37677474, -0.37677474,\n",
        "       -0.00415728, -0.00415728, -0.00415728, -0.00415728, -0.00415728,\n",
        "       -0.00415727, -0.00415728, -0.00415728, -0.00415728, -0.00415728])\n",
        " message: 'Desired error not necessarily achieved due to precision loss.'\n",
        "     jac: array([-0.03935363, -0.03935363, -0.03935363, -0.03935363, -0.03935363,\n",
        "       -0.03935363, -0.03935363, -0.03935362, -0.03935362, -0.03935362,\n",
        "       -0.01369549, -0.01369549, -0.0136955 , -0.01369549, -0.01369549,\n",
        "       -0.0136955 , -0.01369549, -0.0136955 , -0.0136955 , -0.0136955 ,\n",
        "        0.01049049,  0.01049049,  0.01049049,  0.01049048,  0.01049049,\n",
        "        0.01049048,  0.01049048,  0.01049049,  0.01049048,  0.01049049])\n"
       ]
      }
     ],
     "prompt_number": 202
    },
    {
     "cell_type": "code",
     "collapsed": false,
     "input": [
      "%%snakeviz\n",
      "startSLSQP = timeit.default_timer()\n",
      "costODEFResultSLSQP = minimize(costODEF,initGuess,method=\"SLSQP\")\n",
      "stopSLSQP = timeit.default_timer()\n",
      "\n",
      "print stopSLSQP - startSLSQP\n",
      "\n",
      "print costODEFResultSLSQP"
     ],
     "language": "python",
     "metadata": {},
     "outputs": [
      {
       "output_type": "stream",
       "stream": "stdout",
       "text": [
        "10.7389249802\n",
        "  status: 0\n",
        " success: True\n",
        "    njev: 51\n",
        "    nfev: 1649\n",
        "     fun: 2.5774431624374406e-05\n",
        "       x: array([-0.48540402, -0.48455081, -0.48705338, -0.26501179, -0.35788204,\n",
        "       -0.34565228, -0.21748088, -0.18660911, -0.6594982 , -0.27068346,\n",
        "       -1.2048972 , -1.19990967, -1.21438905, -0.48933447, -0.31391794,\n",
        "       -0.31977515, -0.38418466, -0.40543151, -0.52481992,  0.01588255,\n",
        "       -1.25067626, -1.24966621, -1.25259283, -0.92609278, -0.89419533,\n",
        "       -0.89597664, -0.91608505, -0.92190289, -0.88950163, -0.7106579 ])\n",
        " message: 'Optimization terminated successfully.'\n",
        "     jac: array([  3.94333608e-05,   4.04668297e-05,   3.75074985e-05,\n",
        "         2.27300134e-04,   1.83917041e-05,   3.09371953e-05,\n",
        "         1.37970724e-04,   1.62817417e-04,   2.48804897e-04,\n",
        "        -2.32962982e-03,  -1.01557895e-04,  -1.02731517e-04,\n",
        "        -9.93060075e-05,   1.37743003e-04,   8.00560364e-04,\n",
        "         7.43729275e-04,   2.97237345e-04,   2.16706698e-04,\n",
        "         2.19471341e-04,   3.18754385e-03,  -1.07516480e-05,\n",
        "        -1.14018064e-05,  -9.52650726e-06,  -4.68119949e-05,\n",
        "         1.95385976e-05,   1.45992992e-05,  -1.52366731e-05,\n",
        "        -1.84541357e-05,  -1.30783258e-04,   4.02199468e-04,\n",
        "         0.00000000e+00])\n",
        "     nit: 51\n",
        " \n",
        "*** Profile stats marshalled to file u'/var/folders/mj/1sl30v6x2g5_lnlgdnngtd3c0000gn/T/tmpIp5VVB'. \n"
       ]
      }
     ],
     "prompt_number": 224
    },
    {
     "cell_type": "code",
     "collapsed": false,
     "input": [
      "# %%snakeviz\n",
      "startLBFGSB = timeit.default_timer()\n",
      "# costODEFResult = minimize(costODEF,initGuess,method=\"Nelder-Mead\")\n",
      "# minimize(costTotalF,initGuess,method=\"TNC\")\n",
      "costODEFResultLBFGSB = minimize(costODEF,initGuess,method=\"L-BFGS-B\")\n",
      "stopLBFGSB = timeit.default_timer()\n",
      "\n",
      "print stopLBFGSB - startLBFGSB\n",
      "\n",
      "print costODEFResultLBFGSB"
     ],
     "language": "python",
     "metadata": {},
     "outputs": [
      {
       "output_type": "stream",
       "stream": "stdout",
       "text": [
        "18.576128006\n",
        "  status: 0\n",
        " success: True\n",
        "    nfev: 119\n",
        "     fun: 1.6905137501642895e-07\n",
        "       x: array([-2.0603106 , -2.0603106 , -2.06419974, -2.11583824, -2.0634141 ,\n",
        "       -2.06405499, -2.06078037, -2.06384378, -2.0830549 , -2.08666077,\n",
        "       -0.45891181, -0.45891181, -0.20174149, -0.04508755, -0.63243257,\n",
        "       -0.64959747, -0.51989713, -0.21305195, -0.98190186, -1.07819291,\n",
        "       -3.00675577, -3.00675577, -2.99724866, -2.89726978, -3.00055964,\n",
        "       -2.99920211, -3.00596847, -2.99805874, -2.96010668, -2.9544031 ])\n",
        " message: 'CONVERGENCE: REL_REDUCTION_OF_F_<=_FACTR*EPSMCH'\n",
        "     jac: array([ -1.02126515e-05,  -1.02126515e-05,  -1.87774584e-05,\n",
        "        -2.77189401e-05,  -6.42969453e-06,  -6.13260136e-06,\n",
        "        -8.71123541e-06,  -1.83276307e-05,  -2.24984889e-06,\n",
        "        -1.55853109e-06,   5.41300468e-05,   5.41300468e-05,\n",
        "         7.99575741e-05,   9.91664506e-05,   3.74608826e-05,\n",
        "         3.60326294e-05,   4.78763702e-05,   7.90094451e-05,\n",
        "         1.68361325e-05,   1.37648216e-05,   2.07773905e-05,\n",
        "         2.07773905e-05,   3.75926323e-05,   5.58314251e-05,\n",
        "         1.32191342e-05,   1.26251075e-05,   1.77820218e-05,\n",
        "         3.67225784e-05,   4.90846728e-06,   3.54729548e-06])\n",
        "     nit: 93\n"
       ]
      }
     ],
     "prompt_number": 204
    },
    {
     "cell_type": "code",
     "collapsed": false,
     "input": [
      "# %%snakeviz\n",
      "startNM = timeit.default_timer()\n",
      "costODEFResultNM = minimize(costODEF,initGuess,method=\"Nelder-Mead\")\n",
      "stopNM = timeit.default_timer()\n",
      "\n",
      "print stopNM - startNM\n",
      "\n",
      "print costODEFResultNM"
     ],
     "language": "python",
     "metadata": {},
     "outputs": [
      {
       "output_type": "stream",
       "stream": "stdout",
       "text": [
        "25.7251698971\n",
        "  status: 1\n",
        "    nfev: 6001\n",
        " success: False\n",
        "     fun: 0.00031884090490975285\n",
        "       x: array([ 0.1330613 ,  1.05982273,  0.18777729, -0.60789078, -0.96393469,\n",
        "       -0.65270373, -1.55257864,  0.8002259 , -0.12414033, -0.21230861,\n",
        "       -0.88629202,  0.47527367,  0.21401419,  0.2130512 , -1.5236408 ,\n",
        "        1.35208616, -0.48922234, -0.85850735,  0.72135512, -1.03407686,\n",
        "        2.29041152,  0.91184671, -0.56987761,  0.16597395, -0.43267372,\n",
        "        2.1772668 , -0.1318482 , -0.80817762,  0.44533168, -0.28545885])\n",
        " message: 'Maximum number of function evaluations has been exceeded.'\n",
        "     nit: 5029\n"
       ]
      }
     ],
     "prompt_number": 205
    },
    {
     "cell_type": "code",
     "collapsed": false,
     "input": [
      "# %%snakeviz\n",
      "startTNC = timeit.default_timer()\n",
      "# costODEFResult = minimize(costODEF,initGuess,method=\"Nelder-Mead\")\n",
      "costODEFResultTNC = minimize(costODEF,initGuess,method=\"TNC\")\n",
      "stopTNC = timeit.default_timer()\n",
      "\n",
      "print stopTNC - startTNC\n",
      "\n",
      "print costODEFResultTNC"
     ],
     "language": "python",
     "metadata": {},
     "outputs": [
      {
       "output_type": "stream",
       "stream": "stdout",
       "text": [
        "43.7451469898\n",
        "  status: 3\n",
        " success: False\n",
        "    nfev: 300\n",
        "     fun: 0.0014134200168788226\n",
        "       x: array([-0.20190472, -0.20190472, -0.18808703, -0.19295435, -0.19572038,\n",
        "       -0.04796784, -0.19396957, -0.21892287, -0.21447547, -0.17392687,\n",
        "       -1.67899527, -1.67899527, -0.42007525, -0.91695886, -1.19221734,\n",
        "        0.22111673, -0.25818086, -0.88921753, -0.46715631, -0.19627801,\n",
        "        0.20087304,  0.20087304,  0.65713399, -0.05456812,  0.22742078,\n",
        "        0.15573394,  0.0956364 , -0.20943573,  0.24956391,  0.13324245])\n",
        " message: 'Max. number of function evaluations reach'\n",
        "     jac: array([ 0.00101461,  0.00101461, -0.00061286,  0.00456347,  0.00292545,\n",
        "       -0.0167402 , -0.00407698,  0.00421885,  0.00257763, -0.00631483,\n",
        "        0.00024155,  0.00024155,  0.00862044, -0.00134179, -0.00182214,\n",
        "        0.00145435,  0.00664002, -0.00121416,  0.00651105,  0.00539998,\n",
        "        0.00070286,  0.00070286,  0.0010624 , -0.00067795, -0.00029385,\n",
        "        0.00021479,  0.00098624, -0.00069649,  0.00027266,  0.00097921])\n",
        "     nit: 31\n"
       ]
      }
     ],
     "prompt_number": 206
    },
    {
     "cell_type": "code",
     "collapsed": false,
     "input": [
      "### This method is extremely slow\n",
      "# %%snakeviz\n",
      "# startPowell = timeit.default_timer()\n",
      "# costODEFResultPowell = minimize(costODEF,initGuess,method=\"Powell\")\n",
      "# stopPowell = timeit.default_timer()\n",
      "\n",
      "# print stopPowell - startPowell\n",
      "\n",
      "# print costODEFResultPowell"
     ],
     "language": "python",
     "metadata": {},
     "outputs": [],
     "prompt_number": 207
    },
    {
     "cell_type": "code",
     "collapsed": false,
     "input": [
      "# for L-BFGS-B method\n",
      "\n",
      "print \"Success is\", costODEFResult.get('success'), \"\\n\", \"# of function evaluations\", costODEFResult.get('nfev'), \"\\n\",\\\n",
      "\"value of minimized function\", costODEFResult.get('fun'), \"\\n\",\"# of iter\", costODEFResult.get('nit')\n",
      "\n",
      "print \"x is\\n\", costODEFResult.get('x')"
     ],
     "language": "python",
     "metadata": {},
     "outputs": [
      {
       "output_type": "stream",
       "stream": "stdout",
       "text": [
        "Success is True \n",
        "# of function evaluations 119 \n",
        "value of minimized function 1.69051375016e-07 \n",
        "# of iter 93\n",
        "x is\n",
        "[-2.0603106  -2.0603106  -2.06419974 -2.11583824 -2.0634141  -2.06405499\n",
        " -2.06078037 -2.06384378 -2.0830549  -2.08666077 -0.45891181 -0.45891181\n",
        " -0.20174149 -0.04508755 -0.63243257 -0.64959747 -0.51989713 -0.21305195\n",
        " -0.98190186 -1.07819291 -3.00675577 -3.00675577 -2.99724866 -2.89726978\n",
        " -3.00055964 -2.99920211 -3.00596847 -2.99805874 -2.96010668 -2.9544031 ]\n"
       ]
      }
     ],
     "prompt_number": 208
    },
    {
     "cell_type": "code",
     "collapsed": false,
     "input": [
      "print funNNList(np.array( costODEFResultCG.get('x') ),tlin,1)\n",
      "print funNNList(np.array( costODEFResultSLSQP.get('x') ),tlin,1)\n",
      "print funNNList(np.array( costODEFResultLBFGSB.get('x') ),tlin,1)\n",
      "print funNNList(np.array( costODEFResultNM.get('x') ),tlin,1)"
     ],
     "language": "python",
     "metadata": {},
     "outputs": [
      {
       "output_type": "stream",
       "stream": "stdout",
       "text": [
        "[  1.00000000e+00   6.77014501e-01   4.19924694e-01   2.25297220e-01\n",
        "   8.78206766e-02   8.04427343e-04  -4.32512100e-02  -5.20971078e-02\n",
        "  -3.32557315e-02   6.34122997e-03   6.05863238e-02]\n",
        "[ 1.          0.60517646  0.36711424  0.22343151  0.13558498  0.08159165\n",
        "  0.04879234  0.02940344  0.01824505  0.01166132  0.00700062]\n",
        "[ 1.          0.60641483  0.3678138   0.22314944  0.13534572  0.08203464\n",
        "  0.04970017  0.03013128  0.0183094   0.01115312  0.00676784]\n",
        "[ 1.          0.60129567  0.36281266  0.22220159  0.13660322  0.08295539\n",
        "  0.04904241  0.02817986  0.01636935  0.01048205  0.00741821]\n"
       ]
      }
     ],
     "prompt_number": 209
    },
    {
     "cell_type": "code",
     "collapsed": false,
     "input": [
      "tlinplt = np.linspace(0,10,20)\n",
      "tlinplt2 = np.linspace(0,40,50)\n",
      "plt.figure(figsize=(20,12.35))\n",
      "plt.plot(tlinplt,funY(tlinplt),'g-')\n",
      "plt.plot(tlinplt,funNNList(np.array( costODEFResultCG.get('x') ),tlinplt,1),'c^')\n",
      "plt.plot(tlinplt,funNNList(np.array( costODEFResultSLSQP.get('x') ),tlinplt,1),'r+')\n",
      "plt.plot(tlinplt,funNNList(np.array( costODEFResultLBFGSB.get('x') ),tlinplt,1),'bo')\n",
      "plt.plot(tlinplt,funNNList(np.array( costODEFResultNM.get('x') ),tlinplt,1),'m1')\n",
      "# plt.yscale('log')\n",
      "plt.show()\n",
      "\n",
      "plt.figure(figsize=(20,12.35))\n",
      "plt.plot(tlinplt2,funY(tlinplt2),'g-')\n",
      "plt.plot(tlinplt2,funNNList(np.array( costODEFResultSLSQP.get('x') ),tlinplt2,1),'r+')\n",
      "plt.plot(tlinplt2,funNNList(np.array( costODEFResultLBFGSB.get('x') ),tlinplt2,1),'bo')\n",
      "# plt.yscale('log')\n",
      "plt.show()"
     ],
     "language": "python",
     "metadata": {},
     "outputs": [
      {
       "metadata": {},
       "output_type": "display_data",
       "png": "[encoded data removed]",
       "text": [
        "<matplotlib.figure.Figure at 0x111224d10>"
       ]
      },
      {
       "metadata": {},
       "output_type": "display_data",
       "png": "[encoded data removed]",
       "text": [
        "<matplotlib.figure.Figure at 0x11145ccd0>"
       ]
      }
     ],
     "prompt_number": 273
    },
    {
     "cell_type": "markdown",
     "metadata": {},
     "source": [
      "#### Using Jac"
     ]
    },
    {
     "cell_type": "code",
     "collapsed": false,
     "input": [
      "def mhelper(v,w,u,t): ## This function should output a result ## t is a number in this function not array!!\n",
      "    v = np.array(v)\n",
      "    w = np.array(w)\n",
      "    u = np.array(u)\n",
      "    \n",
      "    return np.sum( v*trigf( t*w + u )  + t* v* trigf(t*w  + u) * ( 1 -  trigf( t*w +u)  ) * w ) + ( 1 +  np.sum( t * v * trigf( t*w +u ) )  )  \n",
      "    # Checked # Pass\n",
      "    \n",
      "def vhelper(v,w,u,t):\n",
      "    v = np.array(v)\n",
      "    w = np.array(w)\n",
      "    u = np.array(u)\n",
      "    \n",
      "    return trigf(t*w+u) + t*trigf(t*w+u)*( 1-trigf(t*w+u) )*w + t*trigf(t*w+u)\n",
      "\n",
      "def whelper(v,w,u,t):\n",
      "    v = np.array(v)\n",
      "    w = np.array(w)\n",
      "    u = np.array(u)\n",
      "    \n",
      "    return v*t*trigf(t*w+u)*( 1- trigf(t*w+u) ) + t*v*( trigf(t*w+u)*(1-trigf(t*w+u))*t* (1-trigf(t*w+u)) )*w - t*v*trigf(t*w+u)*trigf(t*w+u)*(1-trigf(t*w+u))*t*w + t*v*trigf(t*w+u)*(1-trigf(t*w+u))  + t*v*trigf(t*w+u)*(1-trigf(t*w+u))*t    \n",
      "\n",
      "def uhelper(v,w,u,t):\n",
      "    v = np.array(v)\n",
      "    w = np.array(w)\n",
      "    u = np.array(u)\n",
      "    \n",
      "    return v*trigf(t*w+u)*( 1 - trigf(t*w+u)) + t* v * trigf(t*w+u) * (1-trigf(t*w+u))*(1-trigf(t*w+u))*w - t*v*trigf(t*w+u)*trigf(t*w+u)*(1-trigf(t*w+u))*w + t*v*trigf(t*w+u)*(1-trigf(t*w+u))\n"
     ],
     "language": "python",
     "metadata": {},
     "outputs": [],
     "prompt_number": 211
    },
    {
     "cell_type": "code",
     "collapsed": false,
     "input": [
      "def costJac(v,w,u,t):\n",
      "    v = np.array(v)\n",
      "    w = np.array(w)\n",
      "    u = np.array(u)\n",
      "    \n",
      "    vout = 0\n",
      "    wout = 0\n",
      "    uout = 0\n",
      "    \n",
      "    for temp in t:\n",
      "        vout = vout + 2*mhelper(v,w,u,temp)*vhelper(v,w,u,temp)\n",
      "        wout = wout + 2*mhelper(v,w,u,temp)*whelper(v,w,u,temp)\n",
      "        uout = uout + 2*mhelper(v,w,u,temp)*uhelper(v,w,u,temp)\n",
      "    \n",
      "    out = np.hstack((vout,wout,uout))\n",
      "    \n",
      "    return np.array(out)\n"
     ],
     "language": "python",
     "metadata": {},
     "outputs": [],
     "prompt_number": 212
    },
    {
     "cell_type": "code",
     "collapsed": false,
     "input": [
      "costODEJacF = lambda x: costJac(np.split(x,3)[0],np.split(x,3)[1],np.split(x,3)[2],tlin)\n",
      "initGuessJ = np.zeros(30)\n",
      "# initGuessJ = np.random.rand(1,30)+2"
     ],
     "language": "python",
     "metadata": {},
     "outputs": [],
     "prompt_number": 213
    },
    {
     "cell_type": "code",
     "collapsed": false,
     "input": [
      "%%snakeviz\n",
      "startJacNCG = timeit.default_timer()\n",
      "costODEResultJacNCG = minimize(costODEF,initGuessJ,method=\"Newton-CG\",jac=costODEJacF)\n",
      "stopJacNCG = timeit.default_timer()\n",
      "\n",
      "print stopJacNCG - startJacNCG\n",
      "print costODEResultJacNCG"
     ],
     "language": "python",
     "metadata": {},
     "outputs": [
      {
       "output_type": "stream",
       "stream": "stdout",
       "text": [
        "131.48672986\n",
        "  status: 0\n",
        " success: True\n",
        "    njev: 10863\n",
        "    nfev: 573\n",
        "     fun: 0.09397294690879396\n",
        "       x: array([-32.24441043, -32.24441043, -32.24441043, -32.24441043,\n",
        "       -32.24441043, -32.24441043, -32.24441043, -32.24441043,\n",
        "       -32.24441043, -32.24441043,  -0.28889065,  -0.28889065,\n",
        "        -0.28889065,  -0.28889065,  -0.28889065,  -0.28889065,\n",
        "        -0.28889065,  -0.28889065,  -0.28889065,  -0.28889065,\n",
        "        -5.98967992,  -5.98967992,  -5.98967992,  -5.98967992,\n",
        "        -5.98967992,  -5.98967992,  -5.98967992,  -5.98967992,\n",
        "        -5.98967992,  -5.98967992])\n",
        " message: 'Optimization terminated successfully.'\n",
        "    nhev: 0\n",
        "     jac: array([  6.77454618e-06,   6.77454618e-06,   6.77454618e-06,\n",
        "         6.77454618e-06,   6.77454618e-06,   6.77454618e-06,\n",
        "         6.77454618e-06,   6.77454618e-06,   6.77454618e-06,\n",
        "         6.77454618e-06,  -6.18655063e-04,  -6.18655063e-04,\n",
        "        -6.18655063e-04,  -6.18655063e-04,  -6.18655063e-04,\n",
        "        -6.18655063e-04,  -6.18655063e-04,  -6.18655063e-04,\n",
        "        -6.18655063e-04,  -6.18655063e-04,  -1.88236006e-04,\n",
        "        -1.88236006e-04,  -1.88236006e-04,  -1.88236006e-04,\n",
        "        -1.88236006e-04,  -1.88236006e-04,  -1.88236006e-04,\n",
        "        -1.88236006e-04,  -1.88236006e-04,  -1.88236006e-04])\n",
        " \n",
        "*** Profile stats marshalled to file u'/var/folders/mj/1sl30v6x2g5_lnlgdnngtd3c0000gn/T/tmpceY2hO'. \n"
       ]
      }
     ],
     "prompt_number": 214
    },
    {
     "cell_type": "markdown",
     "metadata": {},
     "source": [
      "A test of the results"
     ]
    },
    {
     "cell_type": "code",
     "collapsed": false,
     "input": [
      "# for NCG method\n",
      "\n",
      "print \"Success is\", costODEResultJacNCG.get('success'), \"\\n\", \"# of function evaluations\", costODEResultJacNCG.get('nfev'), \"\\n\",\\\n",
      "\"value of minimized function\", costODEResultJacNCG.get('fun'), \"\\n\",\"# of iter\", costODEResultJacNCG.get('nit')\n",
      "\n",
      "print \"x is\\n\", costODEResultJacNCG.get('x')"
     ],
     "language": "python",
     "metadata": {},
     "outputs": [
      {
       "output_type": "stream",
       "stream": "stdout",
       "text": [
        "Success is True \n",
        "# of function evaluations 573 \n",
        "value of minimized function 0.0939729469088 \n",
        "# of iter None\n",
        "x is\n",
        "[-32.24441043 -32.24441043 -32.24441043 -32.24441043 -32.24441043\n",
        " -32.24441043 -32.24441043 -32.24441043 -32.24441043 -32.24441043\n",
        "  -0.28889065  -0.28889065  -0.28889065  -0.28889065  -0.28889065\n",
        "  -0.28889065  -0.28889065  -0.28889065  -0.28889065  -0.28889065\n",
        "  -5.98967992  -5.98967992  -5.98967992  -5.98967992  -5.98967992\n",
        "  -5.98967992  -5.98967992  -5.98967992  -5.98967992  -5.98967992]\n"
       ]
      }
     ],
     "prompt_number": 215
    },
    {
     "cell_type": "code",
     "collapsed": false,
     "input": [
      "# %%snakeviz\n",
      "startJacCG = timeit.default_timer()\n",
      "costODEResultJacCG = minimize(costODEF,initGuessJ,method=\"CG\",jac=costODEJacF)\n",
      "stopJacCG = timeit.default_timer()\n",
      "\n",
      "print stopJacCG - startJacCG\n",
      "print costODEResultJacCG"
     ],
     "language": "python",
     "metadata": {},
     "outputs": [
      {
       "output_type": "stream",
       "stream": "stdout",
       "text": [
        "0.322476148605\n",
        "  status: 2\n",
        " success: False\n",
        "    njev: 15\n",
        "    nfev: 27\n",
        "     fun: 0.1920504147526792\n",
        "       x: array([-0.1429102 , -0.1429102 , -0.1429102 , -0.1429102 , -0.1429102 ,\n",
        "       -0.1429102 , -0.1429102 , -0.1429102 , -0.1429102 , -0.1429102 ,\n",
        "       -0.37677492, -0.37677492, -0.37677492, -0.37677492, -0.37677492,\n",
        "       -0.37677492, -0.37677492, -0.37677492, -0.37677492, -0.37677492,\n",
        "       -0.00415729, -0.00415729, -0.00415729, -0.00415729, -0.00415729,\n",
        "       -0.00415729, -0.00415729, -0.00415729, -0.00415729, -0.00415729])\n",
        " message: 'Desired error not necessarily achieved due to precision loss.'\n",
        "     jac: array([-0.03935216, -0.03935216, -0.03935216, -0.03935216, -0.03935216,\n",
        "       -0.03935216, -0.03935216, -0.03935216, -0.03935216, -0.03935216,\n",
        "       -0.01369694, -0.01369694, -0.01369694, -0.01369694, -0.01369694,\n",
        "       -0.01369694, -0.01369694, -0.01369694, -0.01369694, -0.01369694,\n",
        "        0.01049026,  0.01049026,  0.01049026,  0.01049026,  0.01049026,\n",
        "        0.01049026,  0.01049026,  0.01049026,  0.01049026,  0.01049026])\n"
       ]
      }
     ],
     "prompt_number": 216
    },
    {
     "cell_type": "code",
     "collapsed": false,
     "input": [
      "# %%snakeviz\n",
      "startJacSLSQP = timeit.default_timer()\n",
      "costODEResultJacSLSQP = minimize(costODEF,initGuessJ,method=\"SLSQP\",jac=costODEJacF)\n",
      "stopJacSLSQP = timeit.default_timer()\n",
      "\n",
      "print stopJacSLSQP - startJacSLSQP\n",
      "print costODEResultJacSLSQP"
     ],
     "language": "python",
     "metadata": {},
     "outputs": [
      {
       "output_type": "stream",
       "stream": "stdout",
       "text": [
        "0.955240011215\n",
        "  status: 0\n",
        " success: True\n",
        "    njev: 51\n",
        "    nfev: 66\n",
        "     fun: 1.080248266970841e-05\n",
        "       x: array([-1.14137679, -0.94627375, -0.87087044, -1.01525169, -1.09187733,\n",
        "       -1.18014787, -1.19580593, -1.23912592, -1.31330351, -1.36371235,\n",
        "       -0.36628767, -0.16915114,  0.02718512, -0.21314756, -0.28643278,\n",
        "       -0.44737585, -0.48474124, -0.60405077, -0.89880536, -1.23277504,\n",
        "       -2.35587854, -2.53950768, -2.6062629 , -2.47658718, -2.40362568,\n",
        "       -2.31855785, -2.30356691, -2.26261292, -2.19727012, -2.16279234])\n",
        " message: 'Optimization terminated successfully.'\n",
        "     jac: array([ -1.54062257e-04,  -1.88647024e-04,  -2.26829058e-04,\n",
        "        -1.86997132e-04,  -1.75526822e-04,  -1.28483659e-04,\n",
        "        -1.16205693e-04,  -7.76984490e-05,  -6.92506587e-06,\n",
        "         1.96097088e-05,   4.29105762e-04,   2.62610025e-04,\n",
        "         2.46523021e-04,   3.12471903e-04,   3.82432081e-04,\n",
        "         4.48266944e-04,   4.47819412e-04,   4.12766626e-04,\n",
        "         2.12299593e-04,   1.48749876e-05,   1.71845514e-04,\n",
        "         1.68939160e-04,   1.83470792e-04,   1.80527154e-04,\n",
        "         1.84416789e-04,   1.50520621e-04,   1.38893181e-04,\n",
        "         9.81518456e-05,   9.11415478e-06,  -3.17775200e-05,\n",
        "         0.00000000e+00])\n",
        "     nit: 51\n",
        " \n",
        "*** Profile stats marshalled to file u'/var/folders/mj/1sl30v6x2g5_lnlgdnngtd3c0000gn/T/tmpp7mtLX'. \n"
       ]
      }
     ],
     "prompt_number": 219
    },
    {
     "cell_type": "code",
     "collapsed": false,
     "input": [
      "# %%snakeviz\n",
      "startJacLBFGSB = timeit.default_timer()\n",
      "costODEResultJacLBFGSB = minimize(costODEF,initGuessJ,method=\"L-BFGS-B\",jac=costODEJacF)\n",
      "stopJacLBFGSB = timeit.default_timer()\n",
      "\n",
      "print stopJacLBFGSB - startJacLBFGSB\n",
      "print costODEResultJacLBFGSB"
     ],
     "language": "python",
     "metadata": {},
     "outputs": [
      {
       "output_type": "stream",
       "stream": "stdout",
       "text": [
        "8.60380482674\n",
        "  status: 0\n",
        " success: True\n",
        "    nfev: 466\n",
        "     fun: 0.093712249132977959\n",
        "       x: array([-247.62057116, -247.62057116, -247.62057116, -247.62057116,\n",
        "       -247.62057116, -247.62057116, -247.62057116, -247.62057116,\n",
        "       -247.62057116, -247.62057116,   -0.28867261,   -0.28867261,\n",
        "         -0.28867261,   -0.28867261,   -0.28867261,   -0.28867261,\n",
        "         -0.28867261,   -0.28867261,   -0.28867261,   -0.28867261,\n",
        "         -8.02983967,   -8.02983967,   -8.02983967,   -8.02983967,\n",
        "         -8.02983967,   -8.02983967,   -8.02983967,   -8.02983967,\n",
        "         -8.02983967,   -8.02983967])\n",
        " message: 'CONVERGENCE: NORM_OF_PROJECTED_GRADIENT_<=_PGTOL'\n",
        "     jac: array([  2.15718599e-08,   2.15718599e-08,   2.15718599e-08,\n",
        "         2.15718599e-08,   2.15718599e-08,   2.15718599e-08,\n",
        "         2.15718599e-08,   2.15718599e-08,   2.15718599e-08,\n",
        "         2.15718599e-08,  -5.22190220e-06,  -5.22190220e-06,\n",
        "        -5.22190220e-06,  -5.22190220e-06,  -5.22190220e-06,\n",
        "        -5.22190220e-06,  -5.22190220e-06,  -5.22190220e-06,\n",
        "        -5.22190220e-06,  -5.22190220e-06,  -1.44369234e-06,\n",
        "        -1.44369234e-06,  -1.44369234e-06,  -1.44369234e-06,\n",
        "        -1.44369234e-06,  -1.44369234e-06,  -1.44369234e-06,\n",
        "        -1.44369234e-06,  -1.44369234e-06,  -1.44369234e-06])\n",
        "     nit: 358\n",
        " \n",
        "*** Profile stats marshalled to file u'/var/folders/mj/1sl30v6x2g5_lnlgdnngtd3c0000gn/T/tmpIxk5FC'. \n"
       ]
      }
     ],
     "prompt_number": 217
    },
    {
     "cell_type": "code",
     "collapsed": false,
     "input": [
      "initGuessJ2 = np.zeros(30)\n",
      "tlin2 = np.linspace(0,5,100)\n",
      "costODEJacF2 = lambda x: costJac(np.split(x,3)[0],np.split(x,3)[1],np.split(x,3)[2],tlin2)\n",
      "costODEF2 = lambda x: costODE(x,tlin2,1,yOft)\n",
      "\n",
      "initGuessJ3 = np.zeros(30)\n",
      "tlin3 = np.linspace(0,5,5)\n",
      "costODEJacF3 = lambda x: costJac(np.split(x,3)[0],np.split(x,3)[1],np.split(x,3)[2],tlin3)\n",
      "costODEF3 = lambda x: costODE(x,tlin3,1,yOft)"
     ],
     "language": "python",
     "metadata": {},
     "outputs": [],
     "prompt_number": 256
    },
    {
     "cell_type": "code",
     "collapsed": false,
     "input": [
      "# %%snakeviz\n",
      "startJacLBFGSB2 = timeit.default_timer()\n",
      "costODEResultJacLBFGSB2 = minimize(costODEF2,initGuessJ2,method=\"L-BFGS-B\",jac=costODEJacF2)\n",
      "stopJacLBFGSB2 = timeit.default_timer()\n",
      "\n",
      "print stopJacLBFGSB2 - startJacLBFGSB2\n",
      "print costODEResultJacLBFGSB2"
     ],
     "language": "python",
     "metadata": {},
     "outputs": [
      {
       "output_type": "stream",
       "stream": "stdout",
       "text": [
        "26.5871651173\n",
        "  status: 0\n",
        " success: True\n",
        "    nfev: 607\n",
        "     fun: 0.19866666724651139\n",
        "       x: array([-196.45673914, -196.45673914, -196.45673914, -196.45673914,\n",
        "       -196.45673914, -196.45673914, -196.45673914, -196.45673914,\n",
        "       -196.45673914, -196.45673914, -196.45673914, -196.45673914,\n",
        "       -196.45673914, -196.45673914, -196.45673914, -196.45673914,\n",
        "       -196.45673914, -196.45673914, -196.45673914, -196.45673914,\n",
        "         -0.28526212,   -0.28526212,   -0.28526212,   -0.28526212,\n",
        "         -0.28526212,   -0.28526212,   -0.28526212,   -0.28526212,\n",
        "         -0.28526212,   -0.28526212,   -0.28526212,   -0.28526212,\n",
        "         -0.28526212,   -0.28526212,   -0.28526212,   -0.28526212,\n",
        "         -0.28526212,   -0.28526212,   -0.28526212,   -0.28526212,\n",
        "         -8.51236275,   -8.51236275,   -8.51236275,   -8.51236275,\n",
        "         -8.51236275,   -8.51236275,   -8.51236275,   -8.51236275,\n",
        "         -8.51236275,   -8.51236275,   -8.51236275,   -8.51236275,\n",
        "         -8.51236275,   -8.51236275,   -8.51236275,   -8.51236275,\n",
        "         -8.51236275,   -8.51236275,   -8.51236275,   -8.51236275])\n",
        " message: 'CONVERGENCE: NORM_OF_PROJECTED_GRADIENT_<=_PGTOL'\n",
        "     jac: array([  3.46540024e-08,   3.46540024e-08,   3.46540024e-08,\n",
        "         3.46540024e-08,   3.46540024e-08,   3.46540024e-08,\n",
        "         3.46540024e-08,   3.46540024e-08,   3.46540024e-08,\n",
        "         3.46540024e-08,   3.46540024e-08,   3.46540024e-08,\n",
        "         3.46540024e-08,   3.46540024e-08,   3.46540024e-08,\n",
        "         3.46540024e-08,   3.46540024e-08,   3.46540024e-08,\n",
        "         3.46540024e-08,   3.46540024e-08,   7.42584407e-06,\n",
        "         7.42584407e-06,   7.42584407e-06,   7.42584407e-06,\n",
        "         7.42584407e-06,   7.42584407e-06,   7.42584407e-06,\n",
        "         7.42584407e-06,   7.42584407e-06,   7.42584407e-06,\n",
        "         7.42584407e-06,   7.42584407e-06,   7.42584407e-06,\n",
        "         7.42584407e-06,   7.42584407e-06,   7.42584407e-06,\n",
        "         7.42584407e-06,   7.42584407e-06,   7.42584407e-06,\n",
        "         7.42584407e-06,  -4.31075364e-06,  -4.31075364e-06,\n",
        "        -4.31075364e-06,  -4.31075364e-06,  -4.31075364e-06,\n",
        "        -4.31075364e-06,  -4.31075364e-06,  -4.31075364e-06,\n",
        "        -4.31075364e-06,  -4.31075364e-06,  -4.31075364e-06,\n",
        "        -4.31075364e-06,  -4.31075364e-06,  -4.31075364e-06,\n",
        "        -4.31075364e-06,  -4.31075364e-06,  -4.31075364e-06,\n",
        "        -4.31075364e-06,  -4.31075364e-06,  -4.31075364e-06])\n",
        "     nit: 468\n",
        "-------------------------------------\n",
        " \n",
        "*** Profile stats marshalled to file u'/var/folders/mj/1sl30v6x2g5_lnlgdnngtd3c0000gn/T/tmpwawvIu'. \n"
       ]
      }
     ],
     "prompt_number": 245
    },
    {
     "cell_type": "code",
     "collapsed": false,
     "input": [
      "# %%snakeviz\n",
      "startJacLBFGSB3 = timeit.default_timer()\n",
      "costODEResultJacLBFGSB3 = minimize(costODEF3,initGuessJ3,method=\"L-BFGS-B\",jac=costODEJacF3)\n",
      "stopJacLBFGSB3 = timeit.default_timer()\n",
      "\n",
      "print stopJacLBFGSB3 - startJacLBFGSB3\n",
      "print costODEResultJacLBFGSB3"
     ],
     "language": "python",
     "metadata": {},
     "outputs": [
      {
       "output_type": "stream",
       "stream": "stdout",
       "text": [
        "3.29352498055\n",
        "  status: 0\n",
        " success: True\n",
        "    nfev: 481\n",
        "     fun: 0.063449481315827297\n",
        "       x: array([ -4.01464350e+02,  -4.01464350e+02,  -4.01464350e+02,\n",
        "        -4.01464350e+02,  -4.01464350e+02,  -4.01464350e+02,\n",
        "        -4.01464350e+02,  -4.01464350e+02,  -4.01464350e+02,\n",
        "        -4.01464350e+02,  -2.95997459e-01,  -2.95997459e-01,\n",
        "        -2.95997459e-01,  -2.95997459e-01,  -2.95997459e-01,\n",
        "        -2.95997459e-01,  -2.95997459e-01,  -2.95997459e-01,\n",
        "        -2.95997459e-01,  -2.95997459e-01,  -8.46635757e+00,\n",
        "        -8.46635757e+00,  -8.46635757e+00,  -8.46635757e+00,\n",
        "        -8.46635757e+00,  -8.46635757e+00,  -8.46635757e+00,\n",
        "        -8.46635757e+00,  -8.46635757e+00,  -8.46635757e+00])\n",
        " message: 'CONVERGENCE: NORM_OF_PROJECTED_GRADIENT_<=_PGTOL'\n",
        "     jac: array([  6.19175223e-09,   6.19175223e-09,   6.19175223e-09,\n",
        "         6.19175223e-09,   6.19175223e-09,   6.19175223e-09,\n",
        "         6.19175223e-09,   6.19175223e-09,   6.19175223e-09,\n",
        "         6.19175223e-09,   7.76604365e-06,   7.76604365e-06,\n",
        "         7.76604365e-06,   7.76604365e-06,   7.76604365e-06,\n",
        "         7.76604365e-06,   7.76604365e-06,   7.76604365e-06,\n",
        "         7.76604365e-06,   7.76604365e-06,  -6.81405371e-07,\n",
        "        -6.81405371e-07,  -6.81405371e-07,  -6.81405371e-07,\n",
        "        -6.81405371e-07,  -6.81405371e-07,  -6.81405371e-07,\n",
        "        -6.81405371e-07,  -6.81405371e-07,  -6.81405371e-07])\n",
        "     nit: 361\n"
       ]
      }
     ],
     "prompt_number": 258
    },
    {
     "cell_type": "code",
     "collapsed": false,
     "input": [
      "# %%snakeviz\n",
      "startJacSLSQP2 = timeit.default_timer()\n",
      "costODEResultJacSLSQP2 = minimize(costODEF2,initGuessJ2,method=\"SLSQP\",jac=costODEJacF2)\n",
      "stopJacSLSQP2 = timeit.default_timer()\n",
      "\n",
      "print stopJacSLSQP2 - startJacSLSQP2\n",
      "print costODEResultJacSLSQP2"
     ],
     "language": "python",
     "metadata": {},
     "outputs": [
      {
       "output_type": "stream",
       "stream": "stdout",
       "text": [
        "2.39759802818\n",
        "  status: 0\n",
        " success: True\n",
        "    njev: 46\n",
        "    nfev: 66\n",
        "     fun: 7.0143781426621201e-05\n",
        "       x: array([-0.46623378, -0.09741298, -0.23471411, -0.29233963, -0.25368793,\n",
        "       -0.35706733, -0.23155722, -0.22443538, -0.24906619, -0.24555737,\n",
        "       -0.28047861, -0.24615439, -0.24765871, -0.23604658, -0.22414726,\n",
        "       -0.22433082, -0.24950149, -0.42228269, -0.52768225, -0.5809724 ,\n",
        "       -0.96519112,  0.14582309, -0.2005829 , -0.62873762, -0.16098651,\n",
        "       -0.13899803, -0.39713829, -0.31898401, -0.16723998, -0.47337299,\n",
        "       -0.59568092, -0.47601251, -0.16945551, -0.42569027, -0.28287472,\n",
        "       -0.27663823, -0.49026182, -0.89514146, -1.05377454, -1.12370563,\n",
        "       -1.5718762 , -1.62373407, -1.60859688, -1.59132932, -1.61691312,\n",
        "       -1.66174386, -1.59750056, -1.60002105, -1.61498371, -1.59559678,\n",
        "       -1.59237649, -1.59553303, -1.61438758, -1.59676082, -1.60167923,\n",
        "       -1.60201842, -1.59518761, -1.5775737 , -1.5631209 , -1.55485704])\n",
        " message: 'Optimization terminated successfully.'\n",
        "     jac: array([  2.52269133e-04,  -4.15839324e-03,  -5.67159697e-04,\n",
        "         2.93012373e-04,  -7.97657226e-04,  -9.07900737e-04,\n",
        "         1.15250006e-04,  -7.30165576e-05,  -7.59279202e-04,\n",
        "         2.21833418e-04,   2.88832081e-04,   2.24444315e-04,\n",
        "        -7.45832150e-04,   1.62796879e-04,  -1.94156620e-04,\n",
        "        -2.17552579e-04,   2.37471579e-04,   2.59135516e-04,\n",
        "         2.52542888e-04,   2.60917496e-04,  -3.23904833e-05,\n",
        "         1.56317009e-03,   1.28777287e-03,   1.68666463e-05,\n",
        "         1.63427913e-03,   2.41854418e-03,   4.26534748e-04,\n",
        "         6.80837232e-04,   1.56665018e-03,   2.44883972e-04,\n",
        "         5.20638086e-05,   2.39544554e-04,   1.54443187e-03,\n",
        "         3.51910399e-04,   8.29719081e-04,   8.57960954e-04,\n",
        "         2.11707362e-04,  -6.19495737e-05,   2.87618610e-05,\n",
        "         9.33736580e-05,  -6.35010903e-05,   2.89935846e-04,\n",
        "         1.36640021e-04,  -7.06614701e-05,   1.98051651e-04,\n",
        "         3.10353223e-04,  -1.48947255e-05,   2.77718367e-05,\n",
        "         1.86371866e-04,  -4.27365980e-05,  -6.72960969e-05,\n",
        "        -4.35040789e-05,   1.82490914e-04,  -2.66895091e-05,\n",
        "         5.39279292e-05,   5.89551602e-05,  -4.74446861e-05,\n",
        "        -6.78473501e-05,  -5.95591642e-05,  -5.92552679e-05,\n",
        "         0.00000000e+00])\n",
        "     nit: 46\n"
       ]
      }
     ],
     "prompt_number": 249
    },
    {
     "cell_type": "code",
     "collapsed": false,
     "input": [
      "# %%snakeviz\n",
      "startJacSLSQP3 = timeit.default_timer()\n",
      "costODEResultJacSLSQP3 = minimize(costODEF3,initGuessJ3,method=\"SLSQP\",jac=costODEJacF3)\n",
      "stopJacSLSQP3 = timeit.default_timer()\n",
      "\n",
      "print stopJacSLSQP3 - startJacSLSQP3\n",
      "print costODEResultJacSLSQP3"
     ],
     "language": "python",
     "metadata": {},
     "outputs": [
      {
       "output_type": "stream",
       "stream": "stdout",
       "text": [
        "0.571996927261\n",
        "  status: 0\n",
        " success: True\n",
        "    njev: 67\n",
        "    nfev: 87\n",
        "     fun: 1.9284071715143801e-06\n",
        "       x: array([-2.6109115 , -2.57599424, -2.58878461, -2.57940213, -2.59059415,\n",
        "       -2.59852687, -2.59236843, -2.61274745, -2.6048374 , -2.6027068 ,\n",
        "       -0.06868534, -0.13921381, -0.41686679, -0.17524607, -0.47645344,\n",
        "       -0.69273789, -0.53162242, -0.94586645, -0.81984537, -0.7802183 ,\n",
        "       -3.23122383, -3.25291901, -3.2255435 , -3.24481987, -3.2221723 ,\n",
        "       -3.20718217, -3.21886615, -3.17908483, -3.19486312, -3.19905495])\n",
        " message: 'Optimization terminated successfully.'\n",
        "     jac: array([ -1.59890302e-05,  -8.27722239e-06,  -3.19991413e-06,\n",
        "        -6.09584424e-06,  -3.56792170e-06,  -4.10967168e-06,\n",
        "        -3.88109099e-06,  -2.08827414e-06,  -3.41089909e-06,\n",
        "        -3.70672787e-06,   3.73531400e-04,   1.90783426e-04,\n",
        "        -1.43706761e-05,   1.31844527e-04,  -1.55772645e-05,\n",
        "         7.43164027e-06,  -1.21567161e-05,   3.33575815e-05,\n",
        "         2.26259113e-05,   1.82858906e-05,   4.08845422e-05,\n",
        "         2.10158782e-05,   7.96822283e-06,   1.54458386e-05,\n",
        "         9.04685408e-06,   1.10836184e-05,   1.00058323e-05,\n",
        "         6.43663495e-06,   9.61254995e-06,   1.02814845e-05,\n",
        "         0.00000000e+00])\n",
        "     nit: 67\n"
       ]
      }
     ],
     "prompt_number": 259
    },
    {
     "cell_type": "code",
     "collapsed": false,
     "input": [
      "# %%snakeviz\n",
      "startJacTNC = timeit.default_timer()\n",
      "costODEResultJacTNC = minimize(costODEF,initGuessJ,method=\"TNC\",jac=costODEJacF)\n",
      "stopJacTNC = timeit.default_timer()\n",
      "\n",
      "print stopJacTNC - startJacTNC\n",
      "print costODEResultJacTNC"
     ],
     "language": "python",
     "metadata": {},
     "outputs": [
      {
       "output_type": "stream",
       "stream": "stdout",
       "text": [
        "4.82564306259\n",
        "  status: 3\n",
        " success: False\n",
        "    nfev: 300\n",
        "     fun: 0.094505048071264891\n",
        "       x: array([-11.81688438, -11.81688438, -11.81688438, -11.81688438,\n",
        "       -11.81688438, -11.81688438, -11.81688438, -11.81688438,\n",
        "       -11.81688438, -11.81688438,  -0.28973009,  -0.28973009,\n",
        "        -0.28973009,  -0.28973009,  -0.28973009,  -0.28973009,\n",
        "        -0.28973009,  -0.28973009,  -0.28973009,  -0.28973009,\n",
        "        -4.98217919,  -4.98217919,  -4.98217919,  -4.98217919,\n",
        "        -4.98217919,  -4.98217919,  -4.98217919,  -4.98217919,\n",
        "        -4.98217919,  -4.98217919])\n",
        " message: 'Max. number of function evaluations reach'\n",
        "     jac: array([ 0.00017029,  0.00017029,  0.00017029,  0.00017029,  0.00017029,\n",
        "        0.00017029,  0.00017029,  0.00017029,  0.00017029,  0.00017029,\n",
        "       -0.00833811, -0.00833811, -0.00833811, -0.00833811, -0.00833811,\n",
        "       -0.00833811, -0.00833811, -0.00833811, -0.00833811, -0.00833811,\n",
        "       -0.00192607, -0.00192607, -0.00192607, -0.00192607, -0.00192607,\n",
        "       -0.00192607, -0.00192607, -0.00192607, -0.00192607, -0.00192607])\n",
        "     nit: 45\n",
        " \n",
        "*** Profile stats marshalled to file u'/var/folders/mj/1sl30v6x2g5_lnlgdnngtd3c0000gn/T/tmp3doo0v'. \n"
       ]
      }
     ],
     "prompt_number": 218
    },
    {
     "cell_type": "code",
     "collapsed": false,
     "input": [
      "print funNNList(np.array( costODEResultJacNCG.get('x') ),tlin,1)\n",
      "print funNNList(np.array( costODEResultJacCG.get('x') ),tlin,1)\n",
      "print funNNList(np.array( costODEResultJacLBFGSB.get('x') ),tlin,1)\n",
      "print funNNList(np.array( costODEResultJacTNC.get('x') ),tlin,1)\n",
      "print funNNList(np.array( costODEResultJacSLSQP.get('x') ),tlin,1)\n",
      "print funNNList(np.array( costODEResultJacLBFGSB2.get('x') ),tlin,1)\n",
      "print funNNList(np.array( costODEResultJacSLSQP2.get('x') ),tlin2,1)"
     ],
     "language": "python",
     "metadata": {},
     "outputs": [
      {
       "output_type": "stream",
       "stream": "stdout",
       "text": [
        "[ 1.          0.65128765  0.39620171  0.21591938  0.0949713   0.0206847\n",
        " -0.01728571 -0.02735221 -0.01632515  0.01030946  0.04815783]\n",
        "[  1.00000000e+00   6.77014395e-01   4.19924537e-01   2.25297061e-01\n",
        "   8.78205562e-02   8.04374164e-04  -4.32511778e-02  -5.20969821e-02\n",
        "  -3.32555132e-02   6.34153378e-03   6.05867015e-02]\n",
        "[ 1.          0.65115314  0.39605582  0.21581625  0.09492528  0.02068895\n",
        " -0.0172476  -0.02729931 -0.01627537  0.01034129  0.04816063]\n",
        "[ 1.          0.65145693  0.39644341  0.21621956  0.09535513  0.02119023\n",
        " -0.01662211 -0.02650305 -0.01527453  0.01156584  0.049614  ]\n",
        "[ 1.          0.60653179  0.36822681  0.22338883  0.13506892  0.08135047\n",
        "  0.04901432  0.02985158  0.01859964  0.01178781  0.00707764]\n",
        "[ 1.          0.65772498  0.40643077  0.22798191  0.10745547  0.03260781\n",
        " -0.00657381 -0.01824776 -0.009034    0.01572116  0.05172354]\n",
        "[ 1.          0.95092599  0.90417211  0.85964477  0.81725214  0.77690432\n",
        "  0.73851357  0.70199437  0.66726358  0.63424055  0.60284715  0.57300784\n",
        "  0.54464973  0.51770255  0.49209869  0.46777317  0.44466364  0.42271031\n",
        "  0.40185596  0.38204584  0.36322764  0.34535144  0.32836961  0.31223675\n",
        "  0.29690967  0.28234723  0.26851032  0.25536178  0.2428663   0.23099037\n",
        "  0.21970218  0.20897156  0.19876993  0.18907016  0.17984657  0.17107482\n",
        "  0.16273189  0.15479593  0.14724631  0.14006347  0.13322891  0.1267251\n",
        "  0.12053548  0.11464437  0.10903692  0.10369908  0.09861757  0.09377979\n",
        "  0.08917383  0.08478843  0.08061288  0.07663709  0.07285146  0.06924692\n",
        "  0.06581486  0.06254712  0.05943597  0.05647405  0.05365442  0.05097045\n",
        "  0.04841587  0.04598471  0.0436713   0.04147025  0.03937643  0.03738496\n",
        "  0.03549119  0.03369071  0.03197928  0.03035289  0.02880771  0.02734006\n",
        "  0.02594646  0.02462356  0.02336816  0.02217722  0.0210478   0.01997711\n",
        "  0.01896246  0.01800128  0.01709112  0.01622958  0.01541442  0.01464343\n",
        "  0.01391453  0.01322569  0.01257497  0.0119605   0.01138047  0.01083315\n",
        "  0.01031687  0.00983001  0.009371    0.00893834  0.00853058  0.00814631\n",
        "  0.00778416  0.00744282  0.00712102  0.00681752]"
       ]
      },
      {
       "output_type": "stream",
       "stream": "stdout",
       "text": [
        "\n"
       ]
      }
     ],
     "prompt_number": 265
    },
    {
     "cell_type": "code",
     "collapsed": false,
     "input": [
      "plt.figure(figsize=(20,12.36))\n",
      "plt.plot(tlinplt,funY(tlinplt),'g-')\n",
      "plt.plot(tlinplt,funNNList(np.array( costODEResultJacNCG.get('x') ),tlinplt,1),'c^')\n",
      "plt.plot(tlinplt,funNNList(np.array( costODEResultJacCG.get('x') ),tlinplt,1),'g:')\n",
      "plt.plot(tlinplt,funNNList(np.array( costODEResultJacSLSQP.get('x') ),tlinplt,1),'ro')\n",
      "plt.plot(tlinplt,funNNList(np.array( costODEResultJacLBFGSB.get('x') ),tlinplt,1),'bo')\n",
      "plt.plot(tlinplt,funNNList(np.array( costODEResultJacTNC.get('x') ),tlinplt,1),'m+')\n",
      "plt.plot(tlinplt,funNNList(np.array( costODEResultJacLBFGSB2.get('x') ),tlinplt,1),'b*')\n",
      "plt.plot(tlinplt,funNNList(np.array( costODEResultJacSLSQP2.get('x') ),tlinplt,1),'r*')\n",
      "# plt.yscale('log')\n",
      "plt.show()"
     ],
     "language": "python",
     "metadata": {},
     "outputs": [
      {
       "metadata": {},
       "output_type": "display_data",
       "png": "[encoded data removed]",
       "text": [
        "<matplotlib.figure.Figure at 0x111241e10>"
       ]
      }
     ],
     "prompt_number": 264
    },
    {
     "cell_type": "code",
     "collapsed": false,
     "input": [
      "plt.figure(figsize=(20,12.36))\n",
      "plt.plot(tlinplt,funY(tlinplt),'g-')\n",
      "plt.plot(tlinplt,funNNList(np.array( costODEFResultLBFGSB.get('x') ),tlinplt,1),'b:')\n",
      "plt.plot(tlinplt,funNNList(np.array( costODEResultJacLBFGSB.get('x') ),tlinplt,1),'bo')\n",
      "plt.plot(tlinplt,funNNList(np.array( costODEResultJacLBFGSB2.get('x') ),tlinplt,1),'b*')\n",
      "plt.plot(tlinplt,funNNList(np.array( costODEResultJacLBFGSB3.get('x') ),tlinplt,1),'b^')\n",
      "plt.plot(tlinplt,funNNList(np.array( costODEFResultSLSQP.get('x') ),tlinplt,1),'r:')\n",
      "plt.plot(tlinplt,funNNList(np.array( costODEResultJacSLSQP.get('x') ),tlinplt,1),'ro')\n",
      "plt.plot(tlinplt,funNNList(np.array( costODEResultJacSLSQP2.get('x') ),tlinplt,1),'r*')\n",
      "plt.plot(tlinplt,funNNList(np.array( costODEResultJacSLSQP3.get('x') ),tlinplt,1),'r^')\n",
      "# plt.yscale('log')\n",
      "plt.show()\n",
      "\n",
      "plt.figure(figsize=(20,12.36))\n",
      "plt.plot(tlinplt2,funY(tlinplt2),'g-')\n",
      "plt.plot(tlinplt2,funNNList(np.array( costODEFResultLBFGSB.get('x') ),tlinplt2,1),'b:')\n",
      "plt.plot(tlinplt2,funNNList(np.array( costODEResultJacLBFGSB.get('x') ),tlinplt2,1),'bo')\n",
      "plt.plot(tlinplt2,funNNList(np.array( costODEResultJacLBFGSB2.get('x') ),tlinplt2,1),'b*')\n",
      "plt.plot(tlinplt2,funNNList(np.array( costODEResultJacLBFGSB3.get('x') ),tlinplt2,1),'b^')\n",
      "plt.plot(tlinplt2,funNNList(np.array( costODEFResultSLSQP.get('x') ),tlinplt2,1),'r:')\n",
      "plt.plot(tlinplt2,funNNList(np.array( costODEResultJacSLSQP.get('x') ),tlinplt2,1),'ro')\n",
      "plt.plot(tlinplt2,funNNList(np.array( costODEResultJacSLSQP2.get('x') ),tlinplt2,1),'r*')\n",
      "plt.plot(tlinplt2,funNNList(np.array( costODEResultJacSLSQP3.get('x') ),tlinplt2,1),'r^')\n",
      "# plt.yscale('log')\n",
      "plt.show()"
     ],
     "language": "python",
     "metadata": {},
     "outputs": [
      {
       "metadata": {},
       "output_type": "display_data",
       "png": "[encoded data removed]",
       "text": [
        "<matplotlib.figure.Figure at 0x111276150>"
       ]
      },
      {
       "metadata": {},
       "output_type": "display_data",
       "png": "[encoded data removed]",
       "text": [
        "<matplotlib.figure.Figure at 0x110df5310>"
       ]
      }
     ],
     "prompt_number": 275
    },
    {
     "cell_type": "markdown",
     "metadata": {},
     "source": [
      "## Summary"
     ]
    },
    {
     "cell_type": "markdown",
     "metadata": {},
     "source": [
      "**To summarize, **\n",
      "\n",
      "1. CG is extremely fast, however, it's not so accurate.\n",
      "2. SLSQP is also very fast, and it is very accurate\n",
      "3. L-BFGS-B gives us the best result and it's not slow.\n",
      "\n",
      "|  Method  |                Time                |                      Function                     |                nfev/njev                |        nit        |\n",
      "|:--------:|:----------------------------------:|:-------------------------------------------------:|:---------------------------------------:|:-----------------:|\n",
      "|    CG    | 2.95948886871(Jac: 0.341506004333) |    0.1920503701634634(Jac: 0.19205041475267956)   |  nfev: 492,njev: 15 (nfev: 27,njev: 15) |                   |\n",
      "|   SLSQP  |  10.7389249802(Jac:0.955240011215) | 2.5774431624374406e-05(Jac:1.080248266970841e-05) | nfev: 1649,njev: 51 (nfev: 66,njev: 51) |  nit: 51(nit: 51) |\n",
      "| L-BFGS-B |   18.576128006(Jac:8.60380482674)  |  1.6905137501642895e-07(Jac:0.093712249132977959) |           nfev: 119(nfev: 466)          | nit: 93(nit: 358) |\n",
      "|    N-M   |            30.9348311424           |               0.00031884090490975285              |                nfev: 6001               |                   |\n",
      "|    NCG   |         (Jac:37.292183876)         |               (0.09397294690879396)               |          (njev: 3149,nfev: 526)         |                   |\n",
      "\n"
     ]
    },
    {
     "cell_type": "markdown",
     "metadata": {},
     "source": [
      "* Smaller vwu dimensions, less time? NOT True. \n",
      "* Seems that by solving an equation, we are solving a equation **in a particular region** with a specific initial condition. **Be careful with extrapolation.**"
     ]
    },
    {
     "cell_type": "code",
     "collapsed": false,
     "input": [],
     "language": "python",
     "metadata": {},
     "outputs": [],
     "prompt_number": 221
    },
    {
     "cell_type": "code",
     "collapsed": false,
     "input": [],
     "language": "python",
     "metadata": {},
     "outputs": [],
     "prompt_number": 221
    },
    {
     "cell_type": "code",
     "collapsed": false,
     "input": [],
     "language": "python",
     "metadata": {},
     "outputs": [],
     "prompt_number": 221
    },
    {
     "cell_type": "markdown",
     "metadata": {},
     "source": [
      "### Plotting"
     ]
    },
    {
     "cell_type": "markdown",
     "metadata": {},
     "source": [
      "Here in this section I def some function used to plot the data.\n",
      "\n",
      "The plot function outputs a plot with inputs of a list of ts and ys."
     ]
    },
    {
     "cell_type": "code",
     "collapsed": false,
     "input": [
      "startTemp = timeit.default_timer()\n",
      "testArraySplit = np.zeros(30)\n",
      "np.split(testArraySplit,3)[0]\n",
      "np.split(testArraySplit,3)[1]\n",
      "np.split(testArraySplit,3)[2]\n",
      "stopTemp = timeit.default_timer()\n",
      "print stopTemp - startTemp"
     ],
     "language": "python",
     "metadata": {},
     "outputs": [
      {
       "output_type": "stream",
       "stream": "stdout",
       "text": [
        "0.00105690956116\n"
       ]
      }
     ],
     "prompt_number": 222
    },
    {
     "cell_type": "code",
     "collapsed": false,
     "input": [],
     "language": "python",
     "metadata": {},
     "outputs": [],
     "prompt_number": 222
    },
    {
     "cell_type": "code",
     "collapsed": false,
     "input": [
      "print tlin2\n",
      "print tlin"
     ],
     "language": "python",
     "metadata": {},
     "outputs": [
      {
       "output_type": "stream",
       "stream": "stdout",
       "text": [
        "[ 0.          0.17241379  0.34482759  0.51724138  0.68965517  0.86206897\n",
        "  1.03448276  1.20689655  1.37931034  1.55172414  1.72413793  1.89655172\n",
        "  2.06896552  2.24137931  2.4137931   2.5862069   2.75862069  2.93103448\n",
        "  3.10344828  3.27586207  3.44827586  3.62068966  3.79310345  3.96551724\n",
        "  4.13793103  4.31034483  4.48275862  4.65517241  4.82758621  5.        ]\n",
        "[ 0.   0.5  1.   1.5  2.   2.5  3.   3.5  4.   4.5  5. ]\n"
       ]
      }
     ],
     "prompt_number": 234
    },
    {
     "cell_type": "code",
     "collapsed": false,
     "input": [
      "x1 = np.zeros(30)\n",
      "v1, w1, u1 = np.split(x1,3)[:3]\n",
      "print v1, w1"
     ],
     "language": "python",
     "metadata": {},
     "outputs": [
      {
       "output_type": "stream",
       "stream": "stdout",
       "text": [
        "[ 0.  0.  0.  0.  0.  0.  0.  0.  0.  0.] [ 0.  0.  0.  0.  0.  0.  0.  0.  0.  0.]\n"
       ]
      }
     ],
     "prompt_number": 223
    },
    {
     "cell_type": "markdown",
     "metadata": {},
     "source": []
    }
   ],
   "metadata": {}
  }
 ]
}