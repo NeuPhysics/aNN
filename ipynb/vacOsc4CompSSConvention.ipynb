{
 "cells": [
  {
   "cell_type": "markdown",
   "metadata": {},
   "source": [
    "<a id='toc'></a>\n",
    "-----\n",
    "### TOC\n",
    "\n",
    "\n",
    "* [NumpyOPT](#numpyopt)\n",
    "* [Differential Evolution](#evo)\n"
   ]
  },
  {
   "cell_type": "code",
   "execution_count": 37,
   "metadata": {
    "collapsed": false
   },
   "outputs": [
    {
     "name": "stdout",
     "output_type": "stream",
     "text": [
      "The snakeviz extension is already loaded. To reload it, use:\n",
      "  %reload_ext snakeviz\n"
     ]
    }
   ],
   "source": [
    "# This line configures matplotlib to show figures embedded in the notebook, \n",
    "# instead of opening a new window for each figure. More about that later. \n",
    "# If you are using an old version of IPython, try using '%pylab inline' instead.\n",
    "%matplotlib inline\n",
    "%load_ext snakeviz\n",
    "\n",
    "import numpy as np\n",
    "from scipy.optimize import minimize\n",
    "from scipy.optimize import rosen, differential_evolution\n",
    "from scipy.special import expit\n",
    "import matplotlib.pyplot as plt\n",
    "import scipy\n",
    "\n",
    "from matplotlib.lines import Line2D\n",
    "\n",
    "import timeit\n",
    "\n",
    "import pandas as pd\n",
    "\n",
    "import plotly.plotly as py\n",
    "from plotly.graph_objs import *\n",
    "import plotly.tools as tls"
   ]
  },
  {
   "cell_type": "code",
   "execution_count": 38,
   "metadata": {
    "collapsed": false
   },
   "outputs": [],
   "source": [
    "# Here are the initial values\n",
    "\n",
    "\n",
    "# For test use\n",
    "array12 = np.asarray(np.split(np.random.rand(1,60)[0],12))"
   ]
  },
  {
   "cell_type": "code",
   "execution_count": 39,
   "metadata": {
    "collapsed": true
   },
   "outputs": [],
   "source": [
    "# Here is the activation function\n",
    "\n",
    "def act(x):\n",
    "    return expit(x)"
   ]
  },
  {
   "cell_type": "code",
   "execution_count": 40,
   "metadata": {
    "collapsed": false
   },
   "outputs": [],
   "source": [
    "# Density matrix in the forms that I wrote down on my Neutrino Physics notebook\n",
    "# x is a real array of 12 arrays.\n",
    "\n",
    "init = np.array([1.0,0.0,0.0,0.0])\n",
    "\n",
    "def rho(x,ti,initialCondition):\n",
    "    \n",
    "    elem = np.ones(4)\n",
    "    \n",
    "    for i in np.linspace(0,3,4):\n",
    "        elem[i] = np.sum(ti*x[i*3]*act(ti*x[i*3+1] + x[i*3+2]) )\n",
    "    \n",
    "    return init + elem  "
   ]
  },
  {
   "cell_type": "code",
   "execution_count": 41,
   "metadata": {
    "collapsed": false,
    "scrolled": true
   },
   "outputs": [
    {
     "data": {
      "text/plain": [
       "array([ 1.,  0.,  0.,  0.])"
      ]
     },
     "execution_count": 41,
     "metadata": {},
     "output_type": "execute_result"
    }
   ],
   "source": [
    "rho(array12,0,init)"
   ]
  },
  {
   "cell_type": "code",
   "execution_count": 42,
   "metadata": {
    "collapsed": false
   },
   "outputs": [
    {
     "name": "stdout",
     "output_type": "stream",
     "text": [
      "[-0.41614684  0.90929743  0.90929743 -0.41614684]\n"
     ]
    }
   ],
   "source": [
    "# Hamiltonian of the problem, in terms of four real components\n",
    "\n",
    "hamil = np.array( [  np.cos(2.0),np.sin(2.0) , np.sin(2.0),np.cos(2.0) ] )\n",
    "#hamil = 1.0/2*np.array( [  -np.cos(2.0),np.sin(2.0) , np.sin(2.0),np.cos(2.0) ] )\n",
    "print hamil"
   ]
  },
  {
   "cell_type": "code",
   "execution_count": 45,
   "metadata": {
    "collapsed": false
   },
   "outputs": [],
   "source": [
    "# Cost function for each time step\n",
    "\n",
    "def rhop(x,ti,initialCondition):\n",
    "    \n",
    "    rhoprime = np.zeros(4)\n",
    "    \n",
    "    for i in np.linspace(0,3,4):\n",
    "        rhoprime[i] = np.sum(x[i*3] * (act(ti*x[i*3+1] + x[i*3+2]) ) ) +  np.sum( ti*x[i*3]* (act(ti*x[i*3+1] + x[i*3+2]) ) * (1.0 - (act(ti*x[i*3+1] + x[i*3+2])  ) )* x[i*3+1]  )\n",
    "        \n",
    "    return rhoprime\n",
    "\n",
    "\n",
    "\n",
    "## This is the regularization\n",
    "\n",
    "regularization = 0.0001\n",
    "\n",
    "def costi(x,ti,initialCondition):\n",
    "    \n",
    "    rhoi = rho(x,ti,initialCondition)\n",
    "    rhopi = rhop(x,ti,initialCondition)\n",
    "    \n",
    "    costTemp = np.zeros(4)\n",
    "    \n",
    "    costTemp[0] = ( rhopi[0] - 2.0*rhoi[3]*hamil[1] )**2\n",
    "    costTemp[1] = ( rhopi[1] + 2.0*rhoi[3]*hamil[1] )**2\n",
    "    costTemp[2] = ( rhopi[2] - 2.0*rhoi[3]*hamil[0] )**2\n",
    "    costTemp[3] = ( rhopi[3] + 2.0*rhoi[2]*hamil[0] - hamil[1] * (rhoi[1] - rhoi[0] ) )**2\n",
    "    \n",
    "    return np.sum(costTemp)# + 2.0*(rhoi[0]+rhoi[1]-1.0)**2\n",
    "\n",
    "    \n",
    "#    return np.sum(costTemp) + regularization*np.sum(x**2)"
   ]
  },
  {
   "cell_type": "code",
   "execution_count": 46,
   "metadata": {
    "collapsed": false
   },
   "outputs": [
    {
     "data": {
      "text/plain": [
       "10.945180077723695"
      ]
     },
     "execution_count": 46,
     "metadata": {},
     "output_type": "execute_result"
    }
   ],
   "source": [
    "costi(array12,0,init)"
   ]
  },
  {
   "cell_type": "code",
   "execution_count": 47,
   "metadata": {
    "collapsed": true
   },
   "outputs": [],
   "source": [
    "def cost(x,t,initialCondition):\n",
    "    \n",
    "    costTotal = map(lambda t: costi(x,t,initialCondition),t)\n",
    "    \n",
    "    return 0.5*np.sum(costTotal)"
   ]
  },
  {
   "cell_type": "code",
   "execution_count": 48,
   "metadata": {
    "collapsed": false,
    "scrolled": true
   },
   "outputs": [
    {
     "data": {
      "text/plain": [
       "72.098581198983624"
      ]
     },
     "execution_count": 48,
     "metadata": {},
     "output_type": "execute_result"
    }
   ],
   "source": [
    "cost(array12,np.array([0,1,2]),init)\n",
    "#cost(xresult,np.array([0,4,11]),init)"
   ]
  },
  {
   "cell_type": "markdown",
   "metadata": {},
   "source": [
    "<a id='numpyopt'></a>\n",
    "-----\n",
    "## NUMPY OPT"
   ]
  },
  {
   "cell_type": "code",
   "execution_count": 49,
   "metadata": {
    "collapsed": false,
    "scrolled": false
   },
   "outputs": [
    {
     "ename": "NameError",
     "evalue": "name 'stopSLSQP' is not defined",
     "output_type": "error",
     "traceback": [
      "\u001b[0;31m---------------------------------------------------------------------------\u001b[0m",
      "\u001b[0;31mNameError\u001b[0m                                 Traceback (most recent call last)",
      "\u001b[0;32m<ipython-input-49-cf439d3d2af2>\u001b[0m in \u001b[0;36m<module>\u001b[0;34m()\u001b[0m\n\u001b[1;32m     12\u001b[0m \u001b[0mstop\u001b[0m \u001b[0;34m=\u001b[0m \u001b[0mtimeit\u001b[0m\u001b[0;34m.\u001b[0m\u001b[0mdefault_timer\u001b[0m\u001b[0;34m(\u001b[0m\u001b[0;34m)\u001b[0m\u001b[0;34m\u001b[0m\u001b[0m\n\u001b[1;32m     13\u001b[0m \u001b[0;34m\u001b[0m\u001b[0m\n\u001b[0;32m---> 14\u001b[0;31m \u001b[0;32mprint\u001b[0m \u001b[0mstopSLSQP\u001b[0m \u001b[0;34m-\u001b[0m \u001b[0mstartSLSQP\u001b[0m\u001b[0;34m\u001b[0m\u001b[0m\n\u001b[0m\u001b[1;32m     15\u001b[0m \u001b[0;34m\u001b[0m\u001b[0m\n\u001b[1;32m     16\u001b[0m \u001b[0;32mprint\u001b[0m \u001b[0mcostvFResult\u001b[0m\u001b[0;34m\u001b[0m\u001b[0m\n",
      "\u001b[0;31mNameError\u001b[0m: name 'stopSLSQP' is not defined"
     ]
    }
   ],
   "source": [
    "# with ramdom initial guess. TO make it more viable, I used (-5,5)\n",
    "\n",
    "initGuess = np.asarray(np.split( 5.0*(np.random.rand(1,60)[0] - 0.5),12))\n",
    "#initGuess = np.split(np.zeros(60),12)\n",
    "endpoint = 2\n",
    "tlin = np.linspace(0,endpoint,11)\n",
    "\n",
    "costF = lambda x: cost(x,tlin,init)\n",
    "\n",
    "start = timeit.default_timer()\n",
    "costvFResult = minimize(costF,initGuess,method=\"SLSQP\",tol=1e-20)\n",
    "stop = timeit.default_timer()\n",
    "\n",
    "print stop - start\n",
    "\n",
    "print costvFResult"
   ]
  },
  {
   "cell_type": "markdown",
   "metadata": {},
   "source": [
    "- **Should think about the eps(stepsize)**"
   ]
  },
  {
   "cell_type": "code",
   "execution_count": null,
   "metadata": {
    "collapsed": false,
    "scrolled": false
   },
   "outputs": [],
   "source": [
    "xmid = costvFResult.get(\"x\")\n",
    "\n",
    "start = timeit.default_timer()\n",
    "#costvFResult = minimize(costF,xmid,method=\"SLSQP\",tol=1e-30,options={\"ftol\":1e-30,\"maxiter\":100000})\n",
    "costvFResult = minimize(costF,xmid,method='Nelder-Mead',tol=1e-15,options={\"ftol\":1e-15, \"maxfev\": 1000000,\"maxiter\":1000000})\n",
    "stop = timeit.default_timer()\n",
    "\n",
    "print stop - start\n",
    "\n",
    "print costvFResult"
   ]
  },
  {
   "cell_type": "code",
   "execution_count": null,
   "metadata": {
    "collapsed": false,
    "scrolled": true
   },
   "outputs": [],
   "source": [
    "xresult = costvFResult.get(\"x\")\n",
    "#xresult = np.array([-0.01486401,  2.25493868, -1.84543911, -0.07335087,  2.2548026 ,\n",
    "#       -1.84421662,  0.10454078, -1.64040244,  2.99923129,  0.01486399,\n",
    "#        2.2549433 , -1.84544286,  0.61994826,  0.96756294,  0.60929092,\n",
    "#        0.23839364,  0.45364599,  0.18426882,  0.30242425,  0.96719724,\n",
    "#        0.13016584,  0.9192801 ,  0.116001  ,  0.46777053,  0.17497595,\n",
    "#        0.96035958,  0.21763616,  0.73997804,  0.88071662,  0.1620245 ,\n",
    "#        0.66904538,  0.66084959,  0.89772078,  0.49020208,  0.67802378,\n",
    "#        0.53307714,  0.59867975,  0.16864478,  0.4257949 ,  0.5364126 ,\n",
    "#        0.78476644,  0.4910997 ,  0.834945  ,  0.45061367,  0.16736545,\n",
    "#        0.42579168,  0.16877594,  0.98282177,  0.08852038,  0.12633737,\n",
    "#        0.50922379,  0.93146299,  0.66505978,  0.33157336,  0.05408186,\n",
    "#        0.04504323,  0.27311737,  0.27651656,  0.47313653,  0.12806564])\n",
    "#xresult = np.array([-1.37886409,  2.81454922, -0.3571002 ,  0.02582831, -1.05414931,\n",
    "#       -1.52308153, -2.24747468,  0.33947049, -0.32310112, -1.43887103,\n",
    "#        0.81176258,  0.05139705, -1.02669705, -0.97236805, -0.27536667,\n",
    "#        0.34860447, -1.06962772,  0.89978175,  2.39662887, -1.45165477,\n",
    "#       -1.54636469, -2.79921374, -1.30335793, -0.62844367, -3.04440811,\n",
    "#       -2.74566393, -2.16222918, -1.60535643, -0.77298204,  0.13848754,\n",
    "#       -0.36544212,  1.23901581, -0.80586367, -0.30212561, -1.02818302,\n",
    "#       -2.82928373, -0.80776632, -2.90056107, -2.42432246, -2.87572658,\n",
    "#       -0.8645904 , -0.59526987, -1.87029203, -1.60957508, -1.83106839,\n",
    "#        1.07020356, -0.84892132, -0.97053555, -0.2005098 , -0.72422578,\n",
    "#       -3.32948549, -4.99349947, -3.46242765, -3.52481528, -3.36820222,\n",
    "#       -4.1848837 , -1.90748847, -2.09206645, -4.10831718,  2.76094325])\n",
    "\n",
    "print xresult"
   ]
  },
  {
   "cell_type": "code",
   "execution_count": null,
   "metadata": {
    "collapsed": false
   },
   "outputs": [],
   "source": [
    "rho(xresult,2,init)"
   ]
  },
  {
   "cell_type": "code",
   "execution_count": null,
   "metadata": {
    "collapsed": false
   },
   "outputs": [],
   "source": [
    "plttlin=np.linspace(0,endpoint,100)\n",
    "pltdata11 = np.array([])\n",
    "for i in plttlin:\n",
    "    pltdata11 = np.append(pltdata11 ,rho(xresult,i,init)[0] )\n",
    "    \n",
    "print pltdata11"
   ]
  },
  {
   "cell_type": "code",
   "execution_count": null,
   "metadata": {
    "collapsed": false,
    "scrolled": false
   },
   "outputs": [],
   "source": [
    "#MMA_optmize_Vac_pltdata = np.genfromtxt('./assets/homogen/MMA_optmize_Vac_pltdata.txt', delimiter = ',')\n",
    "\n",
    "plt.figure(figsize=(16,9.36))\n",
    "plt.ylabel('P')\n",
    "plt.xlabel('Time')\n",
    "#plt.plot(np.linspace(0,15,4501),MMA_optmize_Vac_pltdata,\"r-\",label=\"MMAVacrho11\")\n",
    "plt.plot(np.linspace(0,2,10),1-(np.sin(2.0)**2)*(np.sin(0.5*np.linspace(0,2,10)) )**2,\"r-\")\n",
    "plt.plot(plttlin,pltdata11,\"b4-\",label=\"vac_rho11\")\n",
    "plt.show()\n",
    "#py.iplot_mpl(plt.gcf(),filename=\"MMA-rho11-Vac-80-60\")"
   ]
  },
  {
   "cell_type": "code",
   "execution_count": null,
   "metadata": {
    "collapsed": true
   },
   "outputs": [],
   "source": []
  },
  {
   "cell_type": "code",
   "execution_count": 26,
   "metadata": {
    "collapsed": false
   },
   "outputs": [
    {
     "name": "stdout",
     "output_type": "stream",
     "text": [
      "0.15.1\n"
     ]
    }
   ],
   "source": [
    "print scipy.__version__"
   ]
  },
  {
   "cell_type": "markdown",
   "metadata": {
    "collapsed": true
   },
   "source": [
    "<a id='evo'></a>\n",
    "-----\n",
    "## Test Differential Evolution"
   ]
  },
  {
   "cell_type": "code",
   "execution_count": 27,
   "metadata": {
    "collapsed": false,
    "scrolled": true
   },
   "outputs": [
    {
     "name": "stdout",
     "output_type": "stream",
     "text": [
      "11998.9440718\n",
      "    nfev: 1701061\n",
      " success: True\n",
      "     fun: 0.50220275532735592\n",
      "       x: array([-0.38533032, -1.64831529,  4.38168257,  0.38533177, -1.64830245,\n",
      "        4.38164573,  0.2341858 , -1.24310539,  2.7120793 , -1.17805166,\n",
      "       -2.02416497,  0.58760437, -1.3433545 , -0.83102552, -1.87713645,\n",
      "        1.56420419,  4.00351989,  1.59243772,  0.21001786, -3.2407917 ,\n",
      "       -0.21969595, -1.73653359, -0.20812335, -2.54570885, -2.22593135,\n",
      "       -1.29257834,  3.92793899, -2.36899476,  4.07210649,  2.49986995,\n",
      "        1.79095183,  2.27666122, -4.01403399,  2.6457365 , -2.00015276,\n",
      "       -2.41416953, -0.86537594,  2.60821781, -3.30716236, -2.00846314,\n",
      "        0.5856739 , -1.31974757,  4.97549085,  0.85912326,  0.16231823,\n",
      "        4.78895253, -0.894443  , -3.69719569,  0.49323922,  2.90520738,\n",
      "       -1.49061519,  0.28778316,  1.9116826 , -4.82550174, -3.78757261,\n",
      "        1.78348816, -2.56329151, -3.4732061 ,  2.09031887,  0.17996168])\n",
      " message: 'Optimization terminated successfully.'\n",
      "     nit: 1889\n"
     ]
    }
   ],
   "source": [
    "# with ramdom initial guess\n",
    "%%snakeviz\n",
    "\n",
    "devoendpoint = 2\n",
    "devotlin = np.linspace(0,devoendpoint,11)\n",
    "\n",
    "devocostF = lambda x: cost(x,devotlin,init)\n",
    "\n",
    "bounds=np.zeros([3*4*5,2])\n",
    "for i in range(3*4*5):\n",
    "    bounds[i,0]=-5\n",
    "    bounds[i,1]=5\n",
    "#print bounds\n",
    "\n",
    "startdevo = timeit.default_timer()\n",
    "devo = differential_evolution(devocostF,bounds,strategy='best1bin',tol=1e-10,maxiter=10000,polish=True)\n",
    "stopdevo = timeit.default_timer()\n",
    "\n",
    "print stopdevo - startdevo\n",
    "\n",
    "print devo\n"
   ]
  },
  {
   "cell_type": "code",
   "execution_count": 28,
   "metadata": {
    "collapsed": false,
    "scrolled": true
   },
   "outputs": [
    {
     "name": "stdout",
     "output_type": "stream",
     "text": [
      "7.17289209366\n",
      "    nfev: 1861\n",
      " success: True\n",
      "     fun: 0.50220275532735592\n",
      "       x: array([ 1.24025196, -1.88835977,  4.12070508,  3.11592914,  4.42746631,\n",
      "       -4.19707414,  3.41163435,  0.39575733, -1.36370922,  0.10272485,\n",
      "       -2.50074836, -0.87324897,  2.5963044 ,  4.9221439 ,  3.10923979,\n",
      "        3.94014244, -4.62658608, -1.89053953, -2.26800682, -3.20219453,\n",
      "        2.64633316,  2.66767086,  4.1280028 ,  1.2258348 ,  1.24287907,\n",
      "        4.58866753, -0.45173114, -1.03266506, -0.16861406,  1.93959417,\n",
      "       -0.96305919, -4.15124674,  3.31256891, -0.26546418,  1.66579996,\n",
      "       -4.49053607, -0.82588613,  2.02271267, -4.28116946,  3.91625742,\n",
      "       -1.35224539, -3.730362  ,  4.52091474,  3.26261582,  3.07828013,\n",
      "       -2.58320648,  0.9280175 ,  4.66541153,  4.14676708,  0.62891694,\n",
      "       -4.81911323,  2.70865828,  1.01728352, -4.96619298,  0.70850557,\n",
      "        2.2863048 ,  2.16242189,  2.20548228,  0.70093172, -4.88308632])\n",
      " message: 'Optimization terminated successfully.'\n",
      "     nit: 1\n"
     ]
    }
   ],
   "source": [
    "devoxmid = devo.x\n",
    "\n",
    "devocostFmid = lambda x: cost(devoxmid,devotlin,init)\n",
    "\n",
    "\n",
    "startdevo = timeit.default_timer()\n",
    "devo = differential_evolution(devocostFmid,bounds,strategy='best1bin',tol=1e-10,maxiter=10000,polish=True)\n",
    "stopdevo = timeit.default_timer()\n",
    "\n",
    "print stopdevo - startdevo\n",
    "\n",
    "print devo"
   ]
  },
  {
   "cell_type": "code",
   "execution_count": 29,
   "metadata": {
    "collapsed": false
   },
   "outputs": [],
   "source": [
    "devoxresult=devo.get(\"x\")"
   ]
  },
  {
   "cell_type": "code",
   "execution_count": 30,
   "metadata": {
    "collapsed": false,
    "scrolled": true
   },
   "outputs": [
    {
     "name": "stdout",
     "output_type": "stream",
     "text": [
      "[ 1.          1.02464006  1.04924836  1.0738231   1.09836243  1.12286438\n",
      "  1.14732688  1.17174779  1.19612485  1.2204557   1.24473788  1.2689688\n",
      "  1.29314577  1.31726596  1.34132643  1.36532411  1.38925577  1.41311807\n",
      "  1.43690751  1.46062044  1.48425305  1.50780138  1.53126131  1.55462852\n",
      "  1.57789856  1.60106676  1.62412828  1.64707808  1.66991095  1.69262145\n",
      "  1.71520394  1.73765259  1.75996132  1.78212387  1.80413371  1.82598413\n",
      "  1.84766816  1.86917859  1.890508    1.91164869  1.93259274  1.953332\n",
      "  1.97385804  1.9941622   2.01423557  2.03406899  2.05365307  2.07297816\n",
      "  2.09203437  2.11081158  2.12929944  2.14748738  2.16536459  2.18292007\n",
      "  2.20014261  2.21702082  2.23354313  2.2496978   2.26547295  2.28085656\n",
      "  2.2958365   2.31040055  2.32453642  2.33823177  2.35147422  2.36425142\n",
      "  2.37655103  2.38836078  2.39966849  2.41046211  2.42072975  2.43045971\n",
      "  2.43964053  2.44826103  2.45631032  2.46377789  2.47065362  2.47692783\n",
      "  2.48259131  2.48763538  2.49205196  2.49583354  2.49897329  2.50146509\n",
      "  2.50330352  2.50448398  2.50500268  2.50485668  2.50404394  2.50256332\n",
      "  2.50041466  2.49759878  2.49411749  2.48997363  2.48517107  2.47971475\n",
      "  2.47361065  2.46686584  2.45948841  2.45148755]\n"
     ]
    }
   ],
   "source": [
    "devoplttlin=np.linspace(0,devoendpoint,100)\n",
    "devopltdata11 = np.array([])\n",
    "for i in devoplttlin:\n",
    "    devopltdata11 = np.append(devopltdata11 ,rho(devoxresult,i,init)[0] )\n",
    "    \n",
    "print devopltdata11"
   ]
  },
  {
   "cell_type": "code",
   "execution_count": 31,
   "metadata": {
    "collapsed": false
   },
   "outputs": [
    {
     "data": {
      "image/png": "[encoded data removed]",
      "text/plain": [
       "<matplotlib.figure.Figure at 0x10a268bd0>"
      ]
     },
     "metadata": {},
     "output_type": "display_data"
    }
   ],
   "source": [
    "plt.figure(figsize=(16,9.36))\n",
    "plt.ylabel('MMArho11')\n",
    "plt.xlabel('Time')\n",
    "plt.plot(devoplttlin,1-(np.sin(2.0)**2)*(np.sin(0.5*devoplttlin) )**2)\n",
    "plt.plot(devoplttlin,devopltdata11,\"b4-\",label=\"devo_vac_rho11\")\n",
    "plt.show()\n",
    "#py.iplot_mpl(plt.gcf(),filename=\"MMA-rho11-Vac-80-60\")"
   ]
  },
  {
   "cell_type": "code",
   "execution_count": null,
   "metadata": {
    "collapsed": false,
    "scrolled": false
   },
   "outputs": [],
   "source": []
  },
  {
   "cell_type": "code",
   "execution_count": null,
   "metadata": {
    "collapsed": false
   },
   "outputs": [],
   "source": [
    "print scipy.__version__"
   ]
  },
  {
   "cell_type": "code",
   "execution_count": 80,
   "metadata": {
    "collapsed": false
   },
   "outputs": [
    {
     "name": "stdout",
     "output_type": "stream",
     "text": [
      "[[-0.95067917 -0.09074367 -4.82398457 -0.7615439  -0.27515522]\n",
      " [-3.33365998 -1.4162127  -2.8632105  -2.7298333  -0.62978916]\n",
      " [-2.52407383 -2.57476616 -4.88282221 -4.65025538 -1.49872754]\n",
      " [-3.15147754 -0.06354641 -2.3908632  -0.86447528 -2.33229558]\n",
      " [-0.5739389  -4.61810188 -0.13228954 -2.58397247 -4.33343592]\n",
      " [-4.83035004 -3.06425551 -0.45936255 -2.91194388 -2.87745423]\n",
      " [-3.93824244 -2.08182497 -3.05850129 -1.92361242 -3.81654995]\n",
      " [-4.19771673 -0.53177727 -3.9155934  -0.04361043 -4.73211585]\n",
      " [-3.68483106 -1.71179777 -1.13691215 -4.794143   -0.47377443]\n",
      " [-3.66788546 -2.8080668  -0.33475682 -4.81757391 -1.18803969]\n",
      " [-3.05637085 -3.98693405 -1.00737055 -2.01300012 -4.43150289]\n",
      " [-2.6875922  -4.52969243 -0.0724917  -3.63840275 -0.79722408]]\n"
     ]
    }
   ],
   "source": [
    "print initGuess"
   ]
  },
  {
   "cell_type": "code",
   "execution_count": null,
   "metadata": {
    "collapsed": true
   },
   "outputs": [],
   "source": []
  }
 ],
 "metadata": {
  "kernelspec": {
   "display_name": "Python 2",
   "language": "python",
   "name": "python2"
  },
  "language_info": {
   "codemirror_mode": {
    "name": "ipython",
    "version": 2
   },
   "file_extension": ".py",
   "mimetype": "text/x-python",
   "name": "python",
   "nbconvert_exporter": "python",
   "pygments_lexer": "ipython2",
   "version": "2.7.6"
  }
 },
 "nbformat": 4,
 "nbformat_minor": 0
}
