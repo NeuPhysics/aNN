{
 "cells": [
  {
   "cell_type": "markdown",
   "metadata": {},
   "source": [
    "## Homogeneous Gas"
   ]
  },
  {
   "cell_type": "markdown",
   "metadata": {},
   "source": [
    "Here is a notebook for homogeneous gas model."
   ]
  },
  {
   "cell_type": "markdown",
   "metadata": {},
   "source": [
    "Here we are talking about a homogeneous gas bulk of neutrinos with single energy. The EoM is\n",
    "$$\n",
    "i \\partial_t \\rho_E = \\left[ \\frac{\\delta m^2}{2E}B +\\lambda L +\\sqrt 2 G_F \\int_0^\\infty dE' ( \\rho_{E'} - \\bar \\rho_{E'} ) ,\\rho_E \\right]\n",
    "$$\n",
    "\n",
    "while the EoM for antineutrinos is\n",
    "$$\n",
    "i \\partial_t \\bar\\rho_E = \\left[- \\frac{\\delta m^2}{2E}B +\\lambda L +\\sqrt 2 G_F \\int_0^\\infty dE' ( \\rho_{E'} - \\bar \\rho_{E'} ) ,\\bar\\rho_E \\right]\n",
    "$$"
   ]
  },
  {
   "cell_type": "markdown",
   "metadata": {
    "collapsed": false
   },
   "source": [
    "Initial:\n",
    "Homogeneous, Isotropic, Monoenergetic $\\nu_e$ and $\\bar\\nu_e$"
   ]
  },
  {
   "cell_type": "markdown",
   "metadata": {},
   "source": [
    "The equations becomes\n",
    "$$\n",
    "i \\partial_t \\rho_E = \\left[ \\frac{\\delta m^2}{2E} B +\\lambda L +\\sqrt 2 G_F   ( \\rho_{E} - \\bar \\rho_{E} ) ,\\rho_E \\right]\n",
    "$$\n",
    "$$\n",
    "i \\partial_t \\bar\\rho_E = \\left[- \\frac{\\delta m^2}{2E}B +\\lambda_b L +\\sqrt 2 G_F ( \\rho_{E} - \\bar \\rho_{E} ) ,\\bar\\rho_E \\right]\n",
    "$$\n",
    "\n"
   ]
  },
  {
   "cell_type": "markdown",
   "metadata": {},
   "source": [
    "Define $\\omega=\\frac{\\delta m^2}{2E}$,  $\\omega = \\frac{\\delta m^2}{-2E}$, $\\mu=\\sqrt{2}G_F n_\\nu$\n",
    "$$\n",
    "i \\partial_t \\rho_E = \\left[ \\omega B +\\lambda L +\\mu   ( \\rho_{E} - \\bar \\rho_{E} ) ,\\rho_E \\right]\n",
    "$$\n",
    "$$\n",
    "i \\partial_t \\bar\\rho_E = \\left[\\bar\\omega B +\\bar\\lambda L +\\mu ( \\rho_{E} - \\bar \\rho_{E} ) ,\\bar\\rho_E \\right]\n",
    "$$\n"
   ]
  },
  {
   "cell_type": "markdown",
   "metadata": {},
   "source": [
    "where\n",
    "\n",
    "$$\n",
    "B = \\frac{1}{2} \\begin{pmatrix} \n",
    "-\\cos 2\\theta_v & \\sin 2\\theta_v \\\\\n",
    "\\sin 2\\theta_v & \\cos 2\\theta_v\n",
    "\\end{pmatrix} = \n",
    "\\begin{pmatrix} \n",
    "-0.38729833462 & 0.31622776601\\\\\n",
    "0.31622776601 & 0.38729833462\n",
    "\\end{pmatrix}\n",
    "$$\n",
    "\n",
    "$$\n",
    "L = \\begin{pmatrix}\n",
    "1 & 0 \\\\\n",
    "0 & 0\n",
    "\\end{pmatrix}\n",
    "$$\n",
    "\n",
    "Initial condition \n",
    "$$\n",
    "\\rho(t=0) = \\begin{pmatrix}\n",
    "1 & 0 \\\\\n",
    "0 & 0\n",
    "\\end{pmatrix}\n",
    "$$\n",
    "\n",
    "$$\n",
    "\\bar\\rho(t=0) =\\begin{pmatrix}\n",
    "1 & 0 \\\\\n",
    "0 & 0\n",
    "\\end{pmatrix}\n",
    "$$"
   ]
  },
  {
   "cell_type": "markdown",
   "metadata": {},
   "source": [
    "define the following quantities\n",
    "\n",
    "1. hbar$=\\hbar$\n",
    "2. delm2E$= \\delta m^2/2E$\n",
    "3. lamb $= \\lambda$, lambb $= \\bar\\lambda$\n",
    "4. gF $= G_F$\n",
    "5. mu $=\\mu$\n",
    "6. omega $=\\omega$, omegab $=\\bar\\omega$"
   ]
  },
  {
   "cell_type": "markdown",
   "metadata": {},
   "source": [
    "## Numerical"
   ]
  },
  {
   "cell_type": "code",
   "execution_count": 227,
   "metadata": {
    "collapsed": false
   },
   "outputs": [
    {
     "name": "stdout",
     "output_type": "stream",
     "text": [
      "The snakeviz extension is already loaded. To reload it, use:\n",
      "  %reload_ext snakeviz\n"
     ]
    }
   ],
   "source": [
    "# This line configures matplotlib to show figures embedded in the notebook, \n",
    "# instead of opening a new window for each figure. More about that later. \n",
    "# If you are using an old version of IPython, try using '%pylab inline' instead.\n",
    "%matplotlib inline\n",
    "%load_ext snakeviz\n",
    "\n",
    "import numpy as np\n",
    "from scipy.optimize import minimize\n",
    "from scipy.special import expit\n",
    "import matplotlib.pyplot as plt\n",
    "\n",
    "from matplotlib.lines import Line2D\n",
    "\n",
    "import timeit\n",
    "\n",
    "import pandas as pd\n",
    "\n",
    "import plotly.plotly as py\n",
    "from plotly.graph_objs import *\n",
    "import plotly.tools as tls"
   ]
  },
  {
   "cell_type": "code",
   "execution_count": 228,
   "metadata": {
    "collapsed": false
   },
   "outputs": [],
   "source": [
    "# hbar=1.054571726*10**(-34)\n",
    "hbar=1\n",
    "delm2E=1\n",
    "lamb=1  ## lambda for neutrinos\n",
    "lambb=1 ## lambda for anti neutrinos\n",
    "gF=1\n",
    "nd=1  ## number density\n",
    "ndb=1   ## number density\n",
    "omega=1\n",
    "omegab=1\n",
    "\n",
    "## Here are some matrices to be used\n",
    "\n",
    "elM = np.array([[1,0],[0,0]])\n",
    "bM = 1/2*np.array( [ [ - 0.38729833462,0.31622776601] , [0.31622776601,0.38729833462] ] )\n",
    "\n",
    "## sqareroot of 2\n",
    "sqrt2=np.sqrt(2)"
   ]
  },
  {
   "cell_type": "markdown",
   "metadata": {},
   "source": [
    "Using Mathematica, I can find the 4\\*2 equations"
   ]
  },
  {
   "cell_type": "code",
   "execution_count": 229,
   "metadata": {
    "collapsed": true
   },
   "outputs": [],
   "source": [
    "\n",
    "#r11prime(t)\n",
    "\n",
    "## The matrix eqn for neutrinos. Symplify the equation to the form A.X=0. Here I am only writing down the LHS.\n",
    "## Eqn for r11'\n",
    "# 1/2*( r21(t)*( bM12*delm2E - 2*sqrt2*gF*rb12(t) ) + r12(t) * ( -bM21*delm2E + 2*sqrt2*gF*rb21(t) ) - 1j*r11prime(t)  )\n",
    "## Eqn for r12'\n",
    "# 1/2*( r22(t)* ( bM12 ) )\n",
    "\n",
    "### wait a minute I don't actually need to write down this. I can just do this part in numpy."
   ]
  },
  {
   "cell_type": "markdown",
   "metadata": {},
   "source": [
    "I am going to substitute all density matrix elements using their corrosponding network expressions.\n",
    "\n",
    "So first of all, I need the network expression for the unknown functions.\n",
    "\n",
    "A function is written as\n",
    "\n",
    "$$ y_i= 1+t_i v_k f(t_i w_k+u_k) ,$$\n",
    "\n",
    "while it's derivative is\n",
    "\n",
    "$$v_k f(t w_k+u_k) + t v_k f(tw_k+u_k) (1-f(tw_k+u_k)) w_k .$$\n",
    "\n",
    "Now I can write down the equations using these two forms."
   ]
  },
  {
   "cell_type": "code",
   "execution_count": 230,
   "metadata": {
    "collapsed": true
   },
   "outputs": [],
   "source": [
    "def trigf(x):\n",
    "    #return 1/(1+np.exp(-x)) # It's not bad to define this function here for people could use other functions other than expit(x).\n",
    "    return expit(x)"
   ]
  },
  {
   "cell_type": "code",
   "execution_count": null,
   "metadata": {
    "collapsed": true
   },
   "outputs": [],
   "source": []
  },
  {
   "cell_type": "code",
   "execution_count": 231,
   "metadata": {
    "collapsed": false
   },
   "outputs": [],
   "source": [
    "## The time derivative part\n",
    "\n",
    "### Here are the initial conditions\n",
    "\n",
    "init = np.array( [[1,0],[0,0]] )\n",
    "initb = np.array([[0,0],[0,0]])\n",
    "\n",
    "### For neutrinos\n",
    "\n",
    "def rho(x,ti,initialCondition): # x is the input structure arrays, ti is a time point\n",
    "\n",
    "    v11,w11,u11,v12,w12,u12,v21,w21,u21,v22,w22,u22 = np.split(x,12)[:12]\n",
    "        \n",
    "    elem11= np.sum(ti * v11 * trigf( ti*w11 +u11 ) )\n",
    "    elem12= np.sum(ti * v12 * trigf( ti*w12 +u12 ) )\n",
    "    elem21= np.sum(ti * v21 * trigf( ti*w21 +u21 ) )\n",
    "    elem22= np.sum(ti * v22 * trigf( ti*w22 +u22 ) )\n",
    "    \n",
    "    return initialCondition + np.array([[ elem11 , elem12 ],[elem21, elem22]])\n",
    "\n",
    "def rhob(xb,ti,initialConditionb): # x is the input structure arrays, ti is a time point\n",
    "\n",
    "    vb11,wb11,ub11,vb12,wb12,ub12,vb21,wb21,ub21,vb22,wb22,ub22 = np.split(xb,12)[:12]\n",
    "\n",
    "    elem11= np.sum(ti * vb11 * trigf( ti*wb11 +ub11 ) )\n",
    "    elem12= np.sum(ti * vb12 * trigf( ti*wb12 +ub12 ) )\n",
    "    elem21= np.sum(ti * vb21 * trigf( ti*wb21 +ub21 ) )\n",
    "    elem22= np.sum(ti * vb22 * trigf( ti*wb22 +ub22 ) )\n",
    "    \n",
    "    return initialConditionb + np.array([[ elem11 , elem12 ],[elem21, elem22]])\n",
    "\n"
   ]
  },
  {
   "cell_type": "code",
   "execution_count": 232,
   "metadata": {
    "collapsed": false,
    "scrolled": true
   },
   "outputs": [
    {
     "data": {
      "text/plain": [
       "array([[ 9.80797078,  8.80797078],\n",
       "       [ 8.80797078,  8.80797078]])"
      ]
     },
     "execution_count": 232,
     "metadata": {},
     "output_type": "execute_result"
    }
   ],
   "source": [
    "## Test\n",
    "xtemp=np.ones(120)\n",
    "rho(xtemp,1,init)"
   ]
  },
  {
   "cell_type": "code",
   "execution_count": 233,
   "metadata": {
    "collapsed": true
   },
   "outputs": [],
   "source": [
    "## Define Hamiltonians for both\n",
    "\n",
    "def hamil(x,xb,ti,initialCondition,initialConditionb):\n",
    "    \n",
    "    return delm2E*bM + lamb*elM + sqrt2*gF*( rho(x,ti,initialCondition) - rhob(xb,ti,initialConditionb) )\n",
    "\n",
    "\n",
    "def hamilb(x,xb,ti,initialCondition,initialConditionb):\n",
    "    \n",
    "    return -delm2E*bM + lambb*elM + sqrt2*gF*( rho(x,ti,initialCondition) - rhob(xb,ti,initialConditionb) )"
   ]
  },
  {
   "cell_type": "code",
   "execution_count": 234,
   "metadata": {
    "collapsed": true
   },
   "outputs": [],
   "source": [
    "## The commutator\n",
    "\n",
    "def comm(x,xb,ti,initialCondition,initialConditionb):\n",
    "    \n",
    "    return np.dot(hamil(x,xb,ti,initialCondition,initialConditionb), rho(x,ti,initialCondition) ) - np.dot(rho(x,ti,initialCondition), hamil(x,xb,ti,initialCondition,initialConditionb) )\n",
    "\n",
    "def commb(x,xb,ti,initialCondition,initialConditionb):\n",
    "    \n",
    "    return np.dot(hamilb(x,xb,ti,initialCondition,initialConditionb), rhob(xb,ti,initialConditionb) ) - np.dot(rhob(xb,ti,initialConditionb), hamilb(x,xb,ti,initialCondition,initialConditionb) )\n"
   ]
  },
  {
   "cell_type": "code",
   "execution_count": 235,
   "metadata": {
    "collapsed": false
   },
   "outputs": [
    {
     "name": "stdout",
     "output_type": "stream",
     "text": [
      "neutrino\n",
      "[[  0.          21.26432251]\n",
      " [-21.26432251   0.        ]]\n",
      "antineutrino\n",
      "[[ 0.          9.86899694]\n",
      " [-9.86899694  0.        ]]\n"
     ]
    }
   ],
   "source": [
    "## Test\n",
    "\n",
    "print \"neutrino\\n\",comm(xtemp,xtemp,1,init,initb)\n",
    "print \"antineutrino\\n\",commb(xtemp,xtemp,0.5,init,initb)"
   ]
  },
  {
   "cell_type": "code",
   "execution_count": 236,
   "metadata": {
    "collapsed": false
   },
   "outputs": [],
   "source": [
    "## The COST of the eqn set\n",
    "\n",
    "def costTi(x,xb,ti,initialCondition,initialConditionb):\n",
    "    \n",
    "    v11,w11,u11,v12,w12,u12,v21,w21,u21,v22,w22,u22 = np.split(x,12)[:12]\n",
    "    vb11,wb11,ub11,vb12,wb12,ub12,vb21,wb21,ub21,vb22,wb22,ub22 = np.split(xb,12)[:12]\n",
    "    \n",
    "    fvec11 = np.array(trigf(ti*w11 + u11) )  # This is a vector!!!\n",
    "    fvec12 = np.array(trigf(ti*w12 + u12) )\n",
    "    fvec21 = np.array(trigf(ti*w21 + u21) )\n",
    "    fvec22 = np.array(trigf(ti*w22 + u22) )\n",
    "    \n",
    "    fvecb11 = np.array(trigf(ti*wb11 + ub11) )  # This is a vector!!!\n",
    "    fvecb12 = np.array(trigf(ti*wb12 + ub12) )\n",
    "    fvecb21 = np.array(trigf(ti*wb21 + ub21) )\n",
    "    fvecb22 = np.array(trigf(ti*wb22 + ub22) )\n",
    "    \n",
    "    \n",
    "    costi11= ( np.sum (v11*fvec11 + ti * v11* fvec11 * ( 1 -  fvec11  ) * w11 ) + 1j*  ( comm(x,xb,ti,initialCondition,initialConditionb)[0,0] )  )  \n",
    "    costi12= ( np.sum (v12*fvec12 + ti * v12* fvec12 * ( 1 -  fvec12  ) * w12 ) + 1j*  ( comm(x,xb,ti,initialCondition,initialConditionb)[0,1] )  )  \n",
    "    costi21= ( np.sum (v21*fvec21 + ti * v21* fvec21 * ( 1 -  fvec21  ) * w21 ) + 1j*  ( comm(x,xb,ti,initialCondition,initialConditionb)[1,0] )  )  \n",
    "    costi22= ( np.sum (v22*fvec22 + ti * v22* fvec22 * ( 1 -  fvec22  ) * w22 ) + 1j*  ( comm(x,xb,ti,initialCondition,initialConditionb)[1,1] )  )  \n",
    "\n",
    "    costbi11= ( np.sum (vb11*fvecb11 + ti * vb11* fvecb11 * ( 1 -  fvecb11  ) * wb11 ) + 1j*  ( commb(x,xb,ti,initialCondition,initialConditionb)[0,0] )  )  \n",
    "    costbi12= ( np.sum (vb12*fvecb12 + ti * vb12* fvecb12 * ( 1 -  fvecb12  ) * wb12 ) + 1j*  ( commb(x,xb,ti,initialCondition,initialConditionb)[0,1] )  )  \n",
    "    costbi21= ( np.sum (vb21*fvecb21 + ti * vb21* fvecb21 * ( 1 -  fvecb21  ) * wb21 ) + 1j*  ( commb(x,xb,ti,initialCondition,initialConditionb)[1,0] )  )  \n",
    "    costbi22= ( np.sum (vb22*fvecb22 + ti * vb22* fvecb22 * ( 1 -  fvecb22  ) * wb22 ) + 1j*  ( commb(x,xb,ti,initialCondition,initialConditionb)[1,1] )  )  \n",
    "    \n",
    "    return (np.real(costi11))**2 + (np.real(costi12))**2+ (np.real(costi21))**2 +  (np.real(costi22))**2 + (np.real(costbi11))**2 + (np.real(costbi12))**2 +(np.real(costbi21))**2 + (np.real(costbi22))**2 + (np.imag(costi11))**2 + (np.imag(costi12))**2+ (np.imag(costi21))**2 +  (np.imag(costi22))**2 + (np.imag(costbi11))**2 + (np.imag(costbi12))**2 +(np.imag(costbi21))**2 + (np.imag(costbi22))**2    \n"
   ]
  },
  {
   "cell_type": "code",
   "execution_count": 237,
   "metadata": {
    "collapsed": false
   },
   "outputs": [
    {
     "data": {
      "text/plain": [
       "427.55731631081869"
      ]
     },
     "execution_count": 237,
     "metadata": {},
     "output_type": "execute_result"
    }
   ],
   "source": [
    "costTi(xtemp,xtemp,0,init,initb)"
   ]
  },
  {
   "cell_type": "code",
   "execution_count": 238,
   "metadata": {
    "collapsed": true
   },
   "outputs": [],
   "source": [
    "## Calculate the total cost\n",
    "\n",
    "def cost(xtot,t,initialCondition,initialConditionb):\n",
    "    \n",
    "    x,xb = np.split(xtot,2)[:2]\n",
    "\n",
    "    t = np.array(t)\n",
    "    \n",
    "    costTotal = np.sum( costTList(x,xb,t,initialCondition,initialConditionb)  )\n",
    "        \n",
    "    return costTotal\n",
    "    \n",
    "\n",
    "def costTList(x,xb,t,initialCondition,initialConditionb):  ## This is the function WITHOUT the square!!! \n",
    "        \n",
    "    t = np.array(t)\n",
    "    \n",
    "    costList = np.asarray([])\n",
    "    \n",
    "    for temp in t:\n",
    "        tempElement = costTi(x,xb,temp,initialCondition,initialConditionb)\n",
    "        costList = np.append(costList, tempElement)\n",
    "        \n",
    "    return np.array(costList)\n",
    "\n",
    "    "
   ]
  },
  {
   "cell_type": "code",
   "execution_count": 239,
   "metadata": {
    "collapsed": false
   },
   "outputs": [
    {
     "name": "stdout",
     "output_type": "stream",
     "text": [
      "[  0.           0.20408163   0.40816327   0.6122449    0.81632653\n",
      "   1.02040816   1.2244898    1.42857143   1.63265306   1.83673469\n",
      "   2.04081633   2.24489796   2.44897959   2.65306122   2.85714286\n",
      "   3.06122449   3.26530612   3.46938776   3.67346939   3.87755102\n",
      "   4.08163265   4.28571429   4.48979592   4.69387755   4.89795918\n",
      "   5.10204082   5.30612245   5.51020408   5.71428571   5.91836735\n",
      "   6.12244898   6.32653061   6.53061224   6.73469388   6.93877551\n",
      "   7.14285714   7.34693878   7.55102041   7.75510204   7.95918367\n",
      "   8.16326531   8.36734694   8.57142857   8.7755102    8.97959184\n",
      "   9.18367347   9.3877551    9.59183673   9.79591837  10.        ]\n"
     ]
    }
   ],
   "source": [
    "ttemp = np.linspace(0,10)\n",
    "print ttemp"
   ]
  },
  {
   "cell_type": "code",
   "execution_count": 240,
   "metadata": {
    "collapsed": false
   },
   "outputs": [
    {
     "name": "stdout",
     "output_type": "stream",
     "text": [
      "[    427.55731631     576.4910937      853.37726656    1282.49988421\n",
      "    1884.10392755    2673.91751306    3663.20708292    4859.23007651\n",
      "    6265.9208822     7884.65985964    9715.0132345    11755.37565319\n",
      "   14003.48530838   16456.80879099   19112.80902104   21969.11701801\n",
      "   25023.62977467   28274.5546376    31720.41721704   35360.04611511\n",
      "   39192.54430487   43217.25409161   47433.72030466   51841.65465775\n",
      "   56440.90298664   61231.41622272   66213.22539729   71386.4206155\n",
      "   76751.13372951   82307.52433125   88055.76864167   93996.05087228\n",
      "  100128.55665759  106453.46819441  112970.96076627  119681.20037537\n",
      "  126584.34224643  133680.53000561  140969.89537205  148452.5582301\n",
      "  156128.62697564  163998.19905246  172061.36161212  180318.1922465\n",
      "  188768.75975409  197413.12491109  206251.3412265   215283.45566646\n",
      "  224509.50933817  233929.53812735]\n",
      "987353.364647\n"
     ]
    }
   ],
   "source": [
    "ttemp = np.linspace(0,10)\n",
    "print costTList(xtemp,xtemp,ttemp,init,initb)\n",
    "print cost(xtemp,ttemp,init,initb)"
   ]
  },
  {
   "cell_type": "code",
   "execution_count": null,
   "metadata": {
    "collapsed": true
   },
   "outputs": [],
   "source": []
  },
  {
   "cell_type": "markdown",
   "metadata": {
    "collapsed": true
   },
   "source": [
    "## Minimization"
   ]
  },
  {
   "cell_type": "markdown",
   "metadata": {
    "collapsed": true
   },
   "source": [
    "Here is the minimization"
   ]
  },
  {
   "cell_type": "code",
   "execution_count": 241,
   "metadata": {
    "collapsed": true
   },
   "outputs": [],
   "source": [
    "tlin = np.linspace(0,5,11)\n",
    "initGuess = np.ones(120)\n",
    "# initGuess = np.random.rand(1,30)+2\n",
    "\n",
    "costF = lambda x: cost(x,tlin,init,initb)"
   ]
  },
  {
   "cell_type": "code",
   "execution_count": 242,
   "metadata": {
    "collapsed": false
   },
   "outputs": [
    {
     "data": {
      "text/plain": [
       "56816.469961988369"
      ]
     },
     "execution_count": 242,
     "metadata": {},
     "output_type": "execute_result"
    }
   ],
   "source": [
    "cost(initGuess,tlin,init,initb)"
   ]
  },
  {
   "cell_type": "code",
   "execution_count": 245,
   "metadata": {
    "collapsed": false
   },
   "outputs": [],
   "source": [
    "## %%snakeviz\n",
    "# startCG = timeit.default_timer()\n",
    "#costFResultCG = minimize(costF,initGuess,method=\"CG\")\n",
    "#stopCG = timeit.default_timer()\n",
    "\n",
    "#print stopCG - startCG\n",
    "\n",
    "#print costFResultCG"
   ]
  },
  {
   "cell_type": "code",
   "execution_count": 246,
   "metadata": {
    "collapsed": false
   },
   "outputs": [
    {
     "name": "stdout",
     "output_type": "stream",
     "text": [
      "3057.44734216\n",
      "  status: 9\n",
      " success: False\n",
      "    njev: 101\n",
      "    nfev: 12590\n",
      "     fun: 1.5214474978779176\n",
      "       x: array([  6.16523378e-01,   2.71404053e-01,   3.09618630e-01,\n",
      "        -1.35260955e+00,  -6.29867412e-02,   1.69061365e+00,\n",
      "        -5.74290729e-01,   9.66265353e-01,   1.33156351e+00,\n",
      "         4.50975284e-01,  -3.58411418e+00,   5.54024256e+00,\n",
      "        -1.22467746e-01,  -1.31196713e+00,  -2.95756928e+00,\n",
      "         5.67726370e-02,   2.09127459e+00,  -8.47903402e-01,\n",
      "        -1.75136006e+00,   7.18039006e-02,   4.41084633e-01,\n",
      "         3.30445327e+00,   8.77009081e-02,   4.09789995e+00,\n",
      "         1.07095975e+00,  -2.11230775e+00,  -2.38244387e+00,\n",
      "        -2.54078754e-01,  -3.28682080e+00,  -1.29151104e+00,\n",
      "         4.51088510e-01,   1.04609401e+00,  -1.38556714e+00,\n",
      "        -2.22045980e-01,  -3.24293421e-01,   2.98245029e+00,\n",
      "         1.09576036e+00,   1.34269619e+00,  -1.24639206e+00,\n",
      "         4.80505369e-01,  -1.61808300e+00,   2.03300951e+00,\n",
      "         2.22117371e-01,   3.07760634e+00,  -3.36321715e+00,\n",
      "        -4.13798123e-01,  -3.72744565e-01,   1.20875288e-01,\n",
      "         1.67463263e-01,   6.63501563e-01,   1.88424720e+00,\n",
      "         2.31687547e+00,   1.56684765e+00,   5.69620648e+00,\n",
      "         2.31323166e+00,  -3.46998848e+00,  -4.13574026e+00,\n",
      "        -4.57768356e+00,   7.16422759e-01,  -4.08956033e+00,\n",
      "        -7.84475843e-01,  -2.67271366e-01,   8.02204945e-01,\n",
      "        -9.16563368e-02,   3.61619371e-01,   3.82062249e+00,\n",
      "         3.07263291e+00,   3.69757334e+00,   2.76237796e+00,\n",
      "         2.62640078e+00,  -1.56719873e+01,  -1.59238998e+01,\n",
      "        -1.50130267e+01,  -1.15842552e+01,  -1.30114130e+01,\n",
      "         1.35094793e-02,  -1.32116474e-02,   9.95157066e-03,\n",
      "         1.29163825e-02,  -2.46099728e-02,   3.37696923e+00,\n",
      "         3.38824527e+00,   3.37901188e+00,   3.37386322e+00,\n",
      "         3.39718257e+00,   1.16131000e+00,   1.18715287e+00,\n",
      "         1.16460997e+00,   1.16387145e+00,   1.19520306e+00,\n",
      "        -2.59198280e-03,  -4.89777268e-04,   7.00673016e-04,\n",
      "        -1.75839298e-03,  -4.33839407e-05,  -2.85682944e-01,\n",
      "        -2.89326565e-01,  -2.92033596e-01,  -2.88295912e-01,\n",
      "        -2.91317351e-01,   1.07396723e+01,   1.07368451e+01,\n",
      "         1.07395561e+01,   1.07403570e+01,   1.07397580e+01,\n",
      "        -6.20705408e-01,   2.44300698e-01,   8.47297096e-01,\n",
      "         1.62045442e-02,  -4.01166270e-01,   1.81343602e+00,\n",
      "         2.99699737e+00,   3.91781666e-01,   5.47141469e+00,\n",
      "         1.45810600e+00,  -1.80032324e+00,  -9.09704941e+00,\n",
      "        -7.19121235e-01,  -1.18050532e+01,  -4.55868710e+00])\n",
      " message: 'Iteration limit exceeded'\n",
      "     jac: array([ -3.81929483e+00,  -3.66415879e+00,  -4.16478182e+00,\n",
      "        -4.31940439e+00,  -1.44470005e+00,  -7.01518059e-01,\n",
      "        -4.17479932e-01,  -1.40955448e-01,   8.65729585e-01,\n",
      "         3.03876504e-01,  -3.38315010e-01,  -7.74542540e-02,\n",
      "         4.39363718e-03,   1.47662103e-01,   5.72954416e-02,\n",
      "        -1.20305511e+00,  -2.38993210e+00,  -1.44372140e+00,\n",
      "        -2.44675651e+00,  -2.13746487e+00,  -1.49465755e-01,\n",
      "        -2.34031513e-01,   2.25164413e+00,   1.74007490e-01,\n",
      "        -1.36821568e-02,  -3.22903991e-02,  -1.10162973e-01,\n",
      "         5.79837710e-01,   1.80374086e-02,  -1.60527527e-02,\n",
      "         2.15040761e+00,   2.15100794e+00,   2.14986987e+00,\n",
      "         8.44582766e-02,   3.92525151e-01,   5.28861582e-03,\n",
      "         7.68207014e-03,  -9.76911187e-03,  -2.12936401e-01,\n",
      "        -4.07969266e-01,   1.95489824e-03,   1.59545243e-03,\n",
      "        -2.11451948e-03,  -3.75147462e-02,  -1.10182509e-01,\n",
      "         3.41868350e+00,   3.38008510e+00,   3.64998640e+00,\n",
      "         3.42867766e+00,   3.37937702e+00,   7.96302259e-02,\n",
      "         4.01490629e-02,  -1.91701800e-02,  -7.96869397e-04,\n",
      "        -6.83189183e-02,   2.29483098e-02,   9.12964344e-03,\n",
      "        -1.56134516e-02,   5.11689484e-03,  -1.51303709e-02,\n",
      "         1.24832731e+00,   1.18084389e+00,   1.28289914e+00,\n",
      "         1.34981449e+00,   1.29138477e+00,  -2.30906978e-01,\n",
      "        -6.61452308e-01,   3.54416251e-01,  -9.71782207e-03,\n",
      "         4.78764087e-01,  -8.11762661e-02,  -1.18529588e-01,\n",
      "         1.11289710e-01,  -3.96564603e-03,   7.82958865e-02,\n",
      "         3.65035951e-01,   3.64869386e-01,   3.65012378e-01,\n",
      "         3.65033284e-01,   3.64801228e-01,  -4.50909138e-05,\n",
      "         4.26620245e-05,  -3.30507755e-05,  -4.31090593e-05,\n",
      "         7.83354044e-05,  -6.87539577e-05,   6.52372837e-05,\n",
      "        -5.04255295e-05,  -6.56843185e-05,   1.19969249e-04,\n",
      "        -2.07443778e+00,  -2.07443511e+00,  -2.07443379e+00,\n",
      "        -2.07443625e+00,  -2.07443431e+00,   1.59442425e-06,\n",
      "         2.98023224e-07,  -4.32133675e-07,   1.08778477e-06,\n",
      "         2.98023224e-08,   3.72529030e-07,   7.45058060e-08,\n",
      "        -1.04308128e-07,   2.68220901e-07,   0.00000000e+00,\n",
      "        -2.30577907e+00,  -8.69387388e-02,  -1.14019977e+00,\n",
      "        -2.46518558e+00,  -7.78518677e-01,   1.45494670e-01,\n",
      "        -1.46716550e-01,  -1.35665645e+00,  -2.29002684e-02,\n",
      "         3.87505159e-01,  -9.05794650e-02,  -8.54256600e-02,\n",
      "        -3.27642784e-01,  -1.00630224e-02,   1.79838151e-01,\n",
      "         0.00000000e+00])\n",
      "     nit: 101\n",
      " \n",
      "*** Profile stats marshalled to file u'/var/folders/mj/1sl30v6x2g5_lnlgdnngtd3c0000gn/T/tmprwsTwL'. \n"
     ]
    }
   ],
   "source": [
    "%%snakeviz\n",
    "startSLSQP = timeit.default_timer()\n",
    "costFResultSLSQP = minimize(costF,initGuess,method=\"SLSQP\")\n",
    "stopSLSQP = timeit.default_timer()\n",
    "\n",
    "print stopSLSQP - startSLSQP\n",
    "\n",
    "print costFResultSLSQP"
   ]
  },
  {
   "cell_type": "code",
   "execution_count": 247,
   "metadata": {
    "collapsed": false
   },
   "outputs": [
    {
     "data": {
      "text/plain": [
       "array([  6.16523378e-01,   2.71404053e-01,   3.09618630e-01,\n",
       "        -1.35260955e+00,  -6.29867412e-02,   1.69061365e+00,\n",
       "        -5.74290729e-01,   9.66265353e-01,   1.33156351e+00,\n",
       "         4.50975284e-01,  -3.58411418e+00,   5.54024256e+00,\n",
       "        -1.22467746e-01,  -1.31196713e+00,  -2.95756928e+00,\n",
       "         5.67726370e-02,   2.09127459e+00,  -8.47903402e-01,\n",
       "        -1.75136006e+00,   7.18039006e-02,   4.41084633e-01,\n",
       "         3.30445327e+00,   8.77009081e-02,   4.09789995e+00,\n",
       "         1.07095975e+00,  -2.11230775e+00,  -2.38244387e+00,\n",
       "        -2.54078754e-01,  -3.28682080e+00,  -1.29151104e+00,\n",
       "         4.51088510e-01,   1.04609401e+00,  -1.38556714e+00,\n",
       "        -2.22045980e-01,  -3.24293421e-01,   2.98245029e+00,\n",
       "         1.09576036e+00,   1.34269619e+00,  -1.24639206e+00,\n",
       "         4.80505369e-01,  -1.61808300e+00,   2.03300951e+00,\n",
       "         2.22117371e-01,   3.07760634e+00,  -3.36321715e+00,\n",
       "        -4.13798123e-01,  -3.72744565e-01,   1.20875288e-01,\n",
       "         1.67463263e-01,   6.63501563e-01,   1.88424720e+00,\n",
       "         2.31687547e+00,   1.56684765e+00,   5.69620648e+00,\n",
       "         2.31323166e+00,  -3.46998848e+00,  -4.13574026e+00,\n",
       "        -4.57768356e+00,   7.16422759e-01,  -4.08956033e+00,\n",
       "        -7.84475843e-01,  -2.67271366e-01,   8.02204945e-01,\n",
       "        -9.16563368e-02,   3.61619371e-01,   3.82062249e+00,\n",
       "         3.07263291e+00,   3.69757334e+00,   2.76237796e+00,\n",
       "         2.62640078e+00,  -1.56719873e+01,  -1.59238998e+01,\n",
       "        -1.50130267e+01,  -1.15842552e+01,  -1.30114130e+01,\n",
       "         1.35094793e-02,  -1.32116474e-02,   9.95157066e-03,\n",
       "         1.29163825e-02,  -2.46099728e-02,   3.37696923e+00,\n",
       "         3.38824527e+00,   3.37901188e+00,   3.37386322e+00,\n",
       "         3.39718257e+00,   1.16131000e+00,   1.18715287e+00,\n",
       "         1.16460997e+00,   1.16387145e+00,   1.19520306e+00,\n",
       "        -2.59198280e-03,  -4.89777268e-04,   7.00673016e-04,\n",
       "        -1.75839298e-03,  -4.33839407e-05,  -2.85682944e-01,\n",
       "        -2.89326565e-01,  -2.92033596e-01,  -2.88295912e-01,\n",
       "        -2.91317351e-01,   1.07396723e+01,   1.07368451e+01,\n",
       "         1.07395561e+01,   1.07403570e+01,   1.07397580e+01,\n",
       "        -6.20705408e-01,   2.44300698e-01,   8.47297096e-01,\n",
       "         1.62045442e-02,  -4.01166270e-01,   1.81343602e+00,\n",
       "         2.99699737e+00,   3.91781666e-01,   5.47141469e+00,\n",
       "         1.45810600e+00,  -1.80032324e+00,  -9.09704941e+00,\n",
       "        -7.19121235e-01,  -1.18050532e+01,  -4.55868710e+00])"
      ]
     },
     "execution_count": 247,
     "metadata": {},
     "output_type": "execute_result"
    }
   ],
   "source": [
    "costFResultSLSQP.get('x')"
   ]
  },
  {
   "cell_type": "code",
   "execution_count": 248,
   "metadata": {
    "collapsed": false
   },
   "outputs": [],
   "source": [
    "np.savetxt('./assets/homogen/optimize_ResultSLSQP.txt', costFResultSLSQP.get('x'), delimiter = ',')"
   ]
  },
  {
   "cell_type": "code",
   "execution_count": null,
   "metadata": {
    "collapsed": true
   },
   "outputs": [],
   "source": []
  },
  {
   "cell_type": "code",
   "execution_count": null,
   "metadata": {
    "collapsed": true
   },
   "outputs": [],
   "source": []
  },
  {
   "cell_type": "code",
   "execution_count": null,
   "metadata": {
    "collapsed": true
   },
   "outputs": [],
   "source": []
  },
  {
   "cell_type": "code",
   "execution_count": null,
   "metadata": {
    "collapsed": true
   },
   "outputs": [],
   "source": []
  },
  {
   "cell_type": "code",
   "execution_count": null,
   "metadata": {
    "collapsed": true
   },
   "outputs": [],
   "source": []
  },
  {
   "cell_type": "markdown",
   "metadata": {},
   "source": [
    "## Functions"
   ]
  },
  {
   "cell_type": "markdown",
   "metadata": {},
   "source": [
    "Find the solutions to each elements."
   ]
  },
  {
   "cell_type": "code",
   "execution_count": 258,
   "metadata": {
    "collapsed": false
   },
   "outputs": [
    {
     "name": "stdout",
     "output_type": "stream",
     "text": [
      "[ 1.          1.00666019  1.01222439  1.01662401  1.01979312  1.02166934\n",
      "  1.02219489  1.02131763  1.01899216  1.01518085  1.00985492  1.00299546\n",
      "  0.99459436  0.98465516  0.9731938   0.96023925  0.94583389  0.93003382\n",
      "  0.91290885  0.89454238  0.87503097  0.85448368  0.83302119  0.81077465\n",
      "  0.78788432  0.76449796  0.74076903  0.71685469  0.69291373  0.66910428\n",
      "  0.64558156  0.62249554  0.59998868  0.57819376  0.55723185  0.53721044\n",
      "  0.51822193  0.50034234  0.48363036  0.46812682  0.45385451  0.44081843\n",
      "  0.42900636  0.41838985  0.4089255   0.40055653  0.39321457  0.38682157\n",
      "  0.38129186  0.37653417  0.37245369  0.36895394  0.36593856  0.36331296\n",
      "  0.36098565  0.35886946  0.35688246  0.35494871  0.35299871  0.35096974\n",
      "  0.34880599  0.34645849  0.34388494  0.34104948  0.33792226  0.33447909\n",
      "  0.33070092  0.32657339  0.32208632  0.31723323  0.31201085  0.30641869\n",
      "  0.3004586   0.29413438  0.28745142  0.28041638  0.27303688  0.26532129\n",
      "  0.25727843  0.24891746  0.24024762  0.23127818  0.22201826  0.21247675\n",
      "  0.20266223  0.19258291  0.18224659  0.1716606   0.16083178  0.1497665\n",
      "  0.13847057  0.12694935  0.11520764  0.10324977  0.09107956  0.07870035\n",
      "  0.06611504  0.05332606  0.04033541  0.0271447 ]\n",
      "[ 0.          0.00585217  0.01254106  0.01986127  0.02761487  0.03563051\n",
      "  0.04377163  0.05193671  0.06005484  0.06807958  0.07598274  0.08374926\n",
      "  0.09137308  0.09885431  0.10619722  0.11340903  0.12049913  0.12747868\n",
      "  0.13436034  0.14115814  0.14788729  0.15456395  0.16120492  0.16782721\n",
      "  0.17444739  0.18108095  0.18774146  0.19443973  0.20118298  0.20797411\n",
      "  0.21481118  0.22168705  0.22858952  0.23550168  0.24240279  0.24926941\n",
      "  0.25607693  0.26280124  0.26942051  0.27591683  0.28227774  0.28849741\n",
      "  0.29457735  0.30052677  0.30636243  0.31210804  0.31779333  0.32345288\n",
      "  0.32912466  0.3348486   0.34066508  0.34661354  0.35273123  0.35905212\n",
      "  0.36560607  0.37241819  0.37950838  0.38689119  0.39457577  0.40256603\n",
      "  0.41086089  0.41945477  0.42833797  0.43749727  0.44691646  0.45657696\n",
      "  0.46645835  0.47653892  0.4867962   0.4972074   0.50774985  0.51840133\n",
      "  0.52914038  0.53994656  0.55080061  0.56168463  0.57258217  0.58347826\n",
      "  0.59435944  0.60521377  0.61603078  0.6268014   0.63751794  0.64817392\n",
      "  0.65876409  0.66928423  0.67973113  0.69010245  0.70039665  0.71061289\n",
      "  0.72075095  0.73081112  0.74079417  0.75070126  0.76053387  0.77029374\n",
      "  0.77998285  0.78960332  0.79915744  0.80864757]\n",
      "----------------------------------------\n",
      "[ 1.          1.          1.00000001  1.00000001  1.00000001  1.00000002\n",
      "  1.00000003  1.00000004  1.00000005  1.00000007  1.00000009  1.00000011\n",
      "  1.00000015  1.00000019  1.00000025  1.00000033  1.00000042  1.00000055\n",
      "  1.00000071  1.00000093  1.0000012   1.00000154  1.00000199  1.00000256\n",
      "  1.00000329  1.00000421  1.00000539  1.00000689  1.00000878  1.00001118\n",
      "  1.0000142   1.00001801  1.0000228   1.00002881  1.00003634  1.00004576\n",
      "  1.00005753  1.00007221  1.00009048  1.0001132   1.00014141  1.00017638\n",
      "  1.00021968  1.00027321  1.0003393   1.00042078  1.00052112  1.00064448\n",
      "  1.00079597  1.00098173  1.00120919  1.00148729  1.00182679  1.00224057\n",
      "  1.00274399  1.00335533  1.00409618  1.00499195  1.00607228  1.00737145\n",
      "  1.00892871  1.01078836  1.01299955  1.01561556  1.01869241  1.02228645\n",
      "  1.02645075  1.03122981  1.03665246  1.04272293  1.04941005  1.0566357\n",
      "  1.06426365  1.07209135  1.07984759  1.08719973  1.09377335  1.0991858\n",
      "  1.10309185  1.10523589  1.10550131  1.10394613  1.1008153   1.09652468\n",
      "  1.09161845  1.08670804  1.08240397  1.07925264  1.0776865   1.0779921\n",
      "  1.08029623  1.08456754  1.09063017  1.09818579  1.10684125  1.11613991\n",
      "  1.12559503  1.13472362  1.14307909  1.15028045]\n",
      "[ 0.          0.00917454  0.01792294  0.02617232  0.03384736  0.04087111\n",
      "  0.04716585  0.05265412  0.05725997  0.06091015  0.06353553  0.06507249\n",
      "  0.06546434  0.06466268  0.06262867  0.05933417  0.05476266  0.04890992\n",
      "  0.04178442  0.03340741  0.02381271  0.01304618  0.00116489 -0.0117639\n",
      " -0.025664   -0.04045162 -0.05603672 -0.07232437 -0.08921587 -0.10660976\n",
      " -0.12440245 -0.14248862 -0.16076129 -0.17911164 -0.19742886 -0.21560022\n",
      " -0.23351188 -0.25105086 -0.26810868 -0.28458658 -0.30040166 -0.31549216\n",
      " -0.32981949 -0.34336481 -0.35611986 -0.36807379 -0.37920006 -0.38944733\n",
      " -0.39873676 -0.4069658  -0.41401697 -0.41976934 -0.42411093 -0.42695095\n",
      " -0.42823072 -0.42793306 -0.42608926 -0.42278323 -0.41815205 -0.41238281\n",
      " -0.40570541 -0.39838192 -0.39069333 -0.38292483 -0.37535111 -0.36822301\n",
      " -0.36175675 -0.35612628 -0.3514592  -0.34783606 -0.34529251 -0.34382366\n",
      " -0.34338988 -0.34392343 -0.34533511 -0.34752068 -0.35036664 -0.35375519\n",
      " -0.35756828 -0.36169094 -0.36601361 -0.37043394 -0.37485793 -0.37920051\n",
      " -0.3833859  -0.38734747 -0.39102754 -0.39437693 -0.39735443 -0.39992625\n",
      " -0.4020653  -0.40375066 -0.40496689 -0.40570344 -0.40595408 -0.40571634\n",
      " -0.40499107 -0.40378192 -0.40209494 -0.39993825]\n"
     ]
    }
   ],
   "source": [
    "# The first element of neutrino density matrix\n",
    "xresult = np.split(costFResultSLSQP.get('x'),2)[0]\n",
    "xresultb = np.split(costFResultSLSQP.get('x'),2)[1]\n",
    "# print xresult11\n",
    "\n",
    "plttlin=np.linspace(0,5,100)\n",
    "\n",
    "pltdata11 = np.array([])\n",
    "pltdata22 = np.array([])\n",
    "\n",
    "for i in plttlin:\n",
    "    pltdata11 = np.append(pltdata11 ,rho(xresult,i,init)[0,0] )\n",
    "    \n",
    "print pltdata11\n",
    "\n",
    "for i in plttlin:\n",
    "    pltdata22 = np.append(pltdata22 ,rho(xresult,i,init)[1,1] )\n",
    "    \n",
    "print pltdata22\n",
    "\n",
    "print \"----------------------------------------\"\n",
    "\n",
    "pltdatab11 = np.array([])\n",
    "pltdatab22 = np.array([])\n",
    "\n",
    "for i in plttlin:\n",
    "    pltdatab11 = np.append(pltdatab11 ,rho(xresultb,i,init)[0,0] )\n",
    "    \n",
    "print pltdatab11\n",
    "\n",
    "for i in plttlin:\n",
    "    pltdatab22 = np.append(pltdatab22 ,rho(xresultb,i,init)[1,1] )\n",
    "    \n",
    "print pltdatab22"
   ]
  },
  {
   "cell_type": "code",
   "execution_count": 259,
   "metadata": {
    "collapsed": false
   },
   "outputs": [
    {
     "data": {
      "text/html": [
       "<iframe id=\"igraph\" scrolling=\"no\" style=\"border:none;\"seamless=\"seamless\" src=\"https://plot.ly/~emptymalei/140.embed\" height=\"525\" width=\"100%\"></iframe>"
      ],
      "text/plain": [
       "<plotly.tools.PlotlyDisplay object>"
      ]
     },
     "execution_count": 259,
     "metadata": {},
     "output_type": "execute_result"
    }
   ],
   "source": [
    "plt.figure(figsize=(20,12.36))\n",
    "plt.ylabel('Time')\n",
    "plt.xlabel('rho11')\n",
    "plt.plot(plttlin,pltdata11,\"b4-\",label=\"rho11\")\n",
    "py.iplot_mpl(plt.gcf(),filename=\"HG-rho11\")\n",
    "\n",
    "\n",
    "# tls.embed(\"https://plot.ly/~emptymalei/73/\")"
   ]
  },
  {
   "cell_type": "code",
   "execution_count": 260,
   "metadata": {
    "collapsed": false
   },
   "outputs": [
    {
     "data": {
      "text/html": [
       "<iframe id=\"igraph\" scrolling=\"no\" style=\"border:none;\"seamless=\"seamless\" src=\"https://plot.ly/~emptymalei/141.embed\" height=\"525\" width=\"100%\"></iframe>"
      ],
      "text/plain": [
       "<plotly.tools.PlotlyDisplay object>"
      ]
     },
     "execution_count": 260,
     "metadata": {},
     "output_type": "execute_result"
    }
   ],
   "source": [
    "plt.figure(figsize=(20,12.36))\n",
    "plt.ylabel('Time')\n",
    "plt.xlabel('rho22')\n",
    "plt.plot(plttlin,pltdata22,\"r4-\",label=\"rho22\")\n",
    "py.iplot_mpl(plt.gcf(),filename=\"HG-rho22\")"
   ]
  },
  {
   "cell_type": "code",
   "execution_count": 261,
   "metadata": {
    "collapsed": false
   },
   "outputs": [
    {
     "data": {
      "text/html": [
       "<iframe id=\"igraph\" scrolling=\"no\" style=\"border:none;\"seamless=\"seamless\" src=\"https://plot.ly/~emptymalei/143.embed\" height=\"525\" width=\"100%\"></iframe>"
      ],
      "text/plain": [
       "<plotly.tools.PlotlyDisplay object>"
      ]
     },
     "execution_count": 261,
     "metadata": {},
     "output_type": "execute_result"
    }
   ],
   "source": [
    "plt.figure(figsize=(20,12.36))\n",
    "plt.ylabel('Time')\n",
    "plt.xlabel('rhob11')\n",
    "plt.plot(plttlin,pltdatab11,\"b*-\",label=\"rhob11\")\n",
    "py.iplot_mpl(plt.gcf(),filename=\"HG-rhob11\")\n"
   ]
  },
  {
   "cell_type": "code",
   "execution_count": 262,
   "metadata": {
    "collapsed": false
   },
   "outputs": [
    {
     "data": {
      "text/html": [
       "<iframe id=\"igraph\" scrolling=\"no\" style=\"border:none;\"seamless=\"seamless\" src=\"https://plot.ly/~emptymalei/142.embed\" height=\"525\" width=\"100%\"></iframe>"
      ],
      "text/plain": [
       "<plotly.tools.PlotlyDisplay object>"
      ]
     },
     "execution_count": 262,
     "metadata": {},
     "output_type": "execute_result"
    }
   ],
   "source": [
    "plt.figure(figsize=(20,12.36))\n",
    "plt.ylabel('Time')\n",
    "plt.xlabel('rhob22')\n",
    "plt.plot(plttlin,pltdatab11,\"b*-\",label=\"rhob22\")\n",
    "py.iplot_mpl(plt.gcf(),filename=\"HG-rhob22\")\n"
   ]
  },
  {
   "cell_type": "code",
   "execution_count": null,
   "metadata": {
    "collapsed": true
   },
   "outputs": [],
   "source": []
  },
  {
   "cell_type": "code",
   "execution_count": null,
   "metadata": {
    "collapsed": true
   },
   "outputs": [],
   "source": []
  },
  {
   "cell_type": "code",
   "execution_count": null,
   "metadata": {
    "collapsed": true
   },
   "outputs": [],
   "source": []
  },
  {
   "cell_type": "markdown",
   "metadata": {},
   "source": [
    "## Practice"
   ]
  },
  {
   "cell_type": "code",
   "execution_count": null,
   "metadata": {
    "collapsed": false
   },
   "outputs": [],
   "source": [
    "xtemp1 = np.arange(4)\n",
    "xtemp1.shape = (2,2)\n",
    "print xtemp1\n",
    "xtemp1[0,1]\n",
    "np.dot(xtemp1,xtemp1)\n",
    "xtemp1[0,1]"
   ]
  },
  {
   "cell_type": "code",
   "execution_count": null,
   "metadata": {
    "collapsed": true
   },
   "outputs": [],
   "source": []
  }
 ],
 "metadata": {
  "kernelspec": {
   "display_name": "Python 2",
   "language": "python",
   "name": "python2"
  },
  "language_info": {
   "codemirror_mode": {
    "name": "ipython",
    "version": 2
   },
   "file_extension": ".py",
   "mimetype": "text/x-python",
   "name": "python",
   "nbconvert_exporter": "python",
   "pygments_lexer": "ipython2",
   "version": "2.7.6"
  }
 },
 "nbformat": 4,
 "nbformat_minor": 0
}
