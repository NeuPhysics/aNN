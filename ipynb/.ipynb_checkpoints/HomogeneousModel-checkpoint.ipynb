{
 "cells": [
  {
   "cell_type": "markdown",
   "metadata": {},
   "source": [
    "## Homogeneous Gas"
   ]
  },
  {
   "cell_type": "markdown",
   "metadata": {},
   "source": [
    "Here is a notebook for homogeneous gas model."
   ]
  },
  {
   "cell_type": "markdown",
   "metadata": {},
   "source": [
    "Here we are talking about a homogeneous gas bulk of neutrinos with single energy. The EoM is\n",
    "$$\n",
    "i \\partial_t \\rho_E = \\left[ \\frac{\\delta m^2}{2E}B +\\lambda L +\\sqrt 2 G_F \\int_0^\\infty dE' ( \\rho_{E'} - \\bar \\rho_{E'} ) ,\\rho_E \\right]\n",
    "$$\n",
    "\n",
    "while the EoM for antineutrinos is\n",
    "$$\n",
    "i \\partial_t \\bar\\rho_E = \\left[- \\frac{\\delta m^2}{2E}B +\\lambda L +\\sqrt 2 G_F \\int_0^\\infty dE' ( \\rho_{E'} - \\bar \\rho_{E'} ) ,\\bar\\rho_E \\right]\n",
    "$$"
   ]
  },
  {
   "cell_type": "markdown",
   "metadata": {
    "collapsed": false
   },
   "source": [
    "Initial:\n",
    "Homogeneous, Isotropic, Monoenergetic $\\nu_e$ and $\\bar\\nu_e$"
   ]
  },
  {
   "cell_type": "markdown",
   "metadata": {},
   "source": [
    "The equations becomes\n",
    "$$\n",
    "i \\partial_t \\rho_E = \\left[ \\frac{\\delta m^2}{2E}B +\\lambda L +\\sqrt 2 G_F   ( \\rho_{E} - \\bar \\rho_{E} ) ,\\rho_E \\right]\n",
    "$$\n",
    "$$\n",
    "i \\partial_t \\bar\\rho_E = \\left[- \\frac{\\delta m^2}{2E}B +\\lambda L +\\sqrt 2 G_F ( \\rho_{E} - \\bar \\rho_{E} ) ,\\bar\\rho_E \\right]\n",
    "$$"
   ]
  },
  {
   "cell_type": "markdown",
   "metadata": {},
   "source": [
    "where\n",
    "\n",
    "$$\n",
    "B = \\frac{1}{2} \\begin{pmatrix} \n",
    "-\\cos 2\\theta_v & \\sin 2\\theta_v \\\\\n",
    "\\sin 2\\theta_v & \\cos 2\\theta_v\n",
    "\\end{pmatrix} = \n",
    "\\begin{pmatrix} \n",
    "-0.38729833462 & 0.31622776601\\\\\n",
    "0.31622776601 & 0.38729833462\n",
    "\\end{pmatrix}\n",
    "$$\n",
    "\n",
    "$$\n",
    "L = \\begin{pmatrix}\n",
    "1 & 0 \\\\\n",
    "0 & 0\n",
    "\\end{pmatrix}\n",
    "$$\n",
    "\n",
    "Initial condition \n",
    "$$\n",
    "\\rho(t=0) = \\begin{pmatrix}\n",
    "1 & 0 \\\\\n",
    "0 & 0\n",
    "\\end{pmatrix}\n",
    "$$\n",
    "\n",
    "$$\n",
    "\\bar\\rho(t=0) =\\begin{pmatrix}\n",
    "1 & 0 \\\\\n",
    "0 & 0\n",
    "\\end{pmatrix}\n",
    "$$"
   ]
  },
  {
   "cell_type": "markdown",
   "metadata": {},
   "source": [
    "define the following quantities\n",
    "\n",
    "1. hbar$=\\hbar$\n",
    "2. delm2E$= \\delta m^2/2E$\n",
    "3. lamb $= \\lambda$\n",
    "4. gF $= G_F$"
   ]
  },
  {
   "cell_type": "markdown",
   "metadata": {},
   "source": [
    "## Numerical"
   ]
  },
  {
   "cell_type": "code",
   "execution_count": 138,
   "metadata": {
    "collapsed": false
   },
   "outputs": [
    {
     "name": "stdout",
     "output_type": "stream",
     "text": [
      "The snakeviz extension is already loaded. To reload it, use:\n",
      "  %reload_ext snakeviz\n"
     ]
    }
   ],
   "source": [
    "# This line configures matplotlib to show figures embedded in the notebook, \n",
    "# instead of opening a new window for each figure. More about that later. \n",
    "# If you are using an old version of IPython, try using '%pylab inline' instead.\n",
    "%matplotlib inline\n",
    "%load_ext snakeviz\n",
    "\n",
    "import numpy as np\n",
    "from scipy.optimize import minimize\n",
    "from scipy.special import expit\n",
    "import matplotlib.pyplot as plt\n",
    "\n",
    "from matplotlib.lines import Line2D\n",
    "\n",
    "import timeit\n",
    "\n",
    "import pandas as pd\n",
    "\n",
    "import plotly.plotly as py\n",
    "from plotly.graph_objs import *\n",
    "import plotly.tools as tls"
   ]
  },
  {
   "cell_type": "code",
   "execution_count": 164,
   "metadata": {
    "collapsed": false
   },
   "outputs": [],
   "source": [
    "# hbar=1.054571726*10**(-34)\n",
    "hbar=1\n",
    "delm2E=1\n",
    "lamb=1\n",
    "gF=1\n",
    "\n",
    "## Here are some matrices to be used\n",
    "\n",
    "elM = np.array([[1,0],[0,0]])\n",
    "bM = 1/2*np.array( [ [ - 0.38729833462,0.31622776601] , [0.31622776601,0.38729833462] ] )\n",
    "\n",
    "## sqareroot of 2\n",
    "sqrt2=np.sqrt(2)"
   ]
  },
  {
   "cell_type": "markdown",
   "metadata": {},
   "source": [
    "Using Mathematica, I can find the 4\\*2 equations"
   ]
  },
  {
   "cell_type": "code",
   "execution_count": 165,
   "metadata": {
    "collapsed": true
   },
   "outputs": [],
   "source": [
    "\n",
    "#r11prime(t)\n",
    "\n",
    "## The matrix eqn for neutrinos. Symplify the equation to the form A.X=0. Here I am only writing down the LHS.\n",
    "## Eqn for r11'\n",
    "# 1/2*( r21(t)*( bM12*delm2E - 2*sqrt2*gF*rb12(t) ) + r12(t) * ( -bM21*delm2E + 2*sqrt2*gF*rb21(t) ) - 1j*r11prime(t)  )\n",
    "## Eqn for r12'\n",
    "# 1/2*( r22(t)* ( bM12 ) )\n",
    "\n",
    "### wait a minute I don't actually need to write down this. I can just do this part in numpy."
   ]
  },
  {
   "cell_type": "markdown",
   "metadata": {},
   "source": [
    "I am going to substitute all density matrix elements using their corrosponding network expressions.\n",
    "\n",
    "So first of all, I need the network expression for the unknown functions.\n",
    "\n",
    "A function is written as\n",
    "\n",
    "$$ y_i= 1+t_i v_k f(t_i w_k+u_k) ,$$\n",
    "\n",
    "while it's derivative is\n",
    "\n",
    "$$v_k f(t w_k+u_k) + t v_k f(tw_k+u_k) (1-f(tw_k+u_k)) w_k .$$\n",
    "\n",
    "Now I can write down the equations using these two forms."
   ]
  },
  {
   "cell_type": "code",
   "execution_count": 166,
   "metadata": {
    "collapsed": true
   },
   "outputs": [],
   "source": [
    "def trigf(x):\n",
    "    #return 1/(1+np.exp(-x)) # It's not bad to define this function here for people could use other functions other than expit(x).\n",
    "    return expit(x)"
   ]
  },
  {
   "cell_type": "code",
   "execution_count": null,
   "metadata": {
    "collapsed": true
   },
   "outputs": [],
   "source": []
  },
  {
   "cell_type": "code",
   "execution_count": 167,
   "metadata": {
    "collapsed": false
   },
   "outputs": [],
   "source": [
    "## The time derivative part\n",
    "\n",
    "### Here are the initial conditions\n",
    "\n",
    "init = np.array( [[1,0],[0,1]] )\n",
    "initb = np.array([[0,0],[0,0]])\n",
    "\n",
    "### For neutrinos\n",
    "\n",
    "def rho(x,ti,initialCondition): # x is the input structure arrays, ti is a time point\n",
    "\n",
    "    v11,w11,u11,v12,w12,u12,v21,w21,u21,v22,w22,u22 = np.split(x,12)[:12]\n",
    "        \n",
    "    elem11= np.sum(ti * v11 * trigf( ti*w11 +u11 ) )\n",
    "    elem12= np.sum(ti * v12 * trigf( ti*w12 +u12 ) )\n",
    "    elem21= np.sum(ti * v21 * trigf( ti*w21 +u21 ) )\n",
    "    elem22= np.sum(ti * v22 * trigf( ti*w22 +u22 ) )\n",
    "    \n",
    "    return initialCondition + np.array([[ elem11 , elem12 ],[elem21, elem22]])\n",
    "\n",
    "def rhob(xb,ti,initialConditionb): # x is the input structure arrays, ti is a time point\n",
    "\n",
    "    vb11,wb11,ub11,vb12,wb12,ub12,vb21,wb21,ub21,vb22,wb22,ub22 = np.split(xb,12)[:12]\n",
    "\n",
    "    elem11= np.sum(ti * vb11 * trigf( ti*wb11 +ub11 ) )\n",
    "    elem12= np.sum(ti * vb12 * trigf( ti*wb12 +ub12 ) )\n",
    "    elem21= np.sum(ti * vb21 * trigf( ti*wb21 +ub21 ) )\n",
    "    elem22= np.sum(ti * vb22 * trigf( ti*wb22 +ub22 ) )\n",
    "    \n",
    "    return initialConditionb + np.array([[ elem11 , elem12 ],[elem21, elem22]])\n",
    "\n"
   ]
  },
  {
   "cell_type": "code",
   "execution_count": 168,
   "metadata": {
    "collapsed": false
   },
   "outputs": [
    {
     "data": {
      "text/plain": [
       "array([[ 9.80797078,  8.80797078],\n",
       "       [ 8.80797078,  9.80797078]])"
      ]
     },
     "execution_count": 168,
     "metadata": {},
     "output_type": "execute_result"
    }
   ],
   "source": [
    "## Test\n",
    "xtemp=np.ones(120)\n",
    "rho(xtemp,1,init)"
   ]
  },
  {
   "cell_type": "code",
   "execution_count": 169,
   "metadata": {
    "collapsed": true
   },
   "outputs": [],
   "source": [
    "## Define Hamiltonians for both\n",
    "\n",
    "def hamil(x,xb,ti,initialCondition,initialConditionb):\n",
    "    \n",
    "    return delm2E*bM + lamb*elM + sqrt2*gF*( rho(x,ti,initialCondition) - rhob(xb,ti,initialConditionb) )\n",
    "\n",
    "\n",
    "def hamilb(x,xb,ti,initialCondition,initialConditionb):\n",
    "    \n",
    "    return -delm2E*bM + lamb*elM + sqrt2*gF*( rho(x,ti,initialCondition) - rhob(xb,ti,initialConditionb) )"
   ]
  },
  {
   "cell_type": "code",
   "execution_count": 170,
   "metadata": {
    "collapsed": true
   },
   "outputs": [],
   "source": [
    "## The commutator\n",
    "\n",
    "def comm(x,xb,ti,initialCondition,initialConditionb):\n",
    "    \n",
    "    return np.dot(hamil(x,xb,ti,initialCondition,initialConditionb), rho(x,ti,initialCondition) ) - np.dot(rho(x,ti,initialCondition), hamil(x,xb,ti,initialCondition,initialConditionb) )\n",
    "\n",
    "def commb(x,xb,ti,initialCondition,initialConditionb):\n",
    "    \n",
    "    return np.dot(hamilb(x,xb,ti,initialCondition,initialConditionb), rhob(xb,ti,initialConditionb) ) - np.dot(rhob(xb,ti,initialConditionb), hamilb(x,xb,ti,initialCondition,initialConditionb) )\n"
   ]
  },
  {
   "cell_type": "code",
   "execution_count": 171,
   "metadata": {
    "collapsed": false
   },
   "outputs": [
    {
     "name": "stdout",
     "output_type": "stream",
     "text": [
      "neutrino\n",
      "[[ 0.          8.80797078]\n",
      " [-8.80797078  0.        ]]\n",
      "antineutrino\n",
      "[[ 0.          4.08787238]\n",
      " [-4.08787238  0.        ]]\n"
     ]
    }
   ],
   "source": [
    "## Test\n",
    "\n",
    "print \"neutrino\\n\",comm(xtemp,xtemp,1,init,initb)\n",
    "print \"antineutrino\\n\",commb(xtemp,xtemp,0.5,init,initb)"
   ]
  },
  {
   "cell_type": "code",
   "execution_count": 172,
   "metadata": {
    "collapsed": false
   },
   "outputs": [],
   "source": [
    "## The COST of the eqn set\n",
    "\n",
    "def costTi(x,xb,ti,initialCondition,initialConditionb):\n",
    "    \n",
    "    v11,w11,u11,v12,w12,u12,v21,w21,u21,v22,w22,u22 = np.split(x,12)[:12]\n",
    "    vb11,wb11,ub11,vb12,wb12,ub12,vb21,wb21,ub21,vb22,wb22,ub22 = np.split(xb,12)[:12]\n",
    "    \n",
    "    fvec11 = np.array(trigf(ti*w11 + u11) )  # This is a vector!!!\n",
    "    fvec12 = np.array(trigf(ti*w12 + u12) )\n",
    "    fvec21 = np.array(trigf(ti*w21 + u21) )\n",
    "    fvec22 = np.array(trigf(ti*w22 + u22) )\n",
    "    \n",
    "    fvecb11 = np.array(trigf(ti*wb11 + ub11) )  # This is a vector!!!\n",
    "    fvecb12 = np.array(trigf(ti*wb12 + ub12) )\n",
    "    fvecb21 = np.array(trigf(ti*wb21 + ub21) )\n",
    "    fvecb22 = np.array(trigf(ti*wb22 + ub22) )\n",
    "    \n",
    "    \n",
    "    costi11= ( np.sum (v11*fvec11 + ti * v11* fvec11 * ( 1 -  fvec11  ) * w11 ) + 1j*  ( comm(x,xb,ti,initialCondition,initialConditionb)[0,0] )  )  \n",
    "    costi12= ( np.sum (v12*fvec12 + ti * v12* fvec12 * ( 1 -  fvec12  ) * w12 ) + 1j*  ( comm(x,xb,ti,initialCondition,initialConditionb)[0,1] )  )  \n",
    "    costi21= ( np.sum (v21*fvec21 + ti * v21* fvec21 * ( 1 -  fvec21  ) * w21 ) + 1j*  ( comm(x,xb,ti,initialCondition,initialConditionb)[1,0] )  )  \n",
    "    costi22= ( np.sum (v22*fvec22 + ti * v22* fvec22 * ( 1 -  fvec22  ) * w22 ) + 1j*  ( comm(x,xb,ti,initialCondition,initialConditionb)[1,1] )  )  \n",
    "\n",
    "    costbi11= ( np.sum (vb11*fvecb11 + ti * vb11* fvecb11 * ( 1 -  fvecb11  ) * wb11 ) + 1j*  ( commb(x,xb,ti,initialCondition,initialConditionb)[0,0] )  )  \n",
    "    costbi12= ( np.sum (vb12*fvecb12 + ti * vb12* fvecb12 * ( 1 -  fvecb12  ) * wb12 ) + 1j*  ( commb(x,xb,ti,initialCondition,initialConditionb)[0,1] )  )  \n",
    "    costbi21= ( np.sum (vb21*fvecb21 + ti * vb21* fvecb21 * ( 1 -  fvecb21  ) * wb21 ) + 1j*  ( commb(x,xb,ti,initialCondition,initialConditionb)[1,0] )  )  \n",
    "    costbi22= ( np.sum (vb22*fvecb22 + ti * vb22* fvecb22 * ( 1 -  fvecb22  ) * wb22 ) + 1j*  ( commb(x,xb,ti,initialCondition,initialConditionb)[1,1] )  )  \n",
    "    \n",
    "    return (np.real(costi11))**2 + (np.real(costi12))**2+ (np.real(costi21))**2 +  (np.real(costi22))**2 + (np.real(costbi11))**2 + (np.real(costbi12))**2 +(np.real(costbi21))**2 + (np.real(costbi22))**2 + (np.imag(costi11))**2 + (np.imag(costi12))**2+ (np.imag(costi21))**2 +  (np.imag(costi22))**2 + (np.imag(costbi11))**2 + (np.imag(costbi12))**2 +(np.imag(costbi21))**2 + (np.imag(costbi22))**2    \n"
   ]
  },
  {
   "cell_type": "code",
   "execution_count": 173,
   "metadata": {
    "collapsed": false
   },
   "outputs": [
    {
     "data": {
      "text/plain": [
       "427.55731631081869"
      ]
     },
     "execution_count": 173,
     "metadata": {},
     "output_type": "execute_result"
    }
   ],
   "source": [
    "costTi(xtemp,xtemp,0,init,initb)"
   ]
  },
  {
   "cell_type": "code",
   "execution_count": 174,
   "metadata": {
    "collapsed": true
   },
   "outputs": [],
   "source": [
    "## Calculate the total cost\n",
    "\n",
    "def cost(xtot,t,initialCondition,initialConditionb):\n",
    "    \n",
    "    x,xb = np.split(xtot,2)[:2]\n",
    "\n",
    "    t = np.array(t)\n",
    "    \n",
    "    costTotal = np.sum( costTList(x,xb,t,initialCondition,initialConditionb)  )\n",
    "        \n",
    "    return costTotal\n",
    "    \n",
    "\n",
    "def costTList(x,xb,t,initialCondition,initialConditionb):  ## This is the function WITHOUT the square!!! \n",
    "        \n",
    "    t = np.array(t)\n",
    "    \n",
    "    costList = np.asarray([])\n",
    "    \n",
    "    for temp in t:\n",
    "        tempElement = costTi(x,xb,temp,initialCondition,initialConditionb)\n",
    "        costList = np.append(costList, tempElement)\n",
    "        \n",
    "    return np.array(costList)\n",
    "\n",
    "    "
   ]
  },
  {
   "cell_type": "code",
   "execution_count": 175,
   "metadata": {
    "collapsed": false
   },
   "outputs": [
    {
     "name": "stdout",
     "output_type": "stream",
     "text": [
      "[  0.           0.20408163   0.40816327   0.6122449    0.81632653\n",
      "   1.02040816   1.2244898    1.42857143   1.63265306   1.83673469\n",
      "   2.04081633   2.24489796   2.44897959   2.65306122   2.85714286\n",
      "   3.06122449   3.26530612   3.46938776   3.67346939   3.87755102\n",
      "   4.08163265   4.28571429   4.48979592   4.69387755   4.89795918\n",
      "   5.10204082   5.30612245   5.51020408   5.71428571   5.91836735\n",
      "   6.12244898   6.32653061   6.53061224   6.73469388   6.93877551\n",
      "   7.14285714   7.34693878   7.55102041   7.75510204   7.95918367\n",
      "   8.16326531   8.36734694   8.57142857   8.7755102    8.97959184\n",
      "   9.18367347   9.3877551    9.59183673   9.79591837  10.        ]\n"
     ]
    }
   ],
   "source": [
    "ttemp = np.linspace(0,10)\n",
    "print ttemp"
   ]
  },
  {
   "cell_type": "code",
   "execution_count": 176,
   "metadata": {
    "collapsed": false
   },
   "outputs": [
    {
     "name": "stdout",
     "output_type": "stream",
     "text": [
      "[   427.55731631    528.89091088    645.65674303    779.2781299\n",
      "    931.92977081   1106.23040979   1304.89968942   1530.47431911\n",
      "   1785.12578983   2070.57984981   2388.11501175   2738.61081605\n",
      "   3122.61989655   3540.44514969   3992.21073277   4477.92149059\n",
      "   4997.50934606   5550.86745364   6137.87397501   6758.40764085\n",
      "   7412.35715103   8099.6261654    8820.13528321   9573.82207266\n",
      "  10360.63992401  11180.55626939  12033.5505356   12919.61206652\n",
      "  13838.73815861  14790.93228828  15776.20256699  16794.56043168\n",
      "  17846.01956113  18930.59499911  20048.30246054  21199.15779534\n",
      "  22383.17658549  23600.37385222  24850.76385291  26134.35994965\n",
      "  27451.17453421  28801.21899636  30184.50372493  31601.03813271\n",
      "  33050.83069836  34533.88901945  36050.21987249  37599.82927646\n",
      "  39182.7225573   40798.9044115 ]\n",
      "177665.754409\n"
     ]
    }
   ],
   "source": [
    "ttemp = np.linspace(0,10)\n",
    "print costTList(xtemp,xtemp,ttemp,init,initb)\n",
    "print cost(xtemp,ttemp,init,initb)"
   ]
  },
  {
   "cell_type": "code",
   "execution_count": null,
   "metadata": {
    "collapsed": true
   },
   "outputs": [],
   "source": []
  },
  {
   "cell_type": "markdown",
   "metadata": {
    "collapsed": true
   },
   "source": [
    "## Minimization"
   ]
  },
  {
   "cell_type": "markdown",
   "metadata": {
    "collapsed": true
   },
   "source": [
    "Here is the minimization"
   ]
  },
  {
   "cell_type": "code",
   "execution_count": 177,
   "metadata": {
    "collapsed": true
   },
   "outputs": [],
   "source": [
    "tlin = np.linspace(0,5,11)\n",
    "initGuess = np.ones(120)\n",
    "# initGuess = np.random.rand(1,30)+2\n",
    "\n",
    "costF = lambda x: cost(x,tlin,init,initb)"
   ]
  },
  {
   "cell_type": "code",
   "execution_count": 178,
   "metadata": {
    "collapsed": false
   },
   "outputs": [
    {
     "data": {
      "text/plain": [
       "11529.167843869518"
      ]
     },
     "execution_count": 178,
     "metadata": {},
     "output_type": "execute_result"
    }
   ],
   "source": [
    "cost(initGuess,tlin,init,initb)"
   ]
  },
  {
   "cell_type": "code",
   "execution_count": 162,
   "metadata": {
    "collapsed": false
   },
   "outputs": [],
   "source": [
    "## %%snakeviz\n",
    "# startCG = timeit.default_timer()\n",
    "#costFResultCG = minimize(costF,initGuess,method=\"CG\")\n",
    "#stopCG = timeit.default_timer()\n",
    "\n",
    "#print stopCG - startCG\n",
    "\n",
    "#print costFResultCG"
   ]
  },
  {
   "cell_type": "code",
   "execution_count": 179,
   "metadata": {
    "collapsed": false
   },
   "outputs": [
    {
     "name": "stdout",
     "output_type": "stream",
     "text": [
      "1380.02428007\n",
      "  status: 0\n",
      " success: True\n",
      "    njev: 50\n",
      "    nfev: 6138\n",
      "     fun: 3.1109570709063641e-06\n",
      "       x: array([ -5.51671331e-04,   3.97304675e-04,   2.38604217e-02,\n",
      "         2.60967024e-02,  -4.83801927e-02,   1.32875718e-01,\n",
      "         1.32008368e-01,   1.19856942e-01,   1.23806872e-01,\n",
      "         1.83623988e-01,   1.64408094e+00,   1.64321746e+00,\n",
      "         1.61430064e+00,   1.60774236e+00,   1.67969896e+00,\n",
      "         1.24309138e-06,   1.24309138e-06,   1.12752996e-06,\n",
      "         1.13101160e-06,   1.22975100e-06,   9.46320460e-01,\n",
      "         9.46320460e-01,   9.46320528e-01,   9.46320527e-01,\n",
      "         9.46320523e-01,   9.70285977e-01,   9.70285977e-01,\n",
      "         9.70286082e-01,   9.70285957e-01,   9.70285619e-01,\n",
      "         4.96520764e-07,   4.47604890e-07,   5.83269418e-07,\n",
      "         5.83412503e-07,   5.37286054e-07,   8.63418445e-01,\n",
      "         8.63418475e-01,   8.63418573e-01,   8.63418576e-01,\n",
      "         8.63418574e-01,   9.46810045e-01,   9.46809998e-01,\n",
      "         9.46810167e-01,   9.46810100e-01,   9.46810113e-01,\n",
      "         2.48299857e-06,   4.16500601e-06,   2.94448303e-06,\n",
      "         2.74235494e-06,   1.83717731e-06,   9.18377454e-01,\n",
      "         9.18378375e-01,   9.18378941e-01,   9.18382106e-01,\n",
      "         9.18378449e-01,   1.27515179e+00,   1.27515079e+00,\n",
      "         1.27514675e+00,   1.27514846e+00,   1.27515279e+00,\n",
      "        -1.39355732e-06,  -1.32073498e-06,   7.04407868e-07,\n",
      "         1.55985996e-06,  -6.02939932e-07,   8.86848112e-01,\n",
      "         8.86848124e-01,   8.86848299e-01,   8.86849034e-01,\n",
      "         8.86849243e-01,   1.26561690e+00,   1.26561728e+00,\n",
      "         1.26561848e+00,   1.26562701e+00,   1.26562363e+00,\n",
      "         3.88689763e-06,   3.89139684e-06,   4.03655774e-06,\n",
      "         3.93022062e-06,   3.92852835e-06,   8.81705812e-01,\n",
      "         8.81705814e-01,   8.81706111e-01,   8.81706008e-01,\n",
      "         8.81706008e-01,   9.52681020e-01,   9.52681021e-01,\n",
      "         9.52680682e-01,   9.52680641e-01,   9.52680640e-01,\n",
      "        -4.12791873e-06,  -4.12785856e-06,  -4.12704789e-06,\n",
      "        -4.06968420e-06,  -4.05809027e-06,   9.60759159e-01,\n",
      "         9.60759159e-01,   9.60759241e-01,   9.60759295e-01,\n",
      "         9.60759295e-01,   9.75093558e-01,   9.75093558e-01,\n",
      "         9.75093279e-01,   9.75092748e-01,   9.75092685e-01,\n",
      "        -1.73815148e-01,  -1.81812541e-01,   4.02831727e-02,\n",
      "         1.71866840e-01,   1.77757617e-01,  -9.73790822e-02,\n",
      "        -9.25154228e-02,  -1.31704910e-01,  -6.33072730e-02,\n",
      "        -5.94446047e-02,   1.83148012e+00,   1.84080092e+00,\n",
      "         1.52844966e+00,   1.29827499e+00,   1.28750296e+00])\n",
      " message: 'Optimization terminated successfully.'\n",
      "     jac: array([ -2.88405318e-03,  -2.88135620e-03,  -2.83259983e-03,\n",
      "        -2.84072317e-03,  -3.01058360e-03,   4.57353008e-06,\n",
      "         1.62415068e-06,  -8.46288278e-05,  -9.44472291e-05,\n",
      "         1.08088887e-04,  -7.25241875e-08,  -2.42873739e-08,\n",
      "         7.16016757e-09,   1.90374237e-07,  -8.29567222e-06,\n",
      "        -9.03155980e-04,  -9.03155980e-04,  -9.03155984e-04,\n",
      "        -9.03155982e-04,  -9.03155978e-04,   2.79101187e-11,\n",
      "         2.79101187e-11,   3.18323146e-11,   3.17186277e-11,\n",
      "         2.83648660e-11,   1.01181286e-11,   1.01181286e-11,\n",
      "         1.15392140e-11,   1.14823706e-11,   1.02318154e-11,\n",
      "         3.64894531e-04,   3.64894531e-04,   3.64894534e-04,\n",
      "         3.64894533e-04,   3.64894533e-04,   5.79802872e-12,\n",
      "         4.94537744e-12,   7.44648787e-12,   7.44648787e-12,\n",
      "         6.59383659e-12,   1.98951966e-12,   1.70530257e-12,\n",
      "         2.55795385e-12,   2.55795385e-12,   2.27373675e-12,\n",
      "         5.80737346e-04,   5.80737348e-04,   5.80737336e-04,\n",
      "         5.80737359e-04,   5.80737355e-04,   2.58637556e-11,\n",
      "         3.45039552e-11,   2.82511792e-11,   2.71711542e-11,\n",
      "         2.25668373e-11,   1.80193638e-11,   2.39879228e-11,\n",
      "         1.96109795e-11,   1.89288585e-11,   1.57456270e-11,\n",
      "         7.90675458e-05,   7.90675460e-05,   7.90675467e-05,\n",
      "         7.90675518e-05,   7.90675502e-05,  -3.97903932e-13,\n",
      "        -3.41060513e-13,   1.42108547e-12,   2.16004992e-12,\n",
      "         2.27373675e-13,  -2.84217094e-13,  -1.70530257e-13,\n",
      "         7.95807864e-13,   1.25055521e-12,   1.70530257e-13,\n",
      "        -6.90527898e-04,  -6.90527898e-04,  -6.90527904e-04,\n",
      "        -6.90527900e-04,  -6.90527900e-04,   2.35331754e-11,\n",
      "         2.34194886e-11,   1.85877980e-11,   2.21120899e-11,\n",
      "         2.21120899e-11,   8.18545232e-12,   8.12860890e-12,\n",
      "         6.48014975e-12,   7.67386155e-12,   7.73070497e-12,\n",
      "        -7.09117907e-04,  -7.09117907e-04,  -7.09117906e-04,\n",
      "        -7.09117903e-04,  -7.09117902e-04,   1.79056769e-11,\n",
      "         1.79056769e-11,   1.79056769e-11,   1.64277481e-11,\n",
      "         1.61435310e-11,   6.53699317e-12,   6.53699317e-12,\n",
      "         6.53699317e-12,   6.02540240e-12,   5.91171556e-12,\n",
      "         1.40842551e-04,   1.41823840e-04,   1.32895120e-04,\n",
      "         1.37830732e-04,   1.37459192e-04,  -3.36267796e-05,\n",
      "        -3.18114421e-05,   8.49959753e-06,  -7.79638970e-06,\n",
      "        -1.07048637e-05,  -1.37985199e-06,  -1.57955611e-06,\n",
      "        -3.20162940e-07,   2.56943002e-06,   2.85029279e-06,\n",
      "         0.00000000e+00])\n",
      "     nit: 50\n",
      " \n",
      "*** Profile stats marshalled to file u'/var/folders/mj/1sl30v6x2g5_lnlgdnngtd3c0000gn/T/tmpvM5Bqw'. \n"
     ]
    }
   ],
   "source": [
    "%%snakeviz\n",
    "startSLSQP = timeit.default_timer()\n",
    "costFResultSLSQP = minimize(costF,initGuess,method=\"SLSQP\")\n",
    "stopSLSQP = timeit.default_timer()\n",
    "\n",
    "print stopSLSQP - startSLSQP\n",
    "\n",
    "print costFResultSLSQP"
   ]
  },
  {
   "cell_type": "code",
   "execution_count": 181,
   "metadata": {
    "collapsed": false
   },
   "outputs": [
    {
     "data": {
      "text/plain": [
       "array([ -5.51671331e-04,   3.97304675e-04,   2.38604217e-02,\n",
       "         2.60967024e-02,  -4.83801927e-02,   1.32875718e-01,\n",
       "         1.32008368e-01,   1.19856942e-01,   1.23806872e-01,\n",
       "         1.83623988e-01,   1.64408094e+00,   1.64321746e+00,\n",
       "         1.61430064e+00,   1.60774236e+00,   1.67969896e+00,\n",
       "         1.24309138e-06,   1.24309138e-06,   1.12752996e-06,\n",
       "         1.13101160e-06,   1.22975100e-06,   9.46320460e-01,\n",
       "         9.46320460e-01,   9.46320528e-01,   9.46320527e-01,\n",
       "         9.46320523e-01,   9.70285977e-01,   9.70285977e-01,\n",
       "         9.70286082e-01,   9.70285957e-01,   9.70285619e-01,\n",
       "         4.96520764e-07,   4.47604890e-07,   5.83269418e-07,\n",
       "         5.83412503e-07,   5.37286054e-07,   8.63418445e-01,\n",
       "         8.63418475e-01,   8.63418573e-01,   8.63418576e-01,\n",
       "         8.63418574e-01,   9.46810045e-01,   9.46809998e-01,\n",
       "         9.46810167e-01,   9.46810100e-01,   9.46810113e-01,\n",
       "         2.48299857e-06,   4.16500601e-06,   2.94448303e-06,\n",
       "         2.74235494e-06,   1.83717731e-06,   9.18377454e-01,\n",
       "         9.18378375e-01,   9.18378941e-01,   9.18382106e-01,\n",
       "         9.18378449e-01,   1.27515179e+00,   1.27515079e+00,\n",
       "         1.27514675e+00,   1.27514846e+00,   1.27515279e+00,\n",
       "        -1.39355732e-06,  -1.32073498e-06,   7.04407868e-07,\n",
       "         1.55985996e-06,  -6.02939932e-07,   8.86848112e-01,\n",
       "         8.86848124e-01,   8.86848299e-01,   8.86849034e-01,\n",
       "         8.86849243e-01,   1.26561690e+00,   1.26561728e+00,\n",
       "         1.26561848e+00,   1.26562701e+00,   1.26562363e+00,\n",
       "         3.88689763e-06,   3.89139684e-06,   4.03655774e-06,\n",
       "         3.93022062e-06,   3.92852835e-06,   8.81705812e-01,\n",
       "         8.81705814e-01,   8.81706111e-01,   8.81706008e-01,\n",
       "         8.81706008e-01,   9.52681020e-01,   9.52681021e-01,\n",
       "         9.52680682e-01,   9.52680641e-01,   9.52680640e-01,\n",
       "        -4.12791873e-06,  -4.12785856e-06,  -4.12704789e-06,\n",
       "        -4.06968420e-06,  -4.05809027e-06,   9.60759159e-01,\n",
       "         9.60759159e-01,   9.60759241e-01,   9.60759295e-01,\n",
       "         9.60759295e-01,   9.75093558e-01,   9.75093558e-01,\n",
       "         9.75093279e-01,   9.75092748e-01,   9.75092685e-01,\n",
       "        -1.73815148e-01,  -1.81812541e-01,   4.02831727e-02,\n",
       "         1.71866840e-01,   1.77757617e-01,  -9.73790822e-02,\n",
       "        -9.25154228e-02,  -1.31704910e-01,  -6.33072730e-02,\n",
       "        -5.94446047e-02,   1.83148012e+00,   1.84080092e+00,\n",
       "         1.52844966e+00,   1.29827499e+00,   1.28750296e+00])"
      ]
     },
     "execution_count": 181,
     "metadata": {},
     "output_type": "execute_result"
    }
   ],
   "source": [
    "costFResultSLSQP.get('x')"
   ]
  },
  {
   "cell_type": "code",
   "execution_count": 183,
   "metadata": {
    "collapsed": false
   },
   "outputs": [],
   "source": [
    "np.savetxt('./assets/homogen/optimize_ResultSLSQP.txt', costFResultSLSQP.get('x'), delimiter = ',')"
   ]
  },
  {
   "cell_type": "code",
   "execution_count": null,
   "metadata": {
    "collapsed": true
   },
   "outputs": [],
   "source": []
  },
  {
   "cell_type": "code",
   "execution_count": null,
   "metadata": {
    "collapsed": true
   },
   "outputs": [],
   "source": []
  },
  {
   "cell_type": "code",
   "execution_count": null,
   "metadata": {
    "collapsed": true
   },
   "outputs": [],
   "source": []
  },
  {
   "cell_type": "code",
   "execution_count": null,
   "metadata": {
    "collapsed": true
   },
   "outputs": [],
   "source": []
  },
  {
   "cell_type": "code",
   "execution_count": null,
   "metadata": {
    "collapsed": true
   },
   "outputs": [],
   "source": []
  },
  {
   "cell_type": "markdown",
   "metadata": {},
   "source": [
    "## Functions"
   ]
  },
  {
   "cell_type": "markdown",
   "metadata": {},
   "source": [
    "Find the solutions to each elements."
   ]
  },
  {
   "cell_type": "code",
   "execution_count": 200,
   "metadata": {
    "collapsed": false
   },
   "outputs": [
    {
     "name": "stdout",
     "output_type": "stream",
     "text": [
      "[ 1.          1.0002881   1.00043797  1.00047686  1.00042994  1.00032026\n",
      "  1.00016859  0.99999345  0.99981112  0.99963572  0.99947933]\n",
      "[ 1.          1.00000602  1.00001275  1.00001986  1.00002714  1.00003446\n",
      "  1.00004177  1.00004905  1.00005629  1.00006349  1.00007066]\n",
      "----------------------------------------\n",
      "[ 1.          0.99999955  0.99999906  0.99999853  0.99999799  0.99999745\n",
      "  0.9999969   0.99999636  0.99999582  0.99999529  0.99999475]\n",
      "[ 1.          1.00025356  1.00034021  1.0002945   1.00015328  0.99995576\n",
      "  0.99974352  0.99956048  0.99945297  0.99946961  0.99966131]\n"
     ]
    }
   ],
   "source": [
    "# The first element of neutrino density matrix\n",
    "xresult = np.split(costFResultSLSQP.get('x'),2)[0]\n",
    "xresultb = np.split(costFResultSLSQP.get('x'),2)[1]\n",
    "# print xresult11\n",
    "\n",
    "pltdata11 = np.array([])\n",
    "pltdata22 = np.array([])\n",
    "\n",
    "for i in np.linspace(0,5,11):\n",
    "    pltdata11 = np.append(pltdata11 ,rho(xresult,i,init)[0,0] )\n",
    "    \n",
    "print pltdata11\n",
    "\n",
    "for i in np.linspace(0,5,11):\n",
    "    pltdata22 = np.append(pltdata22 ,rho(xresult,i,init)[1,1] )\n",
    "    \n",
    "print pltdata22\n",
    "\n",
    "print \"----------------------------------------\"\n",
    "\n",
    "pltdatab11 = np.array([])\n",
    "pltdatab22 = np.array([])\n",
    "\n",
    "for i in np.linspace(0,5,11):\n",
    "    pltdatab11 = np.append(pltdatab11 ,rho(xresultb,i,init)[0,0] )\n",
    "    \n",
    "print pltdatab11\n",
    "\n",
    "for i in np.linspace(0,5,11):\n",
    "    pltdatab22 = np.append(pltdatab22 ,rho(xresultb,i,init)[1,1] )\n",
    "    \n",
    "print pltdatab22"
   ]
  },
  {
   "cell_type": "code",
   "execution_count": 205,
   "metadata": {
    "collapsed": false
   },
   "outputs": [
    {
     "data": {
      "text/html": [
       "<iframe id=\"igraph\" scrolling=\"no\" style=\"border:none;\"seamless=\"seamless\" src=\"https://plot.ly/~emptymalei/140.embed\" height=\"525\" width=\"100%\"></iframe>"
      ],
      "text/plain": [
       "<plotly.tools.PlotlyDisplay object>"
      ]
     },
     "execution_count": 205,
     "metadata": {},
     "output_type": "execute_result"
    }
   ],
   "source": [
    "plt.figure(figsize=(20,12.36))\n",
    "plt.ylabel('Time')\n",
    "plt.xlabel('rho11')\n",
    "plt.plot(np.linspace(0,5,11),pltdata11,\"b4-\",label=\"rho11\")\n",
    "py.iplot_mpl(plt.gcf(),filename=\"HG-rho11\")\n",
    "\n",
    "\n",
    "# tls.embed(\"https://plot.ly/~emptymalei/73/\")"
   ]
  },
  {
   "cell_type": "code",
   "execution_count": 204,
   "metadata": {
    "collapsed": false
   },
   "outputs": [
    {
     "data": {
      "text/html": [
       "<iframe id=\"igraph\" scrolling=\"no\" style=\"border:none;\"seamless=\"seamless\" src=\"https://plot.ly/~emptymalei/141.embed\" height=\"525\" width=\"100%\"></iframe>"
      ],
      "text/plain": [
       "<plotly.tools.PlotlyDisplay object>"
      ]
     },
     "execution_count": 204,
     "metadata": {},
     "output_type": "execute_result"
    }
   ],
   "source": [
    "plt.figure(figsize=(20,12.36))\n",
    "plt.ylabel('Time')\n",
    "plt.xlabel('rho22')\n",
    "plt.plot(np.linspace(0,5,11),pltdata22,\"r4-\",label=\"rho22\")\n",
    "py.iplot_mpl(plt.gcf(),filename=\"HG-rho22\")"
   ]
  },
  {
   "cell_type": "code",
   "execution_count": 203,
   "metadata": {
    "collapsed": false
   },
   "outputs": [
    {
     "data": {
      "text/html": [
       "<iframe id=\"igraph\" scrolling=\"no\" style=\"border:none;\"seamless=\"seamless\" src=\"https://plot.ly/~emptymalei/143.embed\" height=\"525\" width=\"100%\"></iframe>"
      ],
      "text/plain": [
       "<plotly.tools.PlotlyDisplay object>"
      ]
     },
     "execution_count": 203,
     "metadata": {},
     "output_type": "execute_result"
    }
   ],
   "source": [
    "plt.figure(figsize=(20,12.36))\n",
    "plt.ylabel('Time')\n",
    "plt.xlabel('rhob11')\n",
    "plt.plot(np.linspace(0,5,11),pltdatab11,\"b*-\",label=\"rhob11\")\n",
    "py.iplot_mpl(plt.gcf(),filename=\"HG-rhob11\")\n"
   ]
  },
  {
   "cell_type": "code",
   "execution_count": 202,
   "metadata": {
    "collapsed": false
   },
   "outputs": [
    {
     "data": {
      "text/html": [
       "<iframe id=\"igraph\" scrolling=\"no\" style=\"border:none;\"seamless=\"seamless\" src=\"https://plot.ly/~emptymalei/142.embed\" height=\"525\" width=\"100%\"></iframe>"
      ],
      "text/plain": [
       "<plotly.tools.PlotlyDisplay object>"
      ]
     },
     "execution_count": 202,
     "metadata": {},
     "output_type": "execute_result"
    }
   ],
   "source": [
    "plt.figure(figsize=(20,12.36))\n",
    "plt.ylabel('Time')\n",
    "plt.xlabel('rhob22')\n",
    "plt.plot(np.linspace(0,5,11),pltdatab11,\"b*-\",label=\"rhob22\")\n",
    "py.iplot_mpl(plt.gcf(),filename=\"HG-rhob22\")\n"
   ]
  },
  {
   "cell_type": "code",
   "execution_count": null,
   "metadata": {
    "collapsed": true
   },
   "outputs": [],
   "source": []
  },
  {
   "cell_type": "code",
   "execution_count": null,
   "metadata": {
    "collapsed": true
   },
   "outputs": [],
   "source": []
  },
  {
   "cell_type": "code",
   "execution_count": null,
   "metadata": {
    "collapsed": true
   },
   "outputs": [],
   "source": []
  },
  {
   "cell_type": "markdown",
   "metadata": {},
   "source": [
    "## Practice"
   ]
  },
  {
   "cell_type": "code",
   "execution_count": null,
   "metadata": {
    "collapsed": false
   },
   "outputs": [],
   "source": [
    "xtemp1 = np.arange(4)\n",
    "xtemp1.shape = (2,2)\n",
    "print xtemp1\n",
    "xtemp1[0,1]\n",
    "np.dot(xtemp1,xtemp1)\n",
    "xtemp1[0,1]"
   ]
  },
  {
   "cell_type": "code",
   "execution_count": null,
   "metadata": {
    "collapsed": true
   },
   "outputs": [],
   "source": []
  }
 ],
 "metadata": {
  "kernelspec": {
   "display_name": "Python 2",
   "language": "python",
   "name": "python2"
  },
  "language_info": {
   "codemirror_mode": {
    "name": "ipython",
    "version": 2
   },
   "file_extension": ".py",
   "mimetype": "text/x-python",
   "name": "python",
   "nbconvert_exporter": "python",
   "pygments_lexer": "ipython2",
   "version": "2.7.6"
  }
 },
 "nbformat": 4,
 "nbformat_minor": 0
}
