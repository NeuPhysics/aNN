{
 "cells": [
  {
   "cell_type": "markdown",
   "metadata": {},
   "source": [
    "## Homogeneous Gas"
   ]
  },
  {
   "cell_type": "markdown",
   "metadata": {},
   "source": [
    "Here is a notebook for homogeneous gas model."
   ]
  },
  {
   "cell_type": "markdown",
   "metadata": {},
   "source": [
    "Here we are talking about a homogeneous gas bulk of neutrinos with single energy. The EoM is\n",
    "$$\n",
    "i \\partial_t \\rho_E = \\left[ \\frac{\\delta m^2}{2E}B +\\lambda L +\\sqrt 2 G_F \\int_0^\\infty dE' ( \\rho_{E'} - \\bar \\rho_{E'} ) ,\\rho_E \\right]\n",
    "$$\n",
    "\n",
    "while the EoM for antineutrinos is\n",
    "$$\n",
    "i \\partial_t \\bar\\rho_E = \\left[- \\frac{\\delta m^2}{2E}B +\\lambda L +\\sqrt 2 G_F \\int_0^\\infty dE' ( \\rho_{E'} - \\bar \\rho_{E'} ) ,\\bar\\rho_E \\right]\n",
    "$$"
   ]
  },
  {
   "cell_type": "markdown",
   "metadata": {
    "collapsed": false
   },
   "source": [
    "Initial:\n",
    "Homogeneous, Isotropic, Monoenergetic $\\nu_e$ and $\\bar\\nu_e$"
   ]
  },
  {
   "cell_type": "markdown",
   "metadata": {},
   "source": [
    "The equations becomes\n",
    "$$\n",
    "i \\partial_t \\rho_E = \\left[ \\frac{\\delta m^2}{2E}B +\\lambda L +\\sqrt 2 G_F   ( \\rho_{E} - \\bar \\rho_{E} ) ,\\rho_E \\right]\n",
    "$$\n",
    "$$\n",
    "i \\partial_t \\bar\\rho_E = \\left[- \\frac{\\delta m^2}{2E}B +\\lambda L +\\sqrt 2 G_F ( \\rho_{E} - \\bar \\rho_{E} ) ,\\bar\\rho_E \\right]\n",
    "$$"
   ]
  },
  {
   "cell_type": "markdown",
   "metadata": {},
   "source": [
    "where\n",
    "\n",
    "$$\n",
    "B = \\frac{1}{2} \\begin{pmatrix} \n",
    "-\\cos 2\\theta_v & \\sin 2\\theta_v \\\\\n",
    "\\sin 2\\theta_v & \\cos 2\\theta_v\n",
    "\\end{pmatrix} = \n",
    "\\begin{pmatrix} \n",
    "-0.38729833462 & 0.31622776601\\\\\n",
    "0.31622776601 & 0.38729833462\n",
    "\\end{pmatrix}\n",
    "$$\n",
    "\n",
    "$$\n",
    "L = \\begin{pmatrix}\n",
    "1 & 0 \\\\\n",
    "0 & 0\n",
    "\\end{pmatrix}\n",
    "$$\n",
    "\n",
    "Initial condition \n",
    "$$\n",
    "\\rho(t=0) = \\begin{pmatrix}\n",
    "1 & 0 \\\\\n",
    "0 & 0\n",
    "\\end{pmatrix}\n",
    "$$\n",
    "\n",
    "$$\n",
    "\\bar\\rho(t=0) =\\begin{pmatrix}\n",
    "1 & 0 \\\\\n",
    "0 & 0\n",
    "\\end{pmatrix}\n",
    "$$"
   ]
  },
  {
   "cell_type": "markdown",
   "metadata": {},
   "source": [
    "define the following quantities\n",
    "\n",
    "1. hbar$=\\hbar$\n",
    "2. delm2E$= \\delta m^2/2E$\n",
    "3. lamb $= \\lambda$\n",
    "4. gF $= G_F$"
   ]
  },
  {
   "cell_type": "markdown",
   "metadata": {},
   "source": [
    "## Numerical"
   ]
  },
  {
   "cell_type": "code",
   "execution_count": 64,
   "metadata": {
    "collapsed": false
   },
   "outputs": [
    {
     "name": "stdout",
     "output_type": "stream",
     "text": [
      "The snakeviz extension is already loaded. To reload it, use:\n",
      "  %reload_ext snakeviz\n"
     ]
    }
   ],
   "source": [
    "# This line configures matplotlib to show figures embedded in the notebook, \n",
    "# instead of opening a new window for each figure. More about that later. \n",
    "# If you are using an old version of IPython, try using '%pylab inline' instead.\n",
    "%matplotlib inline\n",
    "%load_ext snakeviz\n",
    "\n",
    "import numpy as np\n",
    "from scipy.optimize import minimize\n",
    "from scipy.special import expit\n",
    "import matplotlib.pyplot as plt\n",
    "\n",
    "from matplotlib.lines import Line2D\n",
    "\n",
    "import timeit\n",
    "\n",
    "import pandas as pd\n",
    "\n",
    "import plotly.plotly as py\n",
    "from plotly.graph_objs import *\n",
    "import plotly.tools as tls"
   ]
  },
  {
   "cell_type": "code",
   "execution_count": 65,
   "metadata": {
    "collapsed": false
   },
   "outputs": [],
   "source": [
    "hbar=1\n",
    "delm2E=1\n",
    "lamb=1\n",
    "gF=1\n",
    "\n",
    "## Here are some matrices to be used\n",
    "\n",
    "elM = np.array([[1,0],[0,0]])\n",
    "bM = 1/2*np.array( [ [ - 0.38729833462,0.31622776601] , [0.31622776601,0.38729833462] ] )\n",
    "\n",
    "## sqareroot of 2\n",
    "sqrt2=np.sqrt(2)"
   ]
  },
  {
   "cell_type": "markdown",
   "metadata": {},
   "source": [
    "Using Mathematica, I can find the 4\\*2 equations"
   ]
  },
  {
   "cell_type": "code",
   "execution_count": 66,
   "metadata": {
    "collapsed": true
   },
   "outputs": [],
   "source": [
    "\n",
    "#r11prime(t)\n",
    "\n",
    "## The matrix eqn for neutrinos. Symplify the equation to the form A.X=0. Here I am only writing down the LHS.\n",
    "## Eqn for r11'\n",
    "# 1/2*( r21(t)*( bM12*delm2E - 2*sqrt2*gF*rb12(t) ) + r12(t) * ( -bM21*delm2E + 2*sqrt2*gF*rb21(t) ) - 1j*r11prime(t)  )\n",
    "## Eqn for r12'\n",
    "# 1/2*( r22(t)* ( bM12 ) )\n",
    "\n",
    "### wait a minute I don't actually need to write down this. I can just do this part in numpy."
   ]
  },
  {
   "cell_type": "markdown",
   "metadata": {},
   "source": [
    "I am going to substitute all density matrix elements using their corrosponding network expressions.\n",
    "\n",
    "So first of all, I need the network expression for the unknown functions.\n",
    "\n",
    "A function is written as\n",
    "\n",
    "$$ y_i= 1+t_i v_k f(t_i w_k+u_k) ,$$\n",
    "\n",
    "while it's derivative is\n",
    "\n",
    "$$v_k f(t w_k+u_k) + t v_k f(tw_k+u_k) (1-f(tw_k+u_k)) w_k .$$\n",
    "\n",
    "Now I can write down the equations using these two forms."
   ]
  },
  {
   "cell_type": "code",
   "execution_count": 67,
   "metadata": {
    "collapsed": true
   },
   "outputs": [],
   "source": [
    "def trigf(x):\n",
    "    #return 1/(1+np.exp(-x)) # It's not bad to define this function here for people could use other functions other than expit(x).\n",
    "    return expit(x)"
   ]
  },
  {
   "cell_type": "code",
   "execution_count": null,
   "metadata": {
    "collapsed": true
   },
   "outputs": [],
   "source": []
  },
  {
   "cell_type": "code",
   "execution_count": 68,
   "metadata": {
    "collapsed": false
   },
   "outputs": [],
   "source": [
    "## The time derivative part\n",
    "\n",
    "### Here are the initial conditions\n",
    "\n",
    "init = np.array( [[1,0],[0,1]] )\n",
    "initb = np.array([[0,0],[0,0]])\n",
    "\n",
    "### For neutrinos\n",
    "\n",
    "def rho(x,ti,initialCondition): # x is the input structure arrays, ti is a time point\n",
    "\n",
    "    v11,w11,u11,v12,w12,u12,v21,w21,u21,v22,w22,u22 = np.split(x,12)[:12]\n",
    "        \n",
    "    elem11= np.sum(ti * v11 * trigf( ti*w11 +u11 ) )\n",
    "    elem12= np.sum(ti * v12 * trigf( ti*w12 +u12 ) )\n",
    "    elem21= np.sum(ti * v21 * trigf( ti*w21 +u21 ) )\n",
    "    elem22= np.sum(ti * v22 * trigf( ti*w22 +u22 ) )\n",
    "    \n",
    "    return initialCondition + np.array([[ elem11 , elem12 ],[elem21, elem22]])\n",
    "\n",
    "def rhob(xb,ti,initialConditionb): # x is the input structure arrays, ti is a time point\n",
    "\n",
    "    vb11,wb11,ub11,vb12,wb12,ub12,vb21,wb21,ub21,vb22,wb22,ub22 = np.split(xb,12)[:12]\n",
    "\n",
    "    elem11= np.sum(ti * vb11 * trigf( ti*wb11 +ub11 ) )\n",
    "    elem12= np.sum(ti * vb12 * trigf( ti*wb12 +ub12 ) )\n",
    "    elem21= np.sum(ti * vb21 * trigf( ti*wb21 +ub21 ) )\n",
    "    elem22= np.sum(ti * vb22 * trigf( ti*wb22 +ub22 ) )\n",
    "    \n",
    "    return initialConditionb + np.array([[ elem11 , elem12 ],[elem21, elem22]])\n",
    "\n"
   ]
  },
  {
   "cell_type": "code",
   "execution_count": 69,
   "metadata": {
    "collapsed": false
   },
   "outputs": [
    {
     "data": {
      "text/plain": [
       "array([[ 9.80797078,  8.80797078],\n",
       "       [ 8.80797078,  9.80797078]])"
      ]
     },
     "execution_count": 69,
     "metadata": {},
     "output_type": "execute_result"
    }
   ],
   "source": [
    "## Test\n",
    "xtemp=np.ones(120)\n",
    "rho(xtemp,1,init)"
   ]
  },
  {
   "cell_type": "code",
   "execution_count": 70,
   "metadata": {
    "collapsed": true
   },
   "outputs": [],
   "source": [
    "## Define Hamiltonians for both\n",
    "\n",
    "def hamil(x,xb,ti,initialCondition,initialConditionb):\n",
    "    \n",
    "    return delm2E*bM + lamb*elM + sqrt2*gF*( rho(x,ti,initialCondition) - rhob(xb,ti,initialConditionb) )\n",
    "\n",
    "\n",
    "def hamilb(x,xb,ti,initialCondition,initialConditionb):\n",
    "    \n",
    "    return -delm2E*bM + lamb*elM + sqrt2*gF*( rho(x,ti,initialCondition) - rhob(xb,ti,initialConditionb) )"
   ]
  },
  {
   "cell_type": "code",
   "execution_count": 71,
   "metadata": {
    "collapsed": true
   },
   "outputs": [],
   "source": [
    "## The commutator\n",
    "\n",
    "def comm(x,xb,ti,initialCondition,initialConditionb):\n",
    "    \n",
    "    return np.dot(hamil(x,xb,ti,initialCondition,initialConditionb), rho(x,ti,initialCondition) ) - np.dot(rho(x,ti,initialCondition), hamil(x,xb,ti,initialCondition,initialConditionb) )\n",
    "\n",
    "def commb(x,xb,ti,initialCondition,initialConditionb):\n",
    "    \n",
    "    return np.dot(hamilb(x,xb,ti,initialCondition,initialConditionb), rhob(xb,ti,initialConditionb) ) - np.dot(rhob(xb,ti,initialConditionb), hamilb(x,xb,ti,initialCondition,initialConditionb) )\n"
   ]
  },
  {
   "cell_type": "code",
   "execution_count": 81,
   "metadata": {
    "collapsed": false
   },
   "outputs": [
    {
     "name": "stdout",
     "output_type": "stream",
     "text": [
      "neutrino\n",
      "[[ 0.          8.80797078]\n",
      " [-8.80797078  0.        ]]\n",
      "antineutrino\n",
      "[[ 0.          4.08787238]\n",
      " [-4.08787238  0.        ]]\n"
     ]
    }
   ],
   "source": [
    "## Test\n",
    "\n",
    "print \"neutrino\\n\",comm(xtemp,xtemp,1,init,initb)\n",
    "print \"antineutrino\\n\",commb(xtemp,xtemp,0.5,init,initb)"
   ]
  },
  {
   "cell_type": "code",
   "execution_count": 73,
   "metadata": {
    "collapsed": false
   },
   "outputs": [
    {
     "ename": "SyntaxError",
     "evalue": "invalid syntax (<ipython-input-73-e79803d1bf4c>, line 7)",
     "output_type": "error",
     "traceback": [
      "\u001b[0;36m  File \u001b[0;32m\"<ipython-input-73-e79803d1bf4c>\"\u001b[0;36m, line \u001b[0;32m7\u001b[0m\n\u001b[0;31m    costi11=\u001b[0m\n\u001b[0m            ^\u001b[0m\n\u001b[0;31mSyntaxError\u001b[0m\u001b[0;31m:\u001b[0m invalid syntax\n"
     ]
    }
   ],
   "source": [
    "## The COST of the eqn set\n",
    "\n",
    "def costi(x,xb,ti,initialCondition):\n",
    "    \n",
    "    fvec11 = np.array(trigf(ti*w11 + u11) )  # This is a vector!!!\n",
    "    \n",
    "    costi11=\n",
    "    costi12="
   ]
  },
  {
   "cell_type": "code",
   "execution_count": null,
   "metadata": {
    "collapsed": true
   },
   "outputs": [],
   "source": []
  },
  {
   "cell_type": "code",
   "execution_count": null,
   "metadata": {
    "collapsed": true
   },
   "outputs": [],
   "source": []
  },
  {
   "cell_type": "code",
   "execution_count": null,
   "metadata": {
    "collapsed": true
   },
   "outputs": [],
   "source": []
  },
  {
   "cell_type": "code",
   "execution_count": null,
   "metadata": {
    "collapsed": true
   },
   "outputs": [],
   "source": []
  },
  {
   "cell_type": "code",
   "execution_count": null,
   "metadata": {
    "collapsed": true
   },
   "outputs": [],
   "source": []
  },
  {
   "cell_type": "code",
   "execution_count": null,
   "metadata": {
    "collapsed": true
   },
   "outputs": [],
   "source": []
  },
  {
   "cell_type": "code",
   "execution_count": null,
   "metadata": {
    "collapsed": true
   },
   "outputs": [],
   "source": []
  },
  {
   "cell_type": "code",
   "execution_count": null,
   "metadata": {
    "collapsed": false
   },
   "outputs": [],
   "source": [
    "xtemp1 = np.arange(4)\n",
    "xtemp1.shape = (2,2)\n",
    "print xtemp1\n",
    "xtemp1[0,1]\n",
    "np.dot(xtemp1,xtemp1)"
   ]
  },
  {
   "cell_type": "code",
   "execution_count": null,
   "metadata": {
    "collapsed": true
   },
   "outputs": [],
   "source": []
  }
 ],
 "metadata": {
  "kernelspec": {
   "display_name": "Python 2",
   "language": "python",
   "name": "python2"
  },
  "language_info": {
   "codemirror_mode": {
    "name": "ipython",
    "version": 2
   },
   "file_extension": ".py",
   "mimetype": "text/x-python",
   "name": "python",
   "nbconvert_exporter": "python",
   "pygments_lexer": "ipython2",
   "version": "2.7.6"
  }
 },
 "nbformat": 4,
 "nbformat_minor": 0
}
