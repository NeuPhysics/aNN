{
 "metadata": {
  "name": ""
 },
 "nbformat": 3,
 "nbformat_minor": 0,
 "worksheets": [
  {
   "cells": [
    {
     "cell_type": "markdown",
     "metadata": {},
     "source": [
      "## Artificial Neural Network Test"
     ]
    },
    {
     "cell_type": "markdown",
     "metadata": {},
     "source": [
      "### Docs - Example"
     ]
    },
    {
     "cell_type": "markdown",
     "metadata": {},
     "source": [
      "The problem to solve is the differential equation $$\\frac{d}{dt}y(t)= - y(t).$$ Using the network, this is $$y_i= 1+t_i v_k f(t_i w_k+u_k).$$"
     ]
    },
    {
     "cell_type": "markdown",
     "metadata": {},
     "source": [
      "The procedures are\n",
      "\n",
      "**Deal with the function first.**\n",
      "   \n",
      "1. The cost is $$I=\\sum_i\\left( \\frac{dy_i}{dt}+y_i \\right)^2.$$ Our purpose is to minimize this cost.\n",
      "   \n",
      "2. To calculate the differential of y, we can write down the explicit expression for it. $$\\frac{dy}{dt} = v_k f(t w_k+u_k) + t v_k f(tw_k+u_k) (1-f(tw_k+u_k))w_k,$$ where the function f is defined as a trigf().\n",
      "\n",
      "3. So the cost becomse $$I = \\sum_i \\left(  v_k f(t w_k+u_k) + t v_k f(tw_k+u_k) (1-f(tw_k+u_k)) w_k + y \\right)^2.$$"
     ]
    },
    {
     "cell_type": "markdown",
     "metadata": {},
     "source": [
      "### General Functions"
     ]
    },
    {
     "cell_type": "markdown",
     "metadata": {},
     "source": [
      "Import Modules used in this notebook"
     ]
    },
    {
     "cell_type": "code",
     "collapsed": false,
     "input": [
      "# This line configures matplotlib to show figures embedded in the notebook, \n",
      "# instead of opening a new window for each figure. More about that later. \n",
      "# If you are using an old version of IPython, try using '%pylab inline' instead.\n",
      "%matplotlib inline\n",
      "%load_ext snakeviz\n",
      "\n",
      "import numpy as np\n",
      "from scipy.optimize import minimize\n",
      "from scipy.special import expit\n",
      "import matplotlib.pyplot as plt\n",
      "\n",
      "from matplotlib.lines import Line2D\n",
      "\n",
      "import timeit"
     ],
     "language": "python",
     "metadata": {},
     "outputs": [
      {
       "output_type": "stream",
       "stream": "stdout",
       "text": [
        "The snakeviz extension is already loaded. To reload it, use:\n",
        "  %reload_ext snakeviz\n"
       ]
      }
     ],
     "prompt_number": 141
    },
    {
     "cell_type": "markdown",
     "metadata": {},
     "source": [
      "Define the general part of cost function"
     ]
    },
    {
     "cell_type": "markdown",
     "metadata": {},
     "source": [
      "For an first order ODE, $$ L \\equiv \\frac{d}{dt}y + f(t) =0 ,$$ in which $y(t)$ is the function to be solved.\n",
      "The cost is defined as $$I = \\sum_{i} I_i^2  = I_i * I_i,$$ where \n",
      "$$ I_{i} = \\left( \\frac{d}{dt}y + f(t) \\right) $$"
     ]
    },
    {
     "cell_type": "markdown",
     "metadata": {},
     "source": [
      "Using the following function"
     ]
    },
    {
     "cell_type": "code",
     "collapsed": false,
     "input": [
      "def trigf(x):\n",
      "    #return 1/(1+np.exp(-x)) # It's not bad to define this function here for people could use other functions other than expit(x).\n",
      "    return expit(x)"
     ],
     "language": "python",
     "metadata": {},
     "outputs": [],
     "prompt_number": 3
    },
    {
     "cell_type": "code",
     "collapsed": false,
     "input": [
      "## Very important notes\n",
      "## fOft(x,ti) should be specified, here ti is a scalar value not a list. and it should return a value.\n",
      "## Here I use t as the variables list and ti as the variable.\n",
      "\n",
      "\n",
      "\n",
      "def costODE(x,t,initialCondition,fOfArg):   # x is a list of the order v,w,u. x will be splited to three equal parts.\n",
      "    # initialCondition can only be constants.\n",
      "\n",
      "    t = np.array(t)\n",
      "    \n",
      "    costODETotal = np.sum( costODETList(x,t,initialCondition,fOfArg)  )\n",
      "        \n",
      "    return costODETotal\n",
      "    \n",
      "\n",
      "def costODETList(x,t,initialCondition,fOfArg):  ## This is the function WITHOUT the square!!! \n",
      "    \n",
      "    v,w,u = np.split(x,3)[:3]\n",
      "    \n",
      "    t = np.array(t)\n",
      "    \n",
      "    costList = np.asarray([])\n",
      "    \n",
      "    for temp in t:\n",
      "        tempElement = costODETi(x,temp,initialCondition,fOfArg)\n",
      "        costList = np.append(costList, tempElement)\n",
      "        \n",
      "    return np.array(costList)\n",
      "\n",
      "    \n",
      "\n",
      "def costODETi(x,ti,initialCondition,fOfArg):  # function for each t. here t is a single value \n",
      "    # fOfArg is the function f(t) in the example\n",
      "\n",
      "    v,w,u = np.split(x,3)[:3]\n",
      "    \n",
      "    args = np.array([x,ti,initialCondition])\n",
      "    \n",
      "    fvec = np.array(trigf(ti*w + u) )  # This is a vector!!!\n",
      "    ft = fOfArg(args)  ## fOft should be specified in a problem!!!!!!!!!!!! And it takes a whole array of all the arguments\n",
      "    # For a given t, this calculates the value of y(t), given the parameters, v, w, u.  Notice this initialCondition.\n",
      "    \n",
      "    return  ( np.sum (v*fvec + ti * v* fvec * ( 1 -  fvec  ) * w ) + ft )   ** 2\n",
      "    \n",
      "\n",
      "    \n",
      "## The funNNi(x,ti,initialCondition) takes a time ti and exports the function value with input x.\n",
      "\n",
      "    \n",
      "def funNNi(x,ti,initialCondition):  # for a single time stamp t\n",
      "    \n",
      "    v,w,u = np.split(x,3)[:3]\n",
      "    \n",
      "    return initialCondition +  np.sum(ti * v * trigf( ti*w +u ) )\n",
      "\n",
      "## funNNList(x,t,initialCondition) takes a list of time and exports the function values of these times.\n",
      "\n",
      "def funNNList(x,t,initialCondition):\n",
      "    \n",
      "    t = np.array(t)\n",
      "    \n",
      "    tempList = np.asarray([])\n",
      "    \n",
      "    for ti in t:\n",
      "        tempElement = funNNi(x,ti,initialCondition)\n",
      "        tempList = np.append(tempList,tempElement)\n",
      "        \n",
      "    return np.array(tempList)"
     ],
     "language": "python",
     "metadata": {},
     "outputs": [],
     "prompt_number": 122
    },
    {
     "cell_type": "markdown",
     "metadata": {},
     "source": [
      "An example of the fOfArgs(args) which corresponds to the equation $$\\frac{d}{dt}y + y(t)=0 .$$"
     ]
    },
    {
     "cell_type": "code",
     "collapsed": false,
     "input": [
      "def yOft(args):\n",
      "    \n",
      "    return funNNi(args[0],args[1],args[2])  # As in our definition, args[0] is x, args[1] is ti, args[2] is initialCondition\n"
     ],
     "language": "python",
     "metadata": {},
     "outputs": [],
     "prompt_number": 28
    },
    {
     "cell_type": "code",
     "collapsed": false,
     "input": [
      "### This is a test based on the comparison between this notebook and the other one called Basics.ipynb.\n",
      "\n",
      "testx = np.ones(30)\n",
      "testt = np.linspace(0,1,2)\n",
      "\n",
      "print costODE(testx,testt,1,yOft)  ## This is not right, should be 455.812570558\n",
      "print costODETi(np.ones(9),1,1,yOft)  ## This should be 43.556874613889988"
     ],
     "language": "python",
     "metadata": {},
     "outputs": [
      {
       "output_type": "stream",
       "stream": "stdout",
       "text": [
        "455.812570558\n",
        "43.5568746139\n"
       ]
      }
     ],
     "prompt_number": 40
    },
    {
     "cell_type": "markdown",
     "metadata": {},
     "source": [
      "### Minimizatioin"
     ]
    },
    {
     "cell_type": "markdown",
     "metadata": {},
     "source": [
      "The example $$\\frac{d}{dt}y +y=0$$"
     ]
    },
    {
     "cell_type": "code",
     "collapsed": false,
     "input": [
      "def funY(t):\n",
      "\n",
      "    return np.exp(-t)"
     ],
     "language": "python",
     "metadata": {},
     "outputs": [],
     "prompt_number": 84
    },
    {
     "cell_type": "markdown",
     "metadata": {},
     "source": [
      "#### Without Jac"
     ]
    },
    {
     "cell_type": "code",
     "collapsed": false,
     "input": [
      "tlin = np.linspace(0,5,11)\n",
      "initGuess = np.zeros(30)\n",
      "# initGuess = np.random.rand(1,30)+2\n",
      "\n",
      "costODEF = lambda x: costODE(x,tlin,1,yOft)"
     ],
     "language": "python",
     "metadata": {},
     "outputs": [],
     "prompt_number": 131
    },
    {
     "cell_type": "code",
     "collapsed": false,
     "input": [
      "%%snakeviz\n",
      "startCG = timeit.default_timer()\n",
      "costODEFResultCG = minimize(costODEF,initGuess,method=\"CG\")\n",
      "stopCG = timeit.default_timer()\n",
      "\n",
      "print stopCG - startCG\n",
      "\n",
      "print costODEFResultCG"
     ],
     "language": "python",
     "metadata": {},
     "outputs": [
      {
       "output_type": "stream",
       "stream": "stdout",
       "text": [
        "2.35782790184\n",
        "  status: 2\n",
        " success: False\n",
        "    njev: 15\n",
        "    nfev: 492\n",
        "     fun: 0.1920503701634634\n",
        "       x: array([-0.14291014, -0.14291014, -0.14291014, -0.14291014, -0.14291014,\n",
        "       -0.14291014, -0.14291014, -0.14291014, -0.14291014, -0.14291014,\n",
        "       -0.37677474, -0.37677474, -0.37677474, -0.37677474, -0.37677474,\n",
        "       -0.37677474, -0.37677474, -0.37677474, -0.37677474, -0.37677474,\n",
        "       -0.00415728, -0.00415728, -0.00415728, -0.00415728, -0.00415728,\n",
        "       -0.00415727, -0.00415728, -0.00415728, -0.00415728, -0.00415728])\n",
        " message: 'Desired error not necessarily achieved due to precision loss.'\n",
        "     jac: array([-0.03935363, -0.03935363, -0.03935363, -0.03935363, -0.03935363,\n",
        "       -0.03935363, -0.03935363, -0.03935362, -0.03935362, -0.03935362,\n",
        "       -0.01369549, -0.01369549, -0.0136955 , -0.01369549, -0.01369549,\n",
        "       -0.0136955 , -0.01369549, -0.0136955 , -0.0136955 , -0.0136955 ,\n",
        "        0.01049049,  0.01049049,  0.01049049,  0.01049048,  0.01049049,\n",
        "        0.01049048,  0.01049048,  0.01049049,  0.01049048,  0.01049049])\n",
        " \n",
        "*** Profile stats marshalled to file u'/var/folders/mj/1sl30v6x2g5_lnlgdnngtd3c0000gn/T/tmpn8_fbY'. \n"
       ]
      }
     ],
     "prompt_number": 129
    },
    {
     "cell_type": "code",
     "collapsed": false,
     "input": [
      "%%snakeviz\n",
      "startSLSQP = timeit.default_timer()\n",
      "costODEFResultSLSQP = minimize(costODEF,initGuess,method=\"SLSQP\")\n",
      "stopSLSQP = timeit.default_timer()\n",
      "\n",
      "print stopSLSQP - startSLSQP\n",
      "\n",
      "print costODEFResultSLSQP"
     ],
     "language": "python",
     "metadata": {},
     "outputs": [
      {
       "output_type": "stream",
       "stream": "stdout",
       "text": [
        "8.5496840477\n",
        "  status: 0\n",
        " success: True\n",
        "    njev: 51\n",
        "    nfev: 1649\n",
        "     fun: 2.5774431624374406e-05\n",
        "       x: array([-0.48540402, -0.48455081, -0.48705338, -0.26501179, -0.35788204,\n",
        "       -0.34565228, -0.21748088, -0.18660911, -0.6594982 , -0.27068346,\n",
        "       -1.2048972 , -1.19990967, -1.21438905, -0.48933447, -0.31391794,\n",
        "       -0.31977515, -0.38418466, -0.40543151, -0.52481992,  0.01588255,\n",
        "       -1.25067626, -1.24966621, -1.25259283, -0.92609278, -0.89419533,\n",
        "       -0.89597664, -0.91608505, -0.92190289, -0.88950163, -0.7106579 ])\n",
        " message: 'Optimization terminated successfully.'\n",
        "     jac: array([  3.94333608e-05,   4.04668297e-05,   3.75074985e-05,\n",
        "         2.27300134e-04,   1.83917041e-05,   3.09371953e-05,\n",
        "         1.37970724e-04,   1.62817417e-04,   2.48804897e-04,\n",
        "        -2.32962982e-03,  -1.01557895e-04,  -1.02731517e-04,\n",
        "        -9.93060075e-05,   1.37743003e-04,   8.00560364e-04,\n",
        "         7.43729275e-04,   2.97237345e-04,   2.16706698e-04,\n",
        "         2.19471341e-04,   3.18754385e-03,  -1.07516480e-05,\n",
        "        -1.14018064e-05,  -9.52650726e-06,  -4.68119949e-05,\n",
        "         1.95385976e-05,   1.45992992e-05,  -1.52366731e-05,\n",
        "        -1.84541357e-05,  -1.30783258e-04,   4.02199468e-04,\n",
        "         0.00000000e+00])\n",
        "     nit: 51\n",
        " \n",
        "*** Profile stats marshalled to file u'/var/folders/mj/1sl30v6x2g5_lnlgdnngtd3c0000gn/T/tmpAo41w_'. \n"
       ]
      }
     ],
     "prompt_number": 130
    },
    {
     "cell_type": "code",
     "collapsed": false,
     "input": [
      "# %%snakeviz\n",
      "startLBFGSB = timeit.default_timer()\n",
      "# costODEFResult = minimize(costODEF,initGuess,method=\"Nelder-Mead\")\n",
      "# minimize(costTotalF,initGuess,method=\"TNC\")\n",
      "costODEFResultLBFGSB = minimize(costODEF,initGuess,method=\"L-BFGS-B\")\n",
      "stopLBFGSB = timeit.default_timer()\n",
      "\n",
      "print stopLBFGSB - startLBFGSB\n",
      "\n",
      "print costODEFResultLBFGSB"
     ],
     "language": "python",
     "metadata": {},
     "outputs": [
      {
       "output_type": "stream",
       "stream": "stdout",
       "text": [
        "16.0442287922\n",
        "  status: 0\n",
        " success: True\n",
        "    nfev: 119\n",
        "     fun: 1.6905137501642895e-07\n",
        "       x: array([-2.0603106 , -2.0603106 , -2.06419974, -2.11583824, -2.0634141 ,\n",
        "       -2.06405499, -2.06078037, -2.06384378, -2.0830549 , -2.08666077,\n",
        "       -0.45891181, -0.45891181, -0.20174149, -0.04508755, -0.63243257,\n",
        "       -0.64959747, -0.51989713, -0.21305195, -0.98190186, -1.07819291,\n",
        "       -3.00675577, -3.00675577, -2.99724866, -2.89726978, -3.00055964,\n",
        "       -2.99920211, -3.00596847, -2.99805874, -2.96010668, -2.9544031 ])\n",
        " message: 'CONVERGENCE: REL_REDUCTION_OF_F_<=_FACTR*EPSMCH'\n",
        "     jac: array([ -1.02126515e-05,  -1.02126515e-05,  -1.87774584e-05,\n",
        "        -2.77189401e-05,  -6.42969453e-06,  -6.13260136e-06,\n",
        "        -8.71123541e-06,  -1.83276307e-05,  -2.24984889e-06,\n",
        "        -1.55853109e-06,   5.41300468e-05,   5.41300468e-05,\n",
        "         7.99575741e-05,   9.91664506e-05,   3.74608826e-05,\n",
        "         3.60326294e-05,   4.78763702e-05,   7.90094451e-05,\n",
        "         1.68361325e-05,   1.37648216e-05,   2.07773905e-05,\n",
        "         2.07773905e-05,   3.75926323e-05,   5.58314251e-05,\n",
        "         1.32191342e-05,   1.26251075e-05,   1.77820218e-05,\n",
        "         3.67225784e-05,   4.90846728e-06,   3.54729548e-06])\n",
        "     nit: 93\n"
       ]
      }
     ],
     "prompt_number": 127
    },
    {
     "cell_type": "code",
     "collapsed": false,
     "input": [
      "# %%snakeviz\n",
      "startNM = timeit.default_timer()\n",
      "costODEFResultNM = minimize(costODEF,initGuess,method=\"Nelder-Mead\")\n",
      "stopNM = timeit.default_timer()\n",
      "\n",
      "print stopNM - startNM\n",
      "\n",
      "print costODEFResultNM"
     ],
     "language": "python",
     "metadata": {},
     "outputs": [
      {
       "output_type": "stream",
       "stream": "stdout",
       "text": [
        "30.9348311424\n",
        "  status: 1\n",
        "    nfev: 6001\n",
        " success: False\n",
        "     fun: 0.00031884090490975285\n",
        "       x: array([ 0.1330613 ,  1.05982273,  0.18777729, -0.60789078, -0.96393469,\n",
        "       -0.65270373, -1.55257864,  0.8002259 , -0.12414033, -0.21230861,\n",
        "       -0.88629202,  0.47527367,  0.21401419,  0.2130512 , -1.5236408 ,\n",
        "        1.35208616, -0.48922234, -0.85850735,  0.72135512, -1.03407686,\n",
        "        2.29041152,  0.91184671, -0.56987761,  0.16597395, -0.43267372,\n",
        "        2.1772668 , -0.1318482 , -0.80817762,  0.44533168, -0.28545885])\n",
        " message: 'Maximum number of function evaluations has been exceeded.'\n",
        "     nit: 5029\n",
        " \n",
        "*** Profile stats marshalled to file u'/var/folders/mj/1sl30v6x2g5_lnlgdnngtd3c0000gn/T/tmp2fNnA5'. \n"
       ]
      }
     ],
     "prompt_number": 126
    },
    {
     "cell_type": "code",
     "collapsed": false,
     "input": [
      "# %%snakeviz\n",
      "startTNC = timeit.default_timer()\n",
      "# costODEFResult = minimize(costODEF,initGuess,method=\"Nelder-Mead\")\n",
      "costODEFResultTNC = minimize(costODEF,initGuess,method=\"TNC\")\n",
      "stopTNC = timeit.default_timer()\n",
      "\n",
      "print stopTNC - startTNC\n",
      "\n",
      "print costODEFResultTNC"
     ],
     "language": "python",
     "metadata": {},
     "outputs": [
      {
       "output_type": "stream",
       "stream": "stdout",
       "text": [
        "45.4541549683\n",
        "  status: 3\n",
        " success: False\n",
        "    nfev: 300\n",
        "     fun: 0.0014134200168788226\n",
        "       x: array([-0.20190472, -0.20190472, -0.18808703, -0.19295435, -0.19572038,\n",
        "       -0.04796784, -0.19396957, -0.21892287, -0.21447547, -0.17392687,\n",
        "       -1.67899527, -1.67899527, -0.42007525, -0.91695886, -1.19221734,\n",
        "        0.22111673, -0.25818086, -0.88921753, -0.46715631, -0.19627801,\n",
        "        0.20087304,  0.20087304,  0.65713399, -0.05456812,  0.22742078,\n",
        "        0.15573394,  0.0956364 , -0.20943573,  0.24956391,  0.13324245])\n",
        " message: 'Max. number of function evaluations reach'\n",
        "     jac: array([ 0.00101461,  0.00101461, -0.00061286,  0.00456347,  0.00292545,\n",
        "       -0.0167402 , -0.00407698,  0.00421885,  0.00257763, -0.00631483,\n",
        "        0.00024155,  0.00024155,  0.00862044, -0.00134179, -0.00182214,\n",
        "        0.00145435,  0.00664002, -0.00121416,  0.00651105,  0.00539998,\n",
        "        0.00070286,  0.00070286,  0.0010624 , -0.00067795, -0.00029385,\n",
        "        0.00021479,  0.00098624, -0.00069649,  0.00027266,  0.00097921])\n",
        "     nit: 31\n",
        " \n",
        "*** Profile stats marshalled to file u'/var/folders/mj/1sl30v6x2g5_lnlgdnngtd3c0000gn/T/tmpNjAoYA'. \n"
       ]
      }
     ],
     "prompt_number": 125
    },
    {
     "cell_type": "code",
     "collapsed": false,
     "input": [
      "### This method is extremely slow\n",
      "# %%snakeviz\n",
      "# startPowell = timeit.default_timer()\n",
      "# costODEFResultPowell = minimize(costODEF,initGuess,method=\"Powell\")\n",
      "# stopPowell = timeit.default_timer()\n",
      "\n",
      "# print stopPowell - startPowell\n",
      "\n",
      "# print costODEFResultPowell"
     ],
     "language": "python",
     "metadata": {},
     "outputs": [],
     "prompt_number": 157
    },
    {
     "cell_type": "markdown",
     "metadata": {},
     "source": [
      "**To summarize, **\n",
      "\n",
      "1. CG is extremely fast, however, it's not so accurate.\n",
      "2. SLSQP is also very fast, and it is very accurate\n",
      "3. L-BFGS-B gives us the best result and it's not slow.\n",
      "\n",
      "|  Method  |      Time     |        Function        |\n",
      "|:--------:|:-------------:|:----------------------:|\n",
      "|    CG    | 2.35782790184 |   0.1920503701634634   |\n",
      "|   SLSQP  |  8.5496840477 | 2.5774431624374406e-05 |\n",
      "| L-BFGS-B | 16.0442287922 | 1.6905137501642895e-07 |\n",
      "|    N-M   | 30.9348311424 | 0.00031884090490975285 |\n",
      "\n"
     ]
    },
    {
     "cell_type": "code",
     "collapsed": false,
     "input": [
      "# for L-BFGS-B method\n",
      "\n",
      "print \"Success is\", costODEFResult.get('success'), \"\\n\", \"# of function evaluations\", costODEFResult.get('nfev'), \"\\n\",\\\n",
      "\"value of minimized function\", costODEFResult.get('fun'), \"\\n\",\"# of iter\", costODEFResult.get('nit')\n",
      "\n",
      "print \"x is\\n\", costODEFResult.get('x')"
     ],
     "language": "python",
     "metadata": {},
     "outputs": [
      {
       "output_type": "stream",
       "stream": "stdout",
       "text": [
        "Success is True \n",
        "# of function evaluations 119 \n",
        "value of minimized function 1.69051375016e-07 \n",
        "# of iter 93\n",
        "x is\n",
        "[-2.0603106  -2.0603106  -2.06419974 -2.11583824 -2.0634141  -2.06405499\n",
        " -2.06078037 -2.06384378 -2.0830549  -2.08666077 -0.45891181 -0.45891181\n",
        " -0.20174149 -0.04508755 -0.63243257 -0.64959747 -0.51989713 -0.21305195\n",
        " -0.98190186 -1.07819291 -3.00675577 -3.00675577 -2.99724866 -2.89726978\n",
        " -3.00055964 -2.99920211 -3.00596847 -2.99805874 -2.96010668 -2.9544031 ]\n"
       ]
      }
     ],
     "prompt_number": 80
    },
    {
     "cell_type": "code",
     "collapsed": false,
     "input": [
      "print funNNList(np.array( costODEFResultCG.get('x') ),tlin,1)\n",
      "print funNNList(np.array( costODEFResultSLSQP.get('x') ),tlin,1)\n",
      "print funNNList(np.array( costODEFResultLBFGSB.get('x') ),tlin,1)\n",
      "print funNNList(np.array( costODEFResultNM.get('x') ),tlin,1)"
     ],
     "language": "python",
     "metadata": {},
     "outputs": [
      {
       "output_type": "stream",
       "stream": "stdout",
       "text": [
        "[  1.00000000e+00   6.77014501e-01   4.19924694e-01   2.25297220e-01\n",
        "   8.78206766e-02   8.04427343e-04  -4.32512100e-02  -5.20971078e-02\n",
        "  -3.32557315e-02   6.34122997e-03   6.05863238e-02]\n",
        "[ 1.          0.60517646  0.36711424  0.22343151  0.13558498  0.08159165\n",
        "  0.04879234  0.02940344  0.01824505  0.01166132  0.00700062]\n",
        "[ 1.          0.60641483  0.3678138   0.22314944  0.13534572  0.08203464\n",
        "  0.04970017  0.03013128  0.0183094   0.01115312  0.00676784]\n",
        "[ 1.          0.60129567  0.36281266  0.22220159  0.13660322  0.08295539\n",
        "  0.04904241  0.02817986  0.01636935  0.01048205  0.00741821]\n"
       ]
      }
     ],
     "prompt_number": 134
    },
    {
     "cell_type": "code",
     "collapsed": false,
     "input": [
      "plt.figure(figsize=(10,6.18))\n",
      "plt.plot(tlin,funY(tlin),'g-')\n",
      "plt.plot(tlin,funNNList(np.array( costODEFResultCG.get('x') ),tlin,1),'b:')\n",
      "plt.plot(tlin,funNNList(np.array( costODEFResultSLSQP.get('x') ),tlin,1),'r+')\n",
      "plt.plot(tlin,funNNList(np.array( costODEFResultLBFGSB.get('x') ),tlin,1),'co')\n",
      "plt.plot(tlin,funNNList(np.array( costODEFResultNM.get('x') ),tlin,1),'m1')\n",
      "# plt.yscale('log')\n",
      "plt.show()"
     ],
     "language": "python",
     "metadata": {},
     "outputs": [
      {
       "metadata": {},
       "output_type": "display_data",
       "png": "[encoded data removed]",
       "text": [
        "<matplotlib.figure.Figure at 0x110dd7790>"
       ]
      }
     ],
     "prompt_number": 152
    },
    {
     "cell_type": "markdown",
     "metadata": {},
     "source": [
      "#### Using Jac"
     ]
    },
    {
     "cell_type": "code",
     "collapsed": false,
     "input": [
      "def mhelper(v,w,u,t): ## This function should output a result ## t is a number in this function not array!!\n",
      "    v = np.array(v)\n",
      "    w = np.array(w)\n",
      "    u = np.array(u)\n",
      "    \n",
      "    return np.sum( v*trigf( t*w + u )  + t* v* trigf(t*w  + u) * ( 1 -  trigf( t*w +u)  ) * w ) + ( 1 +  np.sum( t * v * trigf( t*w +u ) )  )  \n",
      "    # Checked # Pass\n",
      "    \n",
      "def vhelper(v,w,u,t):\n",
      "    v = np.array(v)\n",
      "    w = np.array(w)\n",
      "    u = np.array(u)\n",
      "    \n",
      "    return trigf(t*w+u) + t*trigf(t*w+u)*( 1-trigf(t*w+u) )*w + t*trigf(t*w+u)\n",
      "\n",
      "def whelper(v,w,u,t):\n",
      "    v = np.array(v)\n",
      "    w = np.array(w)\n",
      "    u = np.array(u)\n",
      "    \n",
      "    return v*t*trigf(t*w+u)*( 1- trigf(t*w+u) ) + t*v*( trigf(t*w+u)*(1-trigf(t*w+u))*t* (1-trigf(t*w+u)) )*w - t*v*trigf(t*w+u)*trigf(t*w+u)*(1-trigf(t*w+u))*t*w + t*v*trigf(t*w+u)*(1-trigf(t*w+u))  + t*v*trigf(t*w+u)*(1-trigf(t*w+u))*t    \n",
      "\n",
      "def uhelper(v,w,u,t):\n",
      "    v = np.array(v)\n",
      "    w = np.array(w)\n",
      "    u = np.array(u)\n",
      "    \n",
      "    return v*trigf(t*w+u)*( 1 - trigf(t*w+u)) + t* v * trigf(t*w+u) * (1-trigf(t*w+u))*(1-trigf(t*w+u))*w - t*v*trigf(t*w+u)*trigf(t*w+u)*(1-trigf(t*w+u))*w + t*v*trigf(t*w+u)*(1-trigf(t*w+u))\n"
     ],
     "language": "python",
     "metadata": {},
     "outputs": [],
     "prompt_number": 110
    },
    {
     "cell_type": "code",
     "collapsed": false,
     "input": [
      "def mhelperT(v,w,u,t):\n",
      "    t = np.array(t)\n",
      "    mhelperT = 0\n",
      "    \n",
      "    for temp in t:\n",
      "        mhelperT = mhelperT + mhelper(v,w,u,temp)\n",
      "        \n",
      "    return mhelperT\n",
      "\n",
      "def vhelperT(v,w,u,t):\n",
      "    t = np.array(t)\n",
      "    vhelperT = 0\n",
      "    \n",
      "    for temp in t:\n",
      "        vhelperT = vhelperT + vhelper(v,w,u,temp)\n",
      "        \n",
      "    return vhelperT\n",
      "\n",
      "def whelperT(v,w,u,t):\n",
      "    t = np.array(t)\n",
      "    whelperT = 0\n",
      "    \n",
      "    for temp in t:\n",
      "        whelperT = whelperT + whelper(v,w,u,temp)\n",
      "        \n",
      "    return whelperT\n",
      "\n",
      "\n",
      "def uhelperT(v,w,u,t):\n",
      "    t = np.array(t)\n",
      "    uhelperT = 0\n",
      "    \n",
      "    for temp in t:\n",
      "        uhelperT = uhelperT + uhelper(v,w,u,temp)\n",
      "        \n",
      "    return uhelperT\n",
      "\n",
      "\n",
      "def costJac(v,w,u,t):\n",
      "    v = np.array(v)\n",
      "    w = np.array(w)\n",
      "    u = np.array(u)\n",
      "    \n",
      "    vout = 0\n",
      "    wout = 0\n",
      "    uout = 0\n",
      "    \n",
      "    for temp in t:\n",
      "        vout = vout + 2*mhelper(v,w,u,temp)*vhelper(v,w,u,temp)\n",
      "        wout = wout + 2*mhelper(v,w,u,temp)*whelper(v,w,u,temp)\n",
      "        uout = uout + 2*mhelper(v,w,u,temp)*uhelper(v,w,u,temp)\n",
      "    \n",
      "    out = np.hstack((vout,wout,uout))\n",
      "    \n",
      "    return np.array(out)\n"
     ],
     "language": "python",
     "metadata": {},
     "outputs": [],
     "prompt_number": 111
    },
    {
     "cell_type": "code",
     "collapsed": false,
     "input": [
      "costODEJacF = lambda x: costJac(np.split(x,3)[0],np.split(x,3)[1],np.split(x,3)[2],tlin)\n",
      "initGuessJ = np.zeros(30)\n",
      "# initGuessJ = np.random.rand(1,30)+2\n",
      "startJacNCG = timeit.default_timer()\n",
      "costODEResultJacNCG = minimize(costODEF,initGuessJ,method=\"Newton-CG\",jac=costODEJacF)\n",
      "stopJacNCG = timeit.default_timer()\n",
      "\n",
      "print stopJacNCG - startJacNCG\n",
      "print costODEResultJacNCG"
     ],
     "language": "python",
     "metadata": {},
     "outputs": [
      {
       "output_type": "stream",
       "stream": "stdout",
       "text": [
        "64.0938029289\n",
        "  status: 0\n",
        " success: True\n",
        "    njev: 4680\n",
        "    nfev: 526\n",
        "     fun: 0.09394776829886704\n",
        "       x: array([-35.19819649, -35.19819649, -35.19819649, -35.19819649,\n",
        "       -35.19819649, -35.19819649, -35.19819649, -35.19819649,\n",
        "       -35.19819649, -35.19819649,  -0.28886643,  -0.28886643,\n",
        "        -0.28886643,  -0.28886643,  -0.28886643,  -0.28886643,\n",
        "        -0.28886643,  -0.28886643,  -0.28886643,  -0.28886643,\n",
        "        -6.07749789,  -6.07749789,  -6.07749789,  -6.07749789,\n",
        "        -6.07749789,  -6.07749789,  -6.07749789,  -6.07749789,\n",
        "        -6.07749789,  -6.07749789])\n",
        " message: 'Optimization terminated successfully.'\n",
        "    nhev: 0\n",
        "     jac: array([  6.17148541e-06,   6.17148541e-06,   6.17148541e-06,\n",
        "         6.17148541e-06,   6.17148541e-06,   6.17148541e-06,\n",
        "         6.17148541e-06,   6.17148541e-06,   6.17148541e-06,\n",
        "         6.17148541e-06,  -6.15087541e-04,  -6.15087541e-04,\n",
        "        -6.15087541e-04,  -6.15087541e-04,  -6.15087541e-04,\n",
        "        -6.15087541e-04,  -6.15087541e-04,  -6.15087541e-04,\n",
        "        -6.15087541e-04,  -6.15087541e-04,  -1.89558244e-04,\n",
        "        -1.89558244e-04,  -1.89558244e-04,  -1.89558244e-04,\n",
        "        -1.89558244e-04,  -1.89558244e-04,  -1.89558244e-04,\n",
        "        -1.89558244e-04,  -1.89558244e-04,  -1.89558244e-04])\n"
       ]
      }
     ],
     "prompt_number": 115
    },
    {
     "cell_type": "markdown",
     "metadata": {},
     "source": [
      "A test of the results"
     ]
    },
    {
     "cell_type": "code",
     "collapsed": false,
     "input": [
      "# for NCG method\n",
      "\n",
      "print \"Success is\", costODEResultJacNCG.get('success'), \"\\n\", \"# of function evaluations\", costODEResultJacNCG.get('nfev'), \"\\n\",\\\n",
      "\"value of minimized function\", costODEResultJacNCG.get('fun'), \"\\n\",\"# of iter\", costODEResultJacNCG.get('nit')\n",
      "\n",
      "print \"x is\\n\", costODEResultJacNCG.get('x')"
     ],
     "language": "python",
     "metadata": {},
     "outputs": [
      {
       "output_type": "stream",
       "stream": "stdout",
       "text": [
        "Success is True \n",
        "# of function evaluations 642 \n",
        "value of minimized function 0.0938988521567 \n",
        "# of iter None\n",
        "x is\n",
        "[-42.82076679 -42.82076679 -42.82076679 -42.82076679 -42.82076679\n",
        " -42.82076679 -42.82076679 -42.82076679 -42.82076679 -42.82076679\n",
        "  -0.28882372  -0.28882372  -0.28882372  -0.28882372  -0.28882372\n",
        "  -0.28882372  -0.28882372  -0.28882372  -0.28882372  -0.28882372\n",
        "  -6.2738348   -6.2738348   -6.2738348   -6.2738348   -6.2738348\n",
        "  -6.2738348   -6.2738348   -6.2738348   -6.2738348   -6.2738348 ]\n"
       ]
      }
     ],
     "prompt_number": 113
    },
    {
     "cell_type": "code",
     "collapsed": false,
     "input": [
      "funNNList(np.array( costODEResultJacNCG.get('x') ),tlin,1)"
     ],
     "language": "python",
     "metadata": {},
     "outputs": [
      {
       "metadata": {},
       "output_type": "pyout",
       "prompt_number": 114,
       "text": [
        "array([ 1.        ,  0.65125551,  0.39616927,  0.21589981,  0.0949672 ,\n",
        "        0.02069318, -0.01726986, -0.02733466, -0.01631105,  0.010316  ,\n",
        "        0.04815384])"
       ]
      }
     ],
     "prompt_number": 114
    },
    {
     "cell_type": "code",
     "collapsed": false,
     "input": [],
     "language": "python",
     "metadata": {},
     "outputs": []
    },
    {
     "cell_type": "code",
     "collapsed": false,
     "input": [],
     "language": "python",
     "metadata": {},
     "outputs": []
    },
    {
     "cell_type": "code",
     "collapsed": false,
     "input": [],
     "language": "python",
     "metadata": {},
     "outputs": []
    },
    {
     "cell_type": "code",
     "collapsed": false,
     "input": [],
     "language": "python",
     "metadata": {},
     "outputs": []
    },
    {
     "cell_type": "code",
     "collapsed": false,
     "input": [],
     "language": "python",
     "metadata": {},
     "outputs": []
    },
    {
     "cell_type": "code",
     "collapsed": false,
     "input": [],
     "language": "python",
     "metadata": {},
     "outputs": []
    },
    {
     "cell_type": "markdown",
     "metadata": {},
     "source": [
      "### Plotting"
     ]
    },
    {
     "cell_type": "markdown",
     "metadata": {},
     "source": [
      "Here in this section I def some function used to plot the data.\n",
      "\n",
      "The plot function outputs a plot with inputs of a list of ts and ys."
     ]
    },
    {
     "cell_type": "code",
     "collapsed": false,
     "input": [
      "startTemp = timeit.default_timer()\n",
      "testArraySplit = np.zeros(30)\n",
      "np.split(testArraySplit,3)[0]\n",
      "np.split(testArraySplit,3)[1]\n",
      "np.split(testArraySplit,3)[2]\n",
      "stopTemp = timeit.default_timer()\n",
      "print stopTemp - startTemp"
     ],
     "language": "python",
     "metadata": {},
     "outputs": [
      {
       "output_type": "stream",
       "stream": "stdout",
       "text": [
        "0.00111198425293\n"
       ]
      }
     ],
     "prompt_number": 98
    },
    {
     "cell_type": "code",
     "collapsed": false,
     "input": [],
     "language": "python",
     "metadata": {},
     "outputs": []
    },
    {
     "cell_type": "code",
     "collapsed": false,
     "input": [],
     "language": "python",
     "metadata": {},
     "outputs": []
    },
    {
     "cell_type": "code",
     "collapsed": false,
     "input": [
      "x1 = np.zeros(30)\n",
      "v1, w1, u1 = np.split(x1,3)[:3]\n",
      "print v1, w1"
     ],
     "language": "python",
     "metadata": {},
     "outputs": [
      {
       "output_type": "stream",
       "stream": "stdout",
       "text": [
        "[ 0.  0.  0.  0.  0.  0.  0.  0.  0.  0.] [ 0.  0.  0.  0.  0.  0.  0.  0.  0.  0.]\n"
       ]
      }
     ],
     "prompt_number": 118
    },
    {
     "cell_type": "markdown",
     "metadata": {},
     "source": []
    }
   ],
   "metadata": {}
  }
 ]
}