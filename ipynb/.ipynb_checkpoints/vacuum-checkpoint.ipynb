{
 "cells": [
  {
   "cell_type": "markdown",
   "metadata": {},
   "source": [
    "## Vacuum Neutrino Oscillations"
   ]
  },
  {
   "cell_type": "markdown",
   "metadata": {},
   "source": [
    "Here is a notebook for homogeneous gas model."
   ]
  },
  {
   "cell_type": "markdown",
   "metadata": {},
   "source": [
    "Here we are talking about a homogeneous gas bulk of neutrinos with single energy. The EoM is\n",
    "$$\n",
    "i \\partial_t \\rho_E = \\left[ \\frac{\\delta m^2}{2E}B ,\\rho_E \\right]\n",
    "$$\n",
    "\n",
    "while the EoM for antineutrinos is\n",
    "$$\n",
    "i \\partial_t \\bar\\rho_E = \\left[- \\frac{\\delta m^2}{2E}B ,\\bar\\rho_E \\right]\n",
    "$$"
   ]
  },
  {
   "cell_type": "markdown",
   "metadata": {
    "collapsed": false
   },
   "source": [
    "Initial:\n",
    "Homogeneous, Isotropic, Monoenergetic $\\nu_e$ and $\\bar\\nu_e$"
   ]
  },
  {
   "cell_type": "markdown",
   "metadata": {},
   "source": [
    "The equations becomes\n",
    "$$\n",
    "i \\partial_t \\rho_E = \\left[ \\frac{\\delta m^2}{2E} B  ,\\rho_E \\right]\n",
    "$$\n",
    "$$\n",
    "i \\partial_t \\bar\\rho_E = \\left[- \\frac{\\delta m^2}{2E}B,\\bar\\rho_E \\right]\n",
    "$$\n",
    "\n"
   ]
  },
  {
   "cell_type": "markdown",
   "metadata": {},
   "source": [
    "Define $\\omega=\\frac{\\delta m^2}{2E}$,  $\\omega = \\frac{\\delta m^2}{-2E}$, $\\mu=\\sqrt{2}G_F n_\\nu$\n",
    "$$\n",
    "i \\partial_t \\rho_E = \\left[ \\omega B ,\\rho_E \\right]\n",
    "$$\n",
    "$$\n",
    "i \\partial_t \\bar\\rho_E = \\left[\\bar\\omega B,\\bar\\rho_E \\right]\n",
    "$$\n"
   ]
  },
  {
   "cell_type": "markdown",
   "metadata": {},
   "source": [
    "where\n",
    "\n",
    "$$\n",
    "B = \\frac{1}{2} \\begin{pmatrix} \n",
    "-\\cos 2\\theta_v & \\sin 2\\theta_v \\\\\n",
    "\\sin 2\\theta_v & \\cos 2\\theta_v\n",
    "\\end{pmatrix}\n",
    "$$\n",
    "\n",
    "or just use theta =0.2rad\n",
    "\n",
    "\n",
    "$$\n",
    "L = \\begin{pmatrix}\n",
    "1 & 0 \\\\\n",
    "0 & 0\n",
    "\\end{pmatrix}\n",
    "$$\n",
    "\n",
    "Initial condition \n",
    "$$\n",
    "\\rho(t=0) = \\begin{pmatrix}\n",
    "1 & 0 \\\\\n",
    "0 & 0\n",
    "\\end{pmatrix}\n",
    "$$\n",
    "\n",
    "$$\n",
    "\\bar\\rho(t=0) =\\begin{pmatrix}\n",
    "1 & 0 \\\\\n",
    "0 & 0\n",
    "\\end{pmatrix}\n",
    "$$"
   ]
  },
  {
   "cell_type": "markdown",
   "metadata": {},
   "source": [
    "define the following quantities\n",
    "\n",
    "1. hbar$=\\hbar$\n",
    "%2. delm2E$= \\delta m^2/2E$\n",
    "%3. lamb $= \\lambda$, lambb $= \\bar\\lambda$\n",
    "%4. gF $= G_F$\n",
    "%5. mu $=\\mu$\n",
    "6. omega $=\\omega$, omegab $=-\\bar\\omega$"
   ]
  },
  {
   "cell_type": "markdown",
   "metadata": {},
   "source": [
    "## Numerical"
   ]
  },
  {
   "cell_type": "code",
   "execution_count": 1,
   "metadata": {
    "collapsed": false
   },
   "outputs": [],
   "source": [
    "# This line configures matplotlib to show figures embedded in the notebook, \n",
    "# instead of opening a new window for each figure. More about that later. \n",
    "# If you are using an old version of IPython, try using '%pylab inline' instead.\n",
    "%matplotlib inline\n",
    "%load_ext snakeviz\n",
    "\n",
    "import numpy as np\n",
    "from scipy.optimize import minimize\n",
    "from scipy.special import expit\n",
    "import matplotlib.pyplot as plt\n",
    "\n",
    "from matplotlib.lines import Line2D\n",
    "\n",
    "import timeit\n",
    "\n",
    "import pandas as pd\n",
    "\n",
    "import plotly.plotly as py\n",
    "from plotly.graph_objs import *\n",
    "import plotly.tools as tls"
   ]
  },
  {
   "cell_type": "code",
   "execution_count": 92,
   "metadata": {
    "collapsed": false
   },
   "outputs": [
    {
     "name": "stdout",
     "output_type": "stream",
     "text": [
      "[[-0.4605305   0.19470917]\n",
      " [ 0.19470917  0.4605305 ]]\n"
     ]
    }
   ],
   "source": [
    "# hbar=1.054571726*10**(-34)\n",
    "hbar=1.0\n",
    "delm2E=1.0\n",
    "# lamb=1.0  ## lambda for neutrinos\n",
    "# lambb=1.0 ## lambda for anti neutrinos\n",
    "# gF=1.0\n",
    "# nd=1.0  ## number density\n",
    "# ndb=1.0   ## number density\n",
    "omega=1.0\n",
    "omegab=-1.0\n",
    "\n",
    "## Here are some matrices to be used\n",
    "\n",
    "elM = np.array([[1.0,0.0],[0.0,0.0]])\n",
    "#bM = 1.0/2*np.array( [ [ - 0.38729833462,0.31622776601] , [0.31622776601,0.38729833462] ] )\n",
    "bM = 1.0/2*np.array( [ [ -np.cos(0.4),np.sin(0.4)] , [np.sin(0.4),np.cos(0.4)] ] )\n",
    "\n",
    "print bM\n",
    "## sqareroot of 2\n",
    "sqrt2=np.sqrt(2.0)"
   ]
  },
  {
   "cell_type": "markdown",
   "metadata": {},
   "source": [
    "I am going to substitute all density matrix elements using their corrosponding network expressions.\n",
    "\n",
    "So first of all, I need the network expression for the unknown functions.\n",
    "\n",
    "A function is written as\n",
    "\n",
    "$$ y_i= 1+t_i v_k f(t_i w_k+u_k) ,$$\n",
    "\n",
    "while it's derivative is\n",
    "\n",
    "$$v_k f(t w_k+u_k) + t v_k f(tw_k+u_k) (1-f(tw_k+u_k)) w_k .$$\n",
    "\n",
    "Now I can write down the equations using these two forms."
   ]
  },
  {
   "cell_type": "code",
   "execution_count": 93,
   "metadata": {
    "collapsed": true
   },
   "outputs": [],
   "source": [
    "def trigf(x):\n",
    "    #return 1/(1+np.exp(-x)) # It's not bad to define this function here for people could use other functions other than expit(x).\n",
    "    return expit(x)"
   ]
  },
  {
   "cell_type": "code",
   "execution_count": 94,
   "metadata": {
    "collapsed": false
   },
   "outputs": [],
   "source": [
    "## The time derivative part\n",
    "\n",
    "### Here are the initial conditions\n",
    "\n",
    "init = np.array( [[1,0],[0,0]] )\n",
    "#init = np.array( [[1,2],[3,4]] )\n",
    "\n",
    "### For neutrinos\n",
    "\n",
    "def rho(x,ti,initialCondition): # x is the input structure arrays, ti is a time point\n",
    "    \n",
    "    elem=np.ones(4)\n",
    "    \n",
    "    for i in np.linspace(0,3,4):\n",
    "        elem[i] = np.sum(ti * x[i*3] * trigf( ti*x[i*3+1] + x[i*3+2] ) )\n",
    "    \n",
    "    return initialCondition + np.array([[ elem[0] , elem[1] ],[elem[2], elem[3] ]])\n"
   ]
  },
  {
   "cell_type": "code",
   "execution_count": 95,
   "metadata": {
    "collapsed": false,
    "scrolled": true
   },
   "outputs": [
    {
     "data": {
      "text/plain": [
       "array([[ 1.,  0.],\n",
       "       [ 0.,  0.]])"
      ]
     },
     "execution_count": 95,
     "metadata": {},
     "output_type": "execute_result"
    }
   ],
   "source": [
    "## Test\n",
    "xtemp=np.ones(120)\n",
    "rho(xtemp,0,init)"
   ]
  },
  {
   "cell_type": "code",
   "execution_count": 96,
   "metadata": {
    "collapsed": false
   },
   "outputs": [],
   "source": [
    "## Define Hamiltonians for both\n",
    "\n",
    "def hamilv():\n",
    "    return delm2E*bM"
   ]
  },
  {
   "cell_type": "code",
   "execution_count": 97,
   "metadata": {
    "collapsed": true
   },
   "outputs": [],
   "source": [
    "## The commutator\n",
    "\n",
    "def commv(x,ti,initialCondition):\n",
    "    \n",
    "    return np.dot(hamilv(), rho(x,ti,initialCondition) ) - np.dot(rho(x,ti,initialCondition), hamilv() )\n"
   ]
  },
  {
   "cell_type": "code",
   "execution_count": 98,
   "metadata": {
    "collapsed": false,
    "scrolled": true
   },
   "outputs": [
    {
     "name": "stdout",
     "output_type": "stream",
     "text": [
      "[[-0.4605305   0.19470917]\n",
      " [ 0.19470917  0.4605305 ]]\n",
      "[[-0.4605305   0.19470917]\n",
      " [ 0.19470917  0.4605305 ]]\n",
      "neutrino\n",
      "[[ 0.         -0.19470917]\n",
      " [ 0.19470917  0.        ]]\n"
     ]
    }
   ],
   "source": [
    "## Test\n",
    "\n",
    "print bM\n",
    "\n",
    "print hamilv()\n",
    "\n",
    "print \"neutrino\\n\",commv(xtemp,0,init)"
   ]
  },
  {
   "cell_type": "code",
   "execution_count": 100,
   "metadata": {
    "collapsed": false
   },
   "outputs": [],
   "source": [
    "## The COST of the eqn set\n",
    "\n",
    "regularization = 0.0001\n",
    "npsum = np.sum\n",
    "\n",
    "def costvTi(x,ti,initialCondition): # l is total length of x\n",
    "    \n",
    "    list = np.linspace(0,3,4)\n",
    "\n",
    "    fvec = []\n",
    "    costi = np.ones(4) + 1.0j* np.ones(4)\n",
    "    commvi = np.array([commv(x,ti,initialCondition)[0,0],commv(x,ti,initialCondition)[0,1],commv(x,ti,initialCondition)[1,0],commv(x,ti,initialCondition)[1,1] ])\n",
    "    \n",
    "    fvecappend = fvec.append\n",
    "    \n",
    "    for i in list:\n",
    "        fvecappend(np.asarray(trigf(ti*x[i*3+1] + x[i*3+2]) ) )\n",
    "        \n",
    "    fvec = np.array(fvec)\n",
    "    \n",
    "    for i in list:\n",
    "        costi[i] = ( np.sum (x[i*3]*fvec[i] + ti * x[i*3]* fvec[i] * ( 1 -  fvec[i]  ) * x[i*3+1] ) + 1.0j*  ( commvi[i] )  )  \n",
    "\n",
    "    costiTemp = 0.0\n",
    "    \n",
    "    for i in list:\n",
    "        costiTemp = costiTemp + (np.real(costi[i]))**2 + (np.imag(costi[i]))**2\n",
    "\n",
    "    \n",
    "    return costiTemp\n",
    "    \n",
    "    #return np.abs(np.real(costi11)) + np.abs(np.real(costi12))+ np.abs(np.real(costi21)) +  np.abs(np.real(costi22)) + np.abs(np.imag(costi11)) + np.abs(np.imag(costi12))+ np.abs(np.imag(costi21)) +  np.abs(np.imag(costi22))\n",
    "\n",
    "    #return ( (np.real(costi11))**2 + (np.real(costi12))**2+ (np.real(costi21))**2 +  (np.real(costi22))**2 + (np.imag(costi11))**2 + (np.imag(costi12))**2+ (np.imag(costi21))**2 +  (np.imag(costi22))**2 )/v11.size + regularization * ( np.sum(v11**2)+np.sum(v12**2)+np.sum(v21**2) + np.sum(v22**2) + np.sum(w11**2) + np.sum(w12**2)+ np.sum(w21**2)+ np.sum(w22**2) )\n",
    "\n",
    "\n",
    "\n",
    "def CostOfStructure(x):\n",
    "    \n",
    "    v11,w11,u11,v12,w12,u12,v21,w21,u21,v22,w22,u22 = x[:12]\n",
    "    \n",
    "    return regularization * ( np.sum(v11**2)+np.sum(v12**2)+np.sum(v21**2) + np.sum(v22**2) + np.sum(w11**2) + np.sum(w12**2)+ np.sum(w21**2)+ np.sum(w22**2) )"
   ]
  },
  {
   "cell_type": "code",
   "execution_count": 101,
   "metadata": {
    "collapsed": false
   },
   "outputs": [
    {
     "name": "stdout",
     "output_type": "stream",
     "text": [
      "11.9516331412 11.9516331412\n"
     ]
    }
   ],
   "source": [
    "print costvTi(xtemp,2,init), costvTi2(xtemp,2,init)"
   ]
  },
  {
   "cell_type": "code",
   "execution_count": 102,
   "metadata": {
    "collapsed": true
   },
   "outputs": [],
   "source": [
    "## Calculate the total cost\n",
    "\n",
    "def costv(x,t,initialCondition):\n",
    "\n",
    "    t = np.array(t)\n",
    "    \n",
    "    costvTotal = np.sum( costvTList(x,t,initialCondition)  )\n",
    "        \n",
    "    return costvTotal\n",
    "    \n",
    "\n",
    "def costvTList(x,t,initialCondition):  ## This is the function WITHOUT the square!!! \n",
    "        \n",
    "    t = np.array(t)\n",
    "    \n",
    "    costvList = np.asarray([])\n",
    "    \n",
    "    for temp in t:\n",
    "        tempElement = costvTi(x,temp,initialCondition)\n",
    "        costvList = np.append(costvList, tempElement)\n",
    "        \n",
    "    return np.array(costvList)\n",
    "\n",
    "    "
   ]
  },
  {
   "cell_type": "code",
   "execution_count": 103,
   "metadata": {
    "collapsed": false
   },
   "outputs": [
    {
     "name": "stdout",
     "output_type": "stream",
     "text": [
      "[  0.           0.20408163   0.40816327   0.6122449    0.81632653\n",
      "   1.02040816   1.2244898    1.42857143   1.63265306   1.83673469\n",
      "   2.04081633   2.24489796   2.44897959   2.65306122   2.85714286\n",
      "   3.06122449   3.26530612   3.46938776   3.67346939   3.87755102\n",
      "   4.08163265   4.28571429   4.48979592   4.69387755   4.89795918\n",
      "   5.10204082   5.30612245   5.51020408   5.71428571   5.91836735\n",
      "   6.12244898   6.32653061   6.53061224   6.73469388   6.93877551\n",
      "   7.14285714   7.34693878   7.55102041   7.75510204   7.95918367\n",
      "   8.16326531   8.36734694   8.57142857   8.7755102    8.97959184\n",
      "   9.18367347   9.3877551    9.59183673   9.79591837  10.        ]\n"
     ]
    }
   ],
   "source": [
    "ttemp = np.linspace(0,10)\n",
    "print ttemp"
   ]
  },
  {
   "cell_type": "code",
   "execution_count": 104,
   "metadata": {
    "collapsed": false,
    "scrolled": false
   },
   "outputs": [
    {
     "name": "stdout",
     "output_type": "stream",
     "text": [
      "[   2.2136099     2.82542057    3.50674411    4.25935949    5.08963359\n",
      "    6.00708951    7.02267217    8.14722876    9.39045557   10.76034338\n",
      "   12.26302826   13.90291194   15.68292596   17.6048451    19.66959072\n",
      "   21.87749312   24.22850159   26.72234275   29.35863356   32.13695768\n",
      "   35.05691384   38.11814371   41.32034556   44.66327835   48.14675997\n",
      "   51.77066195   55.5349025    59.43943894   63.48426033   67.66938059\n",
      "   71.99483247   76.46066233   81.06692578   85.81368417   90.70100169\n",
      "   95.72894325  100.89757274  106.20695188  111.65713932  117.2481901\n",
      "  122.98015532  128.85308201  134.8670131   141.02198754  147.31804043\n",
      "  153.75520324  160.33350408  167.05296793  173.91361689  180.91547049]\n",
      "3226.66081823\n"
     ]
    }
   ],
   "source": [
    "ttemp = np.linspace(0,10)\n",
    "print costvTList(xtemp,ttemp,init)\n",
    "print costv(xtemp,ttemp,init)"
   ]
  },
  {
   "cell_type": "markdown",
   "metadata": {
    "collapsed": true
   },
   "source": [
    "## Jacobian"
   ]
  },
  {
   "cell_type": "markdown",
   "metadata": {
    "collapsed": true
   },
   "source": [
    "def commvprimew(x,ti,initialCondition): # this is the prime of commutator with respect to w.\n",
    "     \n",
    "    return cprimew\n",
    "\n",
    "def costvJaci(x,ti,initialCondition):\n",
    "    \n",
    "    v11,w11,u11,v12,w12,u12,v21,w21,u21,v22,w22,u22 = x[:12]\n",
    "    \n",
    "    out = np.zeros(12)\n",
    "\n",
    "    fvec11 = np.array(trigf(ti*w11 + u11) )  # This is a vector!!!\n",
    "    fvec12 = np.array(trigf(ti*w12 + u12) )\n",
    "    fvec21 = np.array(trigf(ti*w21 + u21) )\n",
    "    fvec22 = np.array(trigf(ti*w22 + u22) )\n",
    "\n",
    "    fvec11w = np.array( ti*fvec11 * ( 1- fvec11 ) * w11 )  # This is a vector!!!\n",
    "    fvec12w = np.array( ti*fvec12 * ( 1- fvec12 ) * w12 ) \n",
    "    fvec21w = np.array( ti*fvec21 * ( 1- fvec21 ) * w21 ) \n",
    "    fvec22w = np.array( ti*fvec22 * ( 1- fvec22 ) * w22 ) \n",
    "\n",
    "    fvec11u = np.array( fvec11 * ( 1- fvec11 ) * u11 )  # This is a vector!!!\n",
    "    fvec12u = np.array( fvec12 * ( 1- fvec12 ) * u12 ) \n",
    "    fvec21u = np.array( fvec21 * ( 1- fvec21 ) * u21 ) \n",
    "    fvec22u = np.array( fvec22 * ( 1- fvec22 ) * u22 ) \n",
    "\n",
    "    rt11= initialCondition[0,0] + np.sum(ti * v11 * fvec11 )\n",
    "    rt12= initialCondition[0,1] + np.sum(ti * v12 * fvec12 )\n",
    "    rt21= initialCondition[1,0] + np.sum(ti * v21 * fvec21 )\n",
    "    rt22= initialCondition[1,1] + np.sum(ti * v22 * fvec22 )\n",
    "\n",
    "    costi11= ( np.sum (v11*fvec11 + ti * v11* fvec11 * ( 1 -  fvec11  ) * w11 ) + 1.0j*  ( commv(x,ti,initialCondition)[0,0] )  )  \n",
    "    costi12= ( np.sum (v12*fvec12 + ti * v12* fvec12 * ( 1 -  fvec12  ) * w12 ) + 1.0j*  ( commv(x,ti,initialCondition)[0,1] )  )  \n",
    "    costi21= ( np.sum (v21*fvec21 + ti * v21* fvec21 * ( 1 -  fvec21  ) * w21 ) + 1.0j*  ( commv(x,ti,initialCondition)[1,0] )  )  \n",
    "    costi22= ( np.sum (v22*fvec22 + ti * v22* fvec22 * ( 1 -  fvec22  ) * w22 ) + 1.0j*  ( commv(x,ti,initialCondition)[1,1] )  )  \n",
    "    \n",
    "    funprime11w = np.sum (v11*fvec11w + ti * v11* fvec11w * ( 1 -  fvec11  ) * w11 + ti * v11* fvec11 * ( 1 -  fvec11  ) - ti * v11 * fvec11 * fvec11w * w11 )\n",
    "    funprime12w = np.sum (v12*fvec12w + ti * v12* fvec12w * ( 1 -  fvec12  ) * w12 + ti * v12* fvec12 * ( 1 -  fvec12  ) - ti * v12 * fvec12 * fvec12w * w12 )\n",
    "    funprime21w = np.sum (v21*fvec21w + ti * v21* fvec21w * ( 1 -  fvec21  ) * w21 + ti * v21* fvec21 * ( 1 -  fvec21  ) - ti * v21 * fvec21 * fvec21w * w21 )\n",
    "    funprime22w = np.sum (v22*fvec22w + ti * v22* fvec22w * ( 1 -  fvec22  ) * w22 + ti * v22* fvec22 * ( 1 -  fvec22  ) - ti * v22 * fvec22 * fvec22w * w22 )\n",
    "    \n",
    "    commvprime11w = commv(x,ti,initialCondition)[0,1]\n",
    "    \n",
    "    #costi11pw = ( funprime11w + 1.0j *  ( commvprimew(x,ti,initialCondition)[0,0]   )  )\n",
    "    #costi12pw = ( funprime12w + 1.0j *  (  commvprimew(x,ti,initialCondition)[0,1]  )  )  \n",
    "    #costi21pw = ( funprime21w + 1.0j *  ( commvprimew(x,ti,initialCondition)[1,0] )  )  \n",
    "    #costi22pw = ( funprime22w + 1.0j *  ( commvprimew(x,ti,initialCondition)[1,1] )  )  \n",
    "    \n",
    "    costi11pw = ( funprime11w + 1.0j *  ( commvprimew(x,ti,initialCondition)[0,0]   )  )\n",
    "    costi12pw = ( funprime12w + 1.0j *  (  commvprimew(x,ti,initialCondition)[0,1]  )  )  \n",
    "    costi21pw = ( funprime21w + 1.0j *  ( commvprimew(x,ti,initialCondition)[1,0] )  )  \n",
    "    costi22pw = ( funprime22w + 1.0j *  ( commvprimew(x,ti,initialCondition)[1,1] )  )  \n",
    "    \n",
    "    \n",
    "    return np.array(out)\n",
    "\n",
    "def costvJac(v,w,u,t):\n",
    "    v = np.array(v)\n",
    "    w = np.array(w)\n",
    "    u = np.array(u)\n",
    "    \n",
    "    vout = 0\n",
    "    wout = 0\n",
    "    uout = 0\n",
    "    \n",
    "    for temp in t:\n",
    "        vout = vout + 2*mhelper(v,w,u,temp)*vhelper(v,w,u,temp)\n",
    "        wout = wout + 2*mhelper(v,w,u,temp)*whelper(v,w,u,temp)\n",
    "        uout = uout + 2*mhelper(v,w,u,temp)*uhelper(v,w,u,temp)\n",
    "    \n",
    "    out = np.hstack((vout,wout,uout))\n",
    "    \n",
    "    return np.array(out)"
   ]
  },
  {
   "cell_type": "code",
   "execution_count": null,
   "metadata": {
    "collapsed": true
   },
   "outputs": [],
   "source": []
  },
  {
   "cell_type": "markdown",
   "metadata": {
    "collapsed": true
   },
   "source": [
    "## Minimization"
   ]
  },
  {
   "cell_type": "markdown",
   "metadata": {
    "collapsed": true
   },
   "source": [
    "Here is the minimization"
   ]
  },
  {
   "cell_type": "code",
   "execution_count": 105,
   "metadata": {
    "collapsed": false
   },
   "outputs": [],
   "source": [
    "tlin = np.linspace(0,10,10)\n",
    "# tlinTest = np.linspace(0,14,10) + 0.5\n",
    "# initGuess = np.ones(120)\n",
    "# initGuess = np.asarray(np.split(np.random.rand(1,720)[0],12))\n",
    "initGuess = np.asarray(np.split(np.random.rand(1,60)[0],12))\n",
    "    \n",
    "\n",
    "\n",
    "costvF = lambda x: costv(x,tlin,init)\n",
    "#costvFTest = lambda x: costv(x,tlinTest,init)"
   ]
  },
  {
   "cell_type": "code",
   "execution_count": 106,
   "metadata": {
    "collapsed": false,
    "scrolled": false
   },
   "outputs": [
    {
     "name": "stdout",
     "output_type": "stream",
     "text": [
      "1487.99577436\n"
     ]
    }
   ],
   "source": [
    "print costv(initGuess,tlin,init)#, costv(initGuess,tlinTest,init)"
   ]
  },
  {
   "cell_type": "code",
   "execution_count": 107,
   "metadata": {
    "collapsed": false
   },
   "outputs": [],
   "source": [
    "## %%snakeviz\n",
    "# startCG = timeit.default_timer()\n",
    "#costvFResultCG = minimize(costvF,initGuess,method=\"CG\")\n",
    "#stopCG = timeit.default_timer()\n",
    "\n",
    "#print stopCG - startCG\n",
    "\n",
    "#print costvFResultCG"
   ]
  },
  {
   "cell_type": "markdown",
   "metadata": {
    "collapsed": false
   },
   "source": [
    "%%snakeviz\n",
    "startNM = timeit.default_timer()\n",
    "costvFResultNM = minimize(costvF,initGuess,method=\"Nelder-Mead\",options={\"maxfun\":20000})\n",
    "stopNM = timeit.default_timer()\n",
    "\n",
    "print stopNM - startNM\n",
    "\n",
    "print costvFResultNM"
   ]
  },
  {
   "cell_type": "markdown",
   "metadata": {
    "collapsed": true
   },
   "source": [
    "initGuessIter = costvFResultNM.get(\"x\")\n",
    "\n",
    "for TOLERANCE in np.asarray([1e-8,1e-9,1e-12,1e-14,1e-16,1e-19,1e-20,1e-21,1e-22]):\n",
    "    costvFResultNMIter = minimize(costvF,initGuessIter,method=\"Nelder-Mead\",tol=TOLERANCE,options={\"maxfun\":90000,\"maxiter\":900000})\n",
    "    initGuessIter = costvFResultNMIter.get(\"x\")\n",
    "    print TOLERANCE,costvFResultNMIter"
   ]
  },
  {
   "cell_type": "code",
   "execution_count": 108,
   "metadata": {
    "collapsed": false
   },
   "outputs": [],
   "source": [
    "#%%snakeviz\n",
    "#startBFGS = timeit.default_timer()\n",
    "#costvFResultBFGS = minimize(costvF,initGuess,method=\"BFGS\")\n",
    "#stopBFGS = timeit.default_timer()\n",
    "\n",
    "#print stopBFGS - startBFGS\n",
    "\n",
    "#print costvFResultBFGS"
   ]
  },
  {
   "cell_type": "markdown",
   "metadata": {},
   "source": [
    "initGuessIter = initGuess\n",
    "\n",
    "for TOLERANCE in np.asarray([1e-19,1e-20,1e-21,1e-22]):\n",
    "    costvFResultSLSQP = minimize(costvF,initGuessIter,method=\"SLSQP\",tol=TOLERANCE)\n",
    "    initGuessIter = costvFResultSLSQP.get(\"x\")\n",
    "    print TOLERANCE,costvFResultSLSQP"
   ]
  },
  {
   "cell_type": "code",
   "execution_count": null,
   "metadata": {
    "collapsed": false
   },
   "outputs": [],
   "source": [
    "%%snakeviz\n",
    "startSLSQP = timeit.default_timer()\n",
    "costvFResultSLSQP = minimize(costvF,initGuess,method=\"SLSQP\",tol=1e-10)\n",
    "stopSLSQP = timeit.default_timer()\n",
    "\n",
    "print stopSLSQP - startSLSQP\n",
    "\n",
    "print costvFResultSLSQP"
   ]
  },
  {
   "cell_type": "code",
   "execution_count": null,
   "metadata": {
    "collapsed": false
   },
   "outputs": [],
   "source": [
    "#%%snakeviz\n",
    "#startSLSQPTest = timeit.default_timer()\n",
    "#costvFResultSLSQPTest = minimize(costvFTest,initGuess,method=\"SLSQP\")\n",
    "#stopSLSQPTest = timeit.default_timer()\n",
    "\n",
    "#print stopSLSQPTest - startSLSQPTest\n",
    "\n",
    "#print costvFResultSLSQPTest"
   ]
  },
  {
   "cell_type": "code",
   "execution_count": null,
   "metadata": {
    "collapsed": false,
    "scrolled": false
   },
   "outputs": [],
   "source": [
    "print costvFResultSLSQP.get('x')\n",
    "print np.asarray(np.split(costvFResultSLSQP.get('x'),12))\n",
    "print CostOfStructure(np.asarray(np.split(costvFResultSLSQP.get('x'),12)))"
   ]
  },
  {
   "cell_type": "code",
   "execution_count": null,
   "metadata": {
    "collapsed": false
   },
   "outputs": [],
   "source": [
    "#np.savetxt('./assets/homogen/optimize_ResultSLSQPT2120_Vac.txt', costvFResultSLSQP.get('x'), delimiter = ',')"
   ]
  },
  {
   "cell_type": "markdown",
   "metadata": {},
   "source": [
    "## Functions"
   ]
  },
  {
   "cell_type": "markdown",
   "metadata": {},
   "source": [
    "Find the solutions to each elements."
   ]
  },
  {
   "cell_type": "code",
   "execution_count": null,
   "metadata": {
    "collapsed": true
   },
   "outputs": [],
   "source": [
    "# costvFResultSLSQPx = np.genfromtxt('./assets/homogen/optimize_ResultSLSQP.txt', delimiter = ',')"
   ]
  },
  {
   "cell_type": "code",
   "execution_count": null,
   "metadata": {
    "collapsed": false,
    "scrolled": false
   },
   "outputs": [],
   "source": [
    "## The first element of neutrino density matrix\n",
    "xresult = np.asarray(costvFResultSLSQP.get('x'))\n",
    "#xresult = np.asarray(costvFResultNM.get('x'))\n",
    "#xresult = np.asarray(costvFResultBFGS.get('x'))\n",
    "\n",
    "print xresult\n",
    "\n",
    "plttlin=np.linspace(0,10,100)\n",
    "\n",
    "pltdata11 = np.array([])\n",
    "pltdata11Test = np.array([])\n",
    "pltdata22 = np.array([])\n",
    "pltdata12 = np.array([])\n",
    "pltdata21 = np.array([])\n",
    "\n",
    "for i in plttlin:\n",
    "    pltdata11 = np.append(pltdata11 ,rho(xresult,i,init)[0,0] )\n",
    "    \n",
    "print pltdata11\n",
    "\n",
    "for i in plttlin:\n",
    "    pltdata12 = np.append(pltdata12 ,rho(xresult,i,init)[0,1] )\n",
    "    \n",
    "print pltdata12\n",
    "\n",
    "for i in plttlin:\n",
    "    pltdata21 = np.append(pltdata21 ,rho(xresult,i,init)[1,0] )\n",
    "    \n",
    "print pltdata21\n",
    "\n",
    "#for i in plttlin:\n",
    "#    pltdata11Test = np.append(pltdata11Test ,rho(xresultTest,i,init)[0,0] )\n",
    "#    \n",
    "#print pltdata11Test\n",
    "\n",
    "\n",
    "for i in plttlin:\n",
    "    pltdata22 = np.append(pltdata22 ,rho(xresult,i,init)[1,1] )\n",
    "    \n",
    "print pltdata22\n",
    "\n",
    "print rho(xresult,0,init)"
   ]
  },
  {
   "cell_type": "code",
   "execution_count": null,
   "metadata": {
    "collapsed": false,
    "scrolled": true
   },
   "outputs": [],
   "source": [
    "rho(xresult,1,init)"
   ]
  },
  {
   "cell_type": "code",
   "execution_count": null,
   "metadata": {
    "collapsed": true
   },
   "outputs": [],
   "source": [
    "#np.savetxt('./assets/homogen/optimize_pltdatar11.txt', pltdata11, delimiter = ',')\n",
    "#np.savetxt('./assets/homogen/optimize_pltdatar22.txt', pltdata22, delimiter = ',')"
   ]
  },
  {
   "cell_type": "code",
   "execution_count": null,
   "metadata": {
    "collapsed": false,
    "scrolled": false
   },
   "outputs": [],
   "source": [
    "plt.figure(figsize=(16,9.36))\n",
    "plt.ylabel('rho11')\n",
    "plt.xlabel('Time')\n",
    "plt11=plt.plot(plttlin,pltdata11,\"b4-\",label=\"vac_rho11\")\n",
    "#plt.plot(plttlin,pltdata11Test,\"m4-\",label=\"vac_rho11Test\")\n",
    "plt.show()\n",
    "#py.iplot_mpl(plt.gcf(),filename=\"vac_HG-rho11\")\n",
    "\n",
    "\n",
    "# tls.embed(\"https://plot.ly/~emptymalei/73/\")"
   ]
  },
  {
   "cell_type": "code",
   "execution_count": null,
   "metadata": {
    "collapsed": false
   },
   "outputs": [],
   "source": [
    "plt.figure(figsize=(16,9.36))\n",
    "plt.ylabel('rho12')\n",
    "plt.xlabel('Time')\n",
    "plt12=plt.plot(plttlin,pltdata12,\"b4-\",label=\"vac_rho12\")\n",
    "#plt.plot(plttlin,pltdata11Test,\"m4-\",label=\"vac_rho11Test\")\n",
    "plt.show()\n",
    "#py.iplot_mpl(plt.gcf(),filename=\"vac_HG-rho11\")\n",
    "\n",
    "\n",
    "# tls.embed(\"https://plot.ly/~emptymalei/73/\")"
   ]
  },
  {
   "cell_type": "code",
   "execution_count": null,
   "metadata": {
    "collapsed": false
   },
   "outputs": [],
   "source": [
    "plt.figure(figsize=(16,9.36))\n",
    "plt.ylabel('rho21')\n",
    "plt.xlabel('Time')\n",
    "plt11=plt.plot(plttlin,pltdata21,\"b4-\",label=\"vac_rho21\")\n",
    "#plt.plot(plttlin,pltdata11Test,\"m4-\",label=\"vac_rho11Test\")\n",
    "plt.show()\n",
    "#py.iplot_mpl(plt.gcf(),filename=\"vac_HG-rho11\")\n",
    "\n",
    "\n",
    "# tls.embed(\"https://plot.ly/~emptymalei/73/\")"
   ]
  },
  {
   "cell_type": "code",
   "execution_count": null,
   "metadata": {
    "collapsed": false
   },
   "outputs": [],
   "source": [
    "plt.figure(figsize=(16,9.36))\n",
    "plt.ylabel('Time')\n",
    "plt.xlabel('rho22')\n",
    "plt22=plt.plot(plttlin,pltdata22,\"r4-\",label=\"vac_rho22\")\n",
    "plt.show()\n",
    "#py.iplot_mpl(plt.gcf(),filename=\"vac_HG-rho22\")"
   ]
  },
  {
   "cell_type": "code",
   "execution_count": null,
   "metadata": {
    "collapsed": false,
    "scrolled": false
   },
   "outputs": [],
   "source": [
    "MMA_optmize_Vac_pltdata = np.genfromtxt('./assets/homogen/MMA_optmize_Vac_pltdata.txt', delimiter = ',')\n",
    "\n",
    "plt.figure(figsize=(16,9.36))\n",
    "plt.ylabel('MMArho11')\n",
    "plt.xlabel('Time')\n",
    "plt.plot(np.linspace(0,15,4501),MMA_optmize_Vac_pltdata,\"r-\",label=\"MMAVacrho11\")\n",
    "plt.plot(plttlin,pltdata11,\"b4-\",label=\"vac_rho11\")\n",
    "plt.show()\n",
    "#py.iplot_mpl(plt.gcf(),filename=\"MMA-rho11-Vac-80-60\")"
   ]
  },
  {
   "cell_type": "code",
   "execution_count": null,
   "metadata": {
    "collapsed": true
   },
   "outputs": [],
   "source": []
  },
  {
   "cell_type": "code",
   "execution_count": null,
   "metadata": {
    "collapsed": true
   },
   "outputs": [],
   "source": []
  },
  {
   "cell_type": "markdown",
   "metadata": {},
   "source": [
    "## Practice"
   ]
  },
  {
   "cell_type": "code",
   "execution_count": null,
   "metadata": {
    "collapsed": false
   },
   "outputs": [],
   "source": [
    "xtemp1 = np.arange(4)\n",
    "xtemp1.shape = (2,2)\n",
    "print xtemp1\n",
    "xtemp1[0,1]\n",
    "np.dot(xtemp1,xtemp1)\n",
    "xtemp1[0,1]"
   ]
  },
  {
   "cell_type": "code",
   "execution_count": null,
   "metadata": {
    "collapsed": true
   },
   "outputs": [],
   "source": []
  },
  {
   "cell_type": "code",
   "execution_count": null,
   "metadata": {
    "collapsed": true
   },
   "outputs": [],
   "source": []
  }
 ],
 "metadata": {
  "kernelspec": {
   "display_name": "Python 2",
   "language": "python",
   "name": "python2"
  },
  "language_info": {
   "codemirror_mode": {
    "name": "ipython",
    "version": 2
   },
   "file_extension": ".py",
   "mimetype": "text/x-python",
   "name": "python",
   "nbconvert_exporter": "python",
   "pygments_lexer": "ipython2",
   "version": "2.7.6"
  }
 },
 "nbformat": 4,
 "nbformat_minor": 0
}
