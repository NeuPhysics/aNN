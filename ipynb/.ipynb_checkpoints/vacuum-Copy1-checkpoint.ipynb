{
 "cells": [
  {
   "cell_type": "markdown",
   "metadata": {},
   "source": [
    "## Vacuum Neutrino Oscillations"
   ]
  },
  {
   "cell_type": "markdown",
   "metadata": {},
   "source": [
    "Here is a notebook for homogeneous gas model."
   ]
  },
  {
   "cell_type": "markdown",
   "metadata": {},
   "source": [
    "Here we are talking about a homogeneous gas bulk of neutrinos with single energy. The EoM is\n",
    "$$\n",
    "i \\partial_t \\rho_E = \\left[ \\frac{\\delta m^2}{2E}B ,\\rho_E \\right]\n",
    "$$\n",
    "\n",
    "while the EoM for antineutrinos is\n",
    "$$\n",
    "i \\partial_t \\bar\\rho_E = \\left[- \\frac{\\delta m^2}{2E}B ,\\bar\\rho_E \\right]\n",
    "$$"
   ]
  },
  {
   "cell_type": "markdown",
   "metadata": {
    "collapsed": false
   },
   "source": [
    "Initial:\n",
    "Homogeneous, Isotropic, Monoenergetic $\\nu_e$ and $\\bar\\nu_e$"
   ]
  },
  {
   "cell_type": "markdown",
   "metadata": {},
   "source": [
    "The equations becomes\n",
    "$$\n",
    "i \\partial_t \\rho_E = \\left[ \\frac{\\delta m^2}{2E} B  ,\\rho_E \\right]\n",
    "$$\n",
    "$$\n",
    "i \\partial_t \\bar\\rho_E = \\left[- \\frac{\\delta m^2}{2E}B,\\bar\\rho_E \\right]\n",
    "$$\n",
    "\n"
   ]
  },
  {
   "cell_type": "markdown",
   "metadata": {},
   "source": [
    "Define $\\omega=\\frac{\\delta m^2}{2E}$,  $\\omega = \\frac{\\delta m^2}{-2E}$, $\\mu=\\sqrt{2}G_F n_\\nu$\n",
    "$$\n",
    "i \\partial_t \\rho_E = \\left[ \\omega B ,\\rho_E \\right]\n",
    "$$\n",
    "$$\n",
    "i \\partial_t \\bar\\rho_E = \\left[\\bar\\omega B,\\bar\\rho_E \\right]\n",
    "$$\n"
   ]
  },
  {
   "cell_type": "markdown",
   "metadata": {},
   "source": [
    "where\n",
    "\n",
    "$$\n",
    "B = \\frac{1}{2} \\begin{pmatrix} \n",
    "-\\cos 2\\theta_v & \\sin 2\\theta_v \\\\\n",
    "\\sin 2\\theta_v & \\cos 2\\theta_v\n",
    "\\end{pmatrix} = \n",
    "\\begin{pmatrix} \n",
    "-0.38729833462 & 0.31622776601\\\\\n",
    "0.31622776601 & 0.38729833462\n",
    "\\end{pmatrix}\n",
    "$$\n",
    "\n",
    "$$\n",
    "L = \\begin{pmatrix}\n",
    "1 & 0 \\\\\n",
    "0 & 0\n",
    "\\end{pmatrix}\n",
    "$$\n",
    "\n",
    "Initial condition \n",
    "$$\n",
    "\\rho(t=0) = \\begin{pmatrix}\n",
    "1 & 0 \\\\\n",
    "0 & 0\n",
    "\\end{pmatrix}\n",
    "$$\n",
    "\n",
    "$$\n",
    "\\bar\\rho(t=0) =\\begin{pmatrix}\n",
    "1 & 0 \\\\\n",
    "0 & 0\n",
    "\\end{pmatrix}\n",
    "$$"
   ]
  },
  {
   "cell_type": "markdown",
   "metadata": {},
   "source": [
    "define the following quantities\n",
    "\n",
    "1. hbar$=\\hbar$\n",
    "%2. delm2E$= \\delta m^2/2E$\n",
    "%3. lamb $= \\lambda$, lambb $= \\bar\\lambda$\n",
    "%4. gF $= G_F$\n",
    "%5. mu $=\\mu$\n",
    "6. omega $=\\omega$, omegab $=-\\bar\\omega$"
   ]
  },
  {
   "cell_type": "markdown",
   "metadata": {},
   "source": [
    "## Numerical"
   ]
  },
  {
   "cell_type": "code",
   "execution_count": 1,
   "metadata": {
    "collapsed": false
   },
   "outputs": [],
   "source": [
    "# This line configures matplotlib to show figures embedded in the notebook, \n",
    "# instead of opening a new window for each figure. More about that later. \n",
    "# If you are using an old version of IPython, try using '%pylab inline' instead.\n",
    "%matplotlib inline\n",
    "%load_ext snakeviz\n",
    "\n",
    "import numpy as np\n",
    "from scipy.optimize import minimize\n",
    "from scipy.special import expit\n",
    "import matplotlib.pyplot as plt\n",
    "\n",
    "from matplotlib.lines import Line2D\n",
    "\n",
    "import timeit\n",
    "\n",
    "import pandas as pd\n",
    "\n",
    "import plotly.plotly as py\n",
    "from plotly.graph_objs import *\n",
    "import plotly.tools as tls"
   ]
  },
  {
   "cell_type": "code",
   "execution_count": 2,
   "metadata": {
    "collapsed": false
   },
   "outputs": [],
   "source": [
    "# hbar=1.054571726*10**(-34)\n",
    "hbar=1.0\n",
    "delm2E=1.0\n",
    "# lamb=1.0  ## lambda for neutrinos\n",
    "# lambb=1.0 ## lambda for anti neutrinos\n",
    "# gF=1.0\n",
    "# nd=1.0  ## number density\n",
    "# ndb=1.0   ## number density\n",
    "omega=1.0\n",
    "omegab=-1.0\n",
    "\n",
    "## Here are some matrices to be used\n",
    "\n",
    "elM = np.array([[1.0,0.0],[0.0,0.0]])\n",
    "bM = 1.0/2*np.array( [ [ - 0.38729833462,0.31622776601] , [0.31622776601,0.38729833462] ] )\n",
    "\n",
    "## sqareroot of 2\n",
    "sqrt2=np.sqrt(2.0)"
   ]
  },
  {
   "cell_type": "markdown",
   "metadata": {},
   "source": [
    "~~Using Mathematica, I can find the 4\\*2 equations~~"
   ]
  },
  {
   "cell_type": "code",
   "execution_count": 3,
   "metadata": {
    "collapsed": true
   },
   "outputs": [],
   "source": [
    "\n",
    "#r11prime(t)\n",
    "\n",
    "## The matrix eqn for neutrinos. Symplify the equation to the form A.X=0. Here I am only writing down the LHS.\n",
    "## Eqn for r11'\n",
    "# 1/2*( r21(t)*( bM12*delm2E - 2*sqrt2*gF*rb12(t) ) + r12(t) * ( -bM21*delm2E + 2*sqrt2*gF*rb21(t) ) - 1j*r11prime(t)  )\n",
    "## Eqn for r12'\n",
    "# 1/2*( r22(t)* ( bM12 ) )\n",
    "\n",
    "### wait a minute I don't actually need to write down this. I can just do this part in numpy."
   ]
  },
  {
   "cell_type": "markdown",
   "metadata": {},
   "source": [
    "I am going to substitute all density matrix elements using their corrosponding network expressions.\n",
    "\n",
    "So first of all, I need the network expression for the unknown functions.\n",
    "\n",
    "A function is written as\n",
    "\n",
    "$$ y_i= 1+t_i v_k f(t_i w_k+u_k) ,$$\n",
    "\n",
    "while it's derivative is\n",
    "\n",
    "$$v_k f(t w_k+u_k) + t v_k f(tw_k+u_k) (1-f(tw_k+u_k)) w_k .$$\n",
    "\n",
    "Now I can write down the equations using these two forms."
   ]
  },
  {
   "cell_type": "code",
   "execution_count": 4,
   "metadata": {
    "collapsed": true
   },
   "outputs": [],
   "source": [
    "def trigf(x):\n",
    "    #return 1/(1+np.exp(-x)) # It's not bad to define this function here for people could use other functions other than expit(x).\n",
    "    return expit(x)"
   ]
  },
  {
   "cell_type": "code",
   "execution_count": 5,
   "metadata": {
    "collapsed": false
   },
   "outputs": [],
   "source": [
    "## The time derivative part\n",
    "\n",
    "### Here are the initial conditions\n",
    "\n",
    "init = np.array( [[1,0],[0,0]] )\n",
    "\n",
    "\n",
    "### For neutrinos\n",
    "\n",
    "def rho(x,ti,initialCondition): # x is the input structure arrays, ti is a time point\n",
    "\n",
    "    v11,w11,u11,v12,w12,u12,v21,w21,u21,v22,w22,u22 = x[:12]\n",
    "        \n",
    "    elem11= np.sum(ti * v11 * trigf( ti*w11 +u11 ) )\n",
    "    elem12= np.sum(ti * v12 * trigf( ti*w12 +u12 ) )\n",
    "    elem21= np.sum(ti * v21 * trigf( ti*w21 +u21 ) )\n",
    "    elem22= np.sum(ti * v22 * trigf( ti*w22 +u22 ) )\n",
    "    \n",
    "    return initialCondition + np.array([[ elem11 , elem12 ],[elem21, elem22]])\n"
   ]
  },
  {
   "cell_type": "code",
   "execution_count": 6,
   "metadata": {
    "collapsed": false,
    "scrolled": true
   },
   "outputs": [
    {
     "data": {
      "text/plain": [
       "array([[ 1.,  0.],\n",
       "       [ 0.,  0.]])"
      ]
     },
     "execution_count": 6,
     "metadata": {},
     "output_type": "execute_result"
    }
   ],
   "source": [
    "## Test\n",
    "xtemp=np.ones(120)\n",
    "rho(xtemp,0,init)"
   ]
  },
  {
   "cell_type": "code",
   "execution_count": 7,
   "metadata": {
    "collapsed": false
   },
   "outputs": [],
   "source": [
    "## Define Hamiltonians for both\n",
    "\n",
    "def hamilv():\n",
    "    return delm2E*bM"
   ]
  },
  {
   "cell_type": "code",
   "execution_count": 8,
   "metadata": {
    "collapsed": true
   },
   "outputs": [],
   "source": [
    "## The commutator\n",
    "\n",
    "def commv(x,ti,initialCondition):\n",
    "    \n",
    "    return np.dot(hamilv(), rho(x,ti,initialCondition) ) - np.dot(rho(x,ti,initialCondition), hamilv() )\n"
   ]
  },
  {
   "cell_type": "code",
   "execution_count": 9,
   "metadata": {
    "collapsed": false,
    "scrolled": true
   },
   "outputs": [
    {
     "name": "stdout",
     "output_type": "stream",
     "text": [
      "[[-0.19364917  0.15811388]\n",
      " [ 0.15811388  0.19364917]]\n",
      "[[-0.19364917  0.15811388]\n",
      " [ 0.15811388  0.19364917]]\n",
      "neutrino\n",
      "[[ 0.         -0.15811388]\n",
      " [ 0.15811388  0.        ]]\n"
     ]
    }
   ],
   "source": [
    "## Test\n",
    "\n",
    "print bM\n",
    "\n",
    "print hamilv()\n",
    "\n",
    "print \"neutrino\\n\",commv(xtemp,0,init)"
   ]
  },
  {
   "cell_type": "code",
   "execution_count": 10,
   "metadata": {
    "collapsed": false
   },
   "outputs": [],
   "source": [
    "## The COST of the eqn set\n",
    "\n",
    "regularization = 0.0001\n",
    "\n",
    "def costvTi(x,ti,initialCondition): # l is total length of x\n",
    "    \n",
    "    v11,w11,u11,v12,w12,u12,v21,w21,u21,v22,w22,u22 = x[:12]\n",
    "\n",
    "    fvec11 = np.array(trigf(ti*w11 + u11) )  # This is a vector!!!\n",
    "    fvec12 = np.array(trigf(ti*w12 + u12) )\n",
    "    fvec21 = np.array(trigf(ti*w21 + u21) )\n",
    "    fvec22 = np.array(trigf(ti*w22 + u22) )\n",
    "    \n",
    "    costi11= ( np.sum (v11*fvec11 + ti * v11* fvec11 * ( 1 -  fvec11  ) * w11 ) + 1.0j*  ( commv(x,ti,initialCondition)[0,0] )  )  \n",
    "    costi12= ( np.sum (v12*fvec12 + ti * v12* fvec12 * ( 1 -  fvec12  ) * w12 ) + 1.0j*  ( commv(x,ti,initialCondition)[0,1] )  )  \n",
    "    costi21= ( np.sum (v21*fvec21 + ti * v21* fvec21 * ( 1 -  fvec21  ) * w21 ) + 1.0j*  ( commv(x,ti,initialCondition)[1,0] )  )  \n",
    "    costi22= ( np.sum (v22*fvec22 + ti * v22* fvec22 * ( 1 -  fvec22  ) * w22 ) + 1.0j*  ( commv(x,ti,initialCondition)[1,1] )  )  \n",
    "\n",
    "    \n",
    "    #return (np.real(costi11))**2 + (np.real(costi12))**2+ (np.real(costi21))**2 +  (np.real(costi22))**2 + (np.imag(costi11))**2 + (np.imag(costi12))**2+ (np.imag(costi21))**2 +  (np.imag(costi22))**2\n",
    "    \n",
    "    #return np.abs(np.real(costi11)) + np.abs(np.real(costi12))+ np.abs(np.real(costi21)) +  np.abs(np.real(costi22)) + np.abs(np.imag(costi11)) + np.abs(np.imag(costi12))+ np.abs(np.imag(costi21)) +  np.abs(np.imag(costi22))\n",
    "\n",
    "    return ( (np.real(costi11))**2 + (np.real(costi12))**2+ (np.real(costi21))**2 +  (np.real(costi22))**2 + (np.imag(costi11))**2 + (np.imag(costi12))**2+ (np.imag(costi21))**2 +  (np.imag(costi22))**2 )/v11.size + regularization * ( np.sum(v11**2)+np.sum(v12**2)+np.sum(v21**2) + np.sum(v22**2) + np.sum(w11**2) + np.sum(w12**2)+ np.sum(w21**2)+ np.sum(w22**2) )\n",
    "\n"
   ]
  },
  {
   "cell_type": "code",
   "execution_count": 11,
   "metadata": {
    "collapsed": false
   },
   "outputs": [
    {
     "data": {
      "text/plain": [
       "5.9571317039229577"
      ]
     },
     "execution_count": 11,
     "metadata": {},
     "output_type": "execute_result"
    }
   ],
   "source": [
    "costvTi(xtemp,2,init)"
   ]
  },
  {
   "cell_type": "code",
   "execution_count": 12,
   "metadata": {
    "collapsed": true
   },
   "outputs": [],
   "source": [
    "## Calculate the total cost\n",
    "\n",
    "def costv(x,t,initialCondition):\n",
    "\n",
    "    t = np.array(t)\n",
    "    \n",
    "    costvTotal = np.sum( costvTList(x,t,initialCondition)  )\n",
    "        \n",
    "    return costvTotal\n",
    "    \n",
    "\n",
    "def costvTList(x,t,initialCondition):  ## This is the function WITHOUT the square!!! \n",
    "        \n",
    "    t = np.array(t)\n",
    "    \n",
    "    costvList = np.asarray([])\n",
    "    \n",
    "    for temp in t:\n",
    "        tempElement = costvTi(x,temp,initialCondition)\n",
    "        costvList = np.append(costvList, tempElement)\n",
    "        \n",
    "    return np.array(costvList)\n",
    "\n",
    "    "
   ]
  },
  {
   "cell_type": "code",
   "execution_count": 13,
   "metadata": {
    "collapsed": false
   },
   "outputs": [
    {
     "name": "stdout",
     "output_type": "stream",
     "text": [
      "[  0.           0.20408163   0.40816327   0.6122449    0.81632653\n",
      "   1.02040816   1.2244898    1.42857143   1.63265306   1.83673469\n",
      "   2.04081633   2.24489796   2.44897959   2.65306122   2.85714286\n",
      "   3.06122449   3.26530612   3.46938776   3.67346939   3.87755102\n",
      "   4.08163265   4.28571429   4.48979592   4.69387755   4.89795918\n",
      "   5.10204082   5.30612245   5.51020408   5.71428571   5.91836735\n",
      "   6.12244898   6.32653061   6.53061224   6.73469388   6.93877551\n",
      "   7.14285714   7.34693878   7.55102041   7.75510204   7.95918367\n",
      "   8.16326531   8.36734694   8.57142857   8.7755102    8.97959184\n",
      "   9.18367347   9.3877551    9.59183673   9.79591837  10.        ]\n"
     ]
    }
   ],
   "source": [
    "ttemp = np.linspace(0,10)\n",
    "print ttemp"
   ]
  },
  {
   "cell_type": "code",
   "execution_count": 14,
   "metadata": {
    "collapsed": false,
    "scrolled": false
   },
   "outputs": [
    {
     "name": "stdout",
     "output_type": "stream",
     "text": [
      "[  2.18858658   2.69181119   3.17657819   3.62928532   4.04433065\n",
      "   4.4227527    4.77017906   5.09476415   5.40551177   5.7111183\n",
      "   6.01930406   6.33652211   6.66791949   7.01744398   7.38801874\n",
      "   7.78173467   8.20003235   8.64386006   9.11380383   9.61019022\n",
      "  10.1331652   10.6827532   11.25890034  11.86150545  12.49044177\n",
      "  13.14557185  13.82675734  14.53386531  15.26677189  16.02536424\n",
      "  16.80954131  17.61921376  18.45430348  19.3147428   20.20047349\n",
      "  21.11144577  22.04761735  23.00895246  23.99542098  25.00699765\n",
      "  26.04366137  27.10539457  28.19218266  29.30401359  30.44087738\n",
      "  31.60276587  32.78967231  34.00159123  35.23851811  36.50044933]\n",
      "765.926679446\n"
     ]
    }
   ],
   "source": [
    "ttemp = np.linspace(0,10)\n",
    "print costvTList(xtemp,ttemp,init)\n",
    "print costv(xtemp,ttemp,init)"
   ]
  },
  {
   "cell_type": "code",
   "execution_count": null,
   "metadata": {
    "collapsed": true
   },
   "outputs": [],
   "source": []
  },
  {
   "cell_type": "markdown",
   "metadata": {
    "collapsed": true
   },
   "source": [
    "## Minimization"
   ]
  },
  {
   "cell_type": "markdown",
   "metadata": {
    "collapsed": true
   },
   "source": [
    "Here is the minimization"
   ]
  },
  {
   "cell_type": "code",
   "execution_count": 16,
   "metadata": {
    "collapsed": false
   },
   "outputs": [],
   "source": [
    "tlin = np.linspace(0,15,80)\n",
    "# tlinTest = np.linspace(0,14,10) + 0.5\n",
    "# initGuess = np.ones(120)\n",
    "initGuess = np.asarray(np.split(np.random.rand(1,360)[0],12))\n",
    "    \n",
    "\n",
    "\n",
    "costvF = lambda x: costv(x,tlin,init)\n",
    "costvFTest = lambda x: costv(x,tlinTest,init)"
   ]
  },
  {
   "cell_type": "code",
   "execution_count": 17,
   "metadata": {
    "collapsed": false
   },
   "outputs": [
    {
     "name": "stdout",
     "output_type": "stream",
     "text": [
      "13993.6089574"
     ]
    },
    {
     "ename": "NameError",
     "evalue": "name 'tlinTest' is not defined",
     "output_type": "error",
     "traceback": [
      "\u001b[0;31m---------------------------------------------------------------------------\u001b[0m",
      "\u001b[0;31mNameError\u001b[0m                                 Traceback (most recent call last)",
      "\u001b[0;32m<ipython-input-17-f36eb808367c>\u001b[0m in \u001b[0;36m<module>\u001b[0;34m()\u001b[0m\n\u001b[0;32m----> 1\u001b[0;31m \u001b[0;32mprint\u001b[0m \u001b[0mcostv\u001b[0m\u001b[0;34m(\u001b[0m\u001b[0minitGuess\u001b[0m\u001b[0;34m,\u001b[0m\u001b[0mtlin\u001b[0m\u001b[0;34m,\u001b[0m\u001b[0minit\u001b[0m\u001b[0;34m)\u001b[0m\u001b[0;34m,\u001b[0m \u001b[0mcostv\u001b[0m\u001b[0;34m(\u001b[0m\u001b[0minitGuess\u001b[0m\u001b[0;34m,\u001b[0m\u001b[0mtlinTest\u001b[0m\u001b[0;34m,\u001b[0m\u001b[0minit\u001b[0m\u001b[0;34m)\u001b[0m\u001b[0;34m\u001b[0m\u001b[0m\n\u001b[0m",
      "\u001b[0;31mNameError\u001b[0m: name 'tlinTest' is not defined"
     ]
    }
   ],
   "source": [
    "print costv(initGuess,tlin,init), costv(initGuess,tlinTest,init)"
   ]
  },
  {
   "cell_type": "code",
   "execution_count": 18,
   "metadata": {
    "collapsed": false
   },
   "outputs": [],
   "source": [
    "## %%snakeviz\n",
    "# startCG = timeit.default_timer()\n",
    "#costFResultCG = minimize(costF,initGuess,method=\"CG\")\n",
    "#stopCG = timeit.default_timer()\n",
    "\n",
    "#print stopCG - startCG\n",
    "\n",
    "#print costFResultCG"
   ]
  },
  {
   "cell_type": "code",
   "execution_count": 19,
   "metadata": {
    "collapsed": false
   },
   "outputs": [],
   "source": [
    "#%%snakeviz\n",
    "#startBFGS = timeit.default_timer()\n",
    "#costvFResultBFGS = minimize(costvF,initGuess,method=\"BFGS\")\n",
    "#stopBFGS = timeit.default_timer()\n",
    "\n",
    "#print stopBFGS - startBFGS\n",
    "\n",
    "#print costvFResultBFGS"
   ]
  },
  {
   "cell_type": "code",
   "execution_count": 20,
   "metadata": {
    "collapsed": false,
    "scrolled": false
   },
   "outputs": [
    {
     "name": "stdout",
     "output_type": "stream",
     "text": [
      " 2819.87169313\n",
      "  status: 9\n",
      " success: False\n",
      "    njev: 101\n",
      "    nfev: 36609\n",
      "     fun: 0.64161943357284112\n",
      "       x: array([-0.11810821, -0.14214314, -0.16333713, -0.08627392, -0.14821997,\n",
      "        0.84117308, -0.1085949 , -0.13072789,  0.29896719,  0.21759241,\n",
      "       -0.20543478, -0.67870319,  0.14599738,  0.06018805,  0.4079748 ,\n",
      "        0.05534681,  0.56648524,  0.94958886,  0.96791054,  0.8180562 ,\n",
      "        0.21000418,  0.15450912,  0.00850279,  0.56631572,  0.16299222,\n",
      "        0.34543721,  0.8018915 ,  0.88520435,  0.67178723,  0.49329804,\n",
      "        0.57811576,  0.65735436,  0.9211617 ,  0.68178169,  0.93966401,\n",
      "        0.29612807,  0.58806395,  0.3270831 ,  0.6543035 ,  0.93725984,\n",
      "        0.11423057,  0.28502284,  0.468195  ,  0.17239023,  0.47910059,\n",
      "        0.50089486,  0.67071479,  0.21651589,  0.01587124,  0.12851285,\n",
      "        0.62622347,  0.12987551,  0.47931716,  0.07754401,  0.47246858,\n",
      "        0.1331831 ,  0.57460681,  0.95425658,  0.04547236,  0.07269621,\n",
      "        0.84362933,  0.47932419,  0.14981438,  0.3022754 ,  0.90273276,\n",
      "        0.87598636,  0.22934441,  0.9141215 ,  0.16087128,  0.90651858,\n",
      "        0.19521705,  0.12530945,  0.1046104 ,  0.40805774,  0.28657555,\n",
      "        0.75607439,  0.44184653,  0.06308248,  0.47749546,  0.24861533,\n",
      "        0.72551517,  0.20338495,  0.1117115 ,  0.86307449,  0.75665626,\n",
      "        0.18563884,  0.61554729,  0.80463095,  0.93366718,  0.18105971,\n",
      "        0.12135566,  0.57898772,  0.51782359,  0.4277803 ,  0.89023822,\n",
      "        0.46065527,  0.29290705,  0.83899751,  0.88191146,  0.00218991,\n",
      "        0.46808954,  0.92191113,  0.67757704,  0.16224957,  0.84798017,\n",
      "        0.54144285,  0.85290237,  0.2162462 ,  0.24773748,  0.2371869 ,\n",
      "        0.74047449,  0.84950031,  0.56808539,  0.64934494,  0.69062228,\n",
      "        0.44739278,  0.6174639 ,  0.82229243,  0.46030636,  0.42341657,\n",
      "        0.04445216,  0.69837941,  0.6534884 ,  0.64687093,  0.15812323,\n",
      "        0.09038031,  0.92802568,  0.95477816,  0.31232932,  0.86328365,\n",
      "        0.4886409 ,  0.68691899,  0.54424476,  0.58748702,  0.79252337,\n",
      "        0.93775804,  0.54192374,  0.32083177,  0.56406039,  0.7257377 ,\n",
      "        0.0841441 ,  0.52086914,  0.38575909,  0.18907716,  0.37332975,\n",
      "        0.60920812,  0.01313042,  0.77018194,  0.47409526,  0.7533137 ,\n",
      "        0.15401923,  0.78811344,  0.15771501,  0.60909303,  0.02082835,\n",
      "        0.36860632,  0.28627154,  0.93604481,  0.20804117,  0.77725409,\n",
      "        0.39175302,  0.54609058,  0.34420298,  0.12047258,  0.76195828,\n",
      "        0.6268015 ,  0.96302138,  0.8981624 ,  0.287455  ,  0.83827356,\n",
      "        0.90657454,  0.17181641,  0.92804864,  0.28732885,  0.93102607,\n",
      "        0.43077317,  0.88025227,  0.75821668,  0.95135773,  0.51753084,\n",
      "        0.08288749,  0.18303068,  0.30680699,  0.15192403,  0.01295583,\n",
      "        0.76146352,  0.07690725,  0.77135946,  0.16961728,  0.59996969,\n",
      "        0.26675961,  0.70171607,  0.52832813,  0.89488016,  0.62353711,\n",
      "        0.92405285,  0.16656381,  0.74864695,  0.67945372,  0.11117068,\n",
      "        0.89131093,  0.92305643,  0.21360885,  0.48380386,  0.72049482,\n",
      "        0.09086005,  0.57841264,  0.07364256,  0.64243569,  0.17623842,\n",
      "        0.91835335,  0.08323969,  0.6132066 ,  0.21626689,  0.94936106,\n",
      "        0.58800975,  0.62955895,  0.1003493 ,  0.96235556,  0.72572974,\n",
      "        0.64835424,  0.35516351,  0.21085828,  0.56840419,  0.0560019 ,\n",
      "        0.98679132,  0.49686145,  0.7530275 ,  0.46589723,  0.81846472,\n",
      "        0.33776231,  0.71486705,  0.45283694,  0.52590482,  0.42201638,\n",
      "        0.01775856,  0.54744717,  0.98507392,  0.06410655,  0.21067701,\n",
      "        0.54054908,  0.32090426,  0.8284473 ,  0.81916985,  0.10507765,\n",
      "        0.3345575 ,  0.38438596,  0.22470904,  0.92213725,  0.57822653,\n",
      "        0.68549963,  0.52002441,  0.05460373,  0.28528302,  0.31494385,\n",
      "        0.18169133,  0.02882537,  0.0513952 ,  0.4529524 ,  0.47511893,\n",
      "        0.27338127,  0.14731351,  0.83065245,  0.65753738,  0.80991718,\n",
      "        0.25338498,  0.12989088,  0.92563785,  0.75722088,  0.59389702,\n",
      "        0.44363672,  0.77930492,  0.88537432,  0.64094133,  0.83454724,\n",
      "        0.66850741,  0.72879206,  0.21493765,  0.37386483,  0.36297888,\n",
      "        0.19318435,  0.82085951,  0.37688856,  0.77516507,  0.20597133,\n",
      "        0.3324416 ,  0.94619553,  0.23759796,  0.80098143,  0.73659254,\n",
      "        0.39746134,  0.54735202,  0.87565685,  0.90595497,  0.42910249,\n",
      "        0.27154169,  0.50835516,  0.3924186 ,  0.52963882,  0.20840199,\n",
      "        0.59276384,  0.83371111,  0.86255815,  0.41101322,  0.99360601,\n",
      "        0.24663024,  0.69016301,  0.90811462,  0.40362763,  0.21435907,\n",
      "        0.43822789,  0.62191815,  0.23860981,  0.1970206 ,  0.4539345 ,\n",
      "        0.72376581,  0.7741993 ,  0.3874107 ,  0.40225288,  0.02678339,\n",
      "        0.02294066,  0.31953522,  0.8896455 ,  0.71417087,  0.89544094,\n",
      "        0.81320062,  0.26431014,  0.6846103 ,  0.33511342,  0.98869604,\n",
      "        0.70340046,  0.84634226,  0.28928578,  0.65081149,  0.04367166,\n",
      "        0.65769679,  0.26805362,  0.28789487,  0.65148795,  0.4397962 ,\n",
      "        0.57420739,  0.91496966,  0.48336202,  0.61568233,  0.82498034,\n",
      "        0.68998357,  0.67753651,  0.62199147,  0.00939983,  0.3408086 ,\n",
      "        0.02028933,  0.74362747,  0.47511842,  0.30070992,  0.67952423,\n",
      "        0.41398671,  0.05282411,  0.98667069,  0.94608183,  0.77152731])\n",
      " message: 'Iteration limit exceeded'\n",
      "     jac: array([ 0.12043606, -0.00588213, -0.005335  , -0.15530581,  0.17606255,\n",
      "        0.02064314,  0.28843538, -0.06225538, -0.01135841, -0.03998609,\n",
      "       -0.02716573, -0.00515844,  0.        ,  0.        ,  0.        ,\n",
      "        0.        ,  0.        ,  0.        ,  0.        ,  0.        ,\n",
      "        0.        ,  0.        ,  0.        ,  0.        ,  0.        ,\n",
      "        0.        ,  0.        ,  0.        ,  0.        ,  0.        ,\n",
      "        0.        ,  0.        ,  0.        ,  0.        ,  0.        ,\n",
      "        0.        ,  0.        ,  0.        ,  0.        ,  0.        ,\n",
      "        0.        ,  0.        ,  0.        ,  0.        ,  0.        ,\n",
      "        0.        ,  0.        ,  0.        ,  0.        ,  0.        ,\n",
      "        0.        ,  0.        ,  0.        ,  0.        ,  0.        ,\n",
      "        0.        ,  0.        ,  0.        ,  0.        ,  0.        ,\n",
      "        0.        ,  0.        ,  0.        ,  0.        ,  0.        ,\n",
      "        0.        ,  0.        ,  0.        ,  0.        ,  0.        ,\n",
      "        0.        ,  0.        ,  0.        ,  0.        ,  0.        ,\n",
      "        0.        ,  0.        ,  0.        ,  0.        ,  0.        ,\n",
      "        0.        ,  0.        ,  0.        ,  0.        ,  0.        ,\n",
      "        0.        ,  0.        ,  0.        ,  0.        ,  0.        ,\n",
      "        0.        ,  0.        ,  0.        ,  0.        ,  0.        ,\n",
      "        0.        ,  0.        ,  0.        ,  0.        ,  0.        ,\n",
      "        0.        ,  0.        ,  0.        ,  0.        ,  0.        ,\n",
      "        0.        ,  0.        ,  0.        ,  0.        ,  0.        ,\n",
      "        0.        ,  0.        ,  0.        ,  0.        ,  0.        ,\n",
      "        0.        ,  0.        ,  0.        ,  0.        ,  0.        ,\n",
      "        0.        ,  0.        ,  0.        ,  0.        ,  0.        ,\n",
      "        0.        ,  0.        ,  0.        ,  0.        ,  0.        ,\n",
      "        0.        ,  0.        ,  0.        ,  0.        ,  0.        ,\n",
      "        0.        ,  0.        ,  0.        ,  0.        ,  0.        ,\n",
      "        0.        ,  0.        ,  0.        ,  0.        ,  0.        ,\n",
      "        0.        ,  0.        ,  0.        ,  0.        ,  0.        ,\n",
      "        0.        ,  0.        ,  0.        ,  0.        ,  0.        ,\n",
      "        0.        ,  0.        ,  0.        ,  0.        ,  0.        ,\n",
      "        0.        ,  0.        ,  0.        ,  0.        ,  0.        ,\n",
      "        0.        ,  0.        ,  0.        ,  0.        ,  0.        ,\n",
      "        0.        ,  0.        ,  0.        ,  0.        ,  0.        ,\n",
      "        0.        ,  0.        ,  0.        ,  0.        ,  0.        ,\n",
      "        0.        ,  0.        ,  0.        ,  0.        ,  0.        ,\n",
      "        0.        ,  0.        ,  0.        ,  0.        ,  0.        ,\n",
      "        0.        ,  0.        ,  0.        ,  0.        ,  0.        ,\n",
      "        0.        ,  0.        ,  0.        ,  0.        ,  0.        ,\n",
      "        0.        ,  0.        ,  0.        ,  0.        ,  0.        ,\n",
      "        0.        ,  0.        ,  0.        ,  0.        ,  0.        ,\n",
      "        0.        ,  0.        ,  0.        ,  0.        ,  0.        ,\n",
      "        0.        ,  0.        ,  0.        ,  0.        ,  0.        ,\n",
      "        0.        ,  0.        ,  0.        ,  0.        ,  0.        ,\n",
      "        0.        ,  0.        ,  0.        ,  0.        ,  0.        ,\n",
      "        0.        ,  0.        ,  0.        ,  0.        ,  0.        ,\n",
      "        0.        ,  0.        ,  0.        ,  0.        ,  0.        ,\n",
      "        0.        ,  0.        ,  0.        ,  0.        ,  0.        ,\n",
      "        0.        ,  0.        ,  0.        ,  0.        ,  0.        ,\n",
      "        0.        ,  0.        ,  0.        ,  0.        ,  0.        ,\n",
      "        0.        ,  0.        ,  0.        ,  0.        ,  0.        ,\n",
      "        0.        ,  0.        ,  0.        ,  0.        ,  0.        ,\n",
      "        0.        ,  0.        ,  0.        ,  0.        ,  0.        ,\n",
      "        0.        ,  0.        ,  0.        ,  0.        ,  0.        ,\n",
      "        0.        ,  0.        ,  0.        ,  0.        ,  0.        ,\n",
      "        0.        ,  0.        ,  0.        ,  0.        ,  0.        ,\n",
      "        0.        ,  0.        ,  0.        ,  0.        ,  0.        ,\n",
      "        0.        ,  0.        ,  0.        ,  0.        ,  0.        ,\n",
      "        0.        ,  0.        ,  0.        ,  0.        ,  0.        ,\n",
      "        0.        ,  0.        ,  0.        ,  0.        ,  0.        ,\n",
      "        0.        ,  0.        ,  0.        ,  0.        ,  0.        ,\n",
      "        0.        ,  0.        ,  0.        ,  0.        ,  0.        ,\n",
      "        0.        ,  0.        ,  0.        ,  0.        ,  0.        ,\n",
      "        0.        ,  0.        ,  0.        ,  0.        ,  0.        ,\n",
      "        0.        ,  0.        ,  0.        ,  0.        ,  0.        ,\n",
      "        0.        ,  0.        ,  0.        ,  0.        ,  0.        ,\n",
      "        0.        ,  0.        ,  0.        ,  0.        ,  0.        ,\n",
      "        0.        ,  0.        ,  0.        ,  0.        ,  0.        ,\n",
      "        0.        ,  0.        ,  0.        ,  0.        ,  0.        ,\n",
      "        0.        ,  0.        ,  0.        ,  0.        ,  0.        ,\n",
      "        0.        ,  0.        ,  0.        ,  0.        ,  0.        ,  0.        ])\n",
      "     nit: 101\n",
      " \n",
      "*** Profile stats marshalled to file u'/var/folders/mj/1sl30v6x2g5_lnlgdnngtd3c0000gn/T/tmpKUqw4S'. \n"
     ]
    }
   ],
   "source": [
    "%%snakeviz\n",
    "startSLSQP = timeit.default_timer()\n",
    "costvFResultSLSQP = minimize(costvF,initGuess,method=\"SLSQP\")\n",
    "stopSLSQP = timeit.default_timer()\n",
    "\n",
    "print stopSLSQP - startSLSQP\n",
    "\n",
    "print costvFResultSLSQP"
   ]
  },
  {
   "cell_type": "code",
   "execution_count": 21,
   "metadata": {
    "collapsed": false
   },
   "outputs": [],
   "source": [
    "#%%snakeviz\n",
    "#startSLSQPTest = timeit.default_timer()\n",
    "#costvFResultSLSQPTest = minimize(costvFTest,initGuess,method=\"SLSQP\")\n",
    "#stopSLSQPTest = timeit.default_timer()\n",
    "\n",
    "#print stopSLSQPTest - startSLSQPTest\n",
    "\n",
    "#print costvFResultSLSQPTest"
   ]
  },
  {
   "cell_type": "code",
   "execution_count": 22,
   "metadata": {
    "collapsed": false,
    "scrolled": false
   },
   "outputs": [
    {
     "data": {
      "text/plain": [
       "array([-0.11810821, -0.14214314, -0.16333713, -0.08627392, -0.14821997,\n",
       "        0.84117308, -0.1085949 , -0.13072789,  0.29896719,  0.21759241,\n",
       "       -0.20543478, -0.67870319,  0.14599738,  0.06018805,  0.4079748 ,\n",
       "        0.05534681,  0.56648524,  0.94958886,  0.96791054,  0.8180562 ,\n",
       "        0.21000418,  0.15450912,  0.00850279,  0.56631572,  0.16299222,\n",
       "        0.34543721,  0.8018915 ,  0.88520435,  0.67178723,  0.49329804,\n",
       "        0.57811576,  0.65735436,  0.9211617 ,  0.68178169,  0.93966401,\n",
       "        0.29612807,  0.58806395,  0.3270831 ,  0.6543035 ,  0.93725984,\n",
       "        0.11423057,  0.28502284,  0.468195  ,  0.17239023,  0.47910059,\n",
       "        0.50089486,  0.67071479,  0.21651589,  0.01587124,  0.12851285,\n",
       "        0.62622347,  0.12987551,  0.47931716,  0.07754401,  0.47246858,\n",
       "        0.1331831 ,  0.57460681,  0.95425658,  0.04547236,  0.07269621,\n",
       "        0.84362933,  0.47932419,  0.14981438,  0.3022754 ,  0.90273276,\n",
       "        0.87598636,  0.22934441,  0.9141215 ,  0.16087128,  0.90651858,\n",
       "        0.19521705,  0.12530945,  0.1046104 ,  0.40805774,  0.28657555,\n",
       "        0.75607439,  0.44184653,  0.06308248,  0.47749546,  0.24861533,\n",
       "        0.72551517,  0.20338495,  0.1117115 ,  0.86307449,  0.75665626,\n",
       "        0.18563884,  0.61554729,  0.80463095,  0.93366718,  0.18105971,\n",
       "        0.12135566,  0.57898772,  0.51782359,  0.4277803 ,  0.89023822,\n",
       "        0.46065527,  0.29290705,  0.83899751,  0.88191146,  0.00218991,\n",
       "        0.46808954,  0.92191113,  0.67757704,  0.16224957,  0.84798017,\n",
       "        0.54144285,  0.85290237,  0.2162462 ,  0.24773748,  0.2371869 ,\n",
       "        0.74047449,  0.84950031,  0.56808539,  0.64934494,  0.69062228,\n",
       "        0.44739278,  0.6174639 ,  0.82229243,  0.46030636,  0.42341657,\n",
       "        0.04445216,  0.69837941,  0.6534884 ,  0.64687093,  0.15812323,\n",
       "        0.09038031,  0.92802568,  0.95477816,  0.31232932,  0.86328365,\n",
       "        0.4886409 ,  0.68691899,  0.54424476,  0.58748702,  0.79252337,\n",
       "        0.93775804,  0.54192374,  0.32083177,  0.56406039,  0.7257377 ,\n",
       "        0.0841441 ,  0.52086914,  0.38575909,  0.18907716,  0.37332975,\n",
       "        0.60920812,  0.01313042,  0.77018194,  0.47409526,  0.7533137 ,\n",
       "        0.15401923,  0.78811344,  0.15771501,  0.60909303,  0.02082835,\n",
       "        0.36860632,  0.28627154,  0.93604481,  0.20804117,  0.77725409,\n",
       "        0.39175302,  0.54609058,  0.34420298,  0.12047258,  0.76195828,\n",
       "        0.6268015 ,  0.96302138,  0.8981624 ,  0.287455  ,  0.83827356,\n",
       "        0.90657454,  0.17181641,  0.92804864,  0.28732885,  0.93102607,\n",
       "        0.43077317,  0.88025227,  0.75821668,  0.95135773,  0.51753084,\n",
       "        0.08288749,  0.18303068,  0.30680699,  0.15192403,  0.01295583,\n",
       "        0.76146352,  0.07690725,  0.77135946,  0.16961728,  0.59996969,\n",
       "        0.26675961,  0.70171607,  0.52832813,  0.89488016,  0.62353711,\n",
       "        0.92405285,  0.16656381,  0.74864695,  0.67945372,  0.11117068,\n",
       "        0.89131093,  0.92305643,  0.21360885,  0.48380386,  0.72049482,\n",
       "        0.09086005,  0.57841264,  0.07364256,  0.64243569,  0.17623842,\n",
       "        0.91835335,  0.08323969,  0.6132066 ,  0.21626689,  0.94936106,\n",
       "        0.58800975,  0.62955895,  0.1003493 ,  0.96235556,  0.72572974,\n",
       "        0.64835424,  0.35516351,  0.21085828,  0.56840419,  0.0560019 ,\n",
       "        0.98679132,  0.49686145,  0.7530275 ,  0.46589723,  0.81846472,\n",
       "        0.33776231,  0.71486705,  0.45283694,  0.52590482,  0.42201638,\n",
       "        0.01775856,  0.54744717,  0.98507392,  0.06410655,  0.21067701,\n",
       "        0.54054908,  0.32090426,  0.8284473 ,  0.81916985,  0.10507765,\n",
       "        0.3345575 ,  0.38438596,  0.22470904,  0.92213725,  0.57822653,\n",
       "        0.68549963,  0.52002441,  0.05460373,  0.28528302,  0.31494385,\n",
       "        0.18169133,  0.02882537,  0.0513952 ,  0.4529524 ,  0.47511893,\n",
       "        0.27338127,  0.14731351,  0.83065245,  0.65753738,  0.80991718,\n",
       "        0.25338498,  0.12989088,  0.92563785,  0.75722088,  0.59389702,\n",
       "        0.44363672,  0.77930492,  0.88537432,  0.64094133,  0.83454724,\n",
       "        0.66850741,  0.72879206,  0.21493765,  0.37386483,  0.36297888,\n",
       "        0.19318435,  0.82085951,  0.37688856,  0.77516507,  0.20597133,\n",
       "        0.3324416 ,  0.94619553,  0.23759796,  0.80098143,  0.73659254,\n",
       "        0.39746134,  0.54735202,  0.87565685,  0.90595497,  0.42910249,\n",
       "        0.27154169,  0.50835516,  0.3924186 ,  0.52963882,  0.20840199,\n",
       "        0.59276384,  0.83371111,  0.86255815,  0.41101322,  0.99360601,\n",
       "        0.24663024,  0.69016301,  0.90811462,  0.40362763,  0.21435907,\n",
       "        0.43822789,  0.62191815,  0.23860981,  0.1970206 ,  0.4539345 ,\n",
       "        0.72376581,  0.7741993 ,  0.3874107 ,  0.40225288,  0.02678339,\n",
       "        0.02294066,  0.31953522,  0.8896455 ,  0.71417087,  0.89544094,\n",
       "        0.81320062,  0.26431014,  0.6846103 ,  0.33511342,  0.98869604,\n",
       "        0.70340046,  0.84634226,  0.28928578,  0.65081149,  0.04367166,\n",
       "        0.65769679,  0.26805362,  0.28789487,  0.65148795,  0.4397962 ,\n",
       "        0.57420739,  0.91496966,  0.48336202,  0.61568233,  0.82498034,\n",
       "        0.68998357,  0.67753651,  0.62199147,  0.00939983,  0.3408086 ,\n",
       "        0.02028933,  0.74362747,  0.47511842,  0.30070992,  0.67952423,\n",
       "        0.41398671,  0.05282411,  0.98667069,  0.94608183,  0.77152731])"
      ]
     },
     "execution_count": 22,
     "metadata": {},
     "output_type": "execute_result"
    }
   ],
   "source": [
    "costvFResultSLSQP.get('x')"
   ]
  },
  {
   "cell_type": "code",
   "execution_count": 23,
   "metadata": {
    "collapsed": false
   },
   "outputs": [],
   "source": [
    "#np.savetxt('./assets/homogen/optimize_ResultSLSQPT2120_Vac.txt', costvFResultSLSQP.get('x'), delimiter = ',')"
   ]
  },
  {
   "cell_type": "markdown",
   "metadata": {},
   "source": [
    "## Functions"
   ]
  },
  {
   "cell_type": "markdown",
   "metadata": {},
   "source": [
    "Find the solutions to each elements."
   ]
  },
  {
   "cell_type": "code",
   "execution_count": 24,
   "metadata": {
    "collapsed": true
   },
   "outputs": [],
   "source": [
    "# costvFResultSLSQPx = np.genfromtxt('./assets/homogen/optimize_ResultSLSQP.txt', delimiter = ',')"
   ]
  },
  {
   "cell_type": "code",
   "execution_count": 25,
   "metadata": {
    "collapsed": false
   },
   "outputs": [
    {
     "name": "stdout",
     "output_type": "stream",
     "text": [
      "[-0.11810821 -0.14214314 -0.16333713 -0.08627392 -0.14821997  0.84117308\n",
      " -0.1085949  -0.13072789  0.29896719  0.21759241 -0.20543478 -0.67870319\n",
      "  0.14599738  0.06018805  0.4079748   0.05534681  0.56648524  0.94958886\n",
      "  0.96791054  0.8180562   0.21000418  0.15450912  0.00850279  0.56631572\n",
      "  0.16299222  0.34543721  0.8018915   0.88520435  0.67178723  0.49329804\n",
      "  0.57811576  0.65735436  0.9211617   0.68178169  0.93966401  0.29612807\n",
      "  0.58806395  0.3270831   0.6543035   0.93725984  0.11423057  0.28502284\n",
      "  0.468195    0.17239023  0.47910059  0.50089486  0.67071479  0.21651589\n",
      "  0.01587124  0.12851285  0.62622347  0.12987551  0.47931716  0.07754401\n",
      "  0.47246858  0.1331831   0.57460681  0.95425658  0.04547236  0.07269621\n",
      "  0.84362933  0.47932419  0.14981438  0.3022754   0.90273276  0.87598636\n",
      "  0.22934441  0.9141215   0.16087128  0.90651858  0.19521705  0.12530945\n",
      "  0.1046104   0.40805774  0.28657555  0.75607439  0.44184653  0.06308248\n",
      "  0.47749546  0.24861533  0.72551517  0.20338495  0.1117115   0.86307449\n",
      "  0.75665626  0.18563884  0.61554729  0.80463095  0.93366718  0.18105971\n",
      "  0.12135566  0.57898772  0.51782359  0.4277803   0.89023822  0.46065527\n",
      "  0.29290705  0.83899751  0.88191146  0.00218991  0.46808954  0.92191113\n",
      "  0.67757704  0.16224957  0.84798017  0.54144285  0.85290237  0.2162462\n",
      "  0.24773748  0.2371869   0.74047449  0.84950031  0.56808539  0.64934494\n",
      "  0.69062228  0.44739278  0.6174639   0.82229243  0.46030636  0.42341657\n",
      "  0.04445216  0.69837941  0.6534884   0.64687093  0.15812323  0.09038031\n",
      "  0.92802568  0.95477816  0.31232932  0.86328365  0.4886409   0.68691899\n",
      "  0.54424476  0.58748702  0.79252337  0.93775804  0.54192374  0.32083177\n",
      "  0.56406039  0.7257377   0.0841441   0.52086914  0.38575909  0.18907716\n",
      "  0.37332975  0.60920812  0.01313042  0.77018194  0.47409526  0.7533137\n",
      "  0.15401923  0.78811344  0.15771501  0.60909303  0.02082835  0.36860632\n",
      "  0.28627154  0.93604481  0.20804117  0.77725409  0.39175302  0.54609058\n",
      "  0.34420298  0.12047258  0.76195828  0.6268015   0.96302138  0.8981624\n",
      "  0.287455    0.83827356  0.90657454  0.17181641  0.92804864  0.28732885\n",
      "  0.93102607  0.43077317  0.88025227  0.75821668  0.95135773  0.51753084\n",
      "  0.08288749  0.18303068  0.30680699  0.15192403  0.01295583  0.76146352\n",
      "  0.07690725  0.77135946  0.16961728  0.59996969  0.26675961  0.70171607\n",
      "  0.52832813  0.89488016  0.62353711  0.92405285  0.16656381  0.74864695\n",
      "  0.67945372  0.11117068  0.89131093  0.92305643  0.21360885  0.48380386\n",
      "  0.72049482  0.09086005  0.57841264  0.07364256  0.64243569  0.17623842\n",
      "  0.91835335  0.08323969  0.6132066   0.21626689  0.94936106  0.58800975\n",
      "  0.62955895  0.1003493   0.96235556  0.72572974  0.64835424  0.35516351\n",
      "  0.21085828  0.56840419  0.0560019   0.98679132  0.49686145  0.7530275\n",
      "  0.46589723  0.81846472  0.33776231  0.71486705  0.45283694  0.52590482\n",
      "  0.42201638  0.01775856  0.54744717  0.98507392  0.06410655  0.21067701\n",
      "  0.54054908  0.32090426  0.8284473   0.81916985  0.10507765  0.3345575\n",
      "  0.38438596  0.22470904  0.92213725  0.57822653  0.68549963  0.52002441\n",
      "  0.05460373  0.28528302  0.31494385  0.18169133  0.02882537  0.0513952\n",
      "  0.4529524   0.47511893  0.27338127  0.14731351  0.83065245  0.65753738\n",
      "  0.80991718  0.25338498  0.12989088  0.92563785  0.75722088  0.59389702\n",
      "  0.44363672  0.77930492  0.88537432  0.64094133  0.83454724  0.66850741\n",
      "  0.72879206  0.21493765  0.37386483  0.36297888  0.19318435  0.82085951\n",
      "  0.37688856  0.77516507  0.20597133  0.3324416   0.94619553  0.23759796\n",
      "  0.80098143  0.73659254  0.39746134  0.54735202  0.87565685  0.90595497\n",
      "  0.42910249  0.27154169  0.50835516  0.3924186   0.52963882  0.20840199\n",
      "  0.59276384  0.83371111  0.86255815  0.41101322  0.99360601  0.24663024\n",
      "  0.69016301  0.90811462  0.40362763  0.21435907  0.43822789  0.62191815\n",
      "  0.23860981  0.1970206   0.4539345   0.72376581  0.7741993   0.3874107\n",
      "  0.40225288  0.02678339  0.02294066  0.31953522  0.8896455   0.71417087\n",
      "  0.89544094  0.81320062  0.26431014  0.6846103   0.33511342  0.98869604\n",
      "  0.70340046  0.84634226  0.28928578  0.65081149  0.04367166  0.65769679\n",
      "  0.26805362  0.28789487  0.65148795  0.4397962   0.57420739  0.91496966\n",
      "  0.48336202  0.61568233  0.82498034  0.68998357  0.67753651  0.62199147\n",
      "  0.00939983  0.3408086   0.02028933  0.74362747  0.47511842  0.30070992\n",
      "  0.67952423  0.41398671  0.05282411  0.98667069  0.94608183  0.77152731]\n",
      "[ 1.          0.99187715  0.98394517  0.97620342  0.96865119  0.96128767\n",
      "  0.95411199  0.94712316  0.94032014  0.93370182  0.92726697  0.92101432\n",
      "  0.91494253  0.90905016  0.90333571  0.89779763  0.89243428  0.88724397\n",
      "  0.88222495  0.87737539  0.87269343  0.86817714  0.86382453  0.85963359\n",
      "  0.85560222  0.85172832  0.8480097   0.84444417  0.84102948  0.83776336\n",
      "  0.83464348  0.83166752  0.82883309  0.82613781  0.82357925  0.82115497\n",
      "  0.81886253  0.81669945  0.81466324  0.8127514   0.81096144  0.80929083\n",
      "  0.80773708  0.80629764  0.80497002  0.80375168  0.80264013  0.80163285\n",
      "  0.80072735  0.79992114  0.79921173  0.79859667  0.7980735   0.79763979\n",
      "  0.79729313  0.79703112  0.79685137  0.79675154  0.79672929  0.79678232\n",
      "  0.79690834  0.7971051   0.79737036  0.79770192  0.79809762  0.79855531\n",
      "  0.79907288  0.79964825  0.80027937  0.80096422  0.80170083  0.80248723\n",
      "  0.80332152  0.80420181  0.80512625  0.80609304  0.8071004   0.80814657\n",
      "  0.80922986  0.81034859  0.81150113  0.81268587  0.81390125  0.81514573\n",
      "  0.81641782  0.81771607  0.81903904  0.82038534  0.82175362  0.82314255\n",
      "  0.82455084  0.82597725  0.82742054  0.82887953  0.83035306  0.83184002\n",
      "  0.8333393   0.83484984  0.83637062  0.83790064]\n",
      "[ 0.          0.01086764  0.02128417  0.03125703  0.04079389  0.04990269\n",
      "  0.05859159  0.06686893  0.07474326  0.08222329  0.08931786  0.09603596\n",
      "  0.10238666  0.10837915  0.11402266  0.11932649  0.12429998  0.12895247\n",
      "  0.13329332  0.13733186  0.14107743  0.14453928  0.14772665  0.15064867\n",
      "  0.15331443  0.15573291  0.15791298  0.15986343  0.1615929   0.16310991\n",
      "  0.16442285  0.16553997  0.16646935  0.16721894  0.16779651  0.16820968\n",
      "  0.16846589  0.16857241  0.16853633  0.16836457  0.16806388  0.16764081\n",
      "  0.16710174  0.16645287  0.1657002   0.16484958  0.16390664  0.16287687\n",
      "  0.16176555  0.16057781  0.15931858  0.15799263  0.15660456  0.15515879\n",
      "  0.15365961  0.1521111   0.15051721  0.14888172  0.14720827  0.14550035\n",
      "  0.14376129  0.14199429  0.1402024   0.13838854  0.13655551  0.13470596\n",
      "  0.13284242  0.13096732  0.12908294  0.12719148  0.12529499  0.12339546\n",
      "  0.12149474  0.1195946   0.11769669  0.1158026   0.11391381  0.11203172\n",
      "  0.11015763  0.10829279  0.10643836  0.1045954   0.10276495  0.10094793\n",
      "  0.09914523  0.09735767  0.095586    0.09383092  0.09209308  0.09037305\n",
      "  0.08867139  0.08698859  0.08532509  0.0836813   0.08205757  0.08045424\n",
      "  0.07887158  0.07730984  0.07576924  0.07424996]\n",
      "[[ 1.  0.]\n",
      " [ 0.  0.]]\n"
     ]
    }
   ],
   "source": [
    "## The first element of neutrino density matrix\n",
    "xresult = np.asarray(costvFResultSLSQP.get('x'))\n",
    "#xresult = np.asarray(costvFResultBFGS.get('x'))\n",
    "\n",
    "print xresult\n",
    "\n",
    "plttlin=np.linspace(0,15,100)\n",
    "\n",
    "pltdata11 = np.array([])\n",
    "pltdata11Test = np.array([])\n",
    "pltdata22 = np.array([])\n",
    "\n",
    "for i in plttlin:\n",
    "    pltdata11 = np.append(pltdata11 ,rho(xresult,i,init)[0,0] )\n",
    "    \n",
    "print pltdata11\n",
    "\n",
    "#for i in plttlin:\n",
    "#    pltdata11Test = np.append(pltdata11Test ,rho(xresultTest,i,init)[0,0] )\n",
    "#    \n",
    "#print pltdata11Test\n",
    "\n",
    "\n",
    "for i in plttlin:\n",
    "    pltdata22 = np.append(pltdata22 ,rho(xresult,i,init)[1,1] )\n",
    "    \n",
    "print pltdata22\n",
    "\n",
    "print rho(xresult,0,init)"
   ]
  },
  {
   "cell_type": "code",
   "execution_count": 26,
   "metadata": {
    "collapsed": false
   },
   "outputs": [
    {
     "data": {
      "text/plain": [
       "array([[ 0.80554056, -0.265221  ],\n",
       "       [-0.25992808,  0.16604378]])"
      ]
     },
     "execution_count": 26,
     "metadata": {},
     "output_type": "execute_result"
    }
   ],
   "source": [
    "rho(xresult,6.6,init)"
   ]
  },
  {
   "cell_type": "code",
   "execution_count": 27,
   "metadata": {
    "collapsed": true
   },
   "outputs": [],
   "source": [
    "#np.savetxt('./assets/homogen/optimize_pltdatar11.txt', pltdata11, delimiter = ',')\n",
    "#np.savetxt('./assets/homogen/optimize_pltdatar22.txt', pltdata22, delimiter = ',')"
   ]
  },
  {
   "cell_type": "code",
   "execution_count": 28,
   "metadata": {
    "collapsed": false,
    "scrolled": false
   },
   "outputs": [
    {
     "data": {
      "image/png": "[encoded data removed]",
      "text/plain": [
       "<matplotlib.figure.Figure at 0x1105aedd0>"
      ]
     },
     "metadata": {},
     "output_type": "display_data"
    }
   ],
   "source": [
    "plt.figure(figsize=(16,9.36))\n",
    "plt.ylabel('rho11')\n",
    "plt.xlabel('Time')\n",
    "plt11=plt.plot(plttlin,pltdata11,\"b4-\",label=\"vac_rho11\")\n",
    "#plt.plot(plttlin,pltdata11Test,\"m4-\",label=\"vac_rho11Test\")\n",
    "plt.show()\n",
    "#py.iplot_mpl(plt.gcf(),filename=\"vac_HG-rho11\")\n",
    "\n",
    "\n",
    "# tls.embed(\"https://plot.ly/~emptymalei/73/\")"
   ]
  },
  {
   "cell_type": "code",
   "execution_count": 29,
   "metadata": {
    "collapsed": false
   },
   "outputs": [
    {
     "data": {
      "image/png": "[encoded data removed]",
      "text/plain": [
       "<matplotlib.figure.Figure at 0x10c6e1910>"
      ]
     },
     "metadata": {},
     "output_type": "display_data"
    }
   ],
   "source": [
    "plt.figure(figsize=(16,9.36))\n",
    "plt.ylabel('Time')\n",
    "plt.xlabel('rho22')\n",
    "plt22=plt.plot(plttlin,pltdata22,\"r4-\",label=\"vac_rho22\")\n",
    "plt.show()\n",
    "#py.iplot_mpl(plt.gcf(),filename=\"vac_HG-rho22\")"
   ]
  },
  {
   "cell_type": "code",
   "execution_count": 30,
   "metadata": {
    "collapsed": false
   },
   "outputs": [
    {
     "ename": "NameError",
     "evalue": "name 'MMA_optmize_Vac_pltdata' is not defined",
     "output_type": "error",
     "traceback": [
      "\u001b[0;31m---------------------------------------------------------------------------\u001b[0m",
      "\u001b[0;31mNameError\u001b[0m                                 Traceback (most recent call last)",
      "\u001b[0;32m<ipython-input-30-2c9905a734f2>\u001b[0m in \u001b[0;36m<module>\u001b[0;34m()\u001b[0m\n\u001b[0;32m----> 1\u001b[0;31m \u001b[0mMMA_optmize_Vac_pltdata\u001b[0m\u001b[0;34m.\u001b[0m\u001b[0msize\u001b[0m\u001b[0;34m\u001b[0m\u001b[0m\n\u001b[0m",
      "\u001b[0;31mNameError\u001b[0m: name 'MMA_optmize_Vac_pltdata' is not defined"
     ]
    }
   ],
   "source": [
    "MMA_optmize_Vac_pltdata.size"
   ]
  },
  {
   "cell_type": "code",
   "execution_count": null,
   "metadata": {
    "collapsed": false,
    "scrolled": false
   },
   "outputs": [],
   "source": [
    "MMA_optmize_Vac_pltdata = np.genfromtxt('./assets/homogen/MMA_optmize_Vac_pltdata.txt', delimiter = ',')\n",
    "\n",
    "plt.figure(figsize=(16,9.36))\n",
    "plt.ylabel('MMArho11')\n",
    "plt.xlabel('Time')\n",
    "plt.plot(np.linspace(0,15,4501),MMA_optmize_Vac_pltdata,\"r-\",label=\"MMAVacrho11\")\n",
    "plt.plot(plttlin,pltdata11,\"b4-\",label=\"vac_rho11\")\n",
    "plt.show()\n",
    "#py.iplot_mpl(plt.gcf(),filename=\"MMA-rho11-Vac-80-60\")"
   ]
  },
  {
   "cell_type": "code",
   "execution_count": null,
   "metadata": {
    "collapsed": true
   },
   "outputs": [],
   "source": []
  },
  {
   "cell_type": "code",
   "execution_count": null,
   "metadata": {
    "collapsed": true
   },
   "outputs": [],
   "source": []
  },
  {
   "cell_type": "markdown",
   "metadata": {},
   "source": [
    "## Practice"
   ]
  },
  {
   "cell_type": "code",
   "execution_count": null,
   "metadata": {
    "collapsed": false
   },
   "outputs": [],
   "source": [
    "xtemp1 = np.arange(4)\n",
    "xtemp1.shape = (2,2)\n",
    "print xtemp1\n",
    "xtemp1[0,1]\n",
    "np.dot(xtemp1,xtemp1)\n",
    "xtemp1[0,1]"
   ]
  },
  {
   "cell_type": "code",
   "execution_count": null,
   "metadata": {
    "collapsed": true
   },
   "outputs": [],
   "source": []
  },
  {
   "cell_type": "code",
   "execution_count": null,
   "metadata": {
    "collapsed": true
   },
   "outputs": [],
   "source": []
  }
 ],
 "metadata": {
  "kernelspec": {
   "display_name": "Python 2",
   "language": "python",
   "name": "python2"
  },
  "language_info": {
   "codemirror_mode": {
    "name": "ipython",
    "version": 2
   },
   "file_extension": ".py",
   "mimetype": "text/x-python",
   "name": "python",
   "nbconvert_exporter": "python",
   "pygments_lexer": "ipython2",
   "version": "2.7.6"
  }
 },
 "nbformat": 4,
 "nbformat_minor": 0
}
