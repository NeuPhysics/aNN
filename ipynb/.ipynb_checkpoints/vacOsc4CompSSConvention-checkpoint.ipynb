{
 "cells": [
  {
   "cell_type": "markdown",
   "metadata": {},
   "source": [
    "<a id='toc'></a>\n",
    "-----\n",
    "### TOC\n",
    "\n",
    "\n",
    "* [NumpyOPT](#numpyopt)\n",
    "* [Differential Evolution](#evo)\n"
   ]
  },
  {
   "cell_type": "code",
   "execution_count": null,
   "metadata": {
    "collapsed": false
   },
   "outputs": [],
   "source": [
    "# This line configures matplotlib to show figures embedded in the notebook, \n",
    "# instead of opening a new window for each figure. More about that later. \n",
    "# If you are using an old version of IPython, try using '%pylab inline' instead.\n",
    "%matplotlib inline\n",
    "%load_ext snakeviz\n",
    "\n",
    "import numpy as np\n",
    "from scipy.optimize import minimize\n",
    "from scipy.optimize import rosen, differential_evolution\n",
    "from scipy.special import expit\n",
    "import matplotlib.pyplot as plt\n",
    "import scipy\n",
    "\n",
    "from matplotlib.lines import Line2D\n",
    "\n",
    "import timeit\n",
    "\n",
    "import pandas as pd\n",
    "\n",
    "import plotly.plotly as py\n",
    "from plotly.graph_objs import *\n",
    "import plotly.tools as tls"
   ]
  },
  {
   "cell_type": "code",
   "execution_count": null,
   "metadata": {
    "collapsed": false
   },
   "outputs": [],
   "source": [
    "# Here are the initial values\n",
    "\n",
    "\n",
    "# For test use\n",
    "array12 = np.asarray(np.split(np.random.rand(1,60)[0],12))"
   ]
  },
  {
   "cell_type": "code",
   "execution_count": null,
   "metadata": {
    "collapsed": true
   },
   "outputs": [],
   "source": [
    "# Here is the activation function\n",
    "\n",
    "def act(x):\n",
    "    return expit(x)"
   ]
  },
  {
   "cell_type": "code",
   "execution_count": null,
   "metadata": {
    "collapsed": false
   },
   "outputs": [],
   "source": [
    "# Density matrix in the forms that I wrote down on my Neutrino Physics notebook\n",
    "# x is a real array of 12 arrays.\n",
    "\n",
    "init = np.array([1.0,0.0,0.0,0.0])\n",
    "\n",
    "def rho(x,ti,initialCondition):\n",
    "    \n",
    "    elem = np.ones(4)\n",
    "    \n",
    "    for i in np.linspace(0,3,4):\n",
    "        elem[i] = np.sum(ti*x[i*3]*act(ti*x[i*3+1] + x[i*3+2]) )\n",
    "    \n",
    "    return init + elem\n",
    "    "
   ]
  },
  {
   "cell_type": "code",
   "execution_count": null,
   "metadata": {
    "collapsed": false,
    "scrolled": true
   },
   "outputs": [],
   "source": [
    "rho(array12,0,init)"
   ]
  },
  {
   "cell_type": "code",
   "execution_count": null,
   "metadata": {
    "collapsed": false
   },
   "outputs": [],
   "source": [
    "# Hamiltonian of the problem, in terms of four real components\n",
    "\n",
    "hamil = np.array( [  np.cos(2.0),np.sin(2.0) , np.sin(2.0),np.cos(2.0) ] )\n",
    "#hamil = 1.0/2*np.array( [  -np.cos(2.0),np.sin(2.0) , np.sin(2.0),np.cos(2.0) ] )\n",
    "print hamil"
   ]
  },
  {
   "cell_type": "code",
   "execution_count": null,
   "metadata": {
    "collapsed": false
   },
   "outputs": [],
   "source": [
    "# Cost function for each time step\n",
    "\n",
    "def rhop(x,ti,initialCondition):\n",
    "    \n",
    "    rhoprime = np.zeros(4)\n",
    "    \n",
    "\n",
    "    \n",
    "    for i in np.linspace(0,3,4):\n",
    "        rhoprime[i] = np.sum(x[i*3] * (act(ti*x[i*3+1] + x[i*3+2]) ) ) +  np.sum( ti*x[i*3]* (act(ti*x[i*3+1] + x[i*3+2]) ) * (1 - (act(ti*x[i*3+1] + x[i*3+2])  ) )* x[i*3+1]  )\n",
    "        \n",
    "    \n",
    "    return rhoprime\n",
    "\n",
    "\n",
    "## This is the regularization\n",
    "\n",
    "regularization = 0.0001\n",
    "\n",
    "def costi(x,ti,initialCondition):\n",
    "    \n",
    "    rhoi = rho(x,ti,initialCondition)\n",
    "    rhopi = rhop(x,ti,initialCondition)\n",
    "    \n",
    "    costTemp = np.zeros(4)\n",
    "    \n",
    "    costTemp[0] = ( rhopi[0] - 2.0*rhoi[3]*hamil[1] )**2\n",
    "    costTemp[1] = ( rhopi[1] + 2.0*rhoi[3]*hamil[1] )**2\n",
    "    costTemp[2] = ( rhopi[2] - 2.0*rhoi[3]*hamil[0] )**2\n",
    "    costTemp[3] = ( rhopi[3] + 2.0*rhoi[2]*hamil[0] - hamil[1] * (rhoi[1] - rhoi[0] ) )**2\n",
    "    \n",
    "    return np.sum(costTemp) #+ 2.0*(rhoi[0]+rhoi[1]-1.0)**2\n",
    "\n",
    "    \n",
    "#    return np.sum(costTemp) + regularization*np.sum(x**2)"
   ]
  },
  {
   "cell_type": "code",
   "execution_count": null,
   "metadata": {
    "collapsed": false
   },
   "outputs": [],
   "source": [
    "costi(array12,0,init)"
   ]
  },
  {
   "cell_type": "code",
   "execution_count": null,
   "metadata": {
    "collapsed": true
   },
   "outputs": [],
   "source": [
    "def cost(x,t,initialCondition):\n",
    "    \n",
    "    costTotal = map(lambda t: costi(x,t,initialCondition),t)\n",
    "    \n",
    "    return 0.5*np.sum(costTotal)"
   ]
  },
  {
   "cell_type": "code",
   "execution_count": null,
   "metadata": {
    "collapsed": false,
    "scrolled": true
   },
   "outputs": [],
   "source": [
    "cost(array12,np.array([0,1,2]),init)\n",
    "#cost(xresult,np.array([0,4,11]),init)"
   ]
  },
  {
   "cell_type": "markdown",
   "metadata": {},
   "source": [
    "<a id='numpyopt'></a>\n",
    "-----\n",
    "## NUMPY OPT"
   ]
  },
  {
   "cell_type": "code",
   "execution_count": 78,
   "metadata": {
    "collapsed": false,
    "scrolled": false
   },
   "outputs": [
    {
     "name": "stdout",
     "output_type": "stream",
     "text": [
      "31.474834919\n",
      "  status: 9\n",
      " success: False\n",
      "    njev: 101\n",
      "    nfev: 6301\n",
      "     fun: 0.68430817452143067\n",
      "       x: array([ -0.42314578,  -1.5690408 ,   4.64947692,   2.56875438,\n",
      "        -0.14588273,  -1.59166332,   1.47147064,  -3.19777158,\n",
      "       -11.05994489,  -6.70412999,  -1.35812068,  -1.98968564,\n",
      "        -4.88282221,  -4.65025538,  -1.49872754,  -3.15147754,\n",
      "        -0.06354641,  -2.3908632 ,  -0.86447528,  -2.33229558,\n",
      "        -0.5739389 ,  -4.61810188,  -0.13228954,  -2.58397247,\n",
      "        -4.33343592,  -4.83035004,  -3.06425551,  -0.45936255,\n",
      "        -2.91194388,  -2.87745423,  -3.93824244,  -2.08182497,\n",
      "        -3.05850129,  -1.92361242,  -3.81654995,  -4.19771673,\n",
      "        -0.53177727,  -3.9155934 ,  -0.04361043,  -4.73211585,\n",
      "        -3.68483106,  -1.71179777,  -1.13691215,  -4.794143  ,\n",
      "        -0.47377443,  -3.66788546,  -2.8080668 ,  -0.33475682,\n",
      "        -4.81757391,  -1.18803969,  -3.05637085,  -3.98693405,\n",
      "        -1.00737055,  -2.01300012,  -4.43150289,  -2.6875922 ,\n",
      "        -4.52969243,  -0.0724917 ,  -3.63840275,  -0.79722408])\n",
      " message: 'Iteration limit exceeded'\n",
      "     jac: array([  7.57490098e-03,   3.89590859e-04,   1.25885010e-04,\n",
      "        -3.85750830e-03,  -1.27145126e-02,  -9.04595107e-03,\n",
      "        -5.14090061e-07,  -1.18464231e-06,  -7.45058060e-07,\n",
      "         9.67465341e-04,  -6.38145953e-03,  -7.67719746e-03,\n",
      "         0.00000000e+00,   0.00000000e+00,   0.00000000e+00,\n",
      "         0.00000000e+00,   0.00000000e+00,   0.00000000e+00,\n",
      "         0.00000000e+00,   0.00000000e+00,   0.00000000e+00,\n",
      "         0.00000000e+00,   0.00000000e+00,   0.00000000e+00,\n",
      "         0.00000000e+00,   0.00000000e+00,   0.00000000e+00,\n",
      "         0.00000000e+00,   0.00000000e+00,   0.00000000e+00,\n",
      "         0.00000000e+00,   0.00000000e+00,   0.00000000e+00,\n",
      "         0.00000000e+00,   0.00000000e+00,   0.00000000e+00,\n",
      "         0.00000000e+00,   0.00000000e+00,   0.00000000e+00,\n",
      "         0.00000000e+00,   0.00000000e+00,   0.00000000e+00,\n",
      "         0.00000000e+00,   0.00000000e+00,   0.00000000e+00,\n",
      "         0.00000000e+00,   0.00000000e+00,   0.00000000e+00,\n",
      "         0.00000000e+00,   0.00000000e+00,   0.00000000e+00,\n",
      "         0.00000000e+00,   0.00000000e+00,   0.00000000e+00,\n",
      "         0.00000000e+00,   0.00000000e+00,   0.00000000e+00,\n",
      "         0.00000000e+00,   0.00000000e+00,   0.00000000e+00,\n",
      "         0.00000000e+00])\n",
      "     nit: 101\n"
     ]
    }
   ],
   "source": [
    "# with ramdom initial guess. TO make it more viable, I used (-5,5)\n",
    "\n",
    "initGuess = np.asarray(np.split( 5.0*(np.random.rand(1,60)[0] - 1.0),12))\n",
    "#initGuess = np.split(np.zeros(60),12)\n",
    "endpoint = 2\n",
    "tlin = np.linspace(0,endpoint,11)\n",
    "\n",
    "costF = lambda x: cost(x,tlin,init)\n",
    "\n",
    "start = timeit.default_timer()\n",
    "costvFResult = minimize(costF,initGuess,method=\"SLSQP\",tol=1e-20)\n",
    "stop = timeit.default_timer()\n",
    "\n",
    "print stopSLSQP - startSLSQP\n",
    "\n",
    "print costvFResult"
   ]
  },
  {
   "cell_type": "markdown",
   "metadata": {},
   "source": [
    "- **Should think about the eps(stepsize)**"
   ]
  },
  {
   "cell_type": "code",
   "execution_count": 76,
   "metadata": {
    "collapsed": false,
    "scrolled": false
   },
   "outputs": [
    {
     "name": "stdout",
     "output_type": "stream",
     "text": [
      "17.6229798794\n",
      "  status: 0\n",
      "    nfev: 3962\n",
      " success: True\n",
      "     fun: 0.50220275531025804\n",
      "       x: array([ -3.85331049e-01,  -1.64831290e+00,   4.38167874e+00,\n",
      "         3.85331031e-01,  -1.64831334e+00,   4.38167984e+00,\n",
      "         2.34184047e-01,  -1.24310640e+00,   2.71208895e+00,\n",
      "        -1.17803310e+00,  -2.02417151e+00,   5.87633570e-01,\n",
      "         6.18552789e-01,   5.48284666e-01,   9.60104681e-01,\n",
      "         5.06870539e-01,   7.91348252e-01,   8.11250700e-01,\n",
      "         1.99372491e-01,   3.97298727e-01,   8.77042066e-01,\n",
      "         6.02182313e-01,   1.38506682e-01,   4.65542508e-01,\n",
      "         3.41518461e-01,   3.63377986e-01,   7.69760905e-01,\n",
      "         3.90745439e-01,   9.28567392e-01,   5.57296552e-02,\n",
      "         3.73309283e-01,   1.70298056e-01,   8.38329106e-01,\n",
      "         7.54490909e-01,   4.96915452e-01,   8.85875781e-01,\n",
      "         7.90289949e-01,   8.04149421e-01,   9.08994626e-01,\n",
      "         7.54196283e-01,   2.68107520e-01,   2.09544768e-01,\n",
      "         9.87127816e-01,   4.09773474e-02,   3.34044111e-01,\n",
      "         8.83299959e-01,   4.01836494e-01,   4.55634894e-01,\n",
      "         8.11468667e-01,   6.10089117e-01,   4.47504158e-01,\n",
      "         2.47476838e-01,   1.59006526e-01,   7.96660662e-01,\n",
      "         1.31371322e-01,   7.47131705e-01,   5.40895723e-01,\n",
      "         3.94819488e-03,   2.17337243e-02,   6.02962762e-01])\n",
      " message: 'Optimization terminated successfully.'\n",
      "     nit: 762\n"
     ]
    }
   ],
   "source": [
    "xmid = costvFResultSLSQP.get(\"x\")\n",
    "\n",
    "start = timeit.default_timer()\n",
    "#costvFResult = minimize(costF,xmid,method=\"SLSQP\",tol=1e-30,options={\"ftol\":1e-30,\"maxiter\":100000})\n",
    "costvFResult = minimize(costF,xmid,method='Nelder-Mead',tol=1e-15,options={\"ftol\":1e-15, \"maxfev\": 1000000,\"maxiter\":1000000})\n",
    "stop = timeit.default_timer()\n",
    "\n",
    "print stop - start\n",
    "\n",
    "print costvFResult"
   ]
  },
  {
   "cell_type": "code",
   "execution_count": 77,
   "metadata": {
    "collapsed": false,
    "scrolled": true
   },
   "outputs": [
    {
     "name": "stdout",
     "output_type": "stream",
     "text": [
      "[ -3.85331049e-01  -1.64831290e+00   4.38167874e+00   3.85331031e-01\n",
      "  -1.64831334e+00   4.38167984e+00   2.34184047e-01  -1.24310640e+00\n",
      "   2.71208895e+00  -1.17803310e+00  -2.02417151e+00   5.87633570e-01\n",
      "   6.18552789e-01   5.48284666e-01   9.60104681e-01   5.06870539e-01\n",
      "   7.91348252e-01   8.11250700e-01   1.99372491e-01   3.97298727e-01\n",
      "   8.77042066e-01   6.02182313e-01   1.38506682e-01   4.65542508e-01\n",
      "   3.41518461e-01   3.63377986e-01   7.69760905e-01   3.90745439e-01\n",
      "   9.28567392e-01   5.57296552e-02   3.73309283e-01   1.70298056e-01\n",
      "   8.38329106e-01   7.54490909e-01   4.96915452e-01   8.85875781e-01\n",
      "   7.90289949e-01   8.04149421e-01   9.08994626e-01   7.54196283e-01\n",
      "   2.68107520e-01   2.09544768e-01   9.87127816e-01   4.09773474e-02\n",
      "   3.34044111e-01   8.83299959e-01   4.01836494e-01   4.55634894e-01\n",
      "   8.11468667e-01   6.10089117e-01   4.47504158e-01   2.47476838e-01\n",
      "   1.59006526e-01   7.96660662e-01   1.31371322e-01   7.47131705e-01\n",
      "   5.40895723e-01   3.94819488e-03   2.17337243e-02   6.02962762e-01]\n"
     ]
    }
   ],
   "source": [
    "xresult = costvFResult.get(\"x\")\n",
    "#xresult = np.array([-0.01486401,  2.25493868, -1.84543911, -0.07335087,  2.2548026 ,\n",
    "#       -1.84421662,  0.10454078, -1.64040244,  2.99923129,  0.01486399,\n",
    "#        2.2549433 , -1.84544286,  0.61994826,  0.96756294,  0.60929092,\n",
    "#        0.23839364,  0.45364599,  0.18426882,  0.30242425,  0.96719724,\n",
    "#        0.13016584,  0.9192801 ,  0.116001  ,  0.46777053,  0.17497595,\n",
    "#        0.96035958,  0.21763616,  0.73997804,  0.88071662,  0.1620245 ,\n",
    "#        0.66904538,  0.66084959,  0.89772078,  0.49020208,  0.67802378,\n",
    "#        0.53307714,  0.59867975,  0.16864478,  0.4257949 ,  0.5364126 ,\n",
    "#        0.78476644,  0.4910997 ,  0.834945  ,  0.45061367,  0.16736545,\n",
    "#        0.42579168,  0.16877594,  0.98282177,  0.08852038,  0.12633737,\n",
    "#        0.50922379,  0.93146299,  0.66505978,  0.33157336,  0.05408186,\n",
    "#        0.04504323,  0.27311737,  0.27651656,  0.47313653,  0.12806564])\n",
    "#xresult = np.array([-1.37886409,  2.81454922, -0.3571002 ,  0.02582831, -1.05414931,\n",
    "#       -1.52308153, -2.24747468,  0.33947049, -0.32310112, -1.43887103,\n",
    "#        0.81176258,  0.05139705, -1.02669705, -0.97236805, -0.27536667,\n",
    "#        0.34860447, -1.06962772,  0.89978175,  2.39662887, -1.45165477,\n",
    "#       -1.54636469, -2.79921374, -1.30335793, -0.62844367, -3.04440811,\n",
    "#       -2.74566393, -2.16222918, -1.60535643, -0.77298204,  0.13848754,\n",
    "#       -0.36544212,  1.23901581, -0.80586367, -0.30212561, -1.02818302,\n",
    "#       -2.82928373, -0.80776632, -2.90056107, -2.42432246, -2.87572658,\n",
    "#       -0.8645904 , -0.59526987, -1.87029203, -1.60957508, -1.83106839,\n",
    "#        1.07020356, -0.84892132, -0.97053555, -0.2005098 , -0.72422578,\n",
    "#       -3.32948549, -4.99349947, -3.46242765, -3.52481528, -3.36820222,\n",
    "#       -4.1848837 , -1.90748847, -2.09206645, -4.10831718,  2.76094325])\n",
    "\n",
    "print xresult"
   ]
  },
  {
   "cell_type": "code",
   "execution_count": 68,
   "metadata": {
    "collapsed": false
   },
   "outputs": [
    {
     "data": {
      "text/plain": [
       "array([ 0.42396935,  0.57603062,  0.26052045, -0.07174476])"
      ]
     },
     "execution_count": 68,
     "metadata": {},
     "output_type": "execute_result"
    }
   ],
   "source": [
    "rho(xresult,2,init)"
   ]
  },
  {
   "cell_type": "code",
   "execution_count": 69,
   "metadata": {
    "collapsed": false
   },
   "outputs": [
    {
     "name": "stdout",
     "output_type": "stream",
     "text": [
      "[ 1.          0.99231489  0.98463641  0.9769649   0.9693007   0.96164417\n",
      "  0.95399568  0.94635561  0.93872437  0.93110238  0.92349008  0.91588792\n",
      "  0.90829637  0.90071594  0.89314714  0.88559049  0.87804656  0.87051592\n",
      "  0.86299918  0.85549695  0.8480099   0.84053868  0.83308401  0.8256466\n",
      "  0.81822722  0.81082664  0.80344569  0.79608519  0.78874604  0.78142912\n",
      "  0.77413539  0.7668658   0.75962138  0.75240317  0.74521224  0.73804972\n",
      "  0.73091675  0.72381454  0.71674433  0.70970738  0.70270503  0.69573862\n",
      "  0.68880958  0.68191935  0.67506943  0.66826137  0.66149675  0.65477721\n",
      "  0.64810445  0.64148021  0.63490626  0.62838445  0.62191666  0.61550484\n",
      "  0.60915098  0.60285712  0.59662535  0.59045783  0.58435675  0.57832437\n",
      "  0.57236298  0.56647494  0.56066265  0.55492857  0.5492752   0.54370508\n",
      "  0.53822081  0.53282504  0.52752044  0.52230974  0.51719571  0.51218114\n",
      "  0.50726888  0.50246179  0.49776277  0.49317474  0.48870065  0.48434346\n",
      "  0.48010615  0.4759917   0.47200312  0.4681434   0.46441552  0.46082247\n",
      "  0.45736722  0.45405271  0.45088186  0.44785755  0.44498262  0.44225988\n",
      "  0.43969207  0.43728186  0.43503187  0.43294464  0.4310226   0.42926813\n",
      "  0.42768348  0.4262708   0.42503212  0.42396935]\n"
     ]
    }
   ],
   "source": [
    "plttlin=np.linspace(0,endpoint,100)\n",
    "pltdata11 = np.array([])\n",
    "for i in plttlin:\n",
    "    pltdata11 = np.append(pltdata11 ,rho(xresult,i,init)[0] )\n",
    "    \n",
    "print pltdata11"
   ]
  },
  {
   "cell_type": "code",
   "execution_count": 73,
   "metadata": {
    "collapsed": false,
    "scrolled": false
   },
   "outputs": [
    {
     "data": {
      "image/png": "[encoded data removed]",
      "text/plain": [
       "<matplotlib.figure.Figure at 0x10edd64d0>"
      ]
     },
     "metadata": {},
     "output_type": "display_data"
    }
   ],
   "source": [
    "#MMA_optmize_Vac_pltdata = np.genfromtxt('./assets/homogen/MMA_optmize_Vac_pltdata.txt', delimiter = ',')\n",
    "\n",
    "plt.figure(figsize=(16,9.36))\n",
    "plt.ylabel('P')\n",
    "plt.xlabel('Time')\n",
    "#plt.plot(np.linspace(0,15,4501),MMA_optmize_Vac_pltdata,\"r-\",label=\"MMAVacrho11\")\n",
    "plt.plot(np.linspace(0,2,10),1-(np.sin(2.0)**2)*(np.sin(0.5*np.linspace(0,2,10)) )**2,\"r-\")\n",
    "plt.plot(plttlin,pltdata11,\"b4-\",label=\"vac_rho11\")\n",
    "plt.show()\n",
    "#py.iplot_mpl(plt.gcf(),filename=\"MMA-rho11-Vac-80-60\")"
   ]
  },
  {
   "cell_type": "code",
   "execution_count": null,
   "metadata": {
    "collapsed": true
   },
   "outputs": [],
   "source": []
  },
  {
   "cell_type": "code",
   "execution_count": 26,
   "metadata": {
    "collapsed": false
   },
   "outputs": [
    {
     "name": "stdout",
     "output_type": "stream",
     "text": [
      "0.15.1\n"
     ]
    }
   ],
   "source": [
    "print scipy.__version__"
   ]
  },
  {
   "cell_type": "markdown",
   "metadata": {
    "collapsed": true
   },
   "source": [
    "<a id='evo'></a>\n",
    "-----\n",
    "## Test Differential Evolution"
   ]
  },
  {
   "cell_type": "code",
   "execution_count": null,
   "metadata": {
    "collapsed": false
   },
   "outputs": [],
   "source": [
    "# with ramdom initial guess\n",
    "\n",
    "devoendpoint = 2\n",
    "devotlin = np.linspace(0,endpoint,11)\n",
    "\n",
    "devocostF = lambda x: cost(x,devotlin,init)\n",
    "\n",
    "bounds=np.zeros([3*4*5,2])\n",
    "for i in range(3*4*5):\n",
    "    bounds[i,0]=-5\n",
    "    bounds[i,1]=5\n",
    "#print bounds\n",
    "\n",
    "startdevo = timeit.default_timer()\n",
    "devo = differential_evolution(devocostF,bounds,strategy='best1bin',tol=1e-10,maxiter=1000,polish=True)\n",
    "stopdevo = timeit.default_timer()\n",
    "\n",
    "print stopdevo - startdevo\n",
    "\n",
    "print devo\n"
   ]
  },
  {
   "cell_type": "code",
   "execution_count": null,
   "metadata": {
    "collapsed": false,
    "scrolled": true
   },
   "outputs": [],
   "source": [
    "devoxmid = devo.x\n",
    "\n",
    "devocostFmid = lambda x: cost(devoxmid,devotlin,init)\n",
    "\n",
    "\n",
    "startdevo = timeit.default_timer()\n",
    "devo = differential_evolution(devocostFmid,bounds,strategy='best1bin',tol=1e-10,maxiter=100,polish=True)\n",
    "stopdevo = timeit.default_timer()\n",
    "\n",
    "print stopdevo - startdevo\n",
    "\n",
    "print devo"
   ]
  },
  {
   "cell_type": "code",
   "execution_count": null,
   "metadata": {
    "collapsed": false
   },
   "outputs": [],
   "source": [
    "devoxresult=devo.get(\"x\")"
   ]
  },
  {
   "cell_type": "code",
   "execution_count": null,
   "metadata": {
    "collapsed": false
   },
   "outputs": [],
   "source": [
    "devoplttlin=np.linspace(0,devoendpoint,100)\n",
    "devopltdata11 = np.array([])\n",
    "for i in devoplttlin:\n",
    "    devopltdata11 = np.append(devopltdata11 ,rho(devoxresult,i,init)[0] )\n",
    "    \n",
    "print devopltdata11"
   ]
  },
  {
   "cell_type": "code",
   "execution_count": null,
   "metadata": {
    "collapsed": false
   },
   "outputs": [],
   "source": [
    "plt.figure(figsize=(16,9.36))\n",
    "plt.ylabel('MMArho11')\n",
    "plt.xlabel('Time')\n",
    "plt.plot(devoplttlin,1-(np.sin(2.0)**2)*(np.sin(0.5*devoplttlin) )**2)\n",
    "plt.plot(devoplttlin,devopltdata11,\"b4-\",label=\"devo_vac_rho11\")\n",
    "plt.show()\n",
    "#py.iplot_mpl(plt.gcf(),filename=\"MMA-rho11-Vac-80-60\")"
   ]
  },
  {
   "cell_type": "code",
   "execution_count": null,
   "metadata": {
    "collapsed": false,
    "scrolled": false
   },
   "outputs": [],
   "source": []
  },
  {
   "cell_type": "code",
   "execution_count": null,
   "metadata": {
    "collapsed": false
   },
   "outputs": [],
   "source": [
    "print scipy.__version__"
   ]
  },
  {
   "cell_type": "code",
   "execution_count": 80,
   "metadata": {
    "collapsed": false
   },
   "outputs": [
    {
     "name": "stdout",
     "output_type": "stream",
     "text": [
      "[[-0.95067917 -0.09074367 -4.82398457 -0.7615439  -0.27515522]\n",
      " [-3.33365998 -1.4162127  -2.8632105  -2.7298333  -0.62978916]\n",
      " [-2.52407383 -2.57476616 -4.88282221 -4.65025538 -1.49872754]\n",
      " [-3.15147754 -0.06354641 -2.3908632  -0.86447528 -2.33229558]\n",
      " [-0.5739389  -4.61810188 -0.13228954 -2.58397247 -4.33343592]\n",
      " [-4.83035004 -3.06425551 -0.45936255 -2.91194388 -2.87745423]\n",
      " [-3.93824244 -2.08182497 -3.05850129 -1.92361242 -3.81654995]\n",
      " [-4.19771673 -0.53177727 -3.9155934  -0.04361043 -4.73211585]\n",
      " [-3.68483106 -1.71179777 -1.13691215 -4.794143   -0.47377443]\n",
      " [-3.66788546 -2.8080668  -0.33475682 -4.81757391 -1.18803969]\n",
      " [-3.05637085 -3.98693405 -1.00737055 -2.01300012 -4.43150289]\n",
      " [-2.6875922  -4.52969243 -0.0724917  -3.63840275 -0.79722408]]\n"
     ]
    }
   ],
   "source": [
    "print initGuess"
   ]
  },
  {
   "cell_type": "code",
   "execution_count": null,
   "metadata": {
    "collapsed": true
   },
   "outputs": [],
   "source": []
  }
 ],
 "metadata": {
  "kernelspec": {
   "display_name": "Python 2",
   "language": "python",
   "name": "python2"
  },
  "language_info": {
   "codemirror_mode": {
    "name": "ipython",
    "version": 2
   },
   "file_extension": ".py",
   "mimetype": "text/x-python",
   "name": "python",
   "nbconvert_exporter": "python",
   "pygments_lexer": "ipython2",
   "version": "2.7.6"
  }
 },
 "nbformat": 4,
 "nbformat_minor": 0
}
