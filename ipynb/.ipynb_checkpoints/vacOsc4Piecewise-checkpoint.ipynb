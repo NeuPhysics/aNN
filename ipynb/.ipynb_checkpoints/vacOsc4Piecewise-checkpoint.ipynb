{
 "cells": [
  {
   "cell_type": "markdown",
   "metadata": {},
   "source": [
    "Here is a test of another parameterization, a simple piecewise function."
   ]
  },
  {
   "cell_type": "code",
   "execution_count": 1,
   "metadata": {
    "collapsed": true
   },
   "outputs": [],
   "source": [
    "# Routine\n",
    "\n",
    "# This line configures matplotlib to show figures embedded in the notebook, \n",
    "# instead of opening a new window for each figure. More about that later. \n",
    "# If you are using an old version of IPython, try using '%pylab inline' instead.\n",
    "%matplotlib inline\n",
    "%load_ext snakeviz\n",
    "\n",
    "import numpy as np\n",
    "from scipy.optimize import minimize\n",
    "from scipy.optimize import rosen, differential_evolution\n",
    "from scipy.special import expit\n",
    "import matplotlib.pyplot as plt\n",
    "import scipy\n",
    "\n",
    "from matplotlib.lines import Line2D\n",
    "\n",
    "import timeit\n",
    "\n",
    "import pandas as pd\n",
    "\n",
    "import plotly.plotly as py\n",
    "from plotly.graph_objs import *\n",
    "import plotly.tools as tls"
   ]
  },
  {
   "cell_type": "code",
   "execution_count": 2,
   "metadata": {
    "collapsed": true
   },
   "outputs": [],
   "source": [
    "# For test use. This is some random structure.\n",
    "\n",
    "array12 = np.asarray(np.split(np.random.rand(1,60)[0],12))"
   ]
  },
  {
   "cell_type": "code",
   "execution_count": 142,
   "metadata": {
    "collapsed": true
   },
   "outputs": [],
   "source": [
    "# Here is the activation function\n",
    "# Using sigmoid\n",
    "\n",
    "def act(x):\n",
    "    x = np.asarray(x, dtype=float)\n",
    "    # np.piecewise complexity\n",
    "    if not x.shape:\n",
    "        x = np.asarray([x])\n",
    "        \n",
    "    return np.piecewise(x, [x<=-1.0, (x>-1.0)&(x<1.0), x>=1.0], [0.0, lambda x: x+1.0, 2.0])\n",
    "\n",
    "def actp(x):\n",
    "    x = np.asarray(x, dtype=float)\n",
    "    # np.piecewise complexity\n",
    "    if not x.shape:\n",
    "        x = np.asarray([x])\n",
    "    return np.piecewise(x, [x<=-1.0,(x>-1.0)&(x<1.0), x>=1.0], [0.0, 1.0, 0.0])"
   ]
  },
  {
   "cell_type": "markdown",
   "metadata": {},
   "source": [
    "Here comes the density matrix"
   ]
  },
  {
   "cell_type": "code",
   "execution_count": 143,
   "metadata": {
    "collapsed": true
   },
   "outputs": [],
   "source": [
    "# Density matrix in the forms that I wrote down on my Neutrino Physics notebook\n",
    "# x is a real array of 12 arrays.\n",
    "\n",
    "init = np.array([1.0,0.0,0.0,0.0])\n",
    "\n",
    "def rho(x,ti,initialCondition):\n",
    "    \n",
    "    elem = np.ones(4)\n",
    "    \n",
    "    for i in np.linspace(0,3,4):\n",
    "        elem[i] = np.sum(ti*x[i*3]*act(ti*x[i*3+1] + x[i*3+2]) )\n",
    "    \n",
    "    return init + elem\n",
    "    "
   ]
  },
  {
   "cell_type": "code",
   "execution_count": 152,
   "metadata": {
    "collapsed": false,
    "scrolled": true
   },
   "outputs": [
    {
     "name": "stdout",
     "output_type": "stream",
     "text": [
      "[ 0.          0.          0.          0.          0.44444444  1.55555556\n",
      "  2.          2.          2.          2.        ] [ 0.  0.  0.  0.  1.  1.  0.  0.  0.  0.] [ 0.          0.          0.          0.          0.44444444  1.55555556\n",
      "  2.          2.          2.          2.        ]\n"
     ]
    }
   ],
   "source": [
    "xtest = np.linspace(-5, 5, 10)\n",
    "#np.piecewise(xtest, [xtest < 0,  0 <= xtest , xtest< 10], [lambda x: -x, 0,lambda x: x])\n",
    "#[act(i) for i in xtest]\n",
    "print act(xtest), actp(xtest),act(np.linspace(-5, 5, 10))"
   ]
  },
  {
   "cell_type": "code",
   "execution_count": 145,
   "metadata": {
    "collapsed": false
   },
   "outputs": [
    {
     "name": "stdout",
     "output_type": "stream",
     "text": [
      "[-0.41614684  0.90929743]\n"
     ]
    }
   ],
   "source": [
    "# Hamiltonian of the problem, in terms of four real components\n",
    "\n",
    "hamil = np.array( [  np.cos(2.0),np.sin(2.0) ] )\n",
    "print hamil"
   ]
  },
  {
   "cell_type": "code",
   "execution_count": 146,
   "metadata": {
    "collapsed": true
   },
   "outputs": [],
   "source": [
    "def rhop(x,ti,initialCondition):\n",
    "    \n",
    "    rhoprime = np.zeros(4)\n",
    "    \n",
    "    for i in np.linspace(0,3,4):\n",
    "        rhoprime[i] = np.sum(x[i*3] * (act(ti*x[i*3+1] + x[i*3+2]) ) ) +  np.sum( ti*x[i*3]* (actp(ti*x[i*3+1] + x[i*3+2]) ) * x[i*3+1]  )\n",
    "        \n",
    "    return rhoprime\n",
    "\n",
    "def costi(x,ti,initialCondition):\n",
    "    \n",
    "    rhoi = rho(x,ti,initialCondition)\n",
    "    rhopi = rhop(x,ti,initialCondition)\n",
    "    \n",
    "    costTemp = np.zeros(4)\n",
    "    \n",
    "    costTemp[0] = ( rhopi[0] - 2.0*rhoi[3]*hamil[1] )**2\n",
    "    costTemp[1] = ( rhopi[1] + 2.0*rhoi[3]*hamil[1] )**2\n",
    "    costTemp[2] = ( rhopi[2] - 2.0*rhoi[3]*hamil[0] )**2\n",
    "    costTemp[3] = ( rhopi[3] + 2.0*rhoi[2]*hamil[0] - hamil[1] * (rhoi[1] - rhoi[0] ) )**2\n",
    "    \n",
    "    return np.sum(costTemp)# + 2.0*(rhoi[0]+rhoi[1]-1.0)**2\n"
   ]
  },
  {
   "cell_type": "code",
   "execution_count": 147,
   "metadata": {
    "collapsed": false
   },
   "outputs": [
    {
     "data": {
      "text/plain": [
       "60.676509811026591"
      ]
     },
     "execution_count": 147,
     "metadata": {},
     "output_type": "execute_result"
    }
   ],
   "source": [
    "costi(array12,0,init)"
   ]
  },
  {
   "cell_type": "code",
   "execution_count": 148,
   "metadata": {
    "collapsed": true
   },
   "outputs": [],
   "source": [
    "def cost(x,t,initialCondition):\n",
    "    \n",
    "    costTotal = map(lambda t: costi(x,t,initialCondition),t)\n",
    "    \n",
    "    return 0.5*np.sum(costTotal)"
   ]
  },
  {
   "cell_type": "code",
   "execution_count": 149,
   "metadata": {
    "collapsed": false
   },
   "outputs": [
    {
     "data": {
      "text/plain": [
       "644.46274312832497"
      ]
     },
     "execution_count": 149,
     "metadata": {},
     "output_type": "execute_result"
    }
   ],
   "source": [
    "cost(array12,np.array([0,1,2]),init)"
   ]
  },
  {
   "cell_type": "code",
   "execution_count": null,
   "metadata": {
    "collapsed": true
   },
   "outputs": [],
   "source": [
    "\n",
    "\n",
    "\n",
    "\n"
   ]
  },
  {
   "cell_type": "markdown",
   "metadata": {},
   "source": [
    "## Opt"
   ]
  },
  {
   "cell_type": "code",
   "execution_count": null,
   "metadata": {
    "collapsed": false
   },
   "outputs": [],
   "source": [
    "# with ramdom initial guess. TO make it more viable, I used (-5,5)\n",
    "\n",
    "initGuess = np.asarray(np.split(np.random.rand(1,60)[0],12))\n",
    "#initGuess = np.split(np.zeros(60),12)\n",
    "endpoint = 2\n",
    "tlin = np.linspace(0,endpoint,22)\n",
    "\n",
    "def costF(x):\n",
    "    return cost(x,tlin,init)\n",
    "\n",
    "start = timeit.default_timer()\n",
    "costvFResult = minimize(costF,initGuess,method=\"SLSQP\",tol=1e-10,options={\"maxiter\":100000})\n",
    "stop = timeit.default_timer()\n",
    "\n",
    "print stop - start\n",
    "\n",
    "print costvFResult"
   ]
  },
  {
   "cell_type": "code",
   "execution_count": null,
   "metadata": {
    "collapsed": false
   },
   "outputs": [],
   "source": [
    "xresult = costvFResult.x"
   ]
  },
  {
   "cell_type": "code",
   "execution_count": null,
   "metadata": {
    "collapsed": false
   },
   "outputs": [],
   "source": [
    "plttlin=np.linspace(0,endpoint,100)\n",
    "pltdata11 = np.array([])\n",
    "for i in plttlin:\n",
    "    pltdata11 = np.append(pltdata11 ,rho(xresult,i,init)[0] )\n",
    "    \n",
    "print pltdata11\n",
    "\n",
    "plt.figure(figsize=(16,9.36))\n",
    "plt.ylabel('P')\n",
    "plt.xlabel('Time')\n",
    "plt.plot(np.linspace(0,2,10),1-(np.sin(2.0)**2)*(np.sin(0.5*np.linspace(0,2,10)) )**2,\"r-\")\n",
    "plt.plot(plttlin,pltdata11,\"b4-\",label=\"vac_rho11\")\n",
    "plt.show()\n",
    "#py.iplot_mpl(plt.gcf(),filename=\"MMA-rho11-Vac-80-60\")"
   ]
  },
  {
   "cell_type": "code",
   "execution_count": null,
   "metadata": {
    "collapsed": true
   },
   "outputs": [],
   "source": []
  }
 ],
 "metadata": {
  "kernelspec": {
   "display_name": "Python 2",
   "language": "python",
   "name": "python2"
  },
  "language_info": {
   "codemirror_mode": {
    "name": "ipython",
    "version": 2
   },
   "file_extension": ".py",
   "mimetype": "text/x-python",
   "name": "python",
   "nbconvert_exporter": "python",
   "pygments_lexer": "ipython2",
   "version": "2.7.6"
  }
 },
 "nbformat": 4,
 "nbformat_minor": 0
}
