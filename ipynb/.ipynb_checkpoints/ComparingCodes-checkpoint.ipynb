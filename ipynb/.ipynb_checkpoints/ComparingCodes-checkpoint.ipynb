{
 "cells": [
  {
   "cell_type": "code",
   "execution_count": 53,
   "metadata": {
    "collapsed": false,
    "scrolled": true
   },
   "outputs": [
    {
     "name": "stdout",
     "output_type": "stream",
     "text": [
      "[ 0.  0.  0.  0.  0.  0.  0.  0.  0.  0.  0.  0.  0.  0.  0.  0.  0.  0.\n",
      "  0.  0.  0.  0.  0.  0.  0.  0.  0.  0.  0.  0.  0.  0.  0.  0.  0.  0.\n",
      "  0.  0.  0.  0.  0.  0.  0.  0.  0.  0.  0.  0.  0.  0.  0.  0.  0.  0.\n",
      "  0.  0.  0.  0.  0.  0.]\n",
      "[ 0.   0.2  0.4  0.6  0.8  1.   1.2  1.4  1.6  1.8  2. ]\n"
     ]
    }
   ],
   "source": [
    "# Shanshank\n",
    "\n",
    "from scipy.special import expit\n",
    "import scipy.optimize\n",
    "from scipy.optimize import minimize #, differential_evolution\n",
    "import numpy as np\n",
    "from math import sin,cos\n",
    "#xarr=var('xarr')\n",
    "x=np.linspace(0,2,11)\n",
    "#x=np.array([1.0])\n",
    "hvar=5\n",
    "numeqs=4\n",
    "omega=1.0\n",
    "theta=1.0\n",
    "bounds=np.zeros([3*4*5,2])\n",
    "for i in range(3*4*5):\n",
    "    bounds[i,0]=-5\n",
    "    bounds[i,1]=5\n",
    "partot=np.array(np.zeros(3*hvar*numeqs))\n",
    "x0=[1.0,0.0,0.0,0.0]\n",
    "#par = par.reshape(3,hvar)\n",
    "print partot\n",
    "print x\n",
    "one=np.ones(hvar)\n",
    "\n",
    "def sig(x,par):\n",
    "    ans=[]\n",
    "    par1 = par.reshape(3,hvar)\n",
    "    #print \"test\", par[2]\n",
    "    for i in x:\n",
    "        ans.append(expit(i*par1[1,:]+par1[2,:]))\n",
    "        #ans.append(np.tanh(i*par1[1,:]+par1[2,:]))\n",
    "    return ans\n",
    "def N(x,par):\n",
    "    par1=par.reshape(3,hvar)\n",
    "    ans=np.inner(par1[0,:],sig(x,par))\n",
    "    return ans\n",
    "def y(x,par,xini):\n",
    "    return xini+x*N(x,par)\n",
    "def dNdx(x,par):\n",
    "    par1=par.reshape(3,hvar)\n",
    "    ans=np.zeros(len(x))\n",
    "    #print len(x)\n",
    "    for j in range(len(x)):\n",
    "        for i in range(hvar):\n",
    "            ans[j]=ans[j]+(par1[0,i])*(sig(x,par)[j][i])*((one-sig(x,par))[j][i])*par1[1,i]\n",
    "    return(ans)\n",
    "def dydx(x,par):\n",
    "    return N(x,par)+x*dNdx(x,par)\n",
    "def yp(partot):\n",
    "    partot1=partot.reshape((numeqs,3,hvar))\n",
    "    cost=0.0\n",
    "    cost=cost+np.sum(0.5*(dydx(x,partot1[0,:,:])-2*omega*sin(2*theta)*y(x,partot1[3,:,:],x0[3]))**2)\n",
    "    cost=cost+np.sum(0.5*(dydx(x,partot1[1,:,:])+2*omega*sin(2*theta)*y(x,partot1[3,:,:],x0[3]))**2)\n",
    "    cost=cost+np.sum(0.5*(dydx(x,partot1[2,:,:])-2*omega*cos(2*theta)*y(x,partot1[3,:,:],x0[3]))**2)\n",
    "    cost=cost+np.sum(0.5*(dydx(x,partot1[3,:,:])+2*omega*cos(2*theta)*y(x,partot1[2,:,:],x0[2])+omega*sin(2*theta)*y(x,partot1[0,:,:],x0[0])-omega*sin(2*theta)*y(x,partot1[1,:,:],x0[1]))**2)\n",
    "    cost = cost#+np.sum((y(x,partot1[0,:,:],x0[0])+y(x,partot1[1,:,:],x0[1])-1.0)**2)\n",
    "\n",
    "\n",
    "    return cost\n",
    "#def ypprime(par): \n",
    "#vout=minimize(yp,par,method='COBYLA',options={\"maxfev\": 10000})\n",
    "#vout=minimize(yp,partot,method='SLSQP',options={\"maxiter\": 1000})\n",
    "#vout=minimize(yp,partot,method='Nelder-Mead',tol=1e-5,options={\"ftol\":1e-3, \"maxfev\": 1000000,\"maxiter\":1000000})\n",
    "#vout=differential_evolution(yp,bounds,strategy='best1bin',tol=0.1,maxiter=1,polish=True)\n",
    "#print vout\n"
   ]
  },
  {
   "cell_type": "code",
   "execution_count": 61,
   "metadata": {
    "collapsed": true
   },
   "outputs": [],
   "source": [
    "# Here is the activation function\n",
    "\n",
    "def act(x):\n",
    "    return expit(x)\n",
    "\n",
    "# Density matrix in the forms that I wrote down on my Neutrino Physics notebook\n",
    "# x is a real array of 12 arrays.\n",
    "\n",
    "init = np.array([1.0,0.0,0.0,0.0])\n",
    "\n",
    "def rho2(x,ti,initialCondition):\n",
    "    \n",
    "    elem = np.ones(4)\n",
    "    \n",
    "    for i in np.linspace(0,3,4):\n",
    "        elem[i] = np.sum(ti*x[i*3]*act(ti*x[i*3+1] + x[i*3+2]) )\n",
    "    \n",
    "    return init + elem\n",
    "    \n",
    "# Hamiltonian of the problem, in terms of four real components\n",
    "\n",
    "hamil = np.array( [  np.cos(2.0),np.sin(2.0) , np.sin(2.0),np.cos(2.0) ] )\n",
    "\n",
    "# Cost function for each time step\n",
    "\n",
    "def rhop(x,ti,initialCondition):\n",
    "    \n",
    "    rhoprime = np.zeros(4)\n",
    "    \n",
    "    for i in np.linspace(0,3,4):\n",
    "        rhoprime[i] = np.sum(x[i*3] * (act(ti*x[i*3+1] + x[i*3+2]) ) ) +  np.sum( ti*x[i*3]* (act(ti*x[i*3+1] + x[i*3+2]) ) * (1.0 - (act(ti*x[i*3+1] + x[i*3+2])  ) )* x[i*3+1]  )\n",
    "        \n",
    "    return rhoprime\n",
    "\n",
    "\n",
    "## This is the regularization\n",
    "\n",
    "regularization = 0.0001\n",
    "\n",
    "def costi(x,ti,initialCondition):\n",
    "    \n",
    "    rhoi = rho2(x,ti,initialCondition)\n",
    "    rhopi = rhop(x,ti,initialCondition)\n",
    "    \n",
    "    costTemp = np.zeros(4)\n",
    "    \n",
    "    costTemp[0] = ( rhopi[0] - 2.0*rhoi[3]*hamil[1] )**2\n",
    "    costTemp[1] = ( rhopi[1] + 2.0*rhoi[3]*hamil[1] )**2\n",
    "    costTemp[2] = ( rhopi[2] - 2.0*rhoi[3]*hamil[0] )**2\n",
    "    costTemp[3] = ( rhopi[3] + 2.0*rhoi[2]*hamil[0] - hamil[1] * (rhoi[1] - rhoi[0] ) )**2\n",
    "    \n",
    "    return np.sum(costTemp)# + 2.0*(rhoi[0]+rhoi[1]-1.0)**2\n",
    "\n",
    "    \n",
    "#    return np.sum(costTemp) + regularization*np.sum(x**2)\n",
    "    \n",
    "def cost2(x,t,initialCondition):\n",
    "    \n",
    "    costTotal = map(lambda t: costi(x,t,initialCondition),t)\n",
    "\n",
    "    return 0.5*np.sum(costTotal)"
   ]
  },
  {
   "cell_type": "code",
   "execution_count": 62,
   "metadata": {
    "collapsed": false,
    "scrolled": false
   },
   "outputs": [
    {
     "name": "stdout",
     "output_type": "stream",
     "text": [
      "2.36779048927 [ 2.36779049] [ 1.]\n"
     ]
    }
   ],
   "source": [
    "array12 = np.asarray(np.split(np.random.rand(2,60)[0],12))\n",
    "#array12 = np.asarray(np.split(np.ones(60),12))\n",
    "\n",
    "ssfun11 = y(np.array([2.0]),array12.reshape((numeqs,3,hvar))[1,:,:],x0[1])\n",
    "mifun11 = rho2(array12,2,init)[1]\n",
    "print mifun11, ssfun11, ssfun11/mifun11 ## Good we have the same function values"
   ]
  },
  {
   "cell_type": "code",
   "execution_count": 63,
   "metadata": {
    "collapsed": false
   },
   "outputs": [
    {
     "name": "stdout",
     "output_type": "stream",
     "text": [
      "[ 1.89300839  1.21239164  2.6472061   1.35053111] [ 1.08430389  1.14225019  1.19834742  1.25202231  1.30284305  1.35053111\n",
      "  1.39495512  1.43611112  1.47409488  1.50907187  1.54124914]\n"
     ]
    }
   ],
   "source": [
    "# rho prime\n",
    "index=3\n",
    "mirhop=rhop(array12,1,init)\n",
    "ssrhop=dydx(x,array12.reshape((numeqs,3,hvar))[index,:,:])\n",
    "print mirhop, ssrhop\n",
    "## OK we have exactly the same rho prime."
   ]
  },
  {
   "cell_type": "code",
   "execution_count": 64,
   "metadata": {
    "collapsed": false
   },
   "outputs": [
    {
     "name": "stdout",
     "output_type": "stream",
     "text": [
      "179.054795807 179.054795807 1.0\n"
     ]
    }
   ],
   "source": [
    "mine = cost2(array12,x,init)\n",
    "ss = yp(array12)\n",
    "print mine, ss, ss/mine\n",
    "#cost(xresult,np.array([0,4,11]),init)"
   ]
  },
  {
   "cell_type": "code",
   "execution_count": null,
   "metadata": {
    "collapsed": true
   },
   "outputs": [],
   "source": []
  },
  {
   "cell_type": "code",
   "execution_count": 65,
   "metadata": {
    "collapsed": false
   },
   "outputs": [
    {
     "name": "stdout",
     "output_type": "stream",
     "text": [
      "[-0.41614684  0.90929743  0.90929743 -0.41614684]\n"
     ]
    }
   ],
   "source": [
    "print hamil"
   ]
  },
  {
   "cell_type": "code",
   "execution_count": 66,
   "metadata": {
    "collapsed": false
   },
   "outputs": [
    {
     "data": {
      "text/plain": [
       "-0.41614683654714241"
      ]
     },
     "execution_count": 66,
     "metadata": {},
     "output_type": "execute_result"
    }
   ],
   "source": [
    "np.cos(2)"
   ]
  },
  {
   "cell_type": "code",
   "execution_count": null,
   "metadata": {
    "collapsed": false,
    "scrolled": false
   },
   "outputs": [],
   "source": [
    "\n",
    "\n",
    "\n",
    "\n",
    "\n",
    "\n",
    "# with ramdom initial guess\n",
    "\n",
    "#initGuess = np.asarray(np.split(np.random.rand(5,60)[0],12))\n",
    "initGuess = costvFResultSLSQP.get(\"x\")\n",
    "#initGuess = np.split(np.zeros(60),12)\n",
    "endpoint = 2\n",
    "tlin = np.linspace(0,endpoint,11)\n",
    "\n",
    "costF = lambda x: cost2(x,tlin,init)\n",
    "\n",
    "costvFResultSLSQP = minimize(costF,initGuess,method='Nelder-Mead',tol=1e-8,options={\"ftol\":1e-4, \"maxfev\": 1000000,\"maxiter\":100000})\n",
    "\n",
    "print costvFResultSLSQP"
   ]
  },
  {
   "cell_type": "code",
   "execution_count": null,
   "metadata": {
    "collapsed": false
   },
   "outputs": [],
   "source": [
    "xresult = costvFResultSLSQP.get(\"x\")\n",
    "plttlin=np.linspace(0,endpoint,20)\n",
    "pltdata11 = np.array([])\n",
    "for i in plttlin:\n",
    "    pltdata11 = np.append(pltdata11 ,(rho2(xresult,i,init)[0] ) )\n",
    "    \n",
    "print pltdata11\n",
    "\n",
    "ss11 = y(plttlin,xresult.reshape((numeqs,3,hvar))[0,:,:],x0[0])\n",
    "\n",
    "%matplotlib inline\n",
    "import matplotlib.pyplot as plt\n",
    "\n",
    "plt.plot(plttlin,pltdata11,\"b4-\",label=\"vac_rho11\")\n",
    "plt.show()"
   ]
  },
  {
   "cell_type": "raw",
   "metadata": {},
   "source": []
  },
  {
   "cell_type": "code",
   "execution_count": null,
   "metadata": {
    "collapsed": false
   },
   "outputs": [],
   "source": [
    "print ss11"
   ]
  },
  {
   "cell_type": "code",
   "execution_count": null,
   "metadata": {
    "collapsed": true
   },
   "outputs": [],
   "source": []
  }
 ],
 "metadata": {
  "kernelspec": {
   "display_name": "Python 2",
   "language": "python",
   "name": "python2"
  },
  "language_info": {
   "codemirror_mode": {
    "name": "ipython",
    "version": 2
   },
   "file_extension": ".py",
   "mimetype": "text/x-python",
   "name": "python",
   "nbconvert_exporter": "python",
   "pygments_lexer": "ipython2",
   "version": "2.7.6"
  }
 },
 "nbformat": 4,
 "nbformat_minor": 0
}
