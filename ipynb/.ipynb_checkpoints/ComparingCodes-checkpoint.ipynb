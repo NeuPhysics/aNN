{
 "cells": [
  {
   "cell_type": "code",
   "execution_count": 51,
   "metadata": {
    "collapsed": false
   },
   "outputs": [
    {
     "name": "stdout",
     "output_type": "stream",
     "text": [
      "[ 0.  0.  0.  0.  0.  0.  0.  0.  0.  0.  0.  0.  0.  0.  0.  0.  0.  0.\n",
      "  0.  0.  0.  0.  0.  0.  0.  0.  0.  0.  0.  0.  0.  0.  0.  0.  0.  0.\n",
      "  0.  0.  0.  0.  0.  0.  0.  0.  0.  0.  0.  0.  0.  0.  0.  0.  0.  0.\n",
      "  0.  0.  0.  0.  0.  0.]\n",
      "[ 0.   0.2  0.4  0.6  0.8  1.   1.2  1.4  1.6  1.8  2. ]\n"
     ]
    }
   ],
   "source": [
    "# Shanshank\n",
    "\n",
    "from scipy.special import expit\n",
    "import scipy.optimize\n",
    "from scipy.optimize import minimize #, differential_evolution\n",
    "import numpy as np\n",
    "from math import sin,cos\n",
    "#xarr=var('xarr')\n",
    "x=np.linspace(0,2,11)\n",
    "hvar=5\n",
    "numeqs=4\n",
    "omega=1.0\n",
    "theta=1.0\n",
    "bounds=np.zeros([3*4*5,2])\n",
    "for i in range(3*4*5):\n",
    "    bounds[i,0]=-5\n",
    "    bounds[i,1]=5\n",
    "partot=np.array(np.zeros(3*hvar*numeqs))\n",
    "x0=[1.0,0.0,0.0,0.0]\n",
    "#par = par.reshape(3,hvar)\n",
    "print partot\n",
    "print x\n",
    "one=np.ones(hvar)\n",
    "\n",
    "def sig(x,par):\n",
    "    ans=[]\n",
    "    par1 = par.reshape(3,hvar)\n",
    "    #print \"test\", par[2]\n",
    "    for i in x:\n",
    "        ans.append(expit(i*par1[1,:]+par1[2,:]))\n",
    "        #ans.append(np.tanh(i*par1[1,:]+par1[2,:]))\n",
    "    return ans\n",
    "def N(x,par):\n",
    "    par1=par.reshape(3,hvar)\n",
    "    ans=np.inner(par1[0,:],sig(x,par))\n",
    "    return ans\n",
    "def y(x,par,xini):\n",
    "    return xini+x*N(x,par)\n",
    "def dNdx(x,par):\n",
    "    par1=par.reshape(3,hvar)\n",
    "    ans=np.zeros(len(x))\n",
    "    #print len(x)\n",
    "    for j in range(len(x)):\n",
    "        for i in range(hvar):\n",
    "            ans[j]=ans[j]+(par1[0,i])*(sig(x,par)[j][i])*((one-sig(x,par))[j][i])*par1[1,i]\n",
    "    return(ans)\n",
    "def dydx(x,par):\n",
    "    return N(x,par)+x*dNdx(x,par)\n",
    "def yp(partot):\n",
    "    partot1=partot.reshape((numeqs,3,hvar))\n",
    "    cost=0.0\n",
    "    cost=cost+np.sum(0.5*(dydx(x,partot1[0,:,:])-2*omega*sin(2*theta)*y(x,partot1[3,:,:],x0[3]))**2)\n",
    "    cost=cost+np.sum(0.5*(dydx(x,partot1[1,:,:])+2*omega*sin(2*theta)*y(x,partot1[3,:,:],x0[3]))**2)\n",
    "    cost=cost+np.sum(0.5*(dydx(x,partot1[2,:,:])-2*omega*cos(2*theta)*y(x,partot1[3,:,:],x0[3]))**2)\n",
    "    cost=cost+np.sum(0.5*(dydx(x,partot1[3,:,:])+2*omega*cos(2*theta)*y(x,partot1[2,:,:],x0[2])+omega*sin(2*theta)*y(x,partot1[0,:,:],x0[0])-omega*sin(2*theta)*y(x,partot1[1,:,:],x0[1]))**2)\n",
    "    cost=cost+np.sum((y(x,partot1[0,:,:],x0[0])+y(x,partot1[1,:,:],x0[1])-1.0)**2)\n",
    "    return cost\n",
    "#def ypprime(par): \n",
    "#vout=minimize(yp,par,method='COBYLA',options={\"maxfev\": 10000})\n",
    "#vout=minimize(yp,partot,method='SLSQP',options={\"maxiter\": 1000})\n",
    "#vout=minimize(yp,partot,method='Nelder-Mead',tol=1e-5,options={\"ftol\":1e-3, \"maxfev\": 1000000,\"maxiter\":1000000})\n",
    "#vout=differential_evolution(yp,bounds,strategy='best1bin',tol=0.1,maxiter=1,polish=True)\n",
    "#print vout\n"
   ]
  },
  {
   "cell_type": "code",
   "execution_count": 95,
   "metadata": {
    "collapsed": true
   },
   "outputs": [],
   "source": [
    "# Here is the activation function\n",
    "\n",
    "def act(x):\n",
    "    return expit(x)\n",
    "\n",
    "# Density matrix in the forms that I wrote down on my Neutrino Physics notebook\n",
    "# x is a real array of 12 arrays.\n",
    "\n",
    "init = np.array([1.0,0.0,0.0,0.0])\n",
    "\n",
    "def rho2(x,ti,initialCondition):\n",
    "    \n",
    "    elem = np.ones(4)\n",
    "    \n",
    "    for i in np.linspace(0,3,4):\n",
    "        elem[i] = np.sum(ti*x[i*3]*act(ti*x[i*3+1] + x[i*3+2]) )\n",
    "    \n",
    "    return init + elem\n",
    "    \n",
    "# Hamiltonian of the problem, in terms of four real components\n",
    "\n",
    "hamil = np.array( [  np.cos(2.0),np.sin(2.0) , np.sin(2.0),np.cos(2.0) ] )\n",
    "\n",
    "# Cost function for each time step\n",
    "\n",
    "def rhop(x,ti,initialCondition):\n",
    "    \n",
    "    rhoprime = np.zeros(4)\n",
    "    \n",
    "    for i in np.linspace(0,3,4):\n",
    "        rhoprime[i] = np.sum(x[i*3] * (act(ti*x[i*3+1] + x[i*3+2]) ) ) +  np.sum( ti*x[i*3]* (act(ti*x[i*3+1] + x[i*3+2]) ) * (1.0 - (act(ti*x[i*3+1] + x[i*3+2])  ) )* x[i*3+1]  )\n",
    "        \n",
    "    return rhoprime\n",
    "\n",
    "\n",
    "## This is the regularization\n",
    "\n",
    "regularization = 0.0001\n",
    "\n",
    "def costi(x,ti,initialCondition):\n",
    "    \n",
    "    rhoi = rho2(x,ti,initialCondition)\n",
    "    rhopi = rhop(x,ti,initialCondition)\n",
    "    \n",
    "    costTemp = np.zeros(4)\n",
    "    \n",
    "    costTemp[0] = ( rhopi[0] - 2.0*rhoi[2]*hamil[1] )**2\n",
    "    costTemp[1] = ( rhopi[1] - 2.0*rhoi[2]*hamil[0] )**2\n",
    "    costTemp[2] = ( rhopi[2] + 2.0*rhoi[1]*hamil[0] - hamil[1] * (rhoi[3] - rhoi[0] ) )**2\n",
    "    costTemp[3] = ( rhopi[3] + 2.0*rhoi[2]*hamil[1] )**2\n",
    "    \n",
    "    return np.sum(costTemp) + 2.0*np.sum(rhoi[0]+rhoi[3]-1.0)**2\n",
    "    \n",
    "#    return np.sum(costTemp) + regularization*np.sum(x**2)\n",
    "    \n",
    "def cost2(x,t,initialCondition):\n",
    "    \n",
    "    costTotal = map(lambda t: costi(x,t,initialCondition),t)\n",
    "    \n",
    "    return 0.5*np.sum(costTotal)"
   ]
  },
  {
   "cell_type": "code",
   "execution_count": 96,
   "metadata": {
    "collapsed": false,
    "scrolled": false
   },
   "outputs": [
    {
     "name": "stdout",
     "output_type": "stream",
     "text": [
      "5.09406783926 [ 5.09406784] [ 1.]\n"
     ]
    }
   ],
   "source": [
    "array12 = np.asarray(np.split(np.random.rand(1,60)[0],12))\n",
    "ssfun11 = y(np.array([2.0]),array12.reshape((numeqs,3,hvar))[0,:,:],x0[0])\n",
    "mifun11 = rho2(array12,2,init)[0]\n",
    "print mifun11, ssfun11, ssfun11/mifun11 ## Good we have the same function values"
   ]
  },
  {
   "cell_type": "code",
   "execution_count": 97,
   "metadata": {
    "collapsed": false
   },
   "outputs": [
    {
     "name": "stdout",
     "output_type": "stream",
     "text": [
      "[ 2.07840825  2.46409719  1.30537413  2.37845988] [ 1.63468474  1.73847065  1.8350987   1.9240793   2.00518358  2.07840825\n",
      "  2.14393492  2.2020884   2.25329723  2.29805853  2.33690812]\n"
     ]
    }
   ],
   "source": [
    "# rho prime\n",
    "mirhop=rhop(array12,1.0,init)\n",
    "ssrhop=dydx(x,array12.reshape((numeqs,3,hvar))[0,:,:])\n",
    "print mirhop, ssrhop"
   ]
  },
  {
   "cell_type": "code",
   "execution_count": 98,
   "metadata": {
    "collapsed": false
   },
   "outputs": [
    {
     "name": "stdout",
     "output_type": "stream",
     "text": [
      "493.04163494 696.821670513 1.41331202303\n"
     ]
    }
   ],
   "source": [
    "mine = cost2(array12,x,init)\n",
    "ss = yp(array12)\n",
    "print mine, ss, ss/mine\n",
    "#cost(xresult,np.array([0,4,11]),init)"
   ]
  },
  {
   "cell_type": "code",
   "execution_count": null,
   "metadata": {
    "collapsed": true
   },
   "outputs": [],
   "source": []
  },
  {
   "cell_type": "code",
   "execution_count": 99,
   "metadata": {
    "collapsed": false
   },
   "outputs": [
    {
     "name": "stdout",
     "output_type": "stream",
     "text": [
      "[-0.41614684  0.90929743  0.90929743 -0.41614684]\n"
     ]
    }
   ],
   "source": [
    "print hamil"
   ]
  },
  {
   "cell_type": "code",
   "execution_count": null,
   "metadata": {
    "collapsed": true
   },
   "outputs": [],
   "source": []
  }
 ],
 "metadata": {
  "kernelspec": {
   "display_name": "Python 2",
   "language": "python",
   "name": "python2"
  },
  "language_info": {
   "codemirror_mode": {
    "name": "ipython",
    "version": 2
   },
   "file_extension": ".py",
   "mimetype": "text/x-python",
   "name": "python",
   "nbconvert_exporter": "python",
   "pygments_lexer": "ipython2",
   "version": "2.7.6"
  }
 },
 "nbformat": 4,
 "nbformat_minor": 0
}
