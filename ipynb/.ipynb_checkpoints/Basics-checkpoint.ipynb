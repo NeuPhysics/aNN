{
 "metadata": {
  "name": ""
 },
 "nbformat": 3,
 "nbformat_minor": 0,
 "worksheets": [
  {
   "cells": [
    {
     "cell_type": "markdown",
     "metadata": {},
     "source": [
      "## Artificial Neural Network"
     ]
    },
    {
     "cell_type": "markdown",
     "metadata": {},
     "source": [
      "Delta rule"
     ]
    },
    {
     "cell_type": "markdown",
     "metadata": {},
     "source": [
      "Balance bewteen 'speed' (Beta-coefficient) and 'momentum' of the learning"
     ]
    },
    {
     "cell_type": "markdown",
     "metadata": {},
     "source": [
      "Problems: over-trained or 'grandmothered' -> respond only to one set of problems"
     ]
    },
    {
     "cell_type": "markdown",
     "metadata": {},
     "source": [
      "### For References"
     ]
    },
    {
     "cell_type": "markdown",
     "metadata": {},
     "source": [
      "A very basic introduction: http://pages.cs.wisc.edu/~bolo/shipyard/neural/local.html"
     ]
    },
    {
     "cell_type": "markdown",
     "metadata": {},
     "source": [
      "### Code Practice"
     ]
    },
    {
     "cell_type": "code",
     "collapsed": false,
     "input": [
      "# This line configures matplotlib to show figures embedded in the notebook, \n",
      "# instead of opening a new window for each figure. More about that later. \n",
      "# If you are using an old version of IPython, try using '%pylab inline' instead.\n",
      "%matplotlib inline"
     ],
     "language": "python",
     "metadata": {},
     "outputs": [],
     "prompt_number": 96
    },
    {
     "cell_type": "markdown",
     "metadata": {},
     "source": [
      "#### Minimize An Expression"
     ]
    },
    {
     "cell_type": "code",
     "collapsed": false,
     "input": [
      "import numpy as np\n",
      "from scipy.optimize import minimize\n",
      "from scipy.special import expit\n",
      "import matplotlib.pyplot as plt"
     ],
     "language": "python",
     "metadata": {},
     "outputs": [],
     "prompt_number": 97
    },
    {
     "cell_type": "markdown",
     "metadata": {},
     "source": [
      "This is a practice of minimizing an expression using [scipy.optimize.minimize()](http://docs.scipy.org/doc/scipy-0.14.0/reference/generated/scipy.optimize.minimize.html)"
     ]
    },
    {
     "cell_type": "code",
     "collapsed": false,
     "input": [
      "fun = lambda x: (x[0] - 1)**2 + (x[1] - 2.5)**2\n",
      "\n",
      "minimize(fun,(2,1),method=\"Nelder-Mead\")"
     ],
     "language": "python",
     "metadata": {},
     "outputs": [
      {
       "metadata": {},
       "output_type": "pyout",
       "prompt_number": 98,
       "text": [
        "  status: 0\n",
        "    nfev: 81\n",
        " success: True\n",
        "     fun: 1.5843480821317829e-09\n",
        "       x: array([ 0.99996082,  2.49999298])\n",
        " message: 'Optimization terminated successfully.'\n",
        "     nit: 42"
       ]
      }
     ],
     "prompt_number": 98
    },
    {
     "cell_type": "code",
     "collapsed": false,
     "input": [
      "def fun_jacf(x):\n",
      "    np.asarray(x)\n",
      "    return np.array([2*(x[0] - 1),2*(x[1] - 2.5)])\n",
      "\n",
      "minimize(fun,(2,1),method=\"BFGS\",jac=fun_jacf)"
     ],
     "language": "python",
     "metadata": {},
     "outputs": [
      {
       "metadata": {},
       "output_type": "pyout",
       "prompt_number": 99,
       "text": [
        "   status: 0\n",
        "  success: True\n",
        "     njev: 4\n",
        "     nfev: 4\n",
        " hess_inv: array([[ 0.84615385,  0.23076923],\n",
        "       [ 0.23076923,  0.65384615]])\n",
        "      fun: 0.0\n",
        "        x: array([ 1. ,  2.5])\n",
        "  message: 'Optimization terminated successfully.'\n",
        "      jac: array([ 0.,  0.])"
       ]
      }
     ],
     "prompt_number": 99
    },
    {
     "cell_type": "markdown",
     "metadata": {},
     "source": [
      "Here is a summary:\n",
      "\n",
      "1. The jac parameter should be an array. Feed an array to it. The array should be the gradient at point [x[0],x[1],...] for each of these variables.\n",
      "2. There are other minimizing methods here [http://scipy-lectures.github.io/advanced/mathematical_optimization/](http://scipy-lectures.github.io/advanced/mathematical_optimization/)."
     ]
    },
    {
     "cell_type": "markdown",
     "metadata": {},
     "source": [
      "#### ANN Solving A Simple Problem"
     ]
    },
    {
     "cell_type": "markdown",
     "metadata": {},
     "source": [
      "The problem to solve is the differential equation $$\\frac{d}{dt}y(t)= - y(t).$$ Using the network, this is $$y_i= 1+t_i v_k f(t_i w_k+u_k).$$"
     ]
    },
    {
     "cell_type": "markdown",
     "metadata": {},
     "source": [
      "The procedures are\n",
      "\n",
      "**Deal with the function first.**\n",
      "   \n",
      "1. The cost is $$I=\\sum_i\\left( \\frac{dy_i}{dt}+y_i \\right)^2.$$ Our purpose is to minimize this cost.\n",
      "   \n",
      "2. To calculate the differential of y, we can write down the explicit expression for it. $$\\frac{dy}{dt} = v_k f(t w_k+u_k) + t v_k f(tw_k+u_k) (1-f(tw_k+u_k))w_k,$$ where the function f is defined as a trigf().\n",
      "\n",
      "3. So the cost becomse $$I = \\sum_i \\left(  v_k f(t w_k+u_k) + t v_k f(tw_k+u_k) (1-f(tw_k+u_k)) w_k + y \\right)^2.$$"
     ]
    },
    {
     "cell_type": "code",
     "collapsed": false,
     "input": [
      "def cost(v,w,u,t):\n",
      "    v = np.array(v)   # Don't know why but np.asarray(v) doesn't work here.\n",
      "    w = np.array(w)\n",
      "    u = np.array(u)\n",
      "    \n",
      "    fvec = np.array(trigf(t*w + u) )  # This is a vector!!!\n",
      "    yt = 1 + np.sum ( t * v * fvec  )  # For a given t, this calculates the value of y(t), given the parameters, v, w, u.\n",
      "    \n",
      "    return  ( np.sum (v*fvec + t * v* fvec * ( 1 -  fvec  ) * w ) + yt )   ** 2\n",
      "    \n",
      "    # return np.sum(np.array( v*np.array( trigf( np.array( t*w ) + u ) ) )  +  np.array( t*np.array( v*np.array( trigf(np.array( t*w ) + u)) )  )  * ( 1 - np.array( trigf( np.array( t*w )+u) ) ) * w + ( 1 + np.array( t*np.array( v*np.array( trigf( np.array(t*w)+u ) ) ) ) ) ) # trigf() should return an array with the same length of the input."
     ],
     "language": "python",
     "metadata": {},
     "outputs": [],
     "prompt_number": 100
    },
    {
     "cell_type": "markdown",
     "metadata": {},
     "source": [
      "**Caution: a number times an array is not returned as array but instead as list. and list + list doesn't conserved the length of the list!**"
     ]
    },
    {
     "cell_type": "markdown",
     "metadata": {},
     "source": [
      "Define the trigf() next, usually we use $$trigf(x)=\\frac{1}{1+\\exp(-x)}$$."
     ]
    },
    {
     "cell_type": "code",
     "collapsed": false,
     "input": [
      "def trigf(x):\n",
      "    #return 1/(1+np.exp(-x)) #\n",
      "    return expit(x)"
     ],
     "language": "python",
     "metadata": {},
     "outputs": [],
     "prompt_number": 101
    },
    {
     "cell_type": "markdown",
     "metadata": {},
     "source": [
      "Test cost function:"
     ]
    },
    {
     "cell_type": "code",
     "collapsed": false,
     "input": [
      "cost(np.array([2,3,4]),[3,4,5],[4,5,7],4)"
     ],
     "language": "python",
     "metadata": {},
     "outputs": [
      {
       "metadata": {},
       "output_type": "pyout",
       "prompt_number": 102,
       "text": [
        "2116.0001472577037"
       ]
      }
     ],
     "prompt_number": 102
    },
    {
     "cell_type": "markdown",
     "metadata": {},
     "source": [
      "Next step is to optimize this cost. To do this we need the derivitive. But anyway let's try a simple minimization first."
     ]
    },
    {
     "cell_type": "code",
     "collapsed": false,
     "input": [
      "def costTotal(v,w,u,t):\n",
      "    t = np.array(t)\n",
      "    costt = 0\n",
      "    for temp in t:\n",
      "        costt = costt + cost(v,w,u,temp)\n",
      "        \n",
      "    return costt\n",
      "\n",
      "print costTotal([1,2,3],[2,3,2],[3,4,1],[1,2,3,4,5,2,6,1])"
     ],
     "language": "python",
     "metadata": {},
     "outputs": [
      {
       "output_type": "stream",
       "stream": "stdout",
       "text": [
        "5865.34067528\n"
       ]
      }
     ],
     "prompt_number": 103
    },
    {
     "cell_type": "markdown",
     "metadata": {},
     "source": [
      "Suppose the parameters are five dimensional and we have 10 data points."
     ]
    },
    {
     "cell_type": "code",
     "collapsed": false,
     "input": [
      "tlin = np.linspace(0,1,10)\n",
      "print tlin"
     ],
     "language": "python",
     "metadata": {},
     "outputs": [
      {
       "output_type": "stream",
       "stream": "stdout",
       "text": [
        "[ 0.          0.11111111  0.22222222  0.33333333  0.44444444  0.55555556\n",
        "  0.66666667  0.77777778  0.88888889  1.        ]\n"
       ]
      }
     ],
     "prompt_number": 104
    },
    {
     "cell_type": "markdown",
     "metadata": {},
     "source": [
      "Define a list divier that splits an array into three arrays."
     ]
    },
    {
     "cell_type": "code",
     "collapsed": false,
     "input": [
      "## No need to define such a function! Use np.split(x,3) instead.\n",
      "np.zeros(30)"
     ],
     "language": "python",
     "metadata": {},
     "outputs": [
      {
       "metadata": {},
       "output_type": "pyout",
       "prompt_number": 105,
       "text": [
        "array([ 0.,  0.,  0.,  0.,  0.,  0.,  0.,  0.,  0.,  0.,  0.,  0.,  0.,\n",
        "        0.,  0.,  0.,  0.,  0.,  0.,  0.,  0.,  0.,  0.,  0.,  0.,  0.,\n",
        "        0.,  0.,  0.,  0.])"
       ]
      }
     ],
     "prompt_number": 105
    },
    {
     "cell_type": "code",
     "collapsed": false,
     "input": [
      "# This is only an example of 2dimensional neural network.\n",
      "costTotalF = lambda x: costTotal(np.split(x,3)[0],np.split(x,3)[1],np.split(x,3)[2],tlin)\n",
      "\n",
      "initGuess = np.zeros(30)\n",
      "# initGuess = np.random.rand(1,30)+2\n",
      "# minimize(costTotalF,([1,0,3,0,1,1,2,0,1,0,1,0]),method=\"Nelder-Mead\")\n",
      "minimize(costTotalF,(initGuess),method=\"L-BFGS-B\")\n",
      "# minimize(costTotalF,([1,0,3,0,1,1,2,0,1,0,1,0]),method=\"TNC\")"
     ],
     "language": "python",
     "metadata": {
      "slideshow": {
       "slide_type": "slide"
      }
     },
     "outputs": [
      {
       "metadata": {},
       "output_type": "pyout",
       "prompt_number": 106,
       "text": [
        "  status: 0\n",
        " success: True\n",
        "    nfev: 182\n",
        "     fun: 3.5276994931498516e-07\n",
        "       x: array([-2.76057316, -2.76057316, -2.76457185, -2.76070562, -2.76404226,\n",
        "       -2.76559214, -2.76115841, -2.76384123, -2.7665181 , -2.76507553,\n",
        "       -0.75150046, -0.75150046, -1.29326478, -0.63939864, -0.30699182,\n",
        "       -0.20248939, -0.59813403, -0.31789669, -0.15093033, -0.23838777,\n",
        "       -3.29331424, -3.29331424, -3.30462437, -3.28936554, -3.27383   ,\n",
        "       -3.26809435, -3.28753124, -3.27449558, -3.2650508 , -3.27010355])\n",
        " message: 'CONVERGENCE: NORM_OF_PROJECTED_GRADIENT_<=_PGTOL'\n",
        "     jac: array([  3.11488372e-07,   3.11488372e-07,   2.00921377e-07,\n",
        "         2.62708401e-07,   1.35313148e-07,   1.50793310e-07,\n",
        "         2.42559293e-07,   1.36220416e-07,   1.78701082e-07,\n",
        "         1.39960865e-07,   1.06210052e-06,   1.06210052e-06,\n",
        "        -2.53747607e-06,   1.35548157e-06,   2.00408932e-07,\n",
        "        -1.06361084e-06,   1.39502988e-06,   3.02461807e-07,\n",
        "        -1.89686890e-06,  -5.68361522e-07,  -8.67947117e-07,\n",
        "        -8.67947117e-07,  -8.60770382e-07,  -7.05945189e-07,\n",
        "        -3.47481407e-07,  -3.98995076e-07,  -6.43871560e-07,\n",
        "        -3.48996114e-07,  -4.78043955e-07,  -3.66423891e-07])\n",
        "     nit: 137"
       ]
      }
     ],
     "prompt_number": 106
    },
    {
     "cell_type": "markdown",
     "metadata": {},
     "source": [
      "???It shows that the minimization depends greatly on the initial guess.??? Is this right?"
     ]
    },
    {
     "cell_type": "markdown",
     "metadata": {},
     "source": [
      "##### Not Working? Use Jac"
     ]
    },
    {
     "cell_type": "markdown",
     "metadata": {},
     "source": [
      "I can define a function that deals with this part:\n",
      "$$M = v_k f(t w_k+u_k) + t v_k f(tw_k+u_k) (1-f(tw_k+u_k))w_k + y,$$\n",
      "which is actually an array given an array input.\n",
      "\n",
      "So the cost is\n",
      "$$I = M_i M_i,$$ using summation rule.\n",
      "\n",
      "The derivative is always\n",
      "$$\\partial_X I = 2 M_i \\partial_X M_i .$$\n",
      "\n",
      "So we have $$\\partial_{w_{k'}}f(tw_k+u_k) = f(t w_k+u_k) (1 - f(t w_k+u_k) ) t . $$\n",
      "$$\\partial_{u_{k'}}f(t w_k+u_k) = f(t w_k+u_k) (1 - f(t w_k+u_k) ) . $$\n",
      "\n",
      "One of the useful relation is $$\\frac{df(x)}{dx} = f(x)(1-f(x)).$$\n",
      "\n",
      "Derived by hand, the jac is a list of the following\n",
      "for v\n",
      "$$2M_i(f(tw_{k'}+u_{k'}) +t f(tw_{k'}+u_{k'})(1-f(tw_{k'}+u_{k'}))w_{k'} + tf(tw_{k'} +u_{k'} )),$$\n",
      "\n",
      "for w (**double checked**):\n",
      "$$2M_i(  v_{k'}tf(1-f) + t v_{k'}f(1-f)*t*(1-f) w_{k'} - t v_{k'} f f(1-f ) t  w_{k'}  + tv_{k'} f(1-f) + t v_{k'} f(')( 1 - f(') ) t  ),$$\n",
      "\n",
      "for u:\n",
      "$$v_{k'} f(1-f) + t v_{k'} f(1-f) (1-f)w_{k'} - t v_{k'} f f(1-f) w_{k'} + t v_{k'} f(1-f) .$$\n",
      "\n",
      "where $k'$ is not summed over."
     ]
    },
    {
     "cell_type": "markdown",
     "metadata": {},
     "source": [
      "Define a help function M here:"
     ]
    },
    {
     "cell_type": "code",
     "collapsed": false,
     "input": [
      "def mhelper(v,w,u,t): ## This function should output a result ## t is a number in this function not array!!\n",
      "    v = np.array(v)\n",
      "    w = np.array(w)\n",
      "    u = np.array(u)\n",
      "    \n",
      "    return np.sum( v*trigf( t*w + u )  + t* v* trigf(t*w  + u) * ( 1 -  trigf( t*w +u)  ) * w ) + ( 1 +  np.sum( t * v * trigf( t*w +u ) )  )  \n",
      "    # Checked # Pass\n",
      "    \n",
      "def vhelper(v,w,u,t):\n",
      "    v = np.array(v)\n",
      "    w = np.array(w)\n",
      "    u = np.array(u)\n",
      "    \n",
      "    return trigf(t*w+u) + t*trigf(t*w+u)*( 1-trigf(t*w+u) )*w + t*trigf(t*w+u)\n",
      "\n",
      "def whelper(v,w,u,t):\n",
      "    v = np.array(v)\n",
      "    w = np.array(w)\n",
      "    u = np.array(u)\n",
      "    \n",
      "    return v*t*trigf(t*w+u)*( 1- trigf(t*w+u) ) + t*v*( trigf(t*w+u)*(1-trigf(t*w+u))*t* (1-trigf(t*w+u)) )*w - t*v*trigf(t*w+u)*trigf(t*w+u)*(1-trigf(t*w+u))*t*w + t*v*trigf(t*w+u)*(1-trigf(t*w+u))  + t*v*trigf(t*w+u)*(1-trigf(t*w+u))*t    \n",
      "\n",
      "def uhelper(v,w,u,t):\n",
      "    v = np.array(v)\n",
      "    w = np.array(w)\n",
      "    u = np.array(u)\n",
      "    \n",
      "    return v*trigf(t*w+u)*( 1 - trigf(t*w+u)) + t* v * trigf(t*w+u) * (1-trigf(t*w+u))*(1-trigf(t*w+u))*w - t*v*trigf(t*w+u)*trigf(t*w+u)*(1-trigf(t*w+u))*w + t*v*trigf(t*w+u)*(1-trigf(t*w+u))\n"
     ],
     "language": "python",
     "metadata": {},
     "outputs": [],
     "prompt_number": 107
    },
    {
     "cell_type": "code",
     "collapsed": false,
     "input": [
      "mhelper([1,2],[2,3],[3,4],[1])"
     ],
     "language": "python",
     "metadata": {},
     "outputs": [
      {
       "metadata": {},
       "output_type": "pyout",
       "prompt_number": 108,
       "text": [
        "7.0017275337961387"
       ]
      }
     ],
     "prompt_number": 108
    },
    {
     "cell_type": "code",
     "collapsed": false,
     "input": [
      "vhelper([1,2],[2,3],[3,4],[1,2])"
     ],
     "language": "python",
     "metadata": {},
     "outputs": [
      {
       "metadata": {},
       "output_type": "pyout",
       "prompt_number": 109,
       "text": [
        "array([ 1.99991041,  3.00013618])"
       ]
      }
     ],
     "prompt_number": 109
    },
    {
     "cell_type": "markdown",
     "metadata": {},
     "source": [
      "Define the jac of cost function"
     ]
    },
    {
     "cell_type": "code",
     "collapsed": false,
     "input": [
      "def mhelperT(v,w,u,t):\n",
      "    t = np.array(t)\n",
      "    mhelperT = 0\n",
      "    \n",
      "    for temp in t:\n",
      "        mhelperT = mhelperT + mhelper(v,w,u,temp)\n",
      "        \n",
      "    return mhelperT\n",
      "\n",
      "def vhelperT(v,w,u,t):\n",
      "    t = np.array(t)\n",
      "    vhelperT = 0\n",
      "    \n",
      "    for temp in t:\n",
      "        vhelperT = vhelperT + vhelper(v,w,u,temp)\n",
      "        \n",
      "    return vhelperT\n",
      "\n",
      "def whelperT(v,w,u,t):\n",
      "    t = np.array(t)\n",
      "    whelperT = 0\n",
      "    \n",
      "    for temp in t:\n",
      "        whelperT = whelperT + whelper(v,w,u,temp)\n",
      "        \n",
      "    return whelperT\n",
      "\n",
      "\n",
      "def uhelperT(v,w,u,t):\n",
      "    t = np.array(t)\n",
      "    uhelperT = 0\n",
      "    \n",
      "    for temp in t:\n",
      "        uhelperT = uhelperT + uhelper(v,w,u,temp)\n",
      "        \n",
      "    return uhelperT\n",
      "\n",
      "\n",
      "def costJac(v,w,u,t):\n",
      "    v = np.array(v)\n",
      "    w = np.array(w)\n",
      "    u = np.array(u)\n",
      "    \n",
      "    vout = 0\n",
      "    wout = 0\n",
      "    uout = 0\n",
      "    \n",
      "    for temp in t:\n",
      "        vout = vout + 2*mhelper(v,w,u,temp)*vhelper(v,w,u,temp)\n",
      "        wout = wout + 2*mhelper(v,w,u,temp)*whelper(v,w,u,temp)\n",
      "        uout = uout + 2*mhelper(v,w,u,temp)*uhelper(v,w,u,temp)\n",
      "    \n",
      "    out = np.hstack((vout,wout,uout))\n",
      "    \n",
      "    return np.array(out)\n",
      "\n"
     ],
     "language": "python",
     "metadata": {},
     "outputs": [],
     "prompt_number": 110
    },
    {
     "cell_type": "code",
     "collapsed": false,
     "input": [
      "print uhelperT([1,2],[2,3],[3,4],[1,2,3]),mhelperT([1,2],[2,3],[3,4],[1]),whelperT([1,2],[2,3],[3,4],[1]),vhelperT([1,2],[2,3],[3,4],[1])"
     ],
     "language": "python",
     "metadata": {},
     "outputs": [
      {
       "output_type": "stream",
       "stream": "stdout",
       "text": [
        "[-0.00097219 -0.00210542] 7.0017275338 [  6.82603448e-03   9.95109712e-06] [ 1.99991041  2.00090856]\n"
       ]
      }
     ],
     "prompt_number": 111
    },
    {
     "cell_type": "code",
     "collapsed": false,
     "input": [
      "costJac([1,2,3],[2,3,1],[3,4,3],[1,2])"
     ],
     "language": "python",
     "metadata": {},
     "outputs": [
      {
       "metadata": {},
       "output_type": "pyout",
       "prompt_number": 112,
       "text": [
        "array([  1.65704329e+02,   1.65700886e+02,   1.64940613e+02,\n",
        "         1.77254265e-01,  -1.35249788e-02,   5.86245567e+00,\n",
        "        -2.96931862e-02,  -5.72180560e-02,   2.19879196e+00])"
       ]
      }
     ],
     "prompt_number": 112
    },
    {
     "cell_type": "code",
     "collapsed": false,
     "input": [
      "costJacF = lambda x: costJac(np.split(x,3)[0],np.split(x,3)[1],np.split(x,3)[2],tlin)\n",
      "initGuessJ = np.zeros(30)\n",
      "# initGuessJ = np.random.rand(1,30)+2\n",
      "minimize(costTotalF,initGuessJ,method=\"Newton-CG\",jac=costJacF)"
     ],
     "language": "python",
     "metadata": {},
     "outputs": [
      {
       "metadata": {},
       "output_type": "pyout",
       "prompt_number": 123,
       "text": [
        "  status: 0\n",
        " success: True\n",
        "    njev: 15426\n",
        "    nfev: 750\n",
        "     fun: 0.0007906889039478763\n",
        "       x: array([-11.45706046, -11.45706046, -11.45706046, -11.45706046,\n",
        "       -11.45706046, -11.45706046, -11.45706046, -11.45706046,\n",
        "       -11.45706046, -11.45706046,  -0.44524438,  -0.44524438,\n",
        "        -0.44524438,  -0.44524438,  -0.44524438,  -0.44524438,\n",
        "        -0.44524438,  -0.44524438,  -0.44524438,  -0.44524438,\n",
        "        -4.7477771 ,  -4.7477771 ,  -4.7477771 ,  -4.7477771 ,\n",
        "        -4.7477771 ,  -4.7477771 ,  -4.7477771 ,  -4.7477771 ,\n",
        "        -4.7477771 ,  -4.7477771 ])\n",
        " message: 'Optimization terminated successfully.'\n",
        "    nhev: 0\n",
        "     jac: array([  2.13598212e-07,   2.13598212e-07,   2.13598212e-07,\n",
        "         2.13598212e-07,   2.13598212e-07,   2.13598212e-07,\n",
        "         2.13598212e-07,   2.13598212e-07,   2.13598212e-07,\n",
        "         2.13598212e-07,   1.62020521e-08,   1.62020521e-08,\n",
        "         1.62020521e-08,   1.62020521e-08,   1.62020521e-08,\n",
        "         1.62020521e-08,   1.62020521e-08,   1.62020521e-08,\n",
        "         1.62020521e-08,   1.62020521e-08,   1.73303876e-08,\n",
        "         1.73303876e-08,   1.73303876e-08,   1.73303876e-08,\n",
        "         1.73303876e-08,   1.73303876e-08,   1.73303876e-08,\n",
        "         1.73303876e-08,   1.73303876e-08,   1.73303876e-08])"
       ]
      }
     ],
     "prompt_number": 123
    },
    {
     "cell_type": "markdown",
     "metadata": {},
     "source": [
      "##### Test Results"
     ]
    },
    {
     "cell_type": "markdown",
     "metadata": {},
     "source": [
      "Plot!"
     ]
    },
    {
     "cell_type": "code",
     "collapsed": false,
     "input": [
      "def functionYNN(v,w,u,t): # t is a single scalar value\n",
      "\n",
      "    t = np.array(t)\n",
      "    \n",
      "    func = np.asarray([])\n",
      "    \n",
      "    for temp in t:\n",
      "        tempfunc = 1 +  np.sum(temp * v * trigf( temp*w +u ) )\n",
      "        func = np.append(func, tempfunc)\n",
      "        \n",
      "    return np.array(func)\n",
      "\n",
      "def functionY(t):\n",
      "\n",
      "    return np.exp(-t)"
     ],
     "language": "python",
     "metadata": {},
     "outputs": [],
     "prompt_number": 114
    },
    {
     "cell_type": "code",
     "collapsed": false,
     "input": [
      "print functionYNN(np.array([1,2]),np.array([1,2]),np.array([1,2]),tlin)"
     ],
     "language": "python",
     "metadata": {},
     "outputs": [
      {
       "output_type": "stream",
       "stream": "stdout",
       "text": [
        "[ 1.          1.28408789  1.58061397  1.88715104  2.20165814  2.52245121\n",
        "  2.84816034  3.17768281  3.51013765  3.84482466]\n"
       ]
      }
     ],
     "prompt_number": 115
    },
    {
     "cell_type": "code",
     "collapsed": false,
     "input": [
      "# structArray=np.array([-1.77606225*np.exp(-01),  -3.52080053*np.exp(-01),  -1.77606225*np.exp(-01),\n",
      "#        -1.77606225*np.exp(-01),  -8.65246997*np.exp(-14),   1.00000000,\n",
      "#        -8.65246997*np.exp(-14),  -8.65246997*np.exp(-14),  -1.13618293*np.exp(-14),\n",
      "#        -7.57778017*np.exp(-16),  -1.13618293*np.exp(-14),  -1.13618293*np.exp(-14)])\n",
      "\n",
      "#structArray=np.array([-1.6001368 , -1.6001368 , -2.08065131, -2.06818762, -2.07367757,\n",
      "#       -2.06779168, -2.07260669, -2.08533436, -2.07112826, -2.06893266,\n",
      "#       -0.03859167, -0.03859167, -0.25919807, -0.66904303, -0.41571841,\n",
      "#       -0.76917468, -0.4483773 , -0.17544777, -1.03122022, -0.90581106,\n",
      "#       -3.46409689, -3.46409689, -2.83715218, -2.84817563, -2.8434598 ,\n",
      "#       -2.84773205, -2.84446398, -2.85001617, -2.83613622, -2.84402863])\n",
      "\n",
      "structArray=np.array([-2.76057316, -2.76057316, -2.76457185, -2.76070562, -2.76404226,\n",
      "       -2.76559214, -2.76115841, -2.76384123, -2.7665181 , -2.76507553,\n",
      "       -0.75150046, -0.75150046, -1.29326478, -0.63939864, -0.30699182,\n",
      "       -0.20248939, -0.59813403, -0.31789669, -0.15093033, -0.23838777,\n",
      "       -3.29331424, -3.29331424, -3.30462437, -3.28936554, -3.27383   ,\n",
      "       -3.26809435, -3.28753124, -3.27449558, -3.2650508 , -3.27010355])\n",
      "\n",
      "structArrayJ = np.array([-11.45706046, -11.45706046, -11.45706046, -11.45706046,\n",
      "       -11.45706046, -11.45706046, -11.45706046, -11.45706046,\n",
      "       -11.45706046, -11.45706046,  -0.44524438,  -0.44524438,\n",
      "        -0.44524438,  -0.44524438,  -0.44524438,  -0.44524438,\n",
      "        -0.44524438,  -0.44524438,  -0.44524438,  -0.44524438,\n",
      "        -4.7477771 ,  -4.7477771 ,  -4.7477771 ,  -4.7477771 ,\n",
      "        -4.7477771 ,  -4.7477771 ,  -4.7477771 ,  -4.7477771 ,\n",
      "        -4.7477771 ,  -4.7477771 ])\n",
      "\n",
      "print(\"The Structure Array is \\n {}\".format(structArray))\n",
      "# print np.split(structArray,3)[0],np.split(structArray,3)[1],np.split(structArray,3)[2]\n",
      "\n",
      "testTLin = np.linspace(0,1,10)\n",
      "\n",
      "print \"\\n \\n The plot is\"\n",
      "\n",
      "plt.figure(figsize=(10,6.18))\n",
      "plt.plot(testTLin,functionY(testTLin),'bs')\n",
      "plt.plot(testTLin,functionYNN(structArray[0],structArray[1],structArray[2],testTLin),'g^')\n",
      "plt.plot(testTLin,functionYNN(structArrayJ[0],structArrayJ[1],structArrayJ[2],testTLin),'r^')\n",
      "plt.yscale('log')\n",
      "plt.show()\n",
      "\n",
      "\n",
      "print functionY(testTLin), functionYNN(structArray[0],structArray[1],structArray[2],testTLin), functionYNN(structArrayJ[0],structArrayJ[1],structArrayJ[2],testTLin)\n"
     ],
     "language": "python",
     "metadata": {},
     "outputs": [
      {
       "output_type": "stream",
       "stream": "stdout",
       "text": [
        "The Structure Array is \n",
        " [-2.76057316 -2.76057316 -2.76457185 -2.76070562 -2.76404226 -2.76559214\n",
        " -2.76115841 -2.76384123 -2.7665181  -2.76507553 -0.75150046 -0.75150046\n",
        " -1.29326478 -0.63939864 -0.30699182 -0.20248939 -0.59813403 -0.31789669\n",
        " -0.15093033 -0.23838777 -3.29331424 -3.29331424 -3.30462437 -3.28936554\n",
        " -3.27383    -3.26809435 -3.28753124 -3.27449558 -3.2650508  -3.27010355]\n",
        "\n",
        " \n",
        " The plot is\n"
       ]
      },
      {
       "metadata": {},
       "output_type": "display_data",
       "png": "[encoded data removed]",
       "text": [
        "<matplotlib.figure.Figure at 0x10c6aa2d0>"
       ]
      },
      {
       "output_type": "stream",
       "stream": "stdout",
       "text": [
        "[ 1.          0.89483932  0.8007374   0.71653131  0.64118039  0.57375342\n",
        "  0.51341712  0.45942582  0.41111229  0.36787944] [ 1.          0.9864098   0.97976248  0.977466    0.97774723  0.97943312\n",
        "  0.98177449  0.98431254  0.9867818   0.98904198] [ 1.          0.99999623  0.99999789  0.99999911  0.99999967  0.99999988\n",
        "  0.99999996  0.99999999  1.          1.        ]\n"
       ]
      }
     ],
     "prompt_number": 124
    },
    {
     "cell_type": "code",
     "collapsed": false,
     "input": [],
     "language": "python",
     "metadata": {},
     "outputs": [],
     "prompt_number": 116
    },
    {
     "cell_type": "code",
     "collapsed": false,
     "input": [],
     "language": "python",
     "metadata": {},
     "outputs": [],
     "prompt_number": 116
    },
    {
     "cell_type": "code",
     "collapsed": false,
     "input": [],
     "language": "python",
     "metadata": {},
     "outputs": [],
     "prompt_number": 116
    },
    {
     "cell_type": "code",
     "collapsed": false,
     "input": [
      "## Test of Numpy\n",
      "temp1=np.asarray([1,2,3])\n",
      "temp2=np.asarray([4,5,6])\n",
      "temp3=np.asarray([7,8,9])\n",
      "temp1*temp2\n",
      "print 3*temp1\n",
      "temp1+temp2\n",
      "print temp1*temp2*temp3*temp1\n",
      "1/(1+np.exp(-temp1))\n",
      "temp1 + temp2\n",
      "[1,2] + [2,3]\n",
      "1 - 3*np.array([1,2])\n",
      "temp1**2"
     ],
     "language": "python",
     "metadata": {},
     "outputs": [
      {
       "output_type": "stream",
       "stream": "stdout",
       "text": [
        "[3 6 9]\n",
        "[ 28 160 486]\n"
       ]
      },
      {
       "metadata": {},
       "output_type": "pyout",
       "prompt_number": 117,
       "text": [
        "array([1, 4, 9])"
       ]
      }
     ],
     "prompt_number": 117
    },
    {
     "cell_type": "code",
     "collapsed": false,
     "input": [
      "1+np.asarray([1,2,3])"
     ],
     "language": "python",
     "metadata": {},
     "outputs": [
      {
       "metadata": {},
       "output_type": "pyout",
       "prompt_number": 118,
       "text": [
        "array([2, 3, 4])"
       ]
      }
     ],
     "prompt_number": 118
    },
    {
     "cell_type": "code",
     "collapsed": false,
     "input": [
      "def testfunction(v,w,u,t):\n",
      "    v = np.array(v)\n",
      "    w = np.array(w)\n",
      "    u = np.array(u)\n",
      "\n",
      "    return t*w + u\n",
      "\n",
      "    #return np.sum(v*trigf( t*w + u ))"
     ],
     "language": "python",
     "metadata": {},
     "outputs": [],
     "prompt_number": 119
    },
    {
     "cell_type": "code",
     "collapsed": false,
     "input": [
      "testfunction([2,3,4],[3,4,5],[4,5,7],2)"
     ],
     "language": "python",
     "metadata": {},
     "outputs": [
      {
       "metadata": {},
       "output_type": "pyout",
       "prompt_number": 120,
       "text": [
        "array([10, 13, 17])"
       ]
      }
     ],
     "prompt_number": 120
    },
    {
     "cell_type": "markdown",
     "metadata": {},
     "source": [
      "## A Even Simpler Equation"
     ]
    },
    {
     "cell_type": "markdown",
     "metadata": {},
     "source": [
      "Test a very simple equation\n",
      "$$\\frac{dy}{dx}=4x^3-3x^2+2,$$\n",
      "with initial condition $$y(0)=0.$$\n",
      "\n",
      "As in any case,\n",
      "$$y = \\text{Initial} + x_i v_k f(x_iw_k+u_k).$$\n",
      "\n",
      "$$\\frac{dy}{dx} = v_k f(x w_k+u_k) + t v_k f(x w_k+u_k) (1-f(xw_k+u_k))w_k,$$ where the function f is defined as a trigf()."
     ]
    },
    {
     "cell_type": "markdown",
     "metadata": {},
     "source": [
      "Cost is\n",
      "\n",
      "$$I = \\sum_i \\left(\\frac{dy}{dx}-(4x^2-3x^2+2) \\right)^2$$"
     ]
    },
    {
     "cell_type": "code",
     "collapsed": false,
     "input": [
      "def costS(v,w,u,x):\n",
      "    v = np.array(v)   # Don't know why but np.asarray(v) doesn't work here.\n",
      "    w = np.array(w)\n",
      "    u = np.array(u)\n",
      "    \n",
      "    fvec = np.array(trigf(x*w + u) )  # This is a vector!!!\n",
      "    yx = np.sum ( x * v * fvec  )  # For a given x, this calculates the value of y(t), given the parameters, v, w, u.\n",
      "    dySLASHdt = np.sum (v*fvec + x * v* fvec * ( 1 -  fvec  ) * w )\n",
      "    \n",
      "    return ( dySLASHdt - yx )**2"
     ],
     "language": "python",
     "metadata": {},
     "outputs": [],
     "prompt_number": 127
    },
    {
     "cell_type": "code",
     "collapsed": false,
     "input": [
      "costS(np.array([2,3,4]),[3,4,5],[4,5,7],4)"
     ],
     "language": "python",
     "metadata": {},
     "outputs": [
      {
       "metadata": {},
       "output_type": "pyout",
       "prompt_number": 128,
       "text": [
        "728.99981534981623"
       ]
      }
     ],
     "prompt_number": 128
    },
    {
     "cell_type": "code",
     "collapsed": false,
     "input": [
      "def costSTotal(v,w,u,x):\n",
      "    x = np.array(x)\n",
      "    costSt = 0\n",
      "    for temp in x:\n",
      "        costSt = costSt + costS(v,w,u,temp)\n",
      "        \n",
      "    return costSt\n",
      "\n",
      "print costSTotal([1,2,3],[2,3,2],[3,4,1],[1,2,3,4,5,2,6,1])"
     ],
     "language": "python",
     "metadata": {},
     "outputs": [
      {
       "output_type": "stream",
       "stream": "stdout",
       "text": [
        "2012.92454061\n"
       ]
      }
     ],
     "prompt_number": 149
    },
    {
     "cell_type": "code",
     "collapsed": false,
     "input": [
      "xlinS = np.linspace(0,1,10)\n",
      "print xlinS"
     ],
     "language": "python",
     "metadata": {},
     "outputs": [
      {
       "output_type": "stream",
       "stream": "stdout",
       "text": [
        "[ 0.          0.11111111  0.22222222  0.33333333  0.44444444  0.55555556\n",
        "  0.66666667  0.77777778  0.88888889  1.        ]\n"
       ]
      }
     ],
     "prompt_number": 150
    },
    {
     "cell_type": "code",
     "collapsed": false,
     "input": [
      "# This is only an example of 2dimensional neural network.\n",
      "costSTotalF = lambda x: costSTotal(np.split(x,3)[0],np.split(x,3)[1],np.split(x,3)[2],xlinS)\n",
      "\n",
      "# initGuessS = np.zeros(30)\n",
      "initGuessS = np.random.rand(1,30)+2\n",
      "# minimize(costTotalF,([1,0,3,0,1,1,2,0,1,0,1,0]),method=\"Nelder-Mead\")\n",
      "minimize(costSTotalF,(initGuessS),method=\"L-BFGS-B\")\n",
      "# minimize(costTotalF,([1,0,3,0,1,1,2,0,1,0,1,0]),method=\"TNC\")"
     ],
     "language": "python",
     "metadata": {},
     "outputs": [
      {
       "metadata": {},
       "output_type": "pyout",
       "prompt_number": 152,
       "text": [
        "  status: 0\n",
        " success: True\n",
        "    nfev: 17\n",
        "     fun: 7.7770975366250714e-07\n",
        "       x: array([ 0.01462306,  0.13467016,  0.43137834,  0.32915392,  0.16398891,\n",
        "       -0.36502654, -0.1943661 ,  0.16082714, -0.2923346 , -0.38280994,\n",
        "        2.23127245,  1.97866504,  2.95181241,  2.70643394,  2.19371603,\n",
        "        2.63386948,  2.20213407,  2.81089774,  2.43916804,  2.80375489,\n",
        "        2.32389017,  2.16118574,  2.7346048 ,  2.18630694,  2.19932286,\n",
        "        2.52525807,  2.22125577,  2.81758156,  2.27231039,  2.6118171 ])\n",
        " message: 'CONVERGENCE: REL_REDUCTION_OF_F_<=_FACTR*EPSMCH'\n",
        "     jac: array([ -1.07902612e-05,  -2.17226959e-05,   5.25662017e-06,\n",
        "         1.06070666e-05,  -1.19212014e-05,   1.06683438e-06,\n",
        "        -1.16054988e-05,   2.36679894e-07,  -1.97689694e-06,\n",
        "         4.30413691e-06,   5.80212698e-07,   6.14201262e-06,\n",
        "         1.00990381e-05,   1.38492811e-05,   7.29406651e-06,\n",
        "        -1.13419639e-05,  -8.47441724e-06,   3.61669574e-06,\n",
        "        -1.19176623e-05,  -1.05157662e-05,  -7.10195410e-08,\n",
        "         9.43579647e-07,  -1.02306666e-05,  -7.45395758e-06,\n",
        "        -3.62753538e-07,   6.57604252e-06,   5.45338181e-07,\n",
        "        -3.11725105e-06,   3.59285145e-06,   8.37082716e-06])\n",
        "     nit: 15"
       ]
      }
     ],
     "prompt_number": 152
    },
    {
     "cell_type": "code",
     "collapsed": false,
     "input": [
      "def functionSYNN(v,w,u,x): # t is a single scalar value\n",
      "\n",
      "    x = np.array(x)\n",
      "    \n",
      "    func = np.asarray([])\n",
      "    \n",
      "    for temp in x:\n",
      "        tempfunc = np.sum(temp * v * trigf( temp*w +u ) )\n",
      "        func = np.append(func, tempfunc)\n",
      "        \n",
      "    return np.array(func)\n",
      "\n",
      "def functionSY(x):\n",
      "\n",
      "    return x**4 - x**3 + 2*x"
     ],
     "language": "python",
     "metadata": {},
     "outputs": [],
     "prompt_number": 147
    },
    {
     "cell_type": "code",
     "collapsed": false,
     "input": [
      "# structArray=np.array([-1.77606225*np.exp(-01),  -3.52080053*np.exp(-01),  -1.77606225*np.exp(-01),\n",
      "#        -1.77606225*np.exp(-01),  -8.65246997*np.exp(-14),   1.00000000,\n",
      "#        -8.65246997*np.exp(-14),  -8.65246997*np.exp(-14),  -1.13618293*np.exp(-14),\n",
      "#        -7.57778017*np.exp(-16),  -1.13618293*np.exp(-14),  -1.13618293*np.exp(-14)])\n",
      "\n",
      "#structArray=np.array([-1.6001368 , -1.6001368 , -2.08065131, -2.06818762, -2.07367757,\n",
      "#       -2.06779168, -2.07260669, -2.08533436, -2.07112826, -2.06893266,\n",
      "#       -0.03859167, -0.03859167, -0.25919807, -0.66904303, -0.41571841,\n",
      "#       -0.76917468, -0.4483773 , -0.17544777, -1.03122022, -0.90581106,\n",
      "#       -3.46409689, -3.46409689, -2.83715218, -2.84817563, -2.8434598 ,\n",
      "#       -2.84773205, -2.84446398, -2.85001617, -2.83613622, -2.84402863])\n",
      "\n",
      "structArrayS=np.array([ 0.01462306,  0.13467016,  0.43137834,  0.32915392,  0.16398891,\n",
      "       -0.36502654, -0.1943661 ,  0.16082714, -0.2923346 , -0.38280994,\n",
      "        2.23127245,  1.97866504,  2.95181241,  2.70643394,  2.19371603,\n",
      "        2.63386948,  2.20213407,  2.81089774,  2.43916804,  2.80375489,\n",
      "        2.32389017,  2.16118574,  2.7346048 ,  2.18630694,  2.19932286,\n",
      "        2.52525807,  2.22125577,  2.81758156,  2.27231039,  2.6118171 ])\n",
      "\n",
      "\n",
      "print(\"The Structure Array is \\n {}\".format(structArray))\n",
      "# print np.split(structArray,3)[0],np.split(structArray,3)[1],np.split(structArray,3)[2]\n",
      "\n",
      "testXLinS = np.linspace(0,1,10)\n",
      "\n",
      "print \"\\n \\n The plot is\"\n",
      "\n",
      "plt.figure(figsize=(10,6.18))\n",
      "plt.plot(testXLinS,functionSY(testXLinS),'bs')\n",
      "plt.plot(testXLinS,functionSYNN(structArrayS[0],structArrayS[1],structArrayS[2],testXLinS),'g^')\n",
      "## plt.plot(testXLin,functionYNN(structArrayJ[0],structArrayJ[1],structArrayJ[2],testXLin),'r^')\n",
      "plt.show()\n",
      "\n",
      "\n",
      "print functionY(testXLinS), functionYNN(structArrayS[0],structArrayS[1],structArrayS[2],testXLinS)\n"
     ],
     "language": "python",
     "metadata": {},
     "outputs": [
      {
       "output_type": "stream",
       "stream": "stdout",
       "text": [
        "The Structure Array is \n",
        " [-2.76057316 -2.76057316 -2.76457185 -2.76070562 -2.76404226 -2.76559214\n",
        " -2.76115841 -2.76384123 -2.7665181  -2.76507553 -0.75150046 -0.75150046\n",
        " -1.29326478 -0.63939864 -0.30699182 -0.20248939 -0.59813403 -0.31789669\n",
        " -0.15093033 -0.23838777 -3.29331424 -3.29331424 -3.30462437 -3.28936554\n",
        " -3.27383    -3.26809435 -3.28753124 -3.27449558 -3.2650508  -3.27010355]\n",
        "\n",
        " \n",
        " The plot is\n"
       ]
      },
      {
       "metadata": {},
       "output_type": "display_data",
       "png": "[encoded data removed]",
       "text": [
        "<matplotlib.figure.Figure at 0x109b15710>"
       ]
      },
      {
       "output_type": "stream",
       "stream": "stdout",
       "text": [
        "[ 1.          0.89483932  0.8007374   0.71653131  0.64118039  0.57375342\n",
        "  0.51341712  0.45942582  0.41111229  0.36787944] [ 1.          1.00099074  1.00199304  1.00300682  1.00403204  1.00506863\n",
        "  1.00611652  1.00717565  1.00824594  1.00932733]\n"
       ]
      }
     ],
     "prompt_number": 153
    },
    {
     "cell_type": "code",
     "collapsed": false,
     "input": [],
     "language": "python",
     "metadata": {},
     "outputs": [],
     "prompt_number": 148
    },
    {
     "cell_type": "code",
     "collapsed": false,
     "input": [],
     "language": "python",
     "metadata": {},
     "outputs": []
    }
   ],
   "metadata": {}
  }
 ]
}