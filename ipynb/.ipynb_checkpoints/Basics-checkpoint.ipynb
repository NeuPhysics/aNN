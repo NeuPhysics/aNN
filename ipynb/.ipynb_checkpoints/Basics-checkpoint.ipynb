{
 "metadata": {
  "name": ""
 },
 "nbformat": 3,
 "nbformat_minor": 0,
 "worksheets": [
  {
   "cells": [
    {
     "cell_type": "markdown",
     "metadata": {},
     "source": [
      "## Artificial Neural Network"
     ]
    },
    {
     "cell_type": "markdown",
     "metadata": {},
     "source": [
      "Delta rule"
     ]
    },
    {
     "cell_type": "markdown",
     "metadata": {},
     "source": [
      "Balance bewteen 'speed' (Beta-coefficient) and 'momentum' of the learning"
     ]
    },
    {
     "cell_type": "markdown",
     "metadata": {},
     "source": [
      "Problems: over-trained or 'grandmothered' -> respond only to one set of problems"
     ]
    },
    {
     "cell_type": "markdown",
     "metadata": {},
     "source": [
      "### For References"
     ]
    },
    {
     "cell_type": "markdown",
     "metadata": {},
     "source": [
      "A very basic introduction: http://pages.cs.wisc.edu/~bolo/shipyard/neural/local.html"
     ]
    },
    {
     "cell_type": "markdown",
     "metadata": {},
     "source": [
      "### Code Practice"
     ]
    },
    {
     "cell_type": "code",
     "collapsed": false,
     "input": [
      "# This line configures matplotlib to show figures embedded in the notebook, \n",
      "# instead of opening a new window for each figure. More about that later. \n",
      "# If you are using an old version of IPython, try using '%pylab inline' instead.\n",
      "%matplotlib inline"
     ],
     "language": "python",
     "metadata": {},
     "outputs": [],
     "prompt_number": 1
    },
    {
     "cell_type": "markdown",
     "metadata": {},
     "source": [
      "#### Minimize An Expression"
     ]
    },
    {
     "cell_type": "code",
     "collapsed": false,
     "input": [
      "import numpy as np\n",
      "from scipy.optimize import minimize\n",
      "import matplotlib.pyplot as plt"
     ],
     "language": "python",
     "metadata": {},
     "outputs": [],
     "prompt_number": 2
    },
    {
     "cell_type": "markdown",
     "metadata": {},
     "source": [
      "This is a practice of minimizing an expression using [scipy.optimize.minimize()](http://docs.scipy.org/doc/scipy-0.14.0/reference/generated/scipy.optimize.minimize.html)"
     ]
    },
    {
     "cell_type": "code",
     "collapsed": false,
     "input": [
      "fun = lambda x: (x[0] - 1)**2 + (x[1] - 2.5)**2\n",
      "\n",
      "minimize(fun,(1,1),method=\"Nelder-Mead\")"
     ],
     "language": "python",
     "metadata": {},
     "outputs": [
      {
       "metadata": {},
       "output_type": "pyout",
       "prompt_number": 3,
       "text": [
        "  status: 0\n",
        "    nfev: 75\n",
        " success: True\n",
        "     fun: 1.9975780921330846e-09\n",
        "       x: array([ 1.00004371,  2.50000933])\n",
        " message: 'Optimization terminated successfully.'\n",
        "     nit: 39"
       ]
      }
     ],
     "prompt_number": 3
    },
    {
     "cell_type": "code",
     "collapsed": false,
     "input": [
      "def fun_jacf(x):\n",
      "    np.asarray(x)\n",
      "    return np.array([2*(x[0] - 1),2*(x[1] - 2.5)])\n",
      "\n",
      "minimize(fun,(1,1),method=\"BFGS\",jac=fun_jacf)"
     ],
     "language": "python",
     "metadata": {},
     "outputs": [
      {
       "metadata": {},
       "output_type": "pyout",
       "prompt_number": 4,
       "text": [
        "   status: 0\n",
        "  success: True\n",
        "     njev: 4\n",
        "     nfev: 4\n",
        " hess_inv: array([[ 1. ,  0. ],\n",
        "       [ 0. ,  0.5]])\n",
        "      fun: 0.0\n",
        "        x: array([ 1. ,  2.5])\n",
        "  message: 'Optimization terminated successfully.'\n",
        "      jac: array([ 0.,  0.])"
       ]
      }
     ],
     "prompt_number": 4
    },
    {
     "cell_type": "markdown",
     "metadata": {},
     "source": [
      "Here is a summary:\n",
      "\n",
      "1. The jac parameter should be an array. Feed an array to it. The array should be the gradient at point [x[0],x[1],...] for each of these variables.\n",
      "2. There are other minimizing methods here [http://scipy-lectures.github.io/advanced/mathematical_optimization/](http://scipy-lectures.github.io/advanced/mathematical_optimization/)."
     ]
    },
    {
     "cell_type": "markdown",
     "metadata": {},
     "source": [
      "#### ANN Solving A Simple Problem"
     ]
    },
    {
     "cell_type": "markdown",
     "metadata": {},
     "source": [
      "The problem to solve is the differential equation $$\\frac{d}{dt}y(t)=y(t)$$"
     ]
    },
    {
     "cell_type": "markdown",
     "metadata": {},
     "source": [
      "The procedures are\n",
      "\n",
      "**Deal with the function first.**\n",
      "   \n",
      "1. The cost is $$I=\\sum_i\\left( \\frac{dy_i}{dt}+y_i \\right).$$ Our purpose is to minimize this cost.\n",
      "   \n",
      "2. To calculate the differential of y, we can write down the explicit expression for it. $$\\frac{dy}{dt} = v_k f(t w_k+u_k) + t v_k f(tw_k+u_k) (1-f(tw_k+u_k)),$$ where the function f is defined as a trigf().\n",
      "\n",
      "3. So the cost becomse $$I = \\sum_i \\left(  v_k f(t w_k+u_k) + t v_k f(tw_k+u_k) (1-f(tw_k+u_k)) + y \\right).$$"
     ]
    },
    {
     "cell_type": "code",
     "collapsed": false,
     "input": [
      "def cost(v,w,u,t):\n",
      "    v = np.array(v)   # Don't know why but np.asarray(v) doesn't work here.\n",
      "    w = np.array(w)\n",
      "    u = np.array(u)\n",
      "    \n",
      "    return np.sum(v*trigf( t*w + u )  + t* v* trigf(t*w  + u) * ( 1 -  trigf( t*w +u)  ) * w + ( 1 +  t * v * trigf( t*w +u )   ) )\n",
      "    \n",
      "    # return np.sum(np.array( v*np.array( trigf( np.array( t*w ) + u ) ) )  +  np.array( t*np.array( v*np.array( trigf(np.array( t*w ) + u)) )  )  * ( 1 - np.array( trigf( np.array( t*w )+u) ) ) * w + ( 1 + np.array( t*np.array( v*np.array( trigf( np.array(t*w)+u ) ) ) ) ) ) # trigf() should return an array with the same length of the input."
     ],
     "language": "python",
     "metadata": {},
     "outputs": [],
     "prompt_number": 38
    },
    {
     "cell_type": "markdown",
     "metadata": {},
     "source": [
      "**Caution: a number times an array is not returned as array but instead as list. and list + list doesn't conserved the length of the list!**"
     ]
    },
    {
     "cell_type": "markdown",
     "metadata": {},
     "source": [
      "Define the trigf() next, usually we pick $$trigf(x)=\\frac{1}{1+\\exp(-x)}$$."
     ]
    },
    {
     "cell_type": "code",
     "collapsed": false,
     "input": [
      "def trigf(x):\n",
      "    return 1/(1+np.exp(x))"
     ],
     "language": "python",
     "metadata": {},
     "outputs": [],
     "prompt_number": 39
    },
    {
     "cell_type": "markdown",
     "metadata": {},
     "source": [
      "Test cost function:"
     ]
    },
    {
     "cell_type": "code",
     "collapsed": false,
     "input": [
      "print 3*[2,3]\n",
      "print 3*np.asarray([2,3])\n",
      "\n",
      "trigf(2*[2,3] + [1,1])"
     ],
     "language": "python",
     "metadata": {},
     "outputs": [
      {
       "output_type": "stream",
       "stream": "stdout",
       "text": [
        "[2, 3, 2, 3, 2, 3]\n",
        "[6 9]\n"
       ]
      },
      {
       "metadata": {},
       "output_type": "pyout",
       "prompt_number": 40,
       "text": [
        "array([ 0.11920292,  0.04742587,  0.11920292,  0.04742587,  0.26894142,\n",
        "        0.26894142])"
       ]
      }
     ],
     "prompt_number": 40
    },
    {
     "cell_type": "code",
     "collapsed": false,
     "input": [
      "cost(np.array([2,3,4]),[3,4,5],[4,5,7],2)"
     ],
     "language": "python",
     "metadata": {},
     "outputs": [
      {
       "metadata": {},
       "output_type": "pyout",
       "prompt_number": 41,
       "text": [
        "3.0008938802517156"
       ]
      }
     ],
     "prompt_number": 41
    },
    {
     "cell_type": "markdown",
     "metadata": {},
     "source": [
      "Next step is to optimize this cost. To do this we need the derivitive. But anyway let's try a simple minimization first."
     ]
    },
    {
     "cell_type": "code",
     "collapsed": false,
     "input": [
      "def costTotal(v,w,u,t):\n",
      "    t = np.array(t)\n",
      "    costt = 0\n",
      "    for temp in t:\n",
      "        costt = costt + cost(v,w,u,temp)\n",
      "        \n",
      "    return costt\n",
      "\n",
      "costtest = costTotal([1,2],[2,3],[3,4],[1,2])\n",
      "print costtest"
     ],
     "language": "python",
     "metadata": {},
     "outputs": [
      {
       "output_type": "stream",
       "stream": "stdout",
       "text": [
        "4.04297852226\n"
       ]
      }
     ],
     "prompt_number": 44
    },
    {
     "cell_type": "markdown",
     "metadata": {},
     "source": [
      "Suppose the parameters are five dimensional and we have 10 data points."
     ]
    },
    {
     "cell_type": "code",
     "collapsed": false,
     "input": [
      "t = np.linspace(1,10,10)"
     ],
     "language": "python",
     "metadata": {},
     "outputs": [],
     "prompt_number": 45
    },
    {
     "cell_type": "code",
     "collapsed": false,
     "input": [
      "fun = lambda x: (x[0] - 1)**2 + (x[1] - 2.5)**2\n",
      "\n",
      "costTotalF = lambda x: costTotal([x[0],x[1]],[x[2],x[3]],[x[4],x[5]],t)\n",
      "minimize(costTotalF,([1,1],[1,1],[1,1]),method=\"Nelder-Mead\")"
     ],
     "language": "python",
     "metadata": {},
     "outputs": [
      {
       "output_type": "stream",
       "stream": "stderr",
       "text": [
        "-c:2: RuntimeWarning: overflow encountered in exp\n"
       ]
      },
      {
       "metadata": {},
       "output_type": "pyout",
       "prompt_number": 48,
       "text": [
        "  status: 0\n",
        "    nfev: 1174\n",
        " success: True\n",
        "     fun: -1.674716684906557e+31\n",
        "       x: array([ -6.56137035e+15,   4.31453597e+12,   3.40318479e+15,\n",
        "         7.59166094e+15,  -1.02095544e+16,   2.19212420e+15])\n",
        " message: 'Optimization terminated successfully.'\n",
        "     nit: 586"
       ]
      }
     ],
     "prompt_number": 48
    },
    {
     "cell_type": "code",
     "collapsed": false,
     "input": [],
     "language": "python",
     "metadata": {},
     "outputs": []
    },
    {
     "cell_type": "code",
     "collapsed": false,
     "input": [],
     "language": "python",
     "metadata": {},
     "outputs": []
    },
    {
     "cell_type": "code",
     "collapsed": false,
     "input": [],
     "language": "python",
     "metadata": {},
     "outputs": []
    },
    {
     "cell_type": "code",
     "collapsed": false,
     "input": [
      "## Test of Numpy\n",
      "temp1=np.asarray([1,2,3])\n",
      "temp2=np.asarray([4,5,6])\n",
      "temp3=np.asarray([7,8,9])\n",
      "temp1*temp2\n",
      "print 3*temp1\n",
      "temp1+temp2\n",
      "print temp1*temp2*temp3*temp1\n",
      "1/(1+np.exp(temp1))\n",
      "temp1 + temp2\n",
      "[1,2] + [2,3]\n",
      "1 - 3*np.array([1,2])"
     ],
     "language": "python",
     "metadata": {},
     "outputs": [
      {
       "output_type": "stream",
       "stream": "stdout",
       "text": [
        "[3 6 9]\n",
        "[ 28 160 486]\n"
       ]
      },
      {
       "metadata": {},
       "output_type": "pyout",
       "prompt_number": 9,
       "text": [
        "array([-2, -5])"
       ]
      }
     ],
     "prompt_number": 9
    },
    {
     "cell_type": "code",
     "collapsed": false,
     "input": [
      "1+np.asarray([1,2,3])"
     ],
     "language": "python",
     "metadata": {},
     "outputs": []
    },
    {
     "cell_type": "code",
     "collapsed": false,
     "input": [
      "def testfunction(v,w,u,t):\n",
      "    v = np.array(v)\n",
      "    w = np.array(w)\n",
      "    u = np.array(u)\n",
      "\n",
      "    return t*w + u\n",
      "\n",
      "    #return np.sum(v*trigf( t*w + u ))"
     ],
     "language": "python",
     "metadata": {},
     "outputs": [],
     "prompt_number": 36
    },
    {
     "cell_type": "code",
     "collapsed": false,
     "input": [
      "testfunction([2,3,4],[3,4,5],[4,5,7],2)"
     ],
     "language": "python",
     "metadata": {},
     "outputs": [
      {
       "metadata": {},
       "output_type": "pyout",
       "prompt_number": 37,
       "text": [
        "array([10, 13, 17])"
       ]
      }
     ],
     "prompt_number": 37
    },
    {
     "cell_type": "code",
     "collapsed": false,
     "input": [],
     "language": "python",
     "metadata": {},
     "outputs": []
    }
   ],
   "metadata": {}
  }
 ]
}