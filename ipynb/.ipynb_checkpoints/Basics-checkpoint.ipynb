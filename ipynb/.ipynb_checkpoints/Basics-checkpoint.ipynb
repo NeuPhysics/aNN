{
 "cells": [
  {
   "cell_type": "markdown",
   "metadata": {},
   "source": [
    "## A Physicist's Crash Course on Artificial Neural Network"
   ]
  },
  {
   "cell_type": "markdown",
   "metadata": {},
   "source": [
    "### What is a Neuron"
   ]
  },
  {
   "cell_type": "markdown",
   "metadata": {},
   "source": [
    "What a neuron does is to response when a stimulation is given. This response could be strong or weak or even null. If I would draw a figure, of this behavior, it looks like this."
   ]
  },
  {
   "cell_type": "markdown",
   "metadata": {},
   "source": [
    "<img src=\"assets/images/neuronResponse.png\" width=100%>"
   ]
  },
  {
   "cell_type": "markdown",
   "metadata": {},
   "source": [
    "### Artificial Neural Network"
   ]
  },
  {
   "cell_type": "markdown",
   "metadata": {},
   "source": [
    "A simple network is a collection of neurons that response to stimulations, which could be the responses of other neurons.\n",
    "\n",
    "<img src=\"assets/images/neuralNetworkSimple.png\" width=100%>"
   ]
  },
  {
   "cell_type": "markdown",
   "metadata": {
    "collapsed": true
   },
   "source": [
    "A given input signal is spreaded onto three different neurons. The neurons respond to this signal sperately then summed together with different weights. In the language of math, given input $x$, output $y(x)$ is\n",
    "\n",
    "$$ y(x) = \\sum_{k=1}^{3} v_k * \\text{activation}( w_k * x + u_k )  $$\n",
    "\n",
    "where $\\text{activation}$ is the activation function, i.e., the response behavior of the neuron. This is a single layer structure."
   ]
  },
  {
   "cell_type": "markdown",
   "metadata": {
    "collapsed": true
   },
   "source": [
    "A lot of different ways could be used to extend this network. \n",
    "\n",
    "\n",
    "* Increase the number of neurons on one layer.\n",
    "* One can extend the number of layers.\n",
    "\n",
    "<img src=\"assets/images/multilayer.png\" width=100%>\n",
    "\n",
    "* We could also include interactions between the neurons.\n",
    "* Even memory can be simulated.\n",
    "\n"
   ]
  },
  {
   "cell_type": "markdown",
   "metadata": {},
   "source": [
    "### How it works"
   ]
  },
  {
   "cell_type": "markdown",
   "metadata": {},
   "source": [
    "Here is an exmaple of how the network works.\n",
    "\n",
    "Suppose we have only two neurons in the network.\n",
    "\n",
    "<img src=\"assets/images/2neuronNet.png\" width=100%>\n",
    "\n",
    "Seen from this example, we can expect neural network to be good at classification. With one neuron, we can do a classification too. For example we can choose proper parameters so that we have a input temperature and a output that tells us which is high temperature which is low temperature."
   ]
  },
  {
   "cell_type": "markdown",
   "metadata": {},
   "source": [
    "### Training"
   ]
  },
  {
   "cell_type": "markdown",
   "metadata": {},
   "source": [
    "We have got a lot of paramters with the set up of the network. The parameters are the degree of freedom we have. **The question is how to get the right paramters.**"
   ]
  },
  {
   "cell_type": "markdown",
   "metadata": {},
   "source": [
    "The Network NEEDS TRAINING. Just like human learning, the neural network have to be trained using prepared data. One example would be\n",
    "\n"
   ]
  },
  {
   "cell_type": "code",
   "execution_count": 5,
   "metadata": {
    "collapsed": false
   },
   "outputs": [
    {
     "name": "stdout",
     "output_type": "stream",
     "text": [
      "[ 0.  1.  2.  3.  4.  5.  6.  7.  8.  9.] [  1.00000000e+00   3.67879441e-01   1.35335283e-01   4.97870684e-02\n",
      "   1.83156389e-02   6.73794700e-03   2.47875218e-03   9.11881966e-04\n",
      "   3.35462628e-04   1.23409804e-04]\n"
     ]
    }
   ],
   "source": [
    "import numpy as np\n",
    "print np.linspace(0,9,10), np.exp(-np.linspace(0,9,10))"
   ]
  },
  {
   "cell_type": "markdown",
   "metadata": {},
   "source": []
  },
  {
   "cell_type": "markdown",
   "metadata": {},
   "source": [
    "Balance bewteen 'speed' (Beta-coefficient) and 'momentum' of the learning"
   ]
  },
  {
   "cell_type": "markdown",
   "metadata": {},
   "source": [
    "Problems: over-trained or 'grandmothered' -> respond only to one set of problems"
   ]
  },
  {
   "cell_type": "markdown",
   "metadata": {},
   "source": [
    "### For References"
   ]
  },
  {
   "cell_type": "markdown",
   "metadata": {},
   "source": [
    "A very basic introduction: http://pages.cs.wisc.edu/~bolo/shipyard/neural/local.html"
   ]
  },
  {
   "cell_type": "markdown",
   "metadata": {},
   "source": [
    "### Code Practice"
   ]
  },
  {
   "cell_type": "code",
   "execution_count": 3,
   "metadata": {
    "collapsed": false
   },
   "outputs": [],
   "source": [
    "# This line configures matplotlib to show figures embedded in the notebook, \n",
    "# instead of opening a new window for each figure. More about that later. \n",
    "# If you are using an old version of IPython, try using '%pylab inline' instead.\n",
    "%matplotlib inline\n",
    "\n",
    "from scipy.optimize import minimize\n",
    "from scipy.special import expit\n",
    "import matplotlib.pyplot as plt\n",
    "\n",
    "import timeit"
   ]
  },
  {
   "cell_type": "markdown",
   "metadata": {},
   "source": [
    "#### Minimize An Expression"
   ]
  },
  {
   "cell_type": "markdown",
   "metadata": {},
   "source": [
    "This is a practice of minimizing an expression using [scipy.optimize.minimize()](http://docs.scipy.org/doc/scipy-0.14.0/reference/generated/scipy.optimize.minimize.html)"
   ]
  },
  {
   "cell_type": "code",
   "execution_count": 46,
   "metadata": {
    "collapsed": false
   },
   "outputs": [
    {
     "data": {
      "text/plain": [
       "  status: 0\n",
       "    nfev: 81\n",
       " success: True\n",
       "     fun: 1.5843480821317829e-09\n",
       "       x: array([ 0.99996082,  2.49999298])\n",
       " message: 'Optimization terminated successfully.'\n",
       "     nit: 42"
      ]
     },
     "execution_count": 46,
     "metadata": {},
     "output_type": "execute_result"
    }
   ],
   "source": [
    "fun = lambda x: (x[0] - 1)**2 + (x[1] - 2.5)**2\n",
    "\n",
    "minimize(fun,(2,1),method=\"Nelder-Mead\")"
   ]
  },
  {
   "cell_type": "code",
   "execution_count": 47,
   "metadata": {
    "collapsed": false
   },
   "outputs": [
    {
     "data": {
      "text/plain": [
       "   status: 0\n",
       "  success: True\n",
       "     njev: 4\n",
       "     nfev: 4\n",
       " hess_inv: array([[ 0.84615385,  0.23076923],\n",
       "       [ 0.23076923,  0.65384615]])\n",
       "      fun: 0.0\n",
       "        x: array([ 1. ,  2.5])\n",
       "  message: 'Optimization terminated successfully.'\n",
       "      jac: array([ 0.,  0.])"
      ]
     },
     "execution_count": 47,
     "metadata": {},
     "output_type": "execute_result"
    }
   ],
   "source": [
    "def fun_jacf(x):\n",
    "    np.asarray(x)\n",
    "    return np.array([2*(x[0] - 1),2*(x[1] - 2.5)])\n",
    "\n",
    "minimize(fun,(2,1),method=\"BFGS\",jac=fun_jacf)"
   ]
  },
  {
   "cell_type": "markdown",
   "metadata": {},
   "source": [
    "Here is a summary:\n",
    "\n",
    "1. The jac parameter should be an array. Feed an array to it. The array should be the gradient at point [x[0],x[1],...] for each of these variables.\n",
    "2. There are other minimizing methods here [http://scipy-lectures.github.io/advanced/mathematical_optimization/](http://scipy-lectures.github.io/advanced/mathematical_optimization/)."
   ]
  },
  {
   "cell_type": "markdown",
   "metadata": {},
   "source": [
    "#### ANN Solving A Simple Problem"
   ]
  },
  {
   "cell_type": "markdown",
   "metadata": {},
   "source": [
    "The problem to solve is the differential equation $$\\frac{d}{dt}y(t)= - y(t).$$ Using the network, this is $$y_i= 1+t_i v_k f(t_i w_k+u_k).$$"
   ]
  },
  {
   "cell_type": "markdown",
   "metadata": {},
   "source": [
    "The procedures are\n",
    "\n",
    "**Deal with the function first.**\n",
    "   \n",
    "1. The cost is $$I=\\sum_i\\left( \\frac{dy_i}{dt}+y_i \\right)^2.$$ Our purpose is to minimize this cost.\n",
    "   \n",
    "2. To calculate the differential of y, we can write down the explicit expression for it. $$\\frac{dy}{dt} = v_k f(t w_k+u_k) + t v_k f(tw_k+u_k) (1-f(tw_k+u_k))w_k,$$ where the function f is defined as a trigf().\n",
    "\n",
    "3. So the cost becomse $$I = \\sum_i \\left(  v_k f(t w_k+u_k) + t v_k f(tw_k+u_k) (1-f(tw_k+u_k)) w_k + y \\right)^2.$$"
   ]
  },
  {
   "cell_type": "code",
   "execution_count": 48,
   "metadata": {
    "collapsed": false
   },
   "outputs": [],
   "source": [
    "def cost(v,w,u,t):\n",
    "    v = np.array(v)   # Don't know why but np.asarray(v) doesn't work here.\n",
    "    w = np.array(w)\n",
    "    u = np.array(u)\n",
    "    \n",
    "    fvec = np.array(trigf(t*w + u) )  # This is a vector!!!\n",
    "    yt = 1 + np.sum ( t * v * fvec  )  # For a given t, this calculates the value of y(t), given the parameters, v, w, u.\n",
    "    \n",
    "    return  ( np.sum (v*fvec + t * v* fvec * ( 1 -  fvec  ) * w ) + yt )   ** 2\n",
    "    \n",
    "    # return np.sum(np.array( v*np.array( trigf( np.array( t*w ) + u ) ) )  +  np.array( t*np.array( v*np.array( trigf(np.array( t*w ) + u)) )  )  * ( 1 - np.array( trigf( np.array( t*w )+u) ) ) * w + ( 1 + np.array( t*np.array( v*np.array( trigf( np.array(t*w)+u ) ) ) ) ) ) # trigf() should return an array with the same length of the input."
   ]
  },
  {
   "cell_type": "markdown",
   "metadata": {},
   "source": [
    "**Caution: a number times an array is not returned as array but instead as list. and list + list doesn't conserved the length of the list!**"
   ]
  },
  {
   "cell_type": "markdown",
   "metadata": {},
   "source": [
    "Define the trigf() next, usually we use $$trigf(x)=\\frac{1}{1+\\exp(-x)}$$."
   ]
  },
  {
   "cell_type": "code",
   "execution_count": 49,
   "metadata": {
    "collapsed": false
   },
   "outputs": [],
   "source": [
    "def trigf(x):\n",
    "    #return 1/(1+np.exp(-x)) #\n",
    "    return expit(x)"
   ]
  },
  {
   "cell_type": "markdown",
   "metadata": {},
   "source": [
    "Test cost function:"
   ]
  },
  {
   "cell_type": "code",
   "execution_count": 50,
   "metadata": {
    "collapsed": false
   },
   "outputs": [
    {
     "data": {
      "text/plain": [
       "43.556874613889988"
      ]
     },
     "execution_count": 50,
     "metadata": {},
     "output_type": "execute_result"
    }
   ],
   "source": [
    "test11 = np.ones(30)\n",
    "cost(np.array([1,1,1]),[1,1,1],[1,1,1],1)"
   ]
  },
  {
   "cell_type": "markdown",
   "metadata": {},
   "source": [
    "Next step is to optimize this cost. To do this we need the derivitive. But anyway let's try a simple minimization first."
   ]
  },
  {
   "cell_type": "code",
   "execution_count": 51,
   "metadata": {
    "collapsed": false
   },
   "outputs": [],
   "source": [
    "def costTotal(v,w,u,t):\n",
    "    t = np.array(t)\n",
    "    costt = 0\n",
    "    for temp in t:\n",
    "        costt = costt + cost(v,w,u,temp)\n",
    "        \n",
    "    return costt\n",
    "\n"
   ]
  },
  {
   "cell_type": "markdown",
   "metadata": {},
   "source": [
    "Test total cost"
   ]
  },
  {
   "cell_type": "code",
   "execution_count": 52,
   "metadata": {
    "collapsed": false
   },
   "outputs": [
    {
     "name": "stdout",
     "output_type": "stream",
     "text": [
      "516.579515858\n",
      "455.812570558\n"
     ]
    }
   ],
   "source": [
    "test11 = np.ones(30)\n",
    "tlintest = np.linspace(0,1,2)\n",
    "print costTotal(np.ones(10),np.ones(10),2*np.ones(10),tlintest)\n",
    "print costTotal(np.ones(10),np.ones(10),np.ones(10),tlintest)"
   ]
  },
  {
   "cell_type": "markdown",
   "metadata": {},
   "source": [
    "Suppose the parameters are five dimensional and we have 10 data points."
   ]
  },
  {
   "cell_type": "code",
   "execution_count": 53,
   "metadata": {
    "collapsed": false
   },
   "outputs": [
    {
     "name": "stdout",
     "output_type": "stream",
     "text": [
      "[ 0.   0.5  1.   1.5  2.   2.5  3.   3.5  4.   4.5  5. ]\n"
     ]
    }
   ],
   "source": [
    "tlin = np.linspace(0,5,11)\n",
    "print tlin"
   ]
  },
  {
   "cell_type": "markdown",
   "metadata": {},
   "source": [
    "Define a list divier that splits an array into three arrays."
   ]
  },
  {
   "cell_type": "code",
   "execution_count": 54,
   "metadata": {
    "collapsed": false
   },
   "outputs": [
    {
     "data": {
      "text/plain": [
       "array([ 0.,  0.,  0.,  0.,  0.,  0.,  0.,  0.,  0.,  0.,  0.,  0.,  0.,\n",
       "        0.,  0.,  0.,  0.,  0.,  0.,  0.,  0.,  0.,  0.,  0.,  0.,  0.,\n",
       "        0.,  0.,  0.,  0.])"
      ]
     },
     "execution_count": 54,
     "metadata": {},
     "output_type": "execute_result"
    }
   ],
   "source": [
    "## No need to define such a function! Use np.split(x,3) instead.\n",
    "np.zeros(30)"
   ]
  },
  {
   "cell_type": "code",
   "execution_count": 55,
   "metadata": {
    "collapsed": false,
    "slideshow": {
     "slide_type": "slide"
    }
   },
   "outputs": [
    {
     "name": "stdout",
     "output_type": "stream",
     "text": [
      "10.0957489014\n"
     ]
    }
   ],
   "source": [
    "# This is only an example of 2dimensional neural network.\n",
    "costTotalF = lambda x: costTotal(np.split(x,3)[0],np.split(x,3)[1],np.split(x,3)[2],tlin)\n",
    "\n",
    "initGuess = np.zeros(30)\n",
    "# initGuess = np.random.rand(1,30)+2\n",
    "start1 = timeit.default_timer()\n",
    "minimize(costTotalF,initGuess,method=\"Nelder-Mead\")\n",
    "# minimize(costTotalF,initGuess,method=\"L-BFGS-B\")\n",
    "# minimize(costTotalF,initGuess,method=\"TNC\")\n",
    "stop1 = timeit.default_timer()\n",
    "\n",
    "print stop1 - start1"
   ]
  },
  {
   "cell_type": "markdown",
   "metadata": {},
   "source": [
    "It shows that the minimization depends greatly on the initial guess. It is not true for a simple scenario with gradient descent however it could be the case if the landscape is too complicated."
   ]
  },
  {
   "cell_type": "markdown",
   "metadata": {},
   "source": [
    "##### Use Jac"
   ]
  },
  {
   "cell_type": "markdown",
   "metadata": {},
   "source": [
    "I can define a function that deals with this part:\n",
    "$$M = v_k f(t w_k+u_k) + t v_k f(tw_k+u_k) (1-f(tw_k+u_k))w_k + y,$$\n",
    "which is actually an array given an array input.\n",
    "\n",
    "So the cost is\n",
    "$$I = M_i M_i,$$ using summation rule.\n",
    "\n",
    "The derivative is always\n",
    "$$\\partial_X I = 2 M_i \\partial_X M_i .$$\n",
    "\n",
    "So we have $$\\partial_{w_{k'}}f(tw_k+u_k) = f(t w_k+u_k) (1 - f(t w_k+u_k) ) t . $$\n",
    "$$\\partial_{u_{k'}}f(t w_k+u_k) = f(t w_k+u_k) (1 - f(t w_k+u_k) ) . $$\n",
    "\n",
    "One of the useful relation is $$\\frac{df(x)}{dx} = f(x)(1-f(x)).$$\n",
    "\n",
    "Derived by hand, the jac is a list of the following\n",
    "for $v_\\alpha$ (Note that the k in this expression should be $\\alpha$ and no summation should be done.) (**double checked**):\n",
    "$$2M_i(f(tw_{k'}+u_{k'}) +t f(tw_{k'}+u_{k'})(1-f(tw_{k'}+u_{k'}))w_{k'} + tf(tw_{k'} +u_{k'} )),$$\n",
    "\n",
    "for $w_\\alpha$ (Note that the k in this expression should be $\\alpha$ and no summation should be done.) (**double checked**):\n",
    "$$2M_i(  v_{k'}tf(1-f) + t v_{k'}f(1-f)*t*(1-f) w_{k'} - t v_{k'} f f(1-f ) t  w_{k'}  + tv_{k'} f(1-f) + t v_{k'} f(')( 1 - f(') ) t  ),$$\n",
    "\n",
    "for $u_\\alpha$ (Note that the k in this expression should be $\\alpha$ and no summation should be done.) (**double checked**):\n",
    "$$v_{k'} f(1-f) + t v_{k'} f(1-f) (1-f)w_{k'} - t v_{k'} f f(1-f) w_{k'} + t v_{k'} f(1-f) .$$\n",
    "\n",
    "where $k'$ is not summed over."
   ]
  },
  {
   "cell_type": "markdown",
   "metadata": {},
   "source": [
    "Define a help function M here:"
   ]
  },
  {
   "cell_type": "code",
   "execution_count": 56,
   "metadata": {
    "collapsed": false
   },
   "outputs": [],
   "source": [
    "def mhelper(v,w,u,t): ## This function should output a result ## t is a number in this function not array!!\n",
    "    v = np.array(v)\n",
    "    w = np.array(w)\n",
    "    u = np.array(u)\n",
    "    \n",
    "    return np.sum( v*trigf( t*w + u )  + t* v* trigf(t*w  + u) * ( 1 -  trigf( t*w +u)  ) * w ) + ( 1 +  np.sum( t * v * trigf( t*w +u ) )  )  \n",
    "    # Checked # Pass\n",
    "    \n",
    "def vhelper(v,w,u,t):\n",
    "    v = np.array(v)\n",
    "    w = np.array(w)\n",
    "    u = np.array(u)\n",
    "    \n",
    "    return trigf(t*w+u) + t*trigf(t*w+u)*( 1-trigf(t*w+u) )*w + t*trigf(t*w+u)\n",
    "\n",
    "def whelper(v,w,u,t):\n",
    "    v = np.array(v)\n",
    "    w = np.array(w)\n",
    "    u = np.array(u)\n",
    "    \n",
    "    return v*t*trigf(t*w+u)*( 1- trigf(t*w+u) ) + t*v*( trigf(t*w+u)*(1-trigf(t*w+u))*t* (1-trigf(t*w+u)) )*w - t*v*trigf(t*w+u)*trigf(t*w+u)*(1-trigf(t*w+u))*t*w + t*v*trigf(t*w+u)*(1-trigf(t*w+u))  + t*v*trigf(t*w+u)*(1-trigf(t*w+u))*t    \n",
    "\n",
    "def uhelper(v,w,u,t):\n",
    "    v = np.array(v)\n",
    "    w = np.array(w)\n",
    "    u = np.array(u)\n",
    "    \n",
    "    return v*trigf(t*w+u)*( 1 - trigf(t*w+u)) + t* v * trigf(t*w+u) * (1-trigf(t*w+u))*(1-trigf(t*w+u))*w - t*v*trigf(t*w+u)*trigf(t*w+u)*(1-trigf(t*w+u))*w + t*v*trigf(t*w+u)*(1-trigf(t*w+u))\n"
   ]
  },
  {
   "cell_type": "code",
   "execution_count": 57,
   "metadata": {
    "collapsed": false
   },
   "outputs": [
    {
     "data": {
      "text/plain": [
       "7.0017275337961387"
      ]
     },
     "execution_count": 57,
     "metadata": {},
     "output_type": "execute_result"
    }
   ],
   "source": [
    "mhelper([1,2],[2,3],[3,4],[1])"
   ]
  },
  {
   "cell_type": "code",
   "execution_count": 58,
   "metadata": {
    "collapsed": false
   },
   "outputs": [
    {
     "data": {
      "text/plain": [
       "array([ 1.99991041,  3.00013618])"
      ]
     },
     "execution_count": 58,
     "metadata": {},
     "output_type": "execute_result"
    }
   ],
   "source": [
    "vhelper([1,2],[2,3],[3,4],[1,2])"
   ]
  },
  {
   "cell_type": "markdown",
   "metadata": {},
   "source": [
    "Define the jac of cost function"
   ]
  },
  {
   "cell_type": "code",
   "execution_count": 59,
   "metadata": {
    "collapsed": false
   },
   "outputs": [],
   "source": [
    "def mhelperT(v,w,u,t):\n",
    "    t = np.array(t)\n",
    "    mhelperT = 0\n",
    "    \n",
    "    for temp in t:\n",
    "        mhelperT = mhelperT + mhelper(v,w,u,temp)\n",
    "        \n",
    "    return mhelperT\n",
    "\n",
    "def vhelperT(v,w,u,t):\n",
    "    t = np.array(t)\n",
    "    vhelperT = 0\n",
    "    \n",
    "    for temp in t:\n",
    "        vhelperT = vhelperT + vhelper(v,w,u,temp)\n",
    "        \n",
    "    return vhelperT\n",
    "\n",
    "def whelperT(v,w,u,t):\n",
    "    t = np.array(t)\n",
    "    whelperT = 0\n",
    "    \n",
    "    for temp in t:\n",
    "        whelperT = whelperT + whelper(v,w,u,temp)\n",
    "        \n",
    "    return whelperT\n",
    "\n",
    "\n",
    "def uhelperT(v,w,u,t):\n",
    "    t = np.array(t)\n",
    "    uhelperT = 0\n",
    "    \n",
    "    for temp in t:\n",
    "        uhelperT = uhelperT + uhelper(v,w,u,temp)\n",
    "        \n",
    "    return uhelperT\n",
    "\n",
    "\n",
    "def costJac(v,w,u,t):\n",
    "    v = np.array(v)\n",
    "    w = np.array(w)\n",
    "    u = np.array(u)\n",
    "    \n",
    "    vout = 0\n",
    "    wout = 0\n",
    "    uout = 0\n",
    "    \n",
    "    for temp in t:\n",
    "        vout = vout + 2*mhelper(v,w,u,temp)*vhelper(v,w,u,temp)\n",
    "        wout = wout + 2*mhelper(v,w,u,temp)*whelper(v,w,u,temp)\n",
    "        uout = uout + 2*mhelper(v,w,u,temp)*uhelper(v,w,u,temp)\n",
    "    \n",
    "    out = np.hstack((vout,wout,uout))\n",
    "    \n",
    "    return np.array(out)\n",
    "\n"
   ]
  },
  {
   "cell_type": "code",
   "execution_count": 60,
   "metadata": {
    "collapsed": false
   },
   "outputs": [
    {
     "name": "stdout",
     "output_type": "stream",
     "text": [
      "[-0.00097219 -0.00210542] 7.0017275338 [  6.82603448e-03   9.95109712e-06] [ 1.99991041  2.00090856]\n"
     ]
    }
   ],
   "source": [
    "print uhelperT([1,2],[2,3],[3,4],[1,2,3]),mhelperT([1,2],[2,3],[3,4],[1]),whelperT([1,2],[2,3],[3,4],[1]),vhelperT([1,2],[2,3],[3,4],[1])"
   ]
  },
  {
   "cell_type": "code",
   "execution_count": 61,
   "metadata": {
    "collapsed": false
   },
   "outputs": [
    {
     "data": {
      "text/plain": [
       "array([  1.65704329e+02,   1.65700886e+02,   1.64940613e+02,\n",
       "         1.77254265e-01,  -1.35249788e-02,   5.86245567e+00,\n",
       "        -2.96931862e-02,  -5.72180560e-02,   2.19879196e+00])"
      ]
     },
     "execution_count": 61,
     "metadata": {},
     "output_type": "execute_result"
    }
   ],
   "source": [
    "costJac([1,2,3],[2,3,1],[3,4,3],[1,2])"
   ]
  },
  {
   "cell_type": "code",
   "execution_count": 62,
   "metadata": {
    "collapsed": false
   },
   "outputs": [
    {
     "data": {
      "text/plain": [
       "  status: 0\n",
       " success: True\n",
       "    njev: 119106\n",
       "    nfev: 702\n",
       "     fun: 0.09384196430775571\n",
       "       x: array([-57.2424592 , -57.2424592 , -57.2424592 , -57.2424592 ,\n",
       "       -57.2424592 , -57.2424592 , -57.2424592 , -57.2424592 ,\n",
       "       -57.2424592 , -57.2424592 ,  -0.28879104,  -0.28879104,\n",
       "        -0.28879104,  -0.28879104,  -0.28879104,  -0.28879104,\n",
       "        -0.28879104,  -0.28879104,  -0.28879104,  -0.28879104,\n",
       "        -6.5643978 ,  -6.5643978 ,  -6.5643978 ,  -6.5643978 ,\n",
       "        -6.5643978 ,  -6.5643978 ,  -6.5643978 ,  -6.5643978 ,\n",
       "        -6.5643978 ,  -6.5643978 ])\n",
       " message: 'Optimization terminated successfully.'\n",
       "    nhev: 0\n",
       "     jac: array([  2.96741791e-07,   2.96741791e-07,   2.96741791e-07,\n",
       "         2.96741791e-07,   2.96741791e-07,   2.96741791e-07,\n",
       "         2.96741791e-07,   2.96741791e-07,   2.96741791e-07,\n",
       "         2.96741791e-07,  -4.00804135e-07,  -4.00804135e-07,\n",
       "        -4.00804135e-07,  -4.00804135e-07,  -4.00804135e-07,\n",
       "        -4.00804135e-07,  -4.00804135e-07,  -4.00804135e-07,\n",
       "        -4.00804135e-07,  -4.00804135e-07,  -1.03677557e-07,\n",
       "        -1.03677557e-07,  -1.03677557e-07,  -1.03677557e-07,\n",
       "        -1.03677557e-07,  -1.03677557e-07,  -1.03677557e-07,\n",
       "        -1.03677557e-07,  -1.03677557e-07,  -1.03677557e-07])"
      ]
     },
     "execution_count": 62,
     "metadata": {},
     "output_type": "execute_result"
    }
   ],
   "source": [
    "costJacF = lambda x: costJac(np.split(x,3)[0],np.split(x,3)[1],np.split(x,3)[2],tlin)\n",
    "initGuessJ = np.zeros(30)\n",
    "# initGuessJ = np.random.rand(1,30)+2\n",
    "minimize(costTotalF,initGuessJ,method=\"Newton-CG\",jac=costJacF)"
   ]
  },
  {
   "cell_type": "markdown",
   "metadata": {},
   "source": [
    "##### Test Results"
   ]
  },
  {
   "cell_type": "markdown",
   "metadata": {},
   "source": [
    "Plot!"
   ]
  },
  {
   "cell_type": "code",
   "execution_count": 73,
   "metadata": {
    "collapsed": false
   },
   "outputs": [
    {
     "name": "stdout",
     "output_type": "stream",
     "text": [
      "0.0 1.0\n",
      "0.5 0.651207776646\n",
      "1.0 0.396110083829\n",
      "1.5 0.215847617475\n",
      "2.0 0.0949296115299\n",
      "2.5 0.0206715817532\n",
      "3.0 -0.0172773803624\n",
      "3.5 -0.0273314702868\n",
      "4.0 -0.0163008874018\n",
      "4.5 0.0103296285809\n",
      "5.0 0.048167966065\n"
     ]
    },
    {
     "data": {
      "image/png": "[encoded data removed]",
      "text/plain": [
       "<matplotlib.figure.Figure at 0x107108090>"
      ]
     },
     "metadata": {},
     "output_type": "display_data"
    }
   ],
   "source": [
    "# funYNN(np.ones(10),np.ones(10),np.ones(10),2)\n",
    "test13=np.array([-57.2424592 , -57.2424592 , -57.2424592 , -57.2424592 ,\n",
    "       -57.2424592 , -57.2424592 , -57.2424592 , -57.2424592 ,\n",
    "       -57.2424592 , -57.2424592 ,  -0.28879104,  -0.28879104,\n",
    "        -0.28879104,  -0.28879104,  -0.28879104,  -0.28879104,\n",
    "        -0.28879104,  -0.28879104,  -0.28879104,  -0.28879104,\n",
    "        -6.5643978 ,  -6.5643978 ,  -6.5643978 ,  -6.5643978 ,\n",
    "        -6.5643978 ,  -6.5643978 ,  -6.5643978 ,  -6.5643978 ,\n",
    "        -6.5643978 ,  -6.5643978 ])\n",
    "\n",
    "for i in np.linspace(0,5,11):\n",
    "    print i,functionYNN(np.split(test13,3)[0],np.split(test13,3)[1],np.split(test13,3)[2],np.array([i]))[0]\n",
    "    \n",
    "temp14 = np.array([])\n",
    "for i in np.linspace(0,5,11):\n",
    "    temp14 = np.append(temp14,functionYNN(np.split(test13,3)[0],np.split(test13,3)[1],np.split(test13,3)[2],np.array([i]))[0])\n",
    "\n",
    "testTLin = np.linspace(0,5,11)\n",
    "plt.figure(figsize=(10,6.18))\n",
    "plt.plot(testTLin,functionY(testTLin),'bs')\n",
    "plt.plot(testTLin,temp14,'r-')\n",
    "plt.show()\n"
   ]
  },
  {
   "cell_type": "code",
   "execution_count": null,
   "metadata": {
    "collapsed": false
   },
   "outputs": [],
   "source": [
    "temp16 = np.array([1.,0.60129567,  0.36281265 , 0.22220159 , 0.13660321,0.08295538 , 0.04904239  ,0.02817984 , 0.01636932 , 0.01048201,  0.00741816])"
   ]
  },
  {
   "cell_type": "code",
   "execution_count": null,
   "metadata": {
    "collapsed": false
   },
   "outputs": [],
   "source": [
    "temp15 = np.linspace(0,5,11)\n",
    "print temp15\n",
    "\n",
    "\n",
    "plt.plot(temp15,temp16)\n",
    "plt.plot(temp15,functionY(temp15),'bs')\n",
    "plt.show()"
   ]
  },
  {
   "cell_type": "code",
   "execution_count": null,
   "metadata": {
    "collapsed": false
   },
   "outputs": [],
   "source": [
    "test17 = np.array([])\n",
    "\n",
    "for temp in np.linspace(0,5,11):\n",
    "    test171 = 1 +  expit(10*temp)\n",
    "    test17 = np.append(test17,test171)\n",
    "\n",
    "\n",
    "print np.array(test17)\n",
    "1 +  expit(10*0)"
   ]
  },
  {
   "cell_type": "code",
   "execution_count": 68,
   "metadata": {
    "collapsed": false
   },
   "outputs": [
    {
     "name": "stdout",
     "output_type": "stream",
     "text": [
      "\n"
     ]
    }
   ],
   "source": [
    "def functionYNNSt(v,w,u,t): # t is a single scalar value\n",
    "    \n",
    "    t = np.array(t)\n",
    "    \n",
    "    return 1 +  np.sum(t * v * trigf( t*w +u ) )\n",
    "\n",
    "\n",
    "\n",
    "def functionYNN(v,w,u,t):\n",
    "\n",
    "    t = np.array(t)\n",
    "    \n",
    "    func = np.asarray([])\n",
    "    \n",
    "    for temp in t:\n",
    "        func = np.append(func, functionYNNSt(v,w,u,temp) )\n",
    "        \n",
    "    return np.array(func)\n",
    "\n",
    "def functionY(t):\n",
    "\n",
    "    return np.exp(-t)"
   ]
  },
  {
   "cell_type": "code",
   "execution_count": null,
   "metadata": {
    "collapsed": false
   },
   "outputs": [],
   "source": [
    "print functionYNN(np.array([1,2]),np.array([1,2]),np.array([1,2]),tlin)"
   ]
  },
  {
   "cell_type": "code",
   "execution_count": null,
   "metadata": {
    "collapsed": false
   },
   "outputs": [],
   "source": [
    "# structArray=np.array([-1.77606225*np.exp(-01),  -3.52080053*np.exp(-01),  -1.77606225*np.exp(-01),\n",
    "#        -1.77606225*np.exp(-01),  -8.65246997*np.exp(-14),   1.00000000,\n",
    "#        -8.65246997*np.exp(-14),  -8.65246997*np.exp(-14),  -1.13618293*np.exp(-14),\n",
    "#        -7.57778017*np.exp(-16),  -1.13618293*np.exp(-14),  -1.13618293*np.exp(-14)])\n",
    "\n",
    "#structArray=np.array([-1.6001368 , -1.6001368 , -2.08065131, -2.06818762, -2.07367757,\n",
    "#       -2.06779168, -2.07260669, -2.08533436, -2.07112826, -2.06893266,\n",
    "#       -0.03859167, -0.03859167, -0.25919807, -0.66904303, -0.41571841,\n",
    "#       -0.76917468, -0.4483773 , -0.17544777, -1.03122022, -0.90581106,\n",
    "#       -3.46409689, -3.46409689, -2.83715218, -2.84817563, -2.8434598 ,\n",
    "#       -2.84773205, -2.84446398, -2.85001617, -2.83613622, -2.84402863])\n",
    "\n",
    "structArray=np.array([ 0.1330613 ,  1.05982273,  0.18777729, -0.60789078, -0.96393469,\n",
    "       -0.65270373, -1.55257864,  0.8002259 , -0.12414033, -0.21230861,\n",
    "       -0.88629202,  0.47527367,  0.21401419,  0.2130512 , -1.5236408 ,\n",
    "        1.35208616, -0.48922234, -0.85850735,  0.72135512, -1.03407686,\n",
    "        2.29041152,  0.91184671, -0.56987761,  0.16597395, -0.43267372,\n",
    "        2.1772668 , -0.1318482 , -0.80817762,  0.44533168, -0.28545885])\n",
    "\n",
    "structArrayJ = np.array([-11.45706046, -11.45706046, -11.45706046, -11.45706046,\n",
    "       -11.45706046, -11.45706046, -11.45706046, -11.45706046,\n",
    "       -11.45706046, -11.45706046,  -0.44524438,  -0.44524438,\n",
    "        -0.44524438,  -0.44524438,  -0.44524438,  -0.44524438,\n",
    "        -0.44524438,  -0.44524438,  -0.44524438,  -0.44524438,\n",
    "        -4.7477771 ,  -4.7477771 ,  -4.7477771 ,  -4.7477771 ,\n",
    "        -4.7477771 ,  -4.7477771 ,  -4.7477771 ,  -4.7477771 ,\n",
    "        -4.7477771 ,  -4.7477771 ])\n",
    "\n",
    "print(\"The Structure Array is \\n {}\".format(structArray))\n",
    "# print np.split(structArray,3)[0],np.split(structArray,3)[1],np.split(structArray,3)[2]\n",
    "\n",
    "testTLin = np.linspace(0,5,11)\n",
    "\n",
    "print \"\\n \\n The plot is\"\n",
    "\n",
    "plt.figure(figsize=(10,6.18))\n",
    "plt.plot(testTLin,functionY(testTLin),'bs')\n",
    "plt.plot(testTLin,functionYNN(structArray[0],structArray[1],structArray[2],testTLin),'g^')\n",
    "plt.plot(testTLin,functionYNN(structArrayJ[0],structArrayJ[1],structArrayJ[2],testTLin),'r^')\n",
    "plt.yscale('log')\n",
    "plt.show()\n",
    "\n",
    "\n",
    "print functionY(testTLin), functionYNN(structArray[0],structArray[1],structArray[2],testTLin), functionYNN(structArrayJ[0],structArrayJ[1],structArrayJ[2],testTLin)\n"
   ]
  },
  {
   "cell_type": "code",
   "execution_count": null,
   "metadata": {
    "collapsed": false
   },
   "outputs": [],
   "source": []
  },
  {
   "cell_type": "code",
   "execution_count": null,
   "metadata": {
    "collapsed": false
   },
   "outputs": [],
   "source": []
  },
  {
   "cell_type": "code",
   "execution_count": null,
   "metadata": {
    "collapsed": false
   },
   "outputs": [],
   "source": []
  },
  {
   "cell_type": "code",
   "execution_count": null,
   "metadata": {
    "collapsed": false
   },
   "outputs": [],
   "source": [
    "## Test of Numpy\n",
    "temp1=np.asarray([1,2,3])\n",
    "temp2=np.asarray([4,5,6])\n",
    "temp3=np.asarray([7,8,9])\n",
    "temp1*temp2\n",
    "print 3*temp1\n",
    "temp1+temp2\n",
    "print temp1*temp2*temp3*temp1\n",
    "1/(1+np.exp(-temp1))\n",
    "temp1 + temp2\n",
    "[1,2] + [2,3]\n",
    "1 - 3*np.array([1,2])\n",
    "temp1**2"
   ]
  },
  {
   "cell_type": "code",
   "execution_count": null,
   "metadata": {
    "collapsed": false
   },
   "outputs": [],
   "source": [
    "1+np.asarray([1,2,3])"
   ]
  },
  {
   "cell_type": "code",
   "execution_count": null,
   "metadata": {
    "collapsed": false
   },
   "outputs": [],
   "source": [
    "def testfunction(v,w,u,t):\n",
    "    v = np.array(v)\n",
    "    w = np.array(w)\n",
    "    u = np.array(u)\n",
    "\n",
    "    return t*w + u\n",
    "\n",
    "    #return np.sum(v*trigf( t*w + u ))"
   ]
  },
  {
   "cell_type": "code",
   "execution_count": null,
   "metadata": {
    "collapsed": false
   },
   "outputs": [],
   "source": [
    "testfunction([2,3,4],[3,4,5],[4,5,7],2)"
   ]
  },
  {
   "cell_type": "markdown",
   "metadata": {},
   "source": [
    "## A Even Simpler Equation"
   ]
  },
  {
   "cell_type": "markdown",
   "metadata": {},
   "source": [
    "Test a very simple equation\n",
    "$$\\frac{dy}{dx}=4x^3-3x^2+2,$$\n",
    "with initial condition $$y(0)=0.$$\n",
    "\n",
    "As in any case,\n",
    "$$y = \\text{Initial} + x_i v_k f(x_iw_k+u_k).$$\n",
    "\n",
    "$$\\frac{dy}{dx} = v_k f(x w_k+u_k) + t v_k f(x w_k+u_k) (1-f(xw_k+u_k))w_k,$$ where the function f is defined as a trigf()."
   ]
  },
  {
   "cell_type": "markdown",
   "metadata": {},
   "source": [
    "Cost is\n",
    "\n",
    "$$I = \\sum_i \\left(\\frac{dy}{dx}-(4x^2-3x^2+2) \\right)^2$$"
   ]
  },
  {
   "cell_type": "code",
   "execution_count": null,
   "metadata": {
    "collapsed": false
   },
   "outputs": [],
   "source": [
    "def costS(v,w,u,x):\n",
    "    v = np.array(v)   # Don't know why but np.asarray(v) doesn't work here.\n",
    "    w = np.array(w)\n",
    "    u = np.array(u)\n",
    "    \n",
    "    fvec = np.array(trigf(x*w + u) )  # This is a vector!!!\n",
    "    yx = np.sum ( x * v * fvec  )  # For a given x, this calculates the value of y(t), given the parameters, v, w, u.\n",
    "    dySLASHdt = np.sum (v*fvec + x * v* fvec * ( 1 -  fvec  ) * w )\n",
    "    \n",
    "    return ( dySLASHdt - yx )**2"
   ]
  },
  {
   "cell_type": "code",
   "execution_count": null,
   "metadata": {
    "collapsed": false
   },
   "outputs": [],
   "source": [
    "costS(np.array([2,3,4]),[3,4,5],[4,5,7],4)"
   ]
  },
  {
   "cell_type": "code",
   "execution_count": null,
   "metadata": {
    "collapsed": false
   },
   "outputs": [],
   "source": [
    "def costSTotal(v,w,u,x):\n",
    "    x = np.array(x)\n",
    "    costSt = 0\n",
    "    for temp in x:\n",
    "        costSt = costSt + costS(v,w,u,temp)\n",
    "        \n",
    "    return costSt\n",
    "\n",
    "print costSTotal([1,2,3],[2,3,2],[3,4,1],[1,2,3,4,5,2,6,1])"
   ]
  },
  {
   "cell_type": "code",
   "execution_count": null,
   "metadata": {
    "collapsed": false
   },
   "outputs": [],
   "source": [
    "xlinS = np.linspace(0,1,10)\n",
    "print xlinS"
   ]
  },
  {
   "cell_type": "code",
   "execution_count": null,
   "metadata": {
    "collapsed": false
   },
   "outputs": [],
   "source": [
    "# This is only an example of 2dimensional neural network.\n",
    "costSTotalF = lambda x: costSTotal(np.split(x,3)[0],np.split(x,3)[1],np.split(x,3)[2],xlinS)\n",
    "\n",
    "# initGuessS = np.zeros(30)\n",
    "initGuessS = np.random.rand(1,30)+2\n",
    "# minimize(costTotalF,([1,0,3,0,1,1,2,0,1,0,1,0]),method=\"Nelder-Mead\")\n",
    "minimize(costSTotalF,(initGuessS),method=\"L-BFGS-B\")\n",
    "# minimize(costTotalF,([1,0,3,0,1,1,2,0,1,0,1,0]),method=\"TNC\")"
   ]
  },
  {
   "cell_type": "code",
   "execution_count": null,
   "metadata": {
    "collapsed": false
   },
   "outputs": [],
   "source": [
    "def functionSYNN(v,w,u,x): # t is a single scalar value\n",
    "\n",
    "    x = np.array(x)\n",
    "    \n",
    "    func = np.asarray([])\n",
    "    \n",
    "    for temp in x:\n",
    "        tempfunc = np.sum(temp * v * trigf( temp*w +u ) )\n",
    "        func = np.append(func, tempfunc)\n",
    "        \n",
    "    return np.array(func)\n",
    "\n",
    "def functionSY(x):\n",
    "\n",
    "    return x**4 - x**3 + 2*x"
   ]
  },
  {
   "cell_type": "code",
   "execution_count": null,
   "metadata": {
    "collapsed": false
   },
   "outputs": [],
   "source": [
    "# structArray=np.array([-1.77606225*np.exp(-01),  -3.52080053*np.exp(-01),  -1.77606225*np.exp(-01),\n",
    "#        -1.77606225*np.exp(-01),  -8.65246997*np.exp(-14),   1.00000000,\n",
    "#        -8.65246997*np.exp(-14),  -8.65246997*np.exp(-14),  -1.13618293*np.exp(-14),\n",
    "#        -7.57778017*np.exp(-16),  -1.13618293*np.exp(-14),  -1.13618293*np.exp(-14)])\n",
    "\n",
    "#structArray=np.array([-1.6001368 , -1.6001368 , -2.08065131, -2.06818762, -2.07367757,\n",
    "#       -2.06779168, -2.07260669, -2.08533436, -2.07112826, -2.06893266,\n",
    "#       -0.03859167, -0.03859167, -0.25919807, -0.66904303, -0.41571841,\n",
    "#       -0.76917468, -0.4483773 , -0.17544777, -1.03122022, -0.90581106,\n",
    "#       -3.46409689, -3.46409689, -2.83715218, -2.84817563, -2.8434598 ,\n",
    "#       -2.84773205, -2.84446398, -2.85001617, -2.83613622, -2.84402863])\n",
    "\n",
    "structArrayS=np.array([ 0.01462306,  0.13467016,  0.43137834,  0.32915392,  0.16398891,\n",
    "       -0.36502654, -0.1943661 ,  0.16082714, -0.2923346 , -0.38280994,\n",
    "        2.23127245,  1.97866504,  2.95181241,  2.70643394,  2.19371603,\n",
    "        2.63386948,  2.20213407,  2.81089774,  2.43916804,  2.80375489,\n",
    "        2.32389017,  2.16118574,  2.7346048 ,  2.18630694,  2.19932286,\n",
    "        2.52525807,  2.22125577,  2.81758156,  2.27231039,  2.6118171 ])\n",
    "\n",
    "\n",
    "print(\"The Structure Array is \\n {}\".format(structArray))\n",
    "# print np.split(structArray,3)[0],np.split(structArray,3)[1],np.split(structArray,3)[2]\n",
    "\n",
    "testXLinS = np.linspace(0,1,10)\n",
    "\n",
    "print \"\\n \\n The plot is\"\n",
    "\n",
    "plt.figure(figsize=(10,6.18))\n",
    "plt.plot(testXLinS,functionSY(testXLinS),'bs')\n",
    "plt.plot(testXLinS,functionSYNN(structArrayS[0],structArrayS[1],structArrayS[2],testXLinS),'g^')\n",
    "## plt.plot(testXLin,functionYNN(structArrayJ[0],structArrayJ[1],structArrayJ[2],testXLin),'r^')\n",
    "plt.show()\n",
    "\n",
    "\n",
    "print functionY(testXLinS), functionYNN(structArrayS[0],structArrayS[1],structArrayS[2],testXLinS)\n"
   ]
  },
  {
   "cell_type": "code",
   "execution_count": null,
   "metadata": {
    "collapsed": false
   },
   "outputs": [],
   "source": []
  },
  {
   "cell_type": "code",
   "execution_count": null,
   "metadata": {
    "collapsed": false
   },
   "outputs": [],
   "source": []
  }
 ],
 "metadata": {
  "kernelspec": {
   "display_name": "Python 2",
   "language": "python",
   "name": "python2"
  },
  "language_info": {
   "codemirror_mode": {
    "name": "ipython",
    "version": 2
   },
   "file_extension": ".py",
   "mimetype": "text/x-python",
   "name": "python",
   "nbconvert_exporter": "python",
   "pygments_lexer": "ipython2",
   "version": "2.7.6"
  }
 },
 "nbformat": 4,
 "nbformat_minor": 0
}
